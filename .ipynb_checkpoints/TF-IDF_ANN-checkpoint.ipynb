{
 "cells": [
  {
   "cell_type": "code",
   "execution_count": 1,
   "metadata": {},
   "outputs": [
    {
     "ename": "ModuleNotFoundError",
     "evalue": "No module named 'symspellpy'",
     "output_type": "error",
     "traceback": [
      "\u001b[1;31m---------------------------------------------------------------------------\u001b[0m",
      "\u001b[1;31mModuleNotFoundError\u001b[0m                       Traceback (most recent call last)",
      "\u001b[1;32m<ipython-input-1-fbd1cfd16c7c>\u001b[0m in \u001b[0;36m<module>\u001b[1;34m\u001b[0m\n\u001b[1;32m----> 1\u001b[1;33m \u001b[1;32mfrom\u001b[0m \u001b[0msymspellpy\u001b[0m\u001b[1;33m.\u001b[0m\u001b[0msymspellpy\u001b[0m \u001b[1;32mimport\u001b[0m \u001b[0mSymSpell\u001b[0m\u001b[1;33m,\u001b[0m \u001b[0mVerbosity\u001b[0m\u001b[1;33m\u001b[0m\u001b[1;33m\u001b[0m\u001b[0m\n\u001b[0m\u001b[0;32m      2\u001b[0m \u001b[1;32mfrom\u001b[0m \u001b[0mtime\u001b[0m \u001b[1;32mimport\u001b[0m \u001b[0mtime\u001b[0m\u001b[1;33m\u001b[0m\u001b[1;33m\u001b[0m\u001b[0m\n\u001b[0;32m      3\u001b[0m \u001b[1;32mimport\u001b[0m \u001b[0mpandas\u001b[0m \u001b[1;32mas\u001b[0m \u001b[0mpd\u001b[0m\u001b[1;33m\u001b[0m\u001b[1;33m\u001b[0m\u001b[0m\n\u001b[0;32m      4\u001b[0m \u001b[1;32mimport\u001b[0m \u001b[0mnumpy\u001b[0m \u001b[1;32mas\u001b[0m \u001b[0mnp\u001b[0m\u001b[1;33m\u001b[0m\u001b[1;33m\u001b[0m\u001b[0m\n\u001b[0;32m      5\u001b[0m \u001b[1;32mimport\u001b[0m \u001b[0mpickle\u001b[0m\u001b[1;33m\u001b[0m\u001b[1;33m\u001b[0m\u001b[0m\n",
      "\u001b[1;31mModuleNotFoundError\u001b[0m: No module named 'symspellpy'"
     ]
    }
   ],
   "source": [
    "from symspellpy.symspellpy import SymSpell, Verbosity\n",
    "from time import time\n",
    "import pandas as pd\n",
    "import numpy as np\n",
    "import pickle\n",
    "import random\n",
    "import spacy\n",
    "import json\n",
    "import os\n",
    "import re\n",
    "\n",
    "from sklearn.feature_extraction.text import TfidfVectorizer\n",
    "\n",
    "import keras\n",
    "from keras.models import Sequential\n",
    "from keras.models import load_model\n",
    "from keras.layers import Dense, Dropout\n",
    "from keras.layers import Flatten\n",
    "from keras.layers.embeddings import Embedding\n",
    "from keras.preprocessing import sequence"
   ]
  },
  {
   "cell_type": "markdown",
   "metadata": {},
   "source": [
    "# ML Model Building"
   ]
  },
  {
   "cell_type": "code",
   "execution_count": 2,
   "metadata": {
    "collapsed": true
   },
   "outputs": [],
   "source": [
    "def batch_generator_shuffle(X_data, y_data, batch_size):\n",
    "    samples_per_epoch = X_data.shape[0]\n",
    "    number_of_batches = samples_per_epoch/batch_size\n",
    "    counter=0\n",
    "    index = np.arange(np.shape(y_data)[0])\n",
    "    np.random.shuffle(index)\n",
    "    while 1:\n",
    "        index_batch = index[batch_size*counter:batch_size*(counter+1)]\n",
    "        X_batch = X_data[index_batch,:].toarray()\n",
    "        y_batch = y_data[y_data.index[index_batch]]\n",
    "        counter += 1\n",
    "        yield X_batch,y_batch\n",
    "        if (counter > number_of_batches):\n",
    "            np.random.shuffle(index)\n",
    "            counter=0"
   ]
  },
  {
   "cell_type": "code",
   "execution_count": 3,
   "metadata": {
    "collapsed": true
   },
   "outputs": [],
   "source": [
    "df_train = pd.read_csv('train_sets/TF-IDF_NNLR3_train.csv',encoding='utf-8-sig',index_col='tweetid')\n",
    "df_test = pd.read_csv('test_sets/TF-IDF_MultinomialNB_test.csv',encoding='utf-8-sig',index_col='tweetid')\n",
    "df_validation = pd.read_csv('validation_sets/validation_corrected.csv',encoding='utf-8-sig',index_col='id')"
   ]
  },
  {
   "cell_type": "code",
   "execution_count": 4,
   "metadata": {},
   "outputs": [
    {
     "data": {
      "text/html": [
       "<div>\n",
       "<style scoped>\n",
       "    .dataframe tbody tr th:only-of-type {\n",
       "        vertical-align: middle;\n",
       "    }\n",
       "\n",
       "    .dataframe tbody tr th {\n",
       "        vertical-align: top;\n",
       "    }\n",
       "\n",
       "    .dataframe thead th {\n",
       "        text-align: right;\n",
       "    }\n",
       "</style>\n",
       "<table border=\"1\" class=\"dataframe\">\n",
       "  <thead>\n",
       "    <tr style=\"text-align: right;\">\n",
       "      <th></th>\n",
       "      <th>clean_content_no</th>\n",
       "      <th>lemma_content_no</th>\n",
       "      <th>stemm_content_no</th>\n",
       "      <th>sentiments</th>\n",
       "    </tr>\n",
       "    <tr>\n",
       "      <th>tweetid</th>\n",
       "      <th></th>\n",
       "      <th></th>\n",
       "      <th></th>\n",
       "      <th></th>\n",
       "    </tr>\n",
       "  </thead>\n",
       "  <tbody>\n",
       "    <tr>\n",
       "      <th>1134808220537630722</th>\n",
       "      <td>hace una semana estaba lista para mi prefiesta...</td>\n",
       "      <td>hacer uno semana estar listo parir mi prefiest...</td>\n",
       "      <td>hac una seman estab list par mi prefiest ahori...</td>\n",
       "      <td>N</td>\n",
       "    </tr>\n",
       "    <tr>\n",
       "      <th>1131548672246730752</th>\n",
       "      <td>un chalao en canta como colo de ese chalao soy yo</td>\n",
       "      <td>uno chalao en cantar comer colo de ese chalao ...</td>\n",
       "      <td>un chala en cant com col de ese chala soy yo</td>\n",
       "      <td>N</td>\n",
       "    </tr>\n",
       "    <tr>\n",
       "      <th>1131940623769055232</th>\n",
       "      <td>mira mami sin cruda</td>\n",
       "      <td>mirar mami sin crudo</td>\n",
       "      <td>mir mami sin crud</td>\n",
       "      <td>P</td>\n",
       "    </tr>\n",
       "    <tr>\n",
       "      <th>171566521334771712</th>\n",
       "      <td>en la protesta vecinal contra el cierre del am...</td>\n",
       "      <td>en lo protestar vecinal contra el cerrar del a...</td>\n",
       "      <td>en la protest vecinal contr el cierr del ambul...</td>\n",
       "      <td>N</td>\n",
       "    </tr>\n",
       "    <tr>\n",
       "      <th>1137017243428982784</th>\n",
       "      <td>delidesayunos time con la cálidas y sabor que ...</td>\n",
       "      <td>delidesayunos timar con lo cálido y sabor que ...</td>\n",
       "      <td>delidesayun tim con la cal y sabor que te mere...</td>\n",
       "      <td>N</td>\n",
       "    </tr>\n",
       "  </tbody>\n",
       "</table>\n",
       "</div>"
      ],
      "text/plain": [
       "                                                      clean_content_no  \\\n",
       "tweetid                                                                  \n",
       "1134808220537630722  hace una semana estaba lista para mi prefiesta...   \n",
       "1131548672246730752  un chalao en canta como colo de ese chalao soy yo   \n",
       "1131940623769055232                                mira mami sin cruda   \n",
       "171566521334771712   en la protesta vecinal contra el cierre del am...   \n",
       "1137017243428982784  delidesayunos time con la cálidas y sabor que ...   \n",
       "\n",
       "                                                      lemma_content_no  \\\n",
       "tweetid                                                                  \n",
       "1134808220537630722  hacer uno semana estar listo parir mi prefiest...   \n",
       "1131548672246730752  uno chalao en cantar comer colo de ese chalao ...   \n",
       "1131940623769055232                               mirar mami sin crudo   \n",
       "171566521334771712   en lo protestar vecinal contra el cerrar del a...   \n",
       "1137017243428982784  delidesayunos timar con lo cálido y sabor que ...   \n",
       "\n",
       "                                                      stemm_content_no  \\\n",
       "tweetid                                                                  \n",
       "1134808220537630722  hac una seman estab list par mi prefiest ahori...   \n",
       "1131548672246730752       un chala en cant com col de ese chala soy yo   \n",
       "1131940623769055232                                  mir mami sin crud   \n",
       "171566521334771712   en la protest vecinal contr el cierr del ambul...   \n",
       "1137017243428982784  delidesayun tim con la cal y sabor que te mere...   \n",
       "\n",
       "                    sentiments  \n",
       "tweetid                         \n",
       "1134808220537630722          N  \n",
       "1131548672246730752          N  \n",
       "1131940623769055232          P  \n",
       "171566521334771712           N  \n",
       "1137017243428982784          N  "
      ]
     },
     "execution_count": 4,
     "metadata": {},
     "output_type": "execute_result"
    }
   ],
   "source": [
    "df_train = df_train.sample(frac=1,random_state=24)\n",
    "df_train.head()"
   ]
  },
  {
   "cell_type": "code",
   "execution_count": 5,
   "metadata": {
    "collapsed": true
   },
   "outputs": [],
   "source": [
    "vectorizer = TfidfVectorizer(max_df=0.5,min_df=7,use_idf=False,norm='l2',max_features=11000,ngram_range=(1, 2),stop_words=None)\n",
    "\n",
    "seed = 7\n",
    "np.random.seed(seed)\n",
    "\n",
    "df_train.reset_index(inplace=True)\n",
    "df_test.reset_index(inplace=True)\n",
    "\n",
    "X_train,y_train = df_train['lemma_content_no'],pd.Series([1 if i=='P' else 0 for i in df_train['sentiments']],index = df_train.index)\n",
    "X_test,y_test = df_test['lemma_content_no'],pd.Series([1 if i=='P' else 0 for i in df_test['value']],index = df_test.index)\n",
    "\n",
    "X_train = vectorizer.fit_transform(X_train)\n",
    "X_test = vectorizer.transform(X_test)"
   ]
  },
  {
   "cell_type": "code",
   "execution_count": 6,
   "metadata": {},
   "outputs": [
    {
     "name": "stderr",
     "output_type": "stream",
     "text": [
      "WARNING: Logging before flag parsing goes to stderr.\n",
      "W0708 13:37:32.103578  9528 deprecation_wrapper.py:119] From C:\\Users\\PREVENCION-1\\Anaconda3\\envs\\ml_service\\lib\\site-packages\\keras\\backend\\tensorflow_backend.py:74: The name tf.get_default_graph is deprecated. Please use tf.compat.v1.get_default_graph instead.\n",
      "\n",
      "W0708 13:37:32.914452  9528 deprecation_wrapper.py:119] From C:\\Users\\PREVENCION-1\\Anaconda3\\envs\\ml_service\\lib\\site-packages\\keras\\backend\\tensorflow_backend.py:517: The name tf.placeholder is deprecated. Please use tf.compat.v1.placeholder instead.\n",
      "\n",
      "W0708 13:37:32.918450  9528 deprecation_wrapper.py:119] From C:\\Users\\PREVENCION-1\\Anaconda3\\envs\\ml_service\\lib\\site-packages\\keras\\backend\\tensorflow_backend.py:4138: The name tf.random_uniform is deprecated. Please use tf.random.uniform instead.\n",
      "\n",
      "W0708 13:37:32.971735  9528 deprecation_wrapper.py:119] From C:\\Users\\PREVENCION-1\\Anaconda3\\envs\\ml_service\\lib\\site-packages\\keras\\backend\\tensorflow_backend.py:133: The name tf.placeholder_with_default is deprecated. Please use tf.compat.v1.placeholder_with_default instead.\n",
      "\n",
      "W0708 13:37:32.988337  9528 deprecation.py:506] From C:\\Users\\PREVENCION-1\\Anaconda3\\envs\\ml_service\\lib\\site-packages\\keras\\backend\\tensorflow_backend.py:3445: calling dropout (from tensorflow.python.ops.nn_ops) with keep_prob is deprecated and will be removed in a future version.\n",
      "Instructions for updating:\n",
      "Please use `rate` instead of `keep_prob`. Rate should be set to `rate = 1 - keep_prob`.\n",
      "W0708 13:37:33.079779  9528 deprecation_wrapper.py:119] From C:\\Users\\PREVENCION-1\\Anaconda3\\envs\\ml_service\\lib\\site-packages\\keras\\optimizers.py:790: The name tf.train.Optimizer is deprecated. Please use tf.compat.v1.train.Optimizer instead.\n",
      "\n",
      "W0708 13:37:33.091779  9528 deprecation_wrapper.py:119] From C:\\Users\\PREVENCION-1\\Anaconda3\\envs\\ml_service\\lib\\site-packages\\keras\\backend\\tensorflow_backend.py:3376: The name tf.log is deprecated. Please use tf.math.log instead.\n",
      "\n",
      "W0708 13:37:33.104808  9528 deprecation.py:323] From C:\\Users\\PREVENCION-1\\Anaconda3\\envs\\ml_service\\lib\\site-packages\\tensorflow\\python\\ops\\nn_impl.py:180: add_dispatch_support.<locals>.wrapper (from tensorflow.python.ops.array_ops) is deprecated and will be removed in a future version.\n",
      "Instructions for updating:\n",
      "Use tf.where in 2.0, which has the same broadcast rule as np.where\n"
     ]
    },
    {
     "name": "stdout",
     "output_type": "stream",
     "text": [
      "Epoch 1/2\n"
     ]
    },
    {
     "name": "stdout",
     "output_type": "stream",
     "text": [
      " 369/3392 [==>...........................] - ETA: 3:56:56 - loss: 0.6927 - acc: 0.62 - ETA: 2:01:29 - loss: 0.6945 - acc: 0.53 - ETA: 1:01:45 - loss: 0.6863 - acc: 0.60 - ETA: 41:54 - loss: 0.6903 - acc: 0.5781 - ETA: 31:55 - loss: 0.6902 - acc: 0.55 - ETA: 25:55 - loss: 0.6918 - acc: 0.54 - ETA: 23:49 - loss: 0.6902 - acc: 0.54 - ETA: 20:27 - loss: 0.6860 - acc: 0.55 - ETA: 18:00 - loss: 0.6853 - acc: 0.55 - ETA: 16:07 - loss: 0.6858 - acc: 0.55 - ETA: 14:38 - loss: 0.6843 - acc: 0.55 - ETA: 13:27 - loss: 0.6821 - acc: 0.55 - ETA: 12:29 - loss: 0.6803 - acc: 0.56 - ETA: 11:40 - loss: 0.6790 - acc: 0.56 - ETA: 10:57 - loss: 0.6766 - acc: 0.57 - ETA: 10:19 - loss: 0.6754 - acc: 0.57 - ETA: 9:48 - loss: 0.6745 - acc: 0.5796 - ETA: 9:19 - loss: 0.6731 - acc: 0.582 - ETA: 8:55 - loss: 0.6690 - acc: 0.592 - ETA: 8:33 - loss: 0.6665 - acc: 0.600 - ETA: 8:13 - loss: 0.6639 - acc: 0.605 - ETA: 7:54 - loss: 0.6614 - acc: 0.611 - ETA: 7:38 - loss: 0.6598 - acc: 0.610 - ETA: 7:22 - loss: 0.6557 - acc: 0.615 - ETA: 7:09 - loss: 0.6539 - acc: 0.617 - ETA: 6:56 - loss: 0.6523 - acc: 0.619 - ETA: 6:45 - loss: 0.6523 - acc: 0.622 - ETA: 6:40 - loss: 0.6507 - acc: 0.625 - ETA: 6:31 - loss: 0.6479 - acc: 0.625 - ETA: 6:21 - loss: 0.6475 - acc: 0.628 - ETA: 6:12 - loss: 0.6506 - acc: 0.625 - ETA: 6:04 - loss: 0.6462 - acc: 0.629 - ETA: 5:56 - loss: 0.6456 - acc: 0.631 - ETA: 5:48 - loss: 0.6448 - acc: 0.633 - ETA: 5:41 - loss: 0.6434 - acc: 0.634 - ETA: 5:35 - loss: 0.6439 - acc: 0.634 - ETA: 5:29 - loss: 0.6444 - acc: 0.634 - ETA: 5:23 - loss: 0.6435 - acc: 0.635 - ETA: 5:18 - loss: 0.6431 - acc: 0.636 - ETA: 5:12 - loss: 0.6448 - acc: 0.635 - ETA: 5:07 - loss: 0.6439 - acc: 0.636 - ETA: 5:03 - loss: 0.6437 - acc: 0.635 - ETA: 4:59 - loss: 0.6408 - acc: 0.638 - ETA: 4:55 - loss: 0.6413 - acc: 0.638 - ETA: 4:51 - loss: 0.6381 - acc: 0.641 - ETA: 4:47 - loss: 0.6367 - acc: 0.643 - ETA: 4:43 - loss: 0.6357 - acc: 0.643 - ETA: 4:40 - loss: 0.6329 - acc: 0.646 - ETA: 4:36 - loss: 0.6311 - acc: 0.648 - ETA: 4:33 - loss: 0.6294 - acc: 0.649 - ETA: 4:30 - loss: 0.6278 - acc: 0.650 - ETA: 4:27 - loss: 0.6254 - acc: 0.653 - ETA: 4:24 - loss: 0.6260 - acc: 0.651 - ETA: 4:21 - loss: 0.6249 - acc: 0.652 - ETA: 4:18 - loss: 0.6217 - acc: 0.656 - ETA: 4:16 - loss: 0.6200 - acc: 0.657 - ETA: 4:13 - loss: 0.6192 - acc: 0.657 - ETA: 4:11 - loss: 0.6193 - acc: 0.657 - ETA: 4:09 - loss: 0.6203 - acc: 0.656 - ETA: 4:07 - loss: 0.6196 - acc: 0.656 - ETA: 4:04 - loss: 0.6186 - acc: 0.657 - ETA: 4:03 - loss: 0.6205 - acc: 0.656 - ETA: 4:01 - loss: 0.6210 - acc: 0.656 - ETA: 3:59 - loss: 0.6212 - acc: 0.656 - ETA: 3:57 - loss: 0.6197 - acc: 0.657 - ETA: 3:55 - loss: 0.6179 - acc: 0.659 - ETA: 3:53 - loss: 0.6157 - acc: 0.660 - ETA: 3:51 - loss: 0.6161 - acc: 0.660 - ETA: 3:49 - loss: 0.6154 - acc: 0.660 - ETA: 3:48 - loss: 0.6141 - acc: 0.661 - ETA: 3:47 - loss: 0.6140 - acc: 0.661 - ETA: 3:46 - loss: 0.6118 - acc: 0.663 - ETA: 3:46 - loss: 0.6119 - acc: 0.663 - ETA: 3:45 - loss: 0.6112 - acc: 0.664 - ETA: 3:44 - loss: 0.6100 - acc: 0.665 - ETA: 3:43 - loss: 0.6090 - acc: 0.666 - ETA: 3:41 - loss: 0.6079 - acc: 0.667 - ETA: 3:40 - loss: 0.6073 - acc: 0.668 - ETA: 3:38 - loss: 0.6068 - acc: 0.667 - ETA: 3:37 - loss: 0.6061 - acc: 0.668 - ETA: 3:36 - loss: 0.6064 - acc: 0.668 - ETA: 3:34 - loss: 0.6066 - acc: 0.668 - ETA: 3:33 - loss: 0.6071 - acc: 0.668 - ETA: 3:32 - loss: 0.6051 - acc: 0.670 - ETA: 3:31 - loss: 0.6045 - acc: 0.670 - ETA: 3:30 - loss: 0.6040 - acc: 0.672 - ETA: 3:29 - loss: 0.6048 - acc: 0.671 - ETA: 3:28 - loss: 0.6045 - acc: 0.671 - ETA: 3:27 - loss: 0.6037 - acc: 0.673 - ETA: 3:27 - loss: 0.6032 - acc: 0.673 - ETA: 3:26 - loss: 0.6036 - acc: 0.673 - ETA: 3:25 - loss: 0.6033 - acc: 0.673 - ETA: 3:24 - loss: 0.6023 - acc: 0.674 - ETA: 3:23 - loss: 0.6019 - acc: 0.675 - ETA: 3:22 - loss: 0.6021 - acc: 0.675 - ETA: 3:21 - loss: 0.6009 - acc: 0.675 - ETA: 3:20 - loss: 0.6003 - acc: 0.676 - ETA: 3:19 - loss: 0.6001 - acc: 0.675 - ETA: 3:18 - loss: 0.5996 - acc: 0.676 - ETA: 3:17 - loss: 0.5994 - acc: 0.675 - ETA: 3:16 - loss: 0.5987 - acc: 0.676 - ETA: 3:16 - loss: 0.5980 - acc: 0.677 - ETA: 3:16 - loss: 0.5974 - acc: 0.677 - ETA: 3:15 - loss: 0.5978 - acc: 0.677 - ETA: 3:14 - loss: 0.5968 - acc: 0.678 - ETA: 3:13 - loss: 0.5967 - acc: 0.678 - ETA: 3:12 - loss: 0.5958 - acc: 0.679 - ETA: 3:12 - loss: 0.5949 - acc: 0.679 - ETA: 3:11 - loss: 0.5946 - acc: 0.679 - ETA: 3:10 - loss: 0.5960 - acc: 0.679 - ETA: 3:09 - loss: 0.5950 - acc: 0.679 - ETA: 3:09 - loss: 0.5939 - acc: 0.681 - ETA: 3:08 - loss: 0.5930 - acc: 0.682 - ETA: 3:08 - loss: 0.5926 - acc: 0.682 - ETA: 3:07 - loss: 0.5922 - acc: 0.682 - ETA: 3:07 - loss: 0.5919 - acc: 0.682 - ETA: 3:06 - loss: 0.5920 - acc: 0.682 - ETA: 3:06 - loss: 0.5913 - acc: 0.682 - ETA: 3:06 - loss: 0.5908 - acc: 0.683 - ETA: 3:06 - loss: 0.5905 - acc: 0.683 - ETA: 3:05 - loss: 0.5904 - acc: 0.683 - ETA: 3:05 - loss: 0.5911 - acc: 0.683 - ETA: 3:05 - loss: 0.5907 - acc: 0.684 - ETA: 3:04 - loss: 0.5898 - acc: 0.684 - ETA: 3:04 - loss: 0.5891 - acc: 0.685 - ETA: 3:04 - loss: 0.5891 - acc: 0.685 - ETA: 3:04 - loss: 0.5892 - acc: 0.685 - ETA: 3:04 - loss: 0.5891 - acc: 0.685 - ETA: 3:03 - loss: 0.5884 - acc: 0.686 - ETA: 3:03 - loss: 0.5883 - acc: 0.686 - ETA: 3:03 - loss: 0.5881 - acc: 0.686 - ETA: 3:03 - loss: 0.5883 - acc: 0.685 - ETA: 3:03 - loss: 0.5885 - acc: 0.685 - ETA: 3:02 - loss: 0.5893 - acc: 0.685 - ETA: 3:01 - loss: 0.5890 - acc: 0.685 - ETA: 3:02 - loss: 0.5888 - acc: 0.686 - ETA: 3:01 - loss: 0.5885 - acc: 0.686 - ETA: 3:01 - loss: 0.5882 - acc: 0.687 - ETA: 3:00 - loss: 0.5880 - acc: 0.687 - ETA: 3:00 - loss: 0.5880 - acc: 0.687 - ETA: 2:59 - loss: 0.5880 - acc: 0.687 - ETA: 2:59 - loss: 0.5873 - acc: 0.688 - ETA: 2:59 - loss: 0.5874 - acc: 0.688 - ETA: 2:58 - loss: 0.5874 - acc: 0.687 - ETA: 2:58 - loss: 0.5873 - acc: 0.687 - ETA: 2:57 - loss: 0.5867 - acc: 0.688 - ETA: 2:57 - loss: 0.5863 - acc: 0.688 - ETA: 2:57 - loss: 0.5860 - acc: 0.688 - ETA: 2:56 - loss: 0.5857 - acc: 0.688 - ETA: 2:56 - loss: 0.5854 - acc: 0.688 - ETA: 2:56 - loss: 0.5847 - acc: 0.689 - ETA: 2:56 - loss: 0.5838 - acc: 0.690 - ETA: 2:56 - loss: 0.5838 - acc: 0.690 - ETA: 2:56 - loss: 0.5835 - acc: 0.690 - ETA: 2:55 - loss: 0.5833 - acc: 0.690 - ETA: 2:55 - loss: 0.5828 - acc: 0.690 - ETA: 2:55 - loss: 0.5832 - acc: 0.690 - ETA: 2:55 - loss: 0.5829 - acc: 0.690 - ETA: 2:54 - loss: 0.5826 - acc: 0.691 - ETA: 2:54 - loss: 0.5820 - acc: 0.691 - ETA: 2:53 - loss: 0.5824 - acc: 0.691 - ETA: 2:53 - loss: 0.5818 - acc: 0.691 - ETA: 2:53 - loss: 0.5815 - acc: 0.691 - ETA: 2:53 - loss: 0.5812 - acc: 0.691 - ETA: 2:52 - loss: 0.5813 - acc: 0.691 - ETA: 2:52 - loss: 0.5810 - acc: 0.691 - ETA: 2:52 - loss: 0.5810 - acc: 0.692 - ETA: 2:52 - loss: 0.5807 - acc: 0.692 - ETA: 2:51 - loss: 0.5806 - acc: 0.693 - ETA: 2:51 - loss: 0.5806 - acc: 0.693 - ETA: 2:51 - loss: 0.5807 - acc: 0.693 - ETA: 2:51 - loss: 0.5805 - acc: 0.693 - ETA: 2:51 - loss: 0.5802 - acc: 0.693 - ETA: 2:50 - loss: 0.5800 - acc: 0.693 - ETA: 2:50 - loss: 0.5795 - acc: 0.693 - ETA: 2:50 - loss: 0.5790 - acc: 0.694 - ETA: 2:49 - loss: 0.5792 - acc: 0.693 - ETA: 2:49 - loss: 0.5791 - acc: 0.694 - ETA: 2:48 - loss: 0.5787 - acc: 0.694 - ETA: 2:48 - loss: 0.5779 - acc: 0.694 - ETA: 2:48 - loss: 0.5785 - acc: 0.694 - ETA: 2:48 - loss: 0.5780 - acc: 0.695 - ETA: 2:48 - loss: 0.5781 - acc: 0.694 - ETA: 2:48 - loss: 0.5778 - acc: 0.695 - ETA: 2:47 - loss: 0.5779 - acc: 0.695 - ETA: 2:47 - loss: 0.5771 - acc: 0.695 - ETA: 2:47 - loss: 0.5774 - acc: 0.695 - ETA: 2:46 - loss: 0.5769 - acc: 0.695 - ETA: 2:46 - loss: 0.5765 - acc: 0.695 - ETA: 2:46 - loss: 0.5760 - acc: 0.696 - ETA: 2:46 - loss: 0.5756 - acc: 0.696 - ETA: 2:45 - loss: 0.5755 - acc: 0.696 - ETA: 2:45 - loss: 0.5754 - acc: 0.697 - ETA: 2:45 - loss: 0.5750 - acc: 0.697 - ETA: 2:44 - loss: 0.5753 - acc: 0.696 - ETA: 2:44 - loss: 0.5753 - acc: 0.696 - ETA: 2:44 - loss: 0.5752 - acc: 0.696 - ETA: 2:44 - loss: 0.5750 - acc: 0.696 - ETA: 2:44 - loss: 0.5742 - acc: 0.697 - ETA: 2:44 - loss: 0.5744 - acc: 0.697 - ETA: 2:43 - loss: 0.5747 - acc: 0.696 - ETA: 2:43 - loss: 0.5745 - acc: 0.697 - ETA: 2:43 - loss: 0.5740 - acc: 0.697 - ETA: 2:42 - loss: 0.5737 - acc: 0.697 736/3392 [=====>........................] - ETA: 2:42 - loss: 0.5735 - acc: 0.697 - ETA: 2:42 - loss: 0.5735 - acc: 0.697 - ETA: 2:42 - loss: 0.5732 - acc: 0.697 - ETA: 2:42 - loss: 0.5732 - acc: 0.697 - ETA: 2:41 - loss: 0.5726 - acc: 0.698 - ETA: 2:41 - loss: 0.5723 - acc: 0.698 - ETA: 2:41 - loss: 0.5726 - acc: 0.698 - ETA: 2:40 - loss: 0.5726 - acc: 0.698 - ETA: 2:40 - loss: 0.5724 - acc: 0.698 - ETA: 2:40 - loss: 0.5723 - acc: 0.698 - ETA: 2:39 - loss: 0.5720 - acc: 0.698 - ETA: 2:39 - loss: 0.5717 - acc: 0.699 - ETA: 2:39 - loss: 0.5714 - acc: 0.699 - ETA: 2:39 - loss: 0.5719 - acc: 0.699 - ETA: 2:38 - loss: 0.5717 - acc: 0.699 - ETA: 2:38 - loss: 0.5716 - acc: 0.699 - ETA: 2:38 - loss: 0.5716 - acc: 0.699 - ETA: 2:38 - loss: 0.5714 - acc: 0.699 - ETA: 2:38 - loss: 0.5712 - acc: 0.699 - ETA: 2:37 - loss: 0.5710 - acc: 0.699 - ETA: 2:37 - loss: 0.5709 - acc: 0.699 - ETA: 2:37 - loss: 0.5706 - acc: 0.699 - ETA: 2:37 - loss: 0.5702 - acc: 0.700 - ETA: 2:37 - loss: 0.5693 - acc: 0.700 - ETA: 2:37 - loss: 0.5692 - acc: 0.701 - ETA: 2:37 - loss: 0.5691 - acc: 0.701 - ETA: 2:36 - loss: 0.5690 - acc: 0.701 - ETA: 2:36 - loss: 0.5685 - acc: 0.701 - ETA: 2:36 - loss: 0.5678 - acc: 0.701 - ETA: 2:36 - loss: 0.5679 - acc: 0.701 - ETA: 2:36 - loss: 0.5678 - acc: 0.702 - ETA: 2:35 - loss: 0.5678 - acc: 0.702 - ETA: 2:35 - loss: 0.5678 - acc: 0.702 - ETA: 2:35 - loss: 0.5672 - acc: 0.702 - ETA: 2:35 - loss: 0.5671 - acc: 0.702 - ETA: 2:34 - loss: 0.5673 - acc: 0.702 - ETA: 2:34 - loss: 0.5671 - acc: 0.702 - ETA: 2:34 - loss: 0.5669 - acc: 0.702 - ETA: 2:34 - loss: 0.5668 - acc: 0.702 - ETA: 2:34 - loss: 0.5666 - acc: 0.702 - ETA: 2:34 - loss: 0.5666 - acc: 0.702 - ETA: 2:33 - loss: 0.5667 - acc: 0.702 - ETA: 2:33 - loss: 0.5663 - acc: 0.702 - ETA: 2:33 - loss: 0.5663 - acc: 0.702 - ETA: 2:33 - loss: 0.5665 - acc: 0.702 - ETA: 2:32 - loss: 0.5665 - acc: 0.702 - ETA: 2:32 - loss: 0.5660 - acc: 0.702 - ETA: 2:32 - loss: 0.5662 - acc: 0.702 - ETA: 2:32 - loss: 0.5661 - acc: 0.702 - ETA: 2:31 - loss: 0.5661 - acc: 0.702 - ETA: 2:31 - loss: 0.5661 - acc: 0.702 - ETA: 2:31 - loss: 0.5667 - acc: 0.702 - ETA: 2:31 - loss: 0.5662 - acc: 0.702 - ETA: 2:31 - loss: 0.5661 - acc: 0.702 - ETA: 2:31 - loss: 0.5659 - acc: 0.703 - ETA: 2:31 - loss: 0.5657 - acc: 0.703 - ETA: 2:31 - loss: 0.5658 - acc: 0.703 - ETA: 2:30 - loss: 0.5654 - acc: 0.703 - ETA: 2:30 - loss: 0.5651 - acc: 0.703 - ETA: 2:30 - loss: 0.5647 - acc: 0.704 - ETA: 2:30 - loss: 0.5644 - acc: 0.704 - ETA: 2:30 - loss: 0.5642 - acc: 0.704 - ETA: 2:29 - loss: 0.5647 - acc: 0.704 - ETA: 2:29 - loss: 0.5643 - acc: 0.704 - ETA: 2:29 - loss: 0.5641 - acc: 0.704 - ETA: 2:29 - loss: 0.5643 - acc: 0.704 - ETA: 2:29 - loss: 0.5640 - acc: 0.704 - ETA: 2:29 - loss: 0.5639 - acc: 0.705 - ETA: 2:28 - loss: 0.5638 - acc: 0.705 - ETA: 2:28 - loss: 0.5635 - acc: 0.705 - ETA: 2:28 - loss: 0.5635 - acc: 0.705 - ETA: 2:28 - loss: 0.5636 - acc: 0.705 - ETA: 2:28 - loss: 0.5634 - acc: 0.705 - ETA: 2:27 - loss: 0.5633 - acc: 0.705 - ETA: 2:27 - loss: 0.5633 - acc: 0.705 - ETA: 2:27 - loss: 0.5633 - acc: 0.705 - ETA: 2:27 - loss: 0.5633 - acc: 0.705 - ETA: 2:26 - loss: 0.5631 - acc: 0.705 - ETA: 2:26 - loss: 0.5629 - acc: 0.705 - ETA: 2:26 - loss: 0.5622 - acc: 0.706 - ETA: 2:26 - loss: 0.5619 - acc: 0.706 - ETA: 2:26 - loss: 0.5619 - acc: 0.706 - ETA: 2:26 - loss: 0.5621 - acc: 0.706 - ETA: 2:26 - loss: 0.5622 - acc: 0.706 - ETA: 2:25 - loss: 0.5618 - acc: 0.706 - ETA: 2:25 - loss: 0.5617 - acc: 0.706 - ETA: 2:25 - loss: 0.5614 - acc: 0.706 - ETA: 2:25 - loss: 0.5613 - acc: 0.706 - ETA: 2:25 - loss: 0.5609 - acc: 0.706 - ETA: 2:25 - loss: 0.5610 - acc: 0.706 - ETA: 2:25 - loss: 0.5612 - acc: 0.706 - ETA: 2:25 - loss: 0.5611 - acc: 0.706 - ETA: 2:25 - loss: 0.5611 - acc: 0.706 - ETA: 2:24 - loss: 0.5609 - acc: 0.706 - ETA: 2:24 - loss: 0.5611 - acc: 0.706 - ETA: 2:24 - loss: 0.5610 - acc: 0.707 - ETA: 2:24 - loss: 0.5611 - acc: 0.706 - ETA: 2:24 - loss: 0.5613 - acc: 0.706 - ETA: 2:23 - loss: 0.5609 - acc: 0.707 - ETA: 2:23 - loss: 0.5609 - acc: 0.707 - ETA: 2:23 - loss: 0.5610 - acc: 0.707 - ETA: 2:23 - loss: 0.5612 - acc: 0.707 - ETA: 2:23 - loss: 0.5610 - acc: 0.707 - ETA: 2:22 - loss: 0.5610 - acc: 0.707 - ETA: 2:22 - loss: 0.5609 - acc: 0.707 - ETA: 2:22 - loss: 0.5607 - acc: 0.707 - ETA: 2:22 - loss: 0.5603 - acc: 0.707 - ETA: 2:22 - loss: 0.5599 - acc: 0.708 - ETA: 2:21 - loss: 0.5595 - acc: 0.708 - ETA: 2:21 - loss: 0.5598 - acc: 0.708 - ETA: 2:21 - loss: 0.5593 - acc: 0.709 - ETA: 2:21 - loss: 0.5593 - acc: 0.708 - ETA: 2:21 - loss: 0.5591 - acc: 0.709 - ETA: 2:21 - loss: 0.5585 - acc: 0.709 - ETA: 2:20 - loss: 0.5581 - acc: 0.709 - ETA: 2:20 - loss: 0.5581 - acc: 0.709 - ETA: 2:20 - loss: 0.5581 - acc: 0.710 - ETA: 2:20 - loss: 0.5579 - acc: 0.710 - ETA: 2:20 - loss: 0.5578 - acc: 0.710 - ETA: 2:20 - loss: 0.5581 - acc: 0.709 - ETA: 2:19 - loss: 0.5581 - acc: 0.710 - ETA: 2:19 - loss: 0.5576 - acc: 0.710 - ETA: 2:19 - loss: 0.5575 - acc: 0.710 - ETA: 2:19 - loss: 0.5573 - acc: 0.710 - ETA: 2:19 - loss: 0.5570 - acc: 0.710 - ETA: 2:18 - loss: 0.5572 - acc: 0.710 - ETA: 2:18 - loss: 0.5567 - acc: 0.710 - ETA: 2:18 - loss: 0.5569 - acc: 0.710 - ETA: 2:18 - loss: 0.5567 - acc: 0.710 - ETA: 2:18 - loss: 0.5564 - acc: 0.711 - ETA: 2:18 - loss: 0.5564 - acc: 0.711 - ETA: 2:17 - loss: 0.5562 - acc: 0.711 - ETA: 2:17 - loss: 0.5559 - acc: 0.711 - ETA: 2:17 - loss: 0.5556 - acc: 0.711 - ETA: 2:17 - loss: 0.5557 - acc: 0.711 - ETA: 2:17 - loss: 0.5555 - acc: 0.711 - ETA: 2:17 - loss: 0.5551 - acc: 0.711 - ETA: 2:16 - loss: 0.5552 - acc: 0.711 - ETA: 2:16 - loss: 0.5550 - acc: 0.711 - ETA: 2:16 - loss: 0.5552 - acc: 0.711 - ETA: 2:16 - loss: 0.5551 - acc: 0.711 - ETA: 2:16 - loss: 0.5550 - acc: 0.711 - ETA: 2:16 - loss: 0.5546 - acc: 0.711 - ETA: 2:16 - loss: 0.5547 - acc: 0.711 - ETA: 2:16 - loss: 0.5545 - acc: 0.711 - ETA: 2:15 - loss: 0.5542 - acc: 0.711 - ETA: 2:15 - loss: 0.5542 - acc: 0.711 - ETA: 2:15 - loss: 0.5541 - acc: 0.711 - ETA: 2:15 - loss: 0.5540 - acc: 0.711 - ETA: 2:15 - loss: 0.5537 - acc: 0.712 - ETA: 2:14 - loss: 0.5537 - acc: 0.712 - ETA: 2:14 - loss: 0.5537 - acc: 0.712 - ETA: 2:14 - loss: 0.5534 - acc: 0.712 - ETA: 2:14 - loss: 0.5534 - acc: 0.712 - ETA: 2:14 - loss: 0.5531 - acc: 0.712 - ETA: 2:14 - loss: 0.5528 - acc: 0.713 - ETA: 2:14 - loss: 0.5528 - acc: 0.713 - ETA: 2:14 - loss: 0.5528 - acc: 0.713 - ETA: 2:14 - loss: 0.5525 - acc: 0.713 - ETA: 2:14 - loss: 0.5523 - acc: 0.713 - ETA: 2:13 - loss: 0.5525 - acc: 0.712 - ETA: 2:13 - loss: 0.5525 - acc: 0.713 - ETA: 2:13 - loss: 0.5521 - acc: 0.713 - ETA: 2:13 - loss: 0.5522 - acc: 0.713 - ETA: 2:13 - loss: 0.5523 - acc: 0.712 - ETA: 2:13 - loss: 0.5521 - acc: 0.712 - ETA: 2:13 - loss: 0.5519 - acc: 0.713 - ETA: 2:13 - loss: 0.5518 - acc: 0.713 - ETA: 2:13 - loss: 0.5518 - acc: 0.713 - ETA: 2:13 - loss: 0.5515 - acc: 0.713 - ETA: 2:13 - loss: 0.5516 - acc: 0.713 - ETA: 2:13 - loss: 0.5514 - acc: 0.713 - ETA: 2:13 - loss: 0.5513 - acc: 0.713 - ETA: 2:12 - loss: 0.5514 - acc: 0.713 - ETA: 2:12 - loss: 0.5509 - acc: 0.713 - ETA: 2:12 - loss: 0.5511 - acc: 0.713 - ETA: 2:12 - loss: 0.5508 - acc: 0.713 - ETA: 2:12 - loss: 0.5509 - acc: 0.713 - ETA: 2:12 - loss: 0.5508 - acc: 0.713 - ETA: 2:12 - loss: 0.5508 - acc: 0.713 - ETA: 2:11 - loss: 0.5505 - acc: 0.713 - ETA: 2:11 - loss: 0.5504 - acc: 0.714 - ETA: 2:11 - loss: 0.5502 - acc: 0.714 - ETA: 2:11 - loss: 0.5501 - acc: 0.714 - ETA: 2:11 - loss: 0.5501 - acc: 0.714 - ETA: 2:11 - loss: 0.5502 - acc: 0.714 - ETA: 2:11 - loss: 0.5501 - acc: 0.714 - ETA: 2:10 - loss: 0.5502 - acc: 0.714 - ETA: 2:10 - loss: 0.5501 - acc: 0.714 - ETA: 2:10 - loss: 0.5501 - acc: 0.714 - ETA: 2:10 - loss: 0.5498 - acc: 0.714 - ETA: 2:10 - loss: 0.5500 - acc: 0.714 - ETA: 2:10 - loss: 0.5499 - acc: 0.714 - ETA: 2:10 - loss: 0.5498 - acc: 0.714 - ETA: 2:09 - loss: 0.5498 - acc: 0.714 - ETA: 2:09 - loss: 0.5501 - acc: 0.714 - ETA: 2:09 - loss: 0.5499 - acc: 0.714 - ETA: 2:09 - loss: 0.5499 - acc: 0.714 - ETA: 2:09 - loss: 0.5496 - acc: 0.714 - ETA: 2:09 - loss: 0.5494 - acc: 0.714 - ETA: 2:09 - loss: 0.5491 - acc: 0.714 - ETA: 2:08 - loss: 0.5489 - acc: 0.715 - ETA: 2:08 - loss: 0.5488 - acc: 0.715 - ETA: 2:08 - loss: 0.5489 - acc: 0.71481123/3392 [========>.....................] - ETA: 2:08 - loss: 0.5491 - acc: 0.714 - ETA: 2:08 - loss: 0.5493 - acc: 0.714 - ETA: 2:08 - loss: 0.5492 - acc: 0.714 - ETA: 2:08 - loss: 0.5490 - acc: 0.714 - ETA: 2:07 - loss: 0.5489 - acc: 0.714 - ETA: 2:07 - loss: 0.5488 - acc: 0.714 - ETA: 2:07 - loss: 0.5489 - acc: 0.714 - ETA: 2:07 - loss: 0.5488 - acc: 0.714 - ETA: 2:07 - loss: 0.5491 - acc: 0.714 - ETA: 2:07 - loss: 0.5492 - acc: 0.714 - ETA: 2:06 - loss: 0.5493 - acc: 0.714 - ETA: 2:06 - loss: 0.5492 - acc: 0.714 - ETA: 2:06 - loss: 0.5491 - acc: 0.714 - ETA: 2:06 - loss: 0.5489 - acc: 0.714 - ETA: 2:06 - loss: 0.5487 - acc: 0.714 - ETA: 2:06 - loss: 0.5483 - acc: 0.715 - ETA: 2:06 - loss: 0.5481 - acc: 0.715 - ETA: 2:06 - loss: 0.5479 - acc: 0.715 - ETA: 2:05 - loss: 0.5479 - acc: 0.715 - ETA: 2:05 - loss: 0.5476 - acc: 0.715 - ETA: 2:05 - loss: 0.5473 - acc: 0.715 - ETA: 2:05 - loss: 0.5473 - acc: 0.715 - ETA: 2:05 - loss: 0.5475 - acc: 0.715 - ETA: 2:05 - loss: 0.5472 - acc: 0.715 - ETA: 2:04 - loss: 0.5472 - acc: 0.715 - ETA: 2:04 - loss: 0.5470 - acc: 0.716 - ETA: 2:04 - loss: 0.5468 - acc: 0.716 - ETA: 2:04 - loss: 0.5467 - acc: 0.716 - ETA: 2:04 - loss: 0.5466 - acc: 0.716 - ETA: 2:04 - loss: 0.5465 - acc: 0.716 - ETA: 2:04 - loss: 0.5464 - acc: 0.716 - ETA: 2:04 - loss: 0.5466 - acc: 0.716 - ETA: 2:03 - loss: 0.5463 - acc: 0.716 - ETA: 2:03 - loss: 0.5461 - acc: 0.716 - ETA: 2:03 - loss: 0.5461 - acc: 0.716 - ETA: 2:03 - loss: 0.5459 - acc: 0.717 - ETA: 2:03 - loss: 0.5459 - acc: 0.716 - ETA: 2:03 - loss: 0.5457 - acc: 0.717 - ETA: 2:03 - loss: 0.5456 - acc: 0.717 - ETA: 2:02 - loss: 0.5457 - acc: 0.717 - ETA: 2:02 - loss: 0.5459 - acc: 0.717 - ETA: 2:02 - loss: 0.5459 - acc: 0.717 - ETA: 2:02 - loss: 0.5460 - acc: 0.716 - ETA: 2:02 - loss: 0.5461 - acc: 0.716 - ETA: 2:02 - loss: 0.5459 - acc: 0.717 - ETA: 2:02 - loss: 0.5457 - acc: 0.717 - ETA: 2:02 - loss: 0.5458 - acc: 0.717 - ETA: 2:01 - loss: 0.5459 - acc: 0.717 - ETA: 2:01 - loss: 0.5455 - acc: 0.717 - ETA: 2:01 - loss: 0.5456 - acc: 0.717 - ETA: 2:01 - loss: 0.5457 - acc: 0.717 - ETA: 2:01 - loss: 0.5457 - acc: 0.717 - ETA: 2:01 - loss: 0.5454 - acc: 0.717 - ETA: 2:01 - loss: 0.5453 - acc: 0.717 - ETA: 2:00 - loss: 0.5454 - acc: 0.717 - ETA: 2:00 - loss: 0.5455 - acc: 0.717 - ETA: 2:00 - loss: 0.5454 - acc: 0.717 - ETA: 2:00 - loss: 0.5452 - acc: 0.717 - ETA: 2:00 - loss: 0.5451 - acc: 0.717 - ETA: 2:00 - loss: 0.5453 - acc: 0.717 - ETA: 2:00 - loss: 0.5452 - acc: 0.717 - ETA: 2:00 - loss: 0.5453 - acc: 0.717 - ETA: 1:59 - loss: 0.5452 - acc: 0.717 - ETA: 1:59 - loss: 0.5452 - acc: 0.717 - ETA: 1:59 - loss: 0.5450 - acc: 0.717 - ETA: 1:59 - loss: 0.5451 - acc: 0.717 - ETA: 1:59 - loss: 0.5450 - acc: 0.718 - ETA: 1:59 - loss: 0.5448 - acc: 0.718 - ETA: 1:59 - loss: 0.5447 - acc: 0.718 - ETA: 1:59 - loss: 0.5446 - acc: 0.718 - ETA: 1:58 - loss: 0.5448 - acc: 0.718 - ETA: 1:58 - loss: 0.5445 - acc: 0.718 - ETA: 1:58 - loss: 0.5443 - acc: 0.718 - ETA: 1:58 - loss: 0.5442 - acc: 0.718 - ETA: 1:58 - loss: 0.5440 - acc: 0.718 - ETA: 1:58 - loss: 0.5437 - acc: 0.718 - ETA: 1:58 - loss: 0.5434 - acc: 0.719 - ETA: 1:57 - loss: 0.5435 - acc: 0.719 - ETA: 1:57 - loss: 0.5433 - acc: 0.719 - ETA: 1:57 - loss: 0.5432 - acc: 0.719 - ETA: 1:57 - loss: 0.5430 - acc: 0.719 - ETA: 1:57 - loss: 0.5428 - acc: 0.719 - ETA: 1:57 - loss: 0.5428 - acc: 0.719 - ETA: 1:57 - loss: 0.5426 - acc: 0.720 - ETA: 1:57 - loss: 0.5428 - acc: 0.720 - ETA: 1:56 - loss: 0.5431 - acc: 0.720 - ETA: 1:56 - loss: 0.5428 - acc: 0.720 - ETA: 1:56 - loss: 0.5427 - acc: 0.720 - ETA: 1:56 - loss: 0.5426 - acc: 0.720 - ETA: 1:56 - loss: 0.5425 - acc: 0.720 - ETA: 1:56 - loss: 0.5424 - acc: 0.720 - ETA: 1:56 - loss: 0.5422 - acc: 0.720 - ETA: 1:56 - loss: 0.5424 - acc: 0.720 - ETA: 1:55 - loss: 0.5422 - acc: 0.720 - ETA: 1:55 - loss: 0.5421 - acc: 0.720 - ETA: 1:55 - loss: 0.5422 - acc: 0.720 - ETA: 1:55 - loss: 0.5421 - acc: 0.721 - ETA: 1:55 - loss: 0.5421 - acc: 0.720 - ETA: 1:55 - loss: 0.5421 - acc: 0.721 - ETA: 1:55 - loss: 0.5423 - acc: 0.721 - ETA: 1:54 - loss: 0.5423 - acc: 0.721 - ETA: 1:54 - loss: 0.5422 - acc: 0.721 - ETA: 1:54 - loss: 0.5423 - acc: 0.721 - ETA: 1:54 - loss: 0.5421 - acc: 0.721 - ETA: 1:54 - loss: 0.5419 - acc: 0.721 - ETA: 1:54 - loss: 0.5418 - acc: 0.721 - ETA: 1:54 - loss: 0.5418 - acc: 0.721 - ETA: 1:54 - loss: 0.5418 - acc: 0.721 - ETA: 1:54 - loss: 0.5417 - acc: 0.721 - ETA: 1:53 - loss: 0.5415 - acc: 0.721 - ETA: 1:53 - loss: 0.5412 - acc: 0.721 - ETA: 1:53 - loss: 0.5412 - acc: 0.721 - ETA: 1:53 - loss: 0.5412 - acc: 0.721 - ETA: 1:53 - loss: 0.5411 - acc: 0.721 - ETA: 1:53 - loss: 0.5408 - acc: 0.721 - ETA: 1:53 - loss: 0.5411 - acc: 0.721 - ETA: 1:53 - loss: 0.5410 - acc: 0.721 - ETA: 1:52 - loss: 0.5407 - acc: 0.722 - ETA: 1:52 - loss: 0.5408 - acc: 0.721 - ETA: 1:52 - loss: 0.5406 - acc: 0.722 - ETA: 1:52 - loss: 0.5404 - acc: 0.722 - ETA: 1:52 - loss: 0.5401 - acc: 0.722 - ETA: 1:52 - loss: 0.5402 - acc: 0.722 - ETA: 1:52 - loss: 0.5404 - acc: 0.722 - ETA: 1:51 - loss: 0.5402 - acc: 0.722 - ETA: 1:51 - loss: 0.5399 - acc: 0.722 - ETA: 1:51 - loss: 0.5400 - acc: 0.722 - ETA: 1:51 - loss: 0.5402 - acc: 0.722 - ETA: 1:51 - loss: 0.5401 - acc: 0.722 - ETA: 1:51 - loss: 0.5400 - acc: 0.722 - ETA: 1:51 - loss: 0.5401 - acc: 0.722 - ETA: 1:51 - loss: 0.5399 - acc: 0.722 - ETA: 1:51 - loss: 0.5398 - acc: 0.722 - ETA: 1:50 - loss: 0.5397 - acc: 0.722 - ETA: 1:50 - loss: 0.5398 - acc: 0.722 - ETA: 1:50 - loss: 0.5396 - acc: 0.722 - ETA: 1:50 - loss: 0.5394 - acc: 0.722 - ETA: 1:50 - loss: 0.5394 - acc: 0.722 - ETA: 1:50 - loss: 0.5392 - acc: 0.723 - ETA: 1:50 - loss: 0.5392 - acc: 0.723 - ETA: 1:49 - loss: 0.5390 - acc: 0.723 - ETA: 1:49 - loss: 0.5389 - acc: 0.723 - ETA: 1:49 - loss: 0.5387 - acc: 0.723 - ETA: 1:49 - loss: 0.5386 - acc: 0.723 - ETA: 1:49 - loss: 0.5387 - acc: 0.723 - ETA: 1:49 - loss: 0.5388 - acc: 0.723 - ETA: 1:49 - loss: 0.5388 - acc: 0.723 - ETA: 1:49 - loss: 0.5387 - acc: 0.723 - ETA: 1:48 - loss: 0.5387 - acc: 0.723 - ETA: 1:48 - loss: 0.5386 - acc: 0.723 - ETA: 1:48 - loss: 0.5385 - acc: 0.723 - ETA: 1:48 - loss: 0.5387 - acc: 0.723 - ETA: 1:48 - loss: 0.5387 - acc: 0.723 - ETA: 1:48 - loss: 0.5387 - acc: 0.723 - ETA: 1:48 - loss: 0.5386 - acc: 0.723 - ETA: 1:48 - loss: 0.5389 - acc: 0.723 - ETA: 1:48 - loss: 0.5386 - acc: 0.723 - ETA: 1:47 - loss: 0.5385 - acc: 0.723 - ETA: 1:47 - loss: 0.5387 - acc: 0.723 - ETA: 1:47 - loss: 0.5385 - acc: 0.723 - ETA: 1:47 - loss: 0.5385 - acc: 0.723 - ETA: 1:47 - loss: 0.5384 - acc: 0.723 - ETA: 1:47 - loss: 0.5384 - acc: 0.723 - ETA: 1:47 - loss: 0.5387 - acc: 0.723 - ETA: 1:47 - loss: 0.5384 - acc: 0.723 - ETA: 1:46 - loss: 0.5384 - acc: 0.723 - ETA: 1:46 - loss: 0.5383 - acc: 0.723 - ETA: 1:46 - loss: 0.5383 - acc: 0.723 - ETA: 1:46 - loss: 0.5383 - acc: 0.723 - ETA: 1:46 - loss: 0.5381 - acc: 0.723 - ETA: 1:46 - loss: 0.5382 - acc: 0.723 - ETA: 1:46 - loss: 0.5380 - acc: 0.723 - ETA: 1:46 - loss: 0.5379 - acc: 0.723 - ETA: 1:46 - loss: 0.5379 - acc: 0.724 - ETA: 1:46 - loss: 0.5378 - acc: 0.724 - ETA: 1:46 - loss: 0.5377 - acc: 0.724 - ETA: 1:46 - loss: 0.5375 - acc: 0.724 - ETA: 1:46 - loss: 0.5376 - acc: 0.724 - ETA: 1:46 - loss: 0.5377 - acc: 0.724 - ETA: 1:46 - loss: 0.5378 - acc: 0.724 - ETA: 1:46 - loss: 0.5378 - acc: 0.724 - ETA: 1:46 - loss: 0.5379 - acc: 0.724 - ETA: 1:46 - loss: 0.5380 - acc: 0.724 - ETA: 1:45 - loss: 0.5379 - acc: 0.724 - ETA: 1:46 - loss: 0.5380 - acc: 0.724 - ETA: 1:45 - loss: 0.5380 - acc: 0.724 - ETA: 1:45 - loss: 0.5381 - acc: 0.724 - ETA: 1:45 - loss: 0.5381 - acc: 0.723 - ETA: 1:45 - loss: 0.5380 - acc: 0.723 - ETA: 1:45 - loss: 0.5379 - acc: 0.724 - ETA: 1:45 - loss: 0.5377 - acc: 0.724 - ETA: 1:45 - loss: 0.5375 - acc: 0.724 - ETA: 1:45 - loss: 0.5376 - acc: 0.724 - ETA: 1:45 - loss: 0.5376 - acc: 0.724 - ETA: 1:44 - loss: 0.5377 - acc: 0.723 - ETA: 1:44 - loss: 0.5376 - acc: 0.723 - ETA: 1:44 - loss: 0.5375 - acc: 0.723 - ETA: 1:44 - loss: 0.5375 - acc: 0.723 - ETA: 1:44 - loss: 0.5375 - acc: 0.723 - ETA: 1:44 - loss: 0.5374 - acc: 0.724 - ETA: 1:44 - loss: 0.5374 - acc: 0.724 - ETA: 1:44 - loss: 0.5375 - acc: 0.724 - ETA: 1:44 - loss: 0.5373 - acc: 0.724 - ETA: 1:44 - loss: 0.5373 - acc: 0.7242"
     ]
    },
    {
     "name": "stdout",
     "output_type": "stream",
     "text": [
      "1517/3392 [============>.................] - ETA: 1:43 - loss: 0.5372 - acc: 0.724 - ETA: 1:43 - loss: 0.5373 - acc: 0.724 - ETA: 1:43 - loss: 0.5372 - acc: 0.724 - ETA: 1:43 - loss: 0.5373 - acc: 0.724 - ETA: 1:43 - loss: 0.5372 - acc: 0.724 - ETA: 1:43 - loss: 0.5370 - acc: 0.724 - ETA: 1:43 - loss: 0.5371 - acc: 0.724 - ETA: 1:43 - loss: 0.5371 - acc: 0.724 - ETA: 1:42 - loss: 0.5371 - acc: 0.724 - ETA: 1:42 - loss: 0.5371 - acc: 0.724 - ETA: 1:42 - loss: 0.5371 - acc: 0.724 - ETA: 1:42 - loss: 0.5369 - acc: 0.724 - ETA: 1:42 - loss: 0.5370 - acc: 0.724 - ETA: 1:42 - loss: 0.5370 - acc: 0.724 - ETA: 1:42 - loss: 0.5368 - acc: 0.724 - ETA: 1:42 - loss: 0.5368 - acc: 0.724 - ETA: 1:42 - loss: 0.5368 - acc: 0.724 - ETA: 1:41 - loss: 0.5367 - acc: 0.724 - ETA: 1:41 - loss: 0.5366 - acc: 0.724 - ETA: 1:41 - loss: 0.5365 - acc: 0.724 - ETA: 1:41 - loss: 0.5365 - acc: 0.724 - ETA: 1:41 - loss: 0.5365 - acc: 0.724 - ETA: 1:41 - loss: 0.5363 - acc: 0.724 - ETA: 1:41 - loss: 0.5364 - acc: 0.724 - ETA: 1:41 - loss: 0.5364 - acc: 0.724 - ETA: 1:41 - loss: 0.5362 - acc: 0.724 - ETA: 1:40 - loss: 0.5362 - acc: 0.724 - ETA: 1:40 - loss: 0.5362 - acc: 0.724 - ETA: 1:40 - loss: 0.5360 - acc: 0.724 - ETA: 1:40 - loss: 0.5360 - acc: 0.724 - ETA: 1:40 - loss: 0.5360 - acc: 0.725 - ETA: 1:40 - loss: 0.5358 - acc: 0.725 - ETA: 1:40 - loss: 0.5358 - acc: 0.725 - ETA: 1:40 - loss: 0.5359 - acc: 0.725 - ETA: 1:39 - loss: 0.5359 - acc: 0.725 - ETA: 1:39 - loss: 0.5357 - acc: 0.725 - ETA: 1:39 - loss: 0.5354 - acc: 0.725 - ETA: 1:39 - loss: 0.5354 - acc: 0.725 - ETA: 1:39 - loss: 0.5353 - acc: 0.725 - ETA: 1:39 - loss: 0.5352 - acc: 0.725 - ETA: 1:39 - loss: 0.5351 - acc: 0.725 - ETA: 1:39 - loss: 0.5349 - acc: 0.725 - ETA: 1:39 - loss: 0.5347 - acc: 0.726 - ETA: 1:38 - loss: 0.5347 - acc: 0.726 - ETA: 1:38 - loss: 0.5346 - acc: 0.726 - ETA: 1:38 - loss: 0.5346 - acc: 0.726 - ETA: 1:38 - loss: 0.5345 - acc: 0.726 - ETA: 1:38 - loss: 0.5345 - acc: 0.726 - ETA: 1:38 - loss: 0.5345 - acc: 0.726 - ETA: 1:38 - loss: 0.5343 - acc: 0.726 - ETA: 1:38 - loss: 0.5342 - acc: 0.726 - ETA: 1:38 - loss: 0.5342 - acc: 0.726 - ETA: 1:38 - loss: 0.5342 - acc: 0.726 - ETA: 1:37 - loss: 0.5341 - acc: 0.726 - ETA: 1:37 - loss: 0.5341 - acc: 0.726 - ETA: 1:37 - loss: 0.5342 - acc: 0.726 - ETA: 1:37 - loss: 0.5341 - acc: 0.726 - ETA: 1:37 - loss: 0.5339 - acc: 0.726 - ETA: 1:37 - loss: 0.5338 - acc: 0.726 - ETA: 1:37 - loss: 0.5336 - acc: 0.726 - ETA: 1:37 - loss: 0.5336 - acc: 0.726 - ETA: 1:37 - loss: 0.5337 - acc: 0.726 - ETA: 1:36 - loss: 0.5335 - acc: 0.726 - ETA: 1:36 - loss: 0.5332 - acc: 0.727 - ETA: 1:36 - loss: 0.5332 - acc: 0.727 - ETA: 1:36 - loss: 0.5331 - acc: 0.727 - ETA: 1:36 - loss: 0.5331 - acc: 0.727 - ETA: 1:36 - loss: 0.5335 - acc: 0.727 - ETA: 1:36 - loss: 0.5336 - acc: 0.727 - ETA: 1:36 - loss: 0.5335 - acc: 0.727 - ETA: 1:36 - loss: 0.5335 - acc: 0.727 - ETA: 1:36 - loss: 0.5334 - acc: 0.727 - ETA: 1:35 - loss: 0.5334 - acc: 0.727 - ETA: 1:35 - loss: 0.5334 - acc: 0.727 - ETA: 1:35 - loss: 0.5334 - acc: 0.727 - ETA: 1:35 - loss: 0.5336 - acc: 0.727 - ETA: 1:35 - loss: 0.5336 - acc: 0.727 - ETA: 1:35 - loss: 0.5334 - acc: 0.727 - ETA: 1:35 - loss: 0.5332 - acc: 0.727 - ETA: 1:35 - loss: 0.5332 - acc: 0.727 - ETA: 1:35 - loss: 0.5331 - acc: 0.727 - ETA: 1:34 - loss: 0.5334 - acc: 0.727 - ETA: 1:34 - loss: 0.5333 - acc: 0.727 - ETA: 1:34 - loss: 0.5333 - acc: 0.727 - ETA: 1:34 - loss: 0.5331 - acc: 0.727 - ETA: 1:34 - loss: 0.5331 - acc: 0.727 - ETA: 1:34 - loss: 0.5330 - acc: 0.727 - ETA: 1:34 - loss: 0.5331 - acc: 0.727 - ETA: 1:34 - loss: 0.5332 - acc: 0.727 - ETA: 1:34 - loss: 0.5333 - acc: 0.727 - ETA: 1:33 - loss: 0.5333 - acc: 0.727 - ETA: 1:33 - loss: 0.5335 - acc: 0.727 - ETA: 1:33 - loss: 0.5335 - acc: 0.727 - ETA: 1:33 - loss: 0.5334 - acc: 0.727 - ETA: 1:33 - loss: 0.5335 - acc: 0.727 - ETA: 1:33 - loss: 0.5335 - acc: 0.727 - ETA: 1:33 - loss: 0.5335 - acc: 0.727 - ETA: 1:33 - loss: 0.5334 - acc: 0.727 - ETA: 1:33 - loss: 0.5336 - acc: 0.727 - ETA: 1:33 - loss: 0.5335 - acc: 0.727 - ETA: 1:33 - loss: 0.5334 - acc: 0.727 - ETA: 1:32 - loss: 0.5332 - acc: 0.727 - ETA: 1:32 - loss: 0.5331 - acc: 0.727 - ETA: 1:32 - loss: 0.5330 - acc: 0.727 - ETA: 1:32 - loss: 0.5329 - acc: 0.727 - ETA: 1:32 - loss: 0.5330 - acc: 0.727 - ETA: 1:32 - loss: 0.5330 - acc: 0.727 - ETA: 1:32 - loss: 0.5330 - acc: 0.727 - ETA: 1:32 - loss: 0.5330 - acc: 0.727 - ETA: 1:32 - loss: 0.5330 - acc: 0.727 - ETA: 1:31 - loss: 0.5331 - acc: 0.727 - ETA: 1:31 - loss: 0.5331 - acc: 0.727 - ETA: 1:31 - loss: 0.5331 - acc: 0.727 - ETA: 1:31 - loss: 0.5330 - acc: 0.727 - ETA: 1:31 - loss: 0.5331 - acc: 0.727 - ETA: 1:31 - loss: 0.5331 - acc: 0.727 - ETA: 1:31 - loss: 0.5330 - acc: 0.727 - ETA: 1:31 - loss: 0.5330 - acc: 0.727 - ETA: 1:31 - loss: 0.5329 - acc: 0.727 - ETA: 1:31 - loss: 0.5327 - acc: 0.727 - ETA: 1:30 - loss: 0.5327 - acc: 0.727 - ETA: 1:30 - loss: 0.5326 - acc: 0.727 - ETA: 1:30 - loss: 0.5324 - acc: 0.727 - ETA: 1:30 - loss: 0.5323 - acc: 0.728 - ETA: 1:30 - loss: 0.5323 - acc: 0.728 - ETA: 1:30 - loss: 0.5323 - acc: 0.728 - ETA: 1:30 - loss: 0.5323 - acc: 0.728 - ETA: 1:30 - loss: 0.5324 - acc: 0.727 - ETA: 1:30 - loss: 0.5321 - acc: 0.728 - ETA: 1:30 - loss: 0.5319 - acc: 0.728 - ETA: 1:30 - loss: 0.5320 - acc: 0.728 - ETA: 1:29 - loss: 0.5321 - acc: 0.728 - ETA: 1:29 - loss: 0.5322 - acc: 0.728 - ETA: 1:29 - loss: 0.5320 - acc: 0.728 - ETA: 1:29 - loss: 0.5320 - acc: 0.728 - ETA: 1:29 - loss: 0.5318 - acc: 0.728 - ETA: 1:29 - loss: 0.5318 - acc: 0.728 - ETA: 1:29 - loss: 0.5316 - acc: 0.728 - ETA: 1:29 - loss: 0.5316 - acc: 0.728 - ETA: 1:29 - loss: 0.5315 - acc: 0.728 - ETA: 1:29 - loss: 0.5316 - acc: 0.728 - ETA: 1:29 - loss: 0.5317 - acc: 0.728 - ETA: 1:28 - loss: 0.5316 - acc: 0.728 - ETA: 1:28 - loss: 0.5316 - acc: 0.728 - ETA: 1:28 - loss: 0.5316 - acc: 0.728 - ETA: 1:28 - loss: 0.5314 - acc: 0.728 - ETA: 1:28 - loss: 0.5313 - acc: 0.728 - ETA: 1:28 - loss: 0.5312 - acc: 0.729 - ETA: 1:28 - loss: 0.5311 - acc: 0.729 - ETA: 1:28 - loss: 0.5310 - acc: 0.729 - ETA: 1:28 - loss: 0.5310 - acc: 0.729 - ETA: 1:28 - loss: 0.5308 - acc: 0.729 - ETA: 1:27 - loss: 0.5308 - acc: 0.729 - ETA: 1:27 - loss: 0.5306 - acc: 0.729 - ETA: 1:27 - loss: 0.5307 - acc: 0.729 - ETA: 1:27 - loss: 0.5307 - acc: 0.729 - ETA: 1:27 - loss: 0.5305 - acc: 0.729 - ETA: 1:27 - loss: 0.5304 - acc: 0.729 - ETA: 1:27 - loss: 0.5302 - acc: 0.729 - ETA: 1:27 - loss: 0.5303 - acc: 0.729 - ETA: 1:27 - loss: 0.5303 - acc: 0.729 - ETA: 1:27 - loss: 0.5303 - acc: 0.729 - ETA: 1:26 - loss: 0.5303 - acc: 0.729 - ETA: 1:26 - loss: 0.5302 - acc: 0.729 - ETA: 1:26 - loss: 0.5302 - acc: 0.729 - ETA: 1:26 - loss: 0.5300 - acc: 0.729 - ETA: 1:26 - loss: 0.5299 - acc: 0.729 - ETA: 1:26 - loss: 0.5297 - acc: 0.730 - ETA: 1:26 - loss: 0.5295 - acc: 0.730 - ETA: 1:26 - loss: 0.5296 - acc: 0.730 - ETA: 1:26 - loss: 0.5295 - acc: 0.730 - ETA: 1:26 - loss: 0.5296 - acc: 0.730 - ETA: 1:26 - loss: 0.5293 - acc: 0.730 - ETA: 1:25 - loss: 0.5295 - acc: 0.730 - ETA: 1:25 - loss: 0.5294 - acc: 0.730 - ETA: 1:25 - loss: 0.5294 - acc: 0.730 - ETA: 1:25 - loss: 0.5295 - acc: 0.730 - ETA: 1:25 - loss: 0.5294 - acc: 0.730 - ETA: 1:25 - loss: 0.5293 - acc: 0.730 - ETA: 1:25 - loss: 0.5293 - acc: 0.730 - ETA: 1:25 - loss: 0.5293 - acc: 0.730 - ETA: 1:25 - loss: 0.5293 - acc: 0.730 - ETA: 1:24 - loss: 0.5292 - acc: 0.730 - ETA: 1:24 - loss: 0.5291 - acc: 0.730 - ETA: 1:24 - loss: 0.5291 - acc: 0.730 - ETA: 1:24 - loss: 0.5290 - acc: 0.730 - ETA: 1:24 - loss: 0.5289 - acc: 0.730 - ETA: 1:24 - loss: 0.5288 - acc: 0.730 - ETA: 1:24 - loss: 0.5288 - acc: 0.730 - ETA: 1:24 - loss: 0.5287 - acc: 0.730 - ETA: 1:24 - loss: 0.5288 - acc: 0.730 - ETA: 1:24 - loss: 0.5288 - acc: 0.730 - ETA: 1:24 - loss: 0.5286 - acc: 0.730 - ETA: 1:23 - loss: 0.5284 - acc: 0.731 - ETA: 1:23 - loss: 0.5285 - acc: 0.731 - ETA: 1:23 - loss: 0.5285 - acc: 0.731 - ETA: 1:23 - loss: 0.5284 - acc: 0.731 - ETA: 1:23 - loss: 0.5284 - acc: 0.731 - ETA: 1:23 - loss: 0.5284 - acc: 0.731 - ETA: 1:23 - loss: 0.5284 - acc: 0.731 - ETA: 1:23 - loss: 0.5283 - acc: 0.731 - ETA: 1:23 - loss: 0.5283 - acc: 0.731 - ETA: 1:23 - loss: 0.5283 - acc: 0.731 - ETA: 1:23 - loss: 0.5283 - acc: 0.7311"
     ]
    },
    {
     "name": "stdout",
     "output_type": "stream",
     "text": [
      "1911/3392 [===============>..............] - ETA: 1:22 - loss: 0.5283 - acc: 0.731 - ETA: 1:22 - loss: 0.5283 - acc: 0.731 - ETA: 1:22 - loss: 0.5282 - acc: 0.731 - ETA: 1:22 - loss: 0.5283 - acc: 0.731 - ETA: 1:22 - loss: 0.5282 - acc: 0.731 - ETA: 1:22 - loss: 0.5281 - acc: 0.731 - ETA: 1:22 - loss: 0.5279 - acc: 0.731 - ETA: 1:22 - loss: 0.5279 - acc: 0.731 - ETA: 1:22 - loss: 0.5279 - acc: 0.731 - ETA: 1:22 - loss: 0.5277 - acc: 0.731 - ETA: 1:21 - loss: 0.5278 - acc: 0.731 - ETA: 1:21 - loss: 0.5277 - acc: 0.731 - ETA: 1:21 - loss: 0.5277 - acc: 0.731 - ETA: 1:21 - loss: 0.5277 - acc: 0.731 - ETA: 1:21 - loss: 0.5279 - acc: 0.731 - ETA: 1:21 - loss: 0.5278 - acc: 0.731 - ETA: 1:21 - loss: 0.5280 - acc: 0.731 - ETA: 1:21 - loss: 0.5278 - acc: 0.731 - ETA: 1:21 - loss: 0.5277 - acc: 0.731 - ETA: 1:20 - loss: 0.5275 - acc: 0.731 - ETA: 1:20 - loss: 0.5275 - acc: 0.731 - ETA: 1:20 - loss: 0.5276 - acc: 0.731 - ETA: 1:20 - loss: 0.5275 - acc: 0.731 - ETA: 1:20 - loss: 0.5274 - acc: 0.732 - ETA: 1:20 - loss: 0.5274 - acc: 0.732 - ETA: 1:20 - loss: 0.5273 - acc: 0.732 - ETA: 1:20 - loss: 0.5272 - acc: 0.732 - ETA: 1:20 - loss: 0.5272 - acc: 0.732 - ETA: 1:20 - loss: 0.5272 - acc: 0.732 - ETA: 1:20 - loss: 0.5272 - acc: 0.732 - ETA: 1:19 - loss: 0.5271 - acc: 0.732 - ETA: 1:19 - loss: 0.5271 - acc: 0.732 - ETA: 1:19 - loss: 0.5270 - acc: 0.732 - ETA: 1:19 - loss: 0.5270 - acc: 0.732 - ETA: 1:19 - loss: 0.5269 - acc: 0.732 - ETA: 1:19 - loss: 0.5268 - acc: 0.732 - ETA: 1:19 - loss: 0.5267 - acc: 0.732 - ETA: 1:19 - loss: 0.5268 - acc: 0.732 - ETA: 1:19 - loss: 0.5268 - acc: 0.732 - ETA: 1:19 - loss: 0.5268 - acc: 0.732 - ETA: 1:18 - loss: 0.5269 - acc: 0.732 - ETA: 1:18 - loss: 0.5268 - acc: 0.732 - ETA: 1:18 - loss: 0.5268 - acc: 0.732 - ETA: 1:18 - loss: 0.5268 - acc: 0.732 - ETA: 1:18 - loss: 0.5266 - acc: 0.732 - ETA: 1:18 - loss: 0.5265 - acc: 0.732 - ETA: 1:18 - loss: 0.5263 - acc: 0.732 - ETA: 1:18 - loss: 0.5264 - acc: 0.732 - ETA: 1:18 - loss: 0.5264 - acc: 0.732 - ETA: 1:18 - loss: 0.5263 - acc: 0.732 - ETA: 1:18 - loss: 0.5263 - acc: 0.732 - ETA: 1:17 - loss: 0.5264 - acc: 0.732 - ETA: 1:17 - loss: 0.5263 - acc: 0.732 - ETA: 1:17 - loss: 0.5262 - acc: 0.733 - ETA: 1:17 - loss: 0.5263 - acc: 0.733 - ETA: 1:17 - loss: 0.5262 - acc: 0.733 - ETA: 1:17 - loss: 0.5263 - acc: 0.733 - ETA: 1:17 - loss: 0.5264 - acc: 0.733 - ETA: 1:17 - loss: 0.5265 - acc: 0.732 - ETA: 1:17 - loss: 0.5264 - acc: 0.733 - ETA: 1:17 - loss: 0.5264 - acc: 0.733 - ETA: 1:16 - loss: 0.5262 - acc: 0.733 - ETA: 1:16 - loss: 0.5262 - acc: 0.733 - ETA: 1:16 - loss: 0.5262 - acc: 0.733 - ETA: 1:16 - loss: 0.5262 - acc: 0.733 - ETA: 1:16 - loss: 0.5263 - acc: 0.733 - ETA: 1:16 - loss: 0.5262 - acc: 0.733 - ETA: 1:16 - loss: 0.5262 - acc: 0.733 - ETA: 1:16 - loss: 0.5262 - acc: 0.733 - ETA: 1:16 - loss: 0.5261 - acc: 0.733 - ETA: 1:16 - loss: 0.5261 - acc: 0.733 - ETA: 1:16 - loss: 0.5261 - acc: 0.733 - ETA: 1:15 - loss: 0.5261 - acc: 0.733 - ETA: 1:15 - loss: 0.5259 - acc: 0.733 - ETA: 1:15 - loss: 0.5258 - acc: 0.733 - ETA: 1:15 - loss: 0.5259 - acc: 0.733 - ETA: 1:15 - loss: 0.5257 - acc: 0.733 - ETA: 1:15 - loss: 0.5255 - acc: 0.733 - ETA: 1:15 - loss: 0.5255 - acc: 0.733 - ETA: 1:15 - loss: 0.5256 - acc: 0.733 - ETA: 1:15 - loss: 0.5257 - acc: 0.733 - ETA: 1:15 - loss: 0.5257 - acc: 0.733 - ETA: 1:14 - loss: 0.5255 - acc: 0.733 - ETA: 1:14 - loss: 0.5254 - acc: 0.733 - ETA: 1:14 - loss: 0.5253 - acc: 0.733 - ETA: 1:14 - loss: 0.5253 - acc: 0.733 - ETA: 1:14 - loss: 0.5252 - acc: 0.733 - ETA: 1:14 - loss: 0.5251 - acc: 0.733 - ETA: 1:14 - loss: 0.5251 - acc: 0.733 - ETA: 1:14 - loss: 0.5251 - acc: 0.734 - ETA: 1:14 - loss: 0.5250 - acc: 0.734 - ETA: 1:14 - loss: 0.5249 - acc: 0.734 - ETA: 1:14 - loss: 0.5249 - acc: 0.734 - ETA: 1:13 - loss: 0.5249 - acc: 0.734 - ETA: 1:13 - loss: 0.5250 - acc: 0.734 - ETA: 1:13 - loss: 0.5249 - acc: 0.734 - ETA: 1:13 - loss: 0.5249 - acc: 0.734 - ETA: 1:13 - loss: 0.5248 - acc: 0.734 - ETA: 1:13 - loss: 0.5248 - acc: 0.734 - ETA: 1:13 - loss: 0.5248 - acc: 0.734 - ETA: 1:13 - loss: 0.5247 - acc: 0.734 - ETA: 1:13 - loss: 0.5246 - acc: 0.734 - ETA: 1:13 - loss: 0.5247 - acc: 0.734 - ETA: 1:13 - loss: 0.5246 - acc: 0.734 - ETA: 1:12 - loss: 0.5247 - acc: 0.734 - ETA: 1:12 - loss: 0.5246 - acc: 0.734 - ETA: 1:12 - loss: 0.5246 - acc: 0.734 - ETA: 1:12 - loss: 0.5246 - acc: 0.734 - ETA: 1:12 - loss: 0.5247 - acc: 0.734 - ETA: 1:12 - loss: 0.5245 - acc: 0.734 - ETA: 1:12 - loss: 0.5244 - acc: 0.734 - ETA: 1:12 - loss: 0.5245 - acc: 0.734 - ETA: 1:12 - loss: 0.5244 - acc: 0.734 - ETA: 1:12 - loss: 0.5243 - acc: 0.734 - ETA: 1:12 - loss: 0.5243 - acc: 0.734 - ETA: 1:12 - loss: 0.5241 - acc: 0.734 - ETA: 1:11 - loss: 0.5242 - acc: 0.734 - ETA: 1:11 - loss: 0.5242 - acc: 0.734 - ETA: 1:11 - loss: 0.5240 - acc: 0.734 - ETA: 1:11 - loss: 0.5239 - acc: 0.734 - ETA: 1:11 - loss: 0.5239 - acc: 0.734 - ETA: 1:11 - loss: 0.5238 - acc: 0.734 - ETA: 1:11 - loss: 0.5237 - acc: 0.734 - ETA: 1:11 - loss: 0.5237 - acc: 0.735 - ETA: 1:11 - loss: 0.5236 - acc: 0.735 - ETA: 1:11 - loss: 0.5236 - acc: 0.735 - ETA: 1:11 - loss: 0.5234 - acc: 0.735 - ETA: 1:10 - loss: 0.5235 - acc: 0.735 - ETA: 1:10 - loss: 0.5235 - acc: 0.735 - ETA: 1:10 - loss: 0.5234 - acc: 0.735 - ETA: 1:10 - loss: 0.5234 - acc: 0.735 - ETA: 1:10 - loss: 0.5232 - acc: 0.735 - ETA: 1:10 - loss: 0.5232 - acc: 0.735 - ETA: 1:10 - loss: 0.5232 - acc: 0.735 - ETA: 1:10 - loss: 0.5230 - acc: 0.735 - ETA: 1:10 - loss: 0.5229 - acc: 0.735 - ETA: 1:10 - loss: 0.5230 - acc: 0.735 - ETA: 1:10 - loss: 0.5231 - acc: 0.735 - ETA: 1:09 - loss: 0.5233 - acc: 0.735 - ETA: 1:09 - loss: 0.5232 - acc: 0.735 - ETA: 1:09 - loss: 0.5233 - acc: 0.735 - ETA: 1:09 - loss: 0.5232 - acc: 0.735 - ETA: 1:09 - loss: 0.5232 - acc: 0.735 - ETA: 1:09 - loss: 0.5232 - acc: 0.735 - ETA: 1:09 - loss: 0.5231 - acc: 0.735 - ETA: 1:09 - loss: 0.5231 - acc: 0.735 - ETA: 1:09 - loss: 0.5230 - acc: 0.735 - ETA: 1:09 - loss: 0.5229 - acc: 0.735 - ETA: 1:09 - loss: 0.5230 - acc: 0.735 - ETA: 1:08 - loss: 0.5228 - acc: 0.736 - ETA: 1:08 - loss: 0.5229 - acc: 0.736 - ETA: 1:08 - loss: 0.5228 - acc: 0.736 - ETA: 1:08 - loss: 0.5228 - acc: 0.736 - ETA: 1:08 - loss: 0.5227 - acc: 0.736 - ETA: 1:08 - loss: 0.5227 - acc: 0.736 - ETA: 1:08 - loss: 0.5226 - acc: 0.736 - ETA: 1:08 - loss: 0.5228 - acc: 0.735 - ETA: 1:08 - loss: 0.5228 - acc: 0.736 - ETA: 1:08 - loss: 0.5227 - acc: 0.736 - ETA: 1:08 - loss: 0.5227 - acc: 0.736 - ETA: 1:07 - loss: 0.5226 - acc: 0.736 - ETA: 1:07 - loss: 0.5225 - acc: 0.736 - ETA: 1:07 - loss: 0.5225 - acc: 0.736 - ETA: 1:07 - loss: 0.5224 - acc: 0.736 - ETA: 1:07 - loss: 0.5224 - acc: 0.736 - ETA: 1:07 - loss: 0.5223 - acc: 0.736 - ETA: 1:07 - loss: 0.5223 - acc: 0.736 - ETA: 1:07 - loss: 0.5223 - acc: 0.736 - ETA: 1:07 - loss: 0.5222 - acc: 0.736 - ETA: 1:07 - loss: 0.5222 - acc: 0.736 - ETA: 1:07 - loss: 0.5223 - acc: 0.736 - ETA: 1:07 - loss: 0.5222 - acc: 0.736 - ETA: 1:07 - loss: 0.5223 - acc: 0.736 - ETA: 1:07 - loss: 0.5223 - acc: 0.736 - ETA: 1:06 - loss: 0.5223 - acc: 0.736 - ETA: 1:06 - loss: 0.5223 - acc: 0.736 - ETA: 1:06 - loss: 0.5223 - acc: 0.736 - ETA: 1:06 - loss: 0.5223 - acc: 0.736 - ETA: 1:06 - loss: 0.5224 - acc: 0.736 - ETA: 1:06 - loss: 0.5224 - acc: 0.736 - ETA: 1:06 - loss: 0.5224 - acc: 0.735 - ETA: 1:06 - loss: 0.5224 - acc: 0.736 - ETA: 1:06 - loss: 0.5224 - acc: 0.735 - ETA: 1:06 - loss: 0.5224 - acc: 0.735 - ETA: 1:05 - loss: 0.5224 - acc: 0.736 - ETA: 1:05 - loss: 0.5224 - acc: 0.736 - ETA: 1:05 - loss: 0.5224 - acc: 0.736 - ETA: 1:05 - loss: 0.5224 - acc: 0.736 - ETA: 1:05 - loss: 0.5224 - acc: 0.736 - ETA: 1:05 - loss: 0.5224 - acc: 0.736 - ETA: 1:05 - loss: 0.5224 - acc: 0.736 - ETA: 1:05 - loss: 0.5223 - acc: 0.736 - ETA: 1:05 - loss: 0.5222 - acc: 0.736 - ETA: 1:05 - loss: 0.5222 - acc: 0.736 - ETA: 1:05 - loss: 0.5221 - acc: 0.736 - ETA: 1:04 - loss: 0.5220 - acc: 0.736 - ETA: 1:04 - loss: 0.5220 - acc: 0.736 - ETA: 1:04 - loss: 0.5220 - acc: 0.736 - ETA: 1:04 - loss: 0.5219 - acc: 0.736 - ETA: 1:04 - loss: 0.5218 - acc: 0.736 - ETA: 1:04 - loss: 0.5217 - acc: 0.736 - ETA: 1:04 - loss: 0.5217 - acc: 0.736 - ETA: 1:04 - loss: 0.5216 - acc: 0.736 - ETA: 1:04 - loss: 0.5217 - acc: 0.7366"
     ]
    },
    {
     "name": "stdout",
     "output_type": "stream",
     "text": [
      "2312/3392 [===================>..........] - ETA: 1:04 - loss: 0.5216 - acc: 0.736 - ETA: 1:04 - loss: 0.5217 - acc: 0.736 - ETA: 1:03 - loss: 0.5216 - acc: 0.736 - ETA: 1:03 - loss: 0.5215 - acc: 0.736 - ETA: 1:03 - loss: 0.5214 - acc: 0.737 - ETA: 1:03 - loss: 0.5214 - acc: 0.737 - ETA: 1:03 - loss: 0.5214 - acc: 0.737 - ETA: 1:03 - loss: 0.5214 - acc: 0.736 - ETA: 1:03 - loss: 0.5214 - acc: 0.736 - ETA: 1:03 - loss: 0.5213 - acc: 0.736 - ETA: 1:03 - loss: 0.5213 - acc: 0.736 - ETA: 1:03 - loss: 0.5212 - acc: 0.736 - ETA: 1:03 - loss: 0.5211 - acc: 0.737 - ETA: 1:03 - loss: 0.5210 - acc: 0.737 - ETA: 1:03 - loss: 0.5211 - acc: 0.736 - ETA: 1:03 - loss: 0.5211 - acc: 0.736 - ETA: 1:03 - loss: 0.5211 - acc: 0.736 - ETA: 1:03 - loss: 0.5210 - acc: 0.737 - ETA: 1:03 - loss: 0.5209 - acc: 0.737 - ETA: 1:02 - loss: 0.5209 - acc: 0.737 - ETA: 1:02 - loss: 0.5208 - acc: 0.737 - ETA: 1:02 - loss: 0.5208 - acc: 0.737 - ETA: 1:02 - loss: 0.5208 - acc: 0.737 - ETA: 1:02 - loss: 0.5208 - acc: 0.737 - ETA: 1:02 - loss: 0.5207 - acc: 0.737 - ETA: 1:02 - loss: 0.5207 - acc: 0.737 - ETA: 1:02 - loss: 0.5207 - acc: 0.737 - ETA: 1:02 - loss: 0.5207 - acc: 0.737 - ETA: 1:02 - loss: 0.5206 - acc: 0.737 - ETA: 1:02 - loss: 0.5206 - acc: 0.737 - ETA: 1:02 - loss: 0.5205 - acc: 0.737 - ETA: 1:02 - loss: 0.5204 - acc: 0.737 - ETA: 1:02 - loss: 0.5204 - acc: 0.737 - ETA: 1:02 - loss: 0.5204 - acc: 0.737 - ETA: 1:01 - loss: 0.5203 - acc: 0.737 - ETA: 1:01 - loss: 0.5204 - acc: 0.737 - ETA: 1:01 - loss: 0.5203 - acc: 0.737 - ETA: 1:01 - loss: 0.5201 - acc: 0.737 - ETA: 1:01 - loss: 0.5201 - acc: 0.737 - ETA: 1:01 - loss: 0.5200 - acc: 0.737 - ETA: 1:01 - loss: 0.5199 - acc: 0.737 - ETA: 1:01 - loss: 0.5199 - acc: 0.737 - ETA: 1:01 - loss: 0.5198 - acc: 0.737 - ETA: 1:01 - loss: 0.5198 - acc: 0.737 - ETA: 1:01 - loss: 0.5197 - acc: 0.737 - ETA: 1:00 - loss: 0.5196 - acc: 0.737 - ETA: 1:00 - loss: 0.5195 - acc: 0.737 - ETA: 1:00 - loss: 0.5194 - acc: 0.738 - ETA: 1:00 - loss: 0.5194 - acc: 0.738 - ETA: 1:00 - loss: 0.5195 - acc: 0.738 - ETA: 1:00 - loss: 0.5194 - acc: 0.738 - ETA: 1:00 - loss: 0.5194 - acc: 0.738 - ETA: 1:00 - loss: 0.5195 - acc: 0.737 - ETA: 1:00 - loss: 0.5195 - acc: 0.737 - ETA: 1:00 - loss: 0.5196 - acc: 0.737 - ETA: 1:00 - loss: 0.5195 - acc: 0.738 - ETA: 1:00 - loss: 0.5194 - acc: 0.738 - ETA: 59s - loss: 0.5195 - acc: 0.738 - ETA: 59s - loss: 0.5194 - acc: 0.73 - ETA: 59s - loss: 0.5193 - acc: 0.73 - ETA: 59s - loss: 0.5193 - acc: 0.73 - ETA: 59s - loss: 0.5193 - acc: 0.73 - ETA: 59s - loss: 0.5192 - acc: 0.73 - ETA: 59s - loss: 0.5191 - acc: 0.73 - ETA: 59s - loss: 0.5191 - acc: 0.73 - ETA: 59s - loss: 0.5191 - acc: 0.73 - ETA: 59s - loss: 0.5191 - acc: 0.73 - ETA: 59s - loss: 0.5193 - acc: 0.73 - ETA: 58s - loss: 0.5192 - acc: 0.73 - ETA: 58s - loss: 0.5192 - acc: 0.73 - ETA: 58s - loss: 0.5193 - acc: 0.73 - ETA: 58s - loss: 0.5192 - acc: 0.73 - ETA: 58s - loss: 0.5192 - acc: 0.73 - ETA: 58s - loss: 0.5192 - acc: 0.73 - ETA: 58s - loss: 0.5192 - acc: 0.73 - ETA: 58s - loss: 0.5192 - acc: 0.73 - ETA: 58s - loss: 0.5192 - acc: 0.73 - ETA: 58s - loss: 0.5192 - acc: 0.73 - ETA: 58s - loss: 0.5192 - acc: 0.73 - ETA: 57s - loss: 0.5192 - acc: 0.73 - ETA: 57s - loss: 0.5192 - acc: 0.73 - ETA: 57s - loss: 0.5192 - acc: 0.73 - ETA: 57s - loss: 0.5192 - acc: 0.73 - ETA: 57s - loss: 0.5191 - acc: 0.73 - ETA: 57s - loss: 0.5191 - acc: 0.73 - ETA: 57s - loss: 0.5191 - acc: 0.73 - ETA: 57s - loss: 0.5191 - acc: 0.73 - ETA: 57s - loss: 0.5191 - acc: 0.73 - ETA: 57s - loss: 0.5191 - acc: 0.73 - ETA: 57s - loss: 0.5189 - acc: 0.73 - ETA: 57s - loss: 0.5189 - acc: 0.73 - ETA: 57s - loss: 0.5190 - acc: 0.73 - ETA: 56s - loss: 0.5189 - acc: 0.73 - ETA: 56s - loss: 0.5188 - acc: 0.73 - ETA: 56s - loss: 0.5187 - acc: 0.73 - ETA: 56s - loss: 0.5186 - acc: 0.73 - ETA: 56s - loss: 0.5188 - acc: 0.73 - ETA: 56s - loss: 0.5188 - acc: 0.73 - ETA: 56s - loss: 0.5189 - acc: 0.73 - ETA: 56s - loss: 0.5188 - acc: 0.73 - ETA: 56s - loss: 0.5187 - acc: 0.73 - ETA: 56s - loss: 0.5188 - acc: 0.73 - ETA: 56s - loss: 0.5188 - acc: 0.73 - ETA: 55s - loss: 0.5187 - acc: 0.73 - ETA: 55s - loss: 0.5187 - acc: 0.73 - ETA: 55s - loss: 0.5187 - acc: 0.73 - ETA: 55s - loss: 0.5187 - acc: 0.73 - ETA: 55s - loss: 0.5187 - acc: 0.73 - ETA: 55s - loss: 0.5187 - acc: 0.73 - ETA: 55s - loss: 0.5187 - acc: 0.73 - ETA: 55s - loss: 0.5186 - acc: 0.73 - ETA: 55s - loss: 0.5187 - acc: 0.73 - ETA: 55s - loss: 0.5187 - acc: 0.73 - ETA: 55s - loss: 0.5187 - acc: 0.73 - ETA: 54s - loss: 0.5187 - acc: 0.73 - ETA: 54s - loss: 0.5187 - acc: 0.73 - ETA: 54s - loss: 0.5186 - acc: 0.73 - ETA: 54s - loss: 0.5187 - acc: 0.73 - ETA: 54s - loss: 0.5186 - acc: 0.73 - ETA: 54s - loss: 0.5186 - acc: 0.73 - ETA: 54s - loss: 0.5186 - acc: 0.73 - ETA: 54s - loss: 0.5185 - acc: 0.73 - ETA: 54s - loss: 0.5185 - acc: 0.73 - ETA: 54s - loss: 0.5185 - acc: 0.73 - ETA: 54s - loss: 0.5184 - acc: 0.73 - ETA: 53s - loss: 0.5184 - acc: 0.73 - ETA: 53s - loss: 0.5184 - acc: 0.73 - ETA: 53s - loss: 0.5183 - acc: 0.73 - ETA: 53s - loss: 0.5183 - acc: 0.73 - ETA: 53s - loss: 0.5182 - acc: 0.73 - ETA: 53s - loss: 0.5182 - acc: 0.73 - ETA: 53s - loss: 0.5181 - acc: 0.73 - ETA: 53s - loss: 0.5180 - acc: 0.73 - ETA: 53s - loss: 0.5181 - acc: 0.73 - ETA: 53s - loss: 0.5181 - acc: 0.73 - ETA: 53s - loss: 0.5180 - acc: 0.73 - ETA: 52s - loss: 0.5179 - acc: 0.73 - ETA: 52s - loss: 0.5179 - acc: 0.73 - ETA: 52s - loss: 0.5179 - acc: 0.73 - ETA: 52s - loss: 0.5180 - acc: 0.73 - ETA: 52s - loss: 0.5180 - acc: 0.73 - ETA: 52s - loss: 0.5181 - acc: 0.73 - ETA: 52s - loss: 0.5181 - acc: 0.73 - ETA: 52s - loss: 0.5180 - acc: 0.73 - ETA: 52s - loss: 0.5180 - acc: 0.73 - ETA: 52s - loss: 0.5179 - acc: 0.73 - ETA: 52s - loss: 0.5178 - acc: 0.73 - ETA: 51s - loss: 0.5178 - acc: 0.73 - ETA: 51s - loss: 0.5177 - acc: 0.73 - ETA: 51s - loss: 0.5177 - acc: 0.73 - ETA: 51s - loss: 0.5177 - acc: 0.73 - ETA: 51s - loss: 0.5177 - acc: 0.73 - ETA: 51s - loss: 0.5178 - acc: 0.73 - ETA: 51s - loss: 0.5177 - acc: 0.73 - ETA: 51s - loss: 0.5177 - acc: 0.73 - ETA: 51s - loss: 0.5177 - acc: 0.73 - ETA: 51s - loss: 0.5176 - acc: 0.73 - ETA: 51s - loss: 0.5175 - acc: 0.73 - ETA: 50s - loss: 0.5174 - acc: 0.73 - ETA: 50s - loss: 0.5174 - acc: 0.73 - ETA: 50s - loss: 0.5173 - acc: 0.73 - ETA: 50s - loss: 0.5174 - acc: 0.73 - ETA: 50s - loss: 0.5175 - acc: 0.73 - ETA: 50s - loss: 0.5174 - acc: 0.73 - ETA: 50s - loss: 0.5175 - acc: 0.73 - ETA: 50s - loss: 0.5174 - acc: 0.73 - ETA: 50s - loss: 0.5174 - acc: 0.73 - ETA: 50s - loss: 0.5174 - acc: 0.73 - ETA: 50s - loss: 0.5175 - acc: 0.73 - ETA: 50s - loss: 0.5175 - acc: 0.73 - ETA: 50s - loss: 0.5175 - acc: 0.73 - ETA: 49s - loss: 0.5175 - acc: 0.73 - ETA: 49s - loss: 0.5176 - acc: 0.73 - ETA: 49s - loss: 0.5176 - acc: 0.73 - ETA: 49s - loss: 0.5176 - acc: 0.73 - ETA: 49s - loss: 0.5176 - acc: 0.73 - ETA: 49s - loss: 0.5175 - acc: 0.73 - ETA: 49s - loss: 0.5174 - acc: 0.73 - ETA: 49s - loss: 0.5175 - acc: 0.73 - ETA: 49s - loss: 0.5175 - acc: 0.73 - ETA: 49s - loss: 0.5174 - acc: 0.74 - ETA: 49s - loss: 0.5174 - acc: 0.74 - ETA: 48s - loss: 0.5174 - acc: 0.74 - ETA: 48s - loss: 0.5174 - acc: 0.74 - ETA: 48s - loss: 0.5174 - acc: 0.74 - ETA: 48s - loss: 0.5173 - acc: 0.74 - ETA: 48s - loss: 0.5172 - acc: 0.74 - ETA: 48s - loss: 0.5171 - acc: 0.74 - ETA: 48s - loss: 0.5171 - acc: 0.74 - ETA: 48s - loss: 0.5170 - acc: 0.74 - ETA: 48s - loss: 0.5171 - acc: 0.74 - ETA: 48s - loss: 0.5171 - acc: 0.74 - ETA: 48s - loss: 0.5170 - acc: 0.74 - ETA: 47s - loss: 0.5171 - acc: 0.74 - ETA: 47s - loss: 0.5171 - acc: 0.74 - ETA: 47s - loss: 0.5171 - acc: 0.74 - ETA: 47s - loss: 0.5171 - acc: 0.74 - ETA: 47s - loss: 0.5170 - acc: 0.74 - ETA: 47s - loss: 0.5170 - acc: 0.74 - ETA: 47s - loss: 0.5171 - acc: 0.74 - ETA: 47s - loss: 0.5171 - acc: 0.74 - ETA: 47s - loss: 0.5172 - acc: 0.74 - ETA: 47s - loss: 0.5170 - acc: 0.74 - ETA: 47s - loss: 0.5170 - acc: 0.74 - ETA: 46s - loss: 0.5170 - acc: 0.74 - ETA: 46s - loss: 0.5171 - acc: 0.74 - ETA: 46s - loss: 0.5170 - acc: 0.74 - ETA: 46s - loss: 0.5169 - acc: 0.74 - ETA: 46s - loss: 0.5168 - acc: 0.74 - ETA: 46s - loss: 0.5169 - acc: 0.74 - ETA: 46s - loss: 0.5170 - acc: 0.74 - ETA: 46s - loss: 0.5170 - acc: 0.7405"
     ]
    },
    {
     "name": "stdout",
     "output_type": "stream",
     "text": [
      "2724/3392 [=======================>......] - ETA: 46s - loss: 0.5169 - acc: 0.74 - ETA: 46s - loss: 0.5168 - acc: 0.74 - ETA: 46s - loss: 0.5168 - acc: 0.74 - ETA: 46s - loss: 0.5167 - acc: 0.74 - ETA: 45s - loss: 0.5167 - acc: 0.74 - ETA: 45s - loss: 0.5167 - acc: 0.74 - ETA: 45s - loss: 0.5166 - acc: 0.74 - ETA: 45s - loss: 0.5166 - acc: 0.74 - ETA: 45s - loss: 0.5166 - acc: 0.74 - ETA: 45s - loss: 0.5165 - acc: 0.74 - ETA: 45s - loss: 0.5166 - acc: 0.74 - ETA: 45s - loss: 0.5166 - acc: 0.74 - ETA: 45s - loss: 0.5165 - acc: 0.74 - ETA: 45s - loss: 0.5165 - acc: 0.74 - ETA: 45s - loss: 0.5165 - acc: 0.74 - ETA: 45s - loss: 0.5165 - acc: 0.74 - ETA: 44s - loss: 0.5165 - acc: 0.74 - ETA: 44s - loss: 0.5164 - acc: 0.74 - ETA: 44s - loss: 0.5164 - acc: 0.74 - ETA: 44s - loss: 0.5163 - acc: 0.74 - ETA: 44s - loss: 0.5163 - acc: 0.74 - ETA: 44s - loss: 0.5164 - acc: 0.74 - ETA: 44s - loss: 0.5164 - acc: 0.74 - ETA: 44s - loss: 0.5164 - acc: 0.74 - ETA: 44s - loss: 0.5163 - acc: 0.74 - ETA: 44s - loss: 0.5162 - acc: 0.74 - ETA: 44s - loss: 0.5162 - acc: 0.74 - ETA: 44s - loss: 0.5162 - acc: 0.74 - ETA: 43s - loss: 0.5162 - acc: 0.74 - ETA: 43s - loss: 0.5161 - acc: 0.74 - ETA: 43s - loss: 0.5160 - acc: 0.74 - ETA: 43s - loss: 0.5161 - acc: 0.74 - ETA: 43s - loss: 0.5160 - acc: 0.74 - ETA: 43s - loss: 0.5160 - acc: 0.74 - ETA: 43s - loss: 0.5158 - acc: 0.74 - ETA: 43s - loss: 0.5158 - acc: 0.74 - ETA: 43s - loss: 0.5159 - acc: 0.74 - ETA: 43s - loss: 0.5158 - acc: 0.74 - ETA: 43s - loss: 0.5158 - acc: 0.74 - ETA: 43s - loss: 0.5158 - acc: 0.74 - ETA: 43s - loss: 0.5158 - acc: 0.74 - ETA: 42s - loss: 0.5157 - acc: 0.74 - ETA: 42s - loss: 0.5156 - acc: 0.74 - ETA: 42s - loss: 0.5155 - acc: 0.74 - ETA: 42s - loss: 0.5155 - acc: 0.74 - ETA: 42s - loss: 0.5155 - acc: 0.74 - ETA: 42s - loss: 0.5155 - acc: 0.74 - ETA: 42s - loss: 0.5156 - acc: 0.74 - ETA: 42s - loss: 0.5155 - acc: 0.74 - ETA: 42s - loss: 0.5155 - acc: 0.74 - ETA: 42s - loss: 0.5154 - acc: 0.74 - ETA: 42s - loss: 0.5154 - acc: 0.74 - ETA: 42s - loss: 0.5155 - acc: 0.74 - ETA: 42s - loss: 0.5154 - acc: 0.74 - ETA: 41s - loss: 0.5154 - acc: 0.74 - ETA: 41s - loss: 0.5154 - acc: 0.74 - ETA: 41s - loss: 0.5153 - acc: 0.74 - ETA: 41s - loss: 0.5153 - acc: 0.74 - ETA: 41s - loss: 0.5153 - acc: 0.74 - ETA: 41s - loss: 0.5154 - acc: 0.74 - ETA: 41s - loss: 0.5153 - acc: 0.74 - ETA: 41s - loss: 0.5153 - acc: 0.74 - ETA: 41s - loss: 0.5153 - acc: 0.74 - ETA: 41s - loss: 0.5152 - acc: 0.74 - ETA: 41s - loss: 0.5153 - acc: 0.74 - ETA: 41s - loss: 0.5154 - acc: 0.74 - ETA: 40s - loss: 0.5153 - acc: 0.74 - ETA: 40s - loss: 0.5154 - acc: 0.74 - ETA: 40s - loss: 0.5154 - acc: 0.74 - ETA: 40s - loss: 0.5154 - acc: 0.74 - ETA: 40s - loss: 0.5153 - acc: 0.74 - ETA: 40s - loss: 0.5153 - acc: 0.74 - ETA: 40s - loss: 0.5153 - acc: 0.74 - ETA: 40s - loss: 0.5153 - acc: 0.74 - ETA: 40s - loss: 0.5153 - acc: 0.74 - ETA: 40s - loss: 0.5153 - acc: 0.74 - ETA: 40s - loss: 0.5152 - acc: 0.74 - ETA: 39s - loss: 0.5152 - acc: 0.74 - ETA: 39s - loss: 0.5151 - acc: 0.74 - ETA: 39s - loss: 0.5150 - acc: 0.74 - ETA: 39s - loss: 0.5151 - acc: 0.74 - ETA: 39s - loss: 0.5150 - acc: 0.74 - ETA: 39s - loss: 0.5150 - acc: 0.74 - ETA: 39s - loss: 0.5150 - acc: 0.74 - ETA: 39s - loss: 0.5150 - acc: 0.74 - ETA: 39s - loss: 0.5150 - acc: 0.74 - ETA: 39s - loss: 0.5149 - acc: 0.74 - ETA: 39s - loss: 0.5150 - acc: 0.74 - ETA: 39s - loss: 0.5150 - acc: 0.74 - ETA: 38s - loss: 0.5149 - acc: 0.74 - ETA: 38s - loss: 0.5149 - acc: 0.74 - ETA: 38s - loss: 0.5149 - acc: 0.74 - ETA: 38s - loss: 0.5149 - acc: 0.74 - ETA: 38s - loss: 0.5149 - acc: 0.74 - ETA: 38s - loss: 0.5149 - acc: 0.74 - ETA: 38s - loss: 0.5149 - acc: 0.74 - ETA: 38s - loss: 0.5148 - acc: 0.74 - ETA: 38s - loss: 0.5147 - acc: 0.74 - ETA: 38s - loss: 0.5148 - acc: 0.74 - ETA: 38s - loss: 0.5148 - acc: 0.74 - ETA: 38s - loss: 0.5148 - acc: 0.74 - ETA: 37s - loss: 0.5147 - acc: 0.74 - ETA: 37s - loss: 0.5147 - acc: 0.74 - ETA: 37s - loss: 0.5145 - acc: 0.74 - ETA: 37s - loss: 0.5145 - acc: 0.74 - ETA: 37s - loss: 0.5145 - acc: 0.74 - ETA: 37s - loss: 0.5144 - acc: 0.74 - ETA: 37s - loss: 0.5144 - acc: 0.74 - ETA: 37s - loss: 0.5144 - acc: 0.74 - ETA: 37s - loss: 0.5143 - acc: 0.74 - ETA: 37s - loss: 0.5144 - acc: 0.74 - ETA: 37s - loss: 0.5143 - acc: 0.74 - ETA: 36s - loss: 0.5142 - acc: 0.74 - ETA: 36s - loss: 0.5142 - acc: 0.74 - ETA: 36s - loss: 0.5142 - acc: 0.74 - ETA: 36s - loss: 0.5142 - acc: 0.74 - ETA: 36s - loss: 0.5141 - acc: 0.74 - ETA: 36s - loss: 0.5142 - acc: 0.74 - ETA: 36s - loss: 0.5141 - acc: 0.74 - ETA: 36s - loss: 0.5140 - acc: 0.74 - ETA: 36s - loss: 0.5140 - acc: 0.74 - ETA: 36s - loss: 0.5141 - acc: 0.74 - ETA: 36s - loss: 0.5141 - acc: 0.74 - ETA: 36s - loss: 0.5140 - acc: 0.74 - ETA: 35s - loss: 0.5140 - acc: 0.74 - ETA: 35s - loss: 0.5140 - acc: 0.74 - ETA: 35s - loss: 0.5140 - acc: 0.74 - ETA: 35s - loss: 0.5141 - acc: 0.74 - ETA: 35s - loss: 0.5140 - acc: 0.74 - ETA: 35s - loss: 0.5141 - acc: 0.74 - ETA: 35s - loss: 0.5140 - acc: 0.74 - ETA: 35s - loss: 0.5140 - acc: 0.74 - ETA: 35s - loss: 0.5139 - acc: 0.74 - ETA: 35s - loss: 0.5139 - acc: 0.74 - ETA: 35s - loss: 0.5138 - acc: 0.74 - ETA: 35s - loss: 0.5138 - acc: 0.74 - ETA: 34s - loss: 0.5139 - acc: 0.74 - ETA: 34s - loss: 0.5138 - acc: 0.74 - ETA: 34s - loss: 0.5139 - acc: 0.74 - ETA: 34s - loss: 0.5139 - acc: 0.74 - ETA: 34s - loss: 0.5139 - acc: 0.74 - ETA: 34s - loss: 0.5139 - acc: 0.74 - ETA: 34s - loss: 0.5140 - acc: 0.74 - ETA: 34s - loss: 0.5139 - acc: 0.74 - ETA: 34s - loss: 0.5140 - acc: 0.74 - ETA: 34s - loss: 0.5140 - acc: 0.74 - ETA: 34s - loss: 0.5140 - acc: 0.74 - ETA: 33s - loss: 0.5140 - acc: 0.74 - ETA: 33s - loss: 0.5141 - acc: 0.74 - ETA: 33s - loss: 0.5140 - acc: 0.74 - ETA: 33s - loss: 0.5139 - acc: 0.74 - ETA: 33s - loss: 0.5139 - acc: 0.74 - ETA: 33s - loss: 0.5139 - acc: 0.74 - ETA: 33s - loss: 0.5139 - acc: 0.74 - ETA: 33s - loss: 0.5139 - acc: 0.74 - ETA: 33s - loss: 0.5139 - acc: 0.74 - ETA: 33s - loss: 0.5138 - acc: 0.74 - ETA: 33s - loss: 0.5137 - acc: 0.74 - ETA: 33s - loss: 0.5137 - acc: 0.74 - ETA: 32s - loss: 0.5138 - acc: 0.74 - ETA: 32s - loss: 0.5138 - acc: 0.74 - ETA: 32s - loss: 0.5137 - acc: 0.74 - ETA: 32s - loss: 0.5137 - acc: 0.74 - ETA: 32s - loss: 0.5135 - acc: 0.74 - ETA: 32s - loss: 0.5135 - acc: 0.74 - ETA: 32s - loss: 0.5134 - acc: 0.74 - ETA: 32s - loss: 0.5134 - acc: 0.74 - ETA: 32s - loss: 0.5133 - acc: 0.74 - ETA: 32s - loss: 0.5133 - acc: 0.74 - ETA: 32s - loss: 0.5133 - acc: 0.74 - ETA: 31s - loss: 0.5132 - acc: 0.74 - ETA: 31s - loss: 0.5133 - acc: 0.74 - ETA: 31s - loss: 0.5132 - acc: 0.74 - ETA: 31s - loss: 0.5132 - acc: 0.74 - ETA: 31s - loss: 0.5132 - acc: 0.74 - ETA: 31s - loss: 0.5131 - acc: 0.74 - ETA: 31s - loss: 0.5131 - acc: 0.74 - ETA: 31s - loss: 0.5131 - acc: 0.74 - ETA: 31s - loss: 0.5131 - acc: 0.74 - ETA: 31s - loss: 0.5130 - acc: 0.74 - ETA: 31s - loss: 0.5130 - acc: 0.74 - ETA: 31s - loss: 0.5130 - acc: 0.74 - ETA: 30s - loss: 0.5130 - acc: 0.74 - ETA: 30s - loss: 0.5130 - acc: 0.74 - ETA: 30s - loss: 0.5129 - acc: 0.74 - ETA: 30s - loss: 0.5130 - acc: 0.74 - ETA: 30s - loss: 0.5129 - acc: 0.74 - ETA: 30s - loss: 0.5129 - acc: 0.74 - ETA: 30s - loss: 0.5129 - acc: 0.74 - ETA: 30s - loss: 0.5128 - acc: 0.74 - ETA: 30s - loss: 0.5127 - acc: 0.74 - ETA: 30s - loss: 0.5126 - acc: 0.74 - ETA: 30s - loss: 0.5126 - acc: 0.74 - ETA: 30s - loss: 0.5126 - acc: 0.74 - ETA: 30s - loss: 0.5125 - acc: 0.74 - ETA: 29s - loss: 0.5125 - acc: 0.74 - ETA: 29s - loss: 0.5125 - acc: 0.74 - ETA: 29s - loss: 0.5125 - acc: 0.74 - ETA: 29s - loss: 0.5124 - acc: 0.74 - ETA: 29s - loss: 0.5125 - acc: 0.74 - ETA: 29s - loss: 0.5125 - acc: 0.74 - ETA: 29s - loss: 0.5125 - acc: 0.74 - ETA: 29s - loss: 0.5125 - acc: 0.74 - ETA: 29s - loss: 0.5124 - acc: 0.74 - ETA: 29s - loss: 0.5124 - acc: 0.74 - ETA: 29s - loss: 0.5124 - acc: 0.74 - ETA: 29s - loss: 0.5124 - acc: 0.74 - ETA: 29s - loss: 0.5124 - acc: 0.74 - ETA: 28s - loss: 0.5123 - acc: 0.74 - ETA: 28s - loss: 0.5123 - acc: 0.74 - ETA: 28s - loss: 0.5122 - acc: 0.74 - ETA: 28s - loss: 0.5122 - acc: 0.74 - ETA: 28s - loss: 0.5121 - acc: 0.74 - ETA: 28s - loss: 0.5121 - acc: 0.74 - ETA: 28s - loss: 0.5122 - acc: 0.7437"
     ]
    },
    {
     "name": "stdout",
     "output_type": "stream",
     "text": [
      "3142/3392 [==========================>...] - ETA: 28s - loss: 0.5122 - acc: 0.74 - ETA: 28s - loss: 0.5123 - acc: 0.74 - ETA: 28s - loss: 0.5124 - acc: 0.74 - ETA: 28s - loss: 0.5124 - acc: 0.74 - ETA: 28s - loss: 0.5123 - acc: 0.74 - ETA: 27s - loss: 0.5122 - acc: 0.74 - ETA: 27s - loss: 0.5123 - acc: 0.74 - ETA: 27s - loss: 0.5122 - acc: 0.74 - ETA: 27s - loss: 0.5122 - acc: 0.74 - ETA: 27s - loss: 0.5121 - acc: 0.74 - ETA: 27s - loss: 0.5122 - acc: 0.74 - ETA: 27s - loss: 0.5122 - acc: 0.74 - ETA: 27s - loss: 0.5122 - acc: 0.74 - ETA: 27s - loss: 0.5122 - acc: 0.74 - ETA: 27s - loss: 0.5122 - acc: 0.74 - ETA: 27s - loss: 0.5121 - acc: 0.74 - ETA: 27s - loss: 0.5123 - acc: 0.74 - ETA: 26s - loss: 0.5122 - acc: 0.74 - ETA: 26s - loss: 0.5123 - acc: 0.74 - ETA: 26s - loss: 0.5122 - acc: 0.74 - ETA: 26s - loss: 0.5122 - acc: 0.74 - ETA: 26s - loss: 0.5121 - acc: 0.74 - ETA: 26s - loss: 0.5121 - acc: 0.74 - ETA: 26s - loss: 0.5122 - acc: 0.74 - ETA: 26s - loss: 0.5121 - acc: 0.74 - ETA: 26s - loss: 0.5122 - acc: 0.74 - ETA: 26s - loss: 0.5121 - acc: 0.74 - ETA: 26s - loss: 0.5121 - acc: 0.74 - ETA: 26s - loss: 0.5120 - acc: 0.74 - ETA: 25s - loss: 0.5120 - acc: 0.74 - ETA: 25s - loss: 0.5120 - acc: 0.74 - ETA: 25s - loss: 0.5120 - acc: 0.74 - ETA: 25s - loss: 0.5120 - acc: 0.74 - ETA: 25s - loss: 0.5119 - acc: 0.74 - ETA: 25s - loss: 0.5119 - acc: 0.74 - ETA: 25s - loss: 0.5119 - acc: 0.74 - ETA: 25s - loss: 0.5118 - acc: 0.74 - ETA: 25s - loss: 0.5119 - acc: 0.74 - ETA: 25s - loss: 0.5119 - acc: 0.74 - ETA: 25s - loss: 0.5119 - acc: 0.74 - ETA: 25s - loss: 0.5120 - acc: 0.74 - ETA: 24s - loss: 0.5120 - acc: 0.74 - ETA: 24s - loss: 0.5120 - acc: 0.74 - ETA: 24s - loss: 0.5119 - acc: 0.74 - ETA: 24s - loss: 0.5119 - acc: 0.74 - ETA: 24s - loss: 0.5120 - acc: 0.74 - ETA: 24s - loss: 0.5120 - acc: 0.74 - ETA: 24s - loss: 0.5120 - acc: 0.74 - ETA: 24s - loss: 0.5119 - acc: 0.74 - ETA: 24s - loss: 0.5118 - acc: 0.74 - ETA: 24s - loss: 0.5119 - acc: 0.74 - ETA: 24s - loss: 0.5119 - acc: 0.74 - ETA: 23s - loss: 0.5119 - acc: 0.74 - ETA: 23s - loss: 0.5119 - acc: 0.74 - ETA: 23s - loss: 0.5119 - acc: 0.74 - ETA: 23s - loss: 0.5119 - acc: 0.74 - ETA: 23s - loss: 0.5118 - acc: 0.74 - ETA: 23s - loss: 0.5118 - acc: 0.74 - ETA: 23s - loss: 0.5117 - acc: 0.74 - ETA: 23s - loss: 0.5117 - acc: 0.74 - ETA: 23s - loss: 0.5117 - acc: 0.74 - ETA: 23s - loss: 0.5117 - acc: 0.74 - ETA: 23s - loss: 0.5117 - acc: 0.74 - ETA: 23s - loss: 0.5117 - acc: 0.74 - ETA: 22s - loss: 0.5116 - acc: 0.74 - ETA: 22s - loss: 0.5115 - acc: 0.74 - ETA: 22s - loss: 0.5117 - acc: 0.74 - ETA: 22s - loss: 0.5117 - acc: 0.74 - ETA: 22s - loss: 0.5117 - acc: 0.74 - ETA: 22s - loss: 0.5117 - acc: 0.74 - ETA: 22s - loss: 0.5117 - acc: 0.74 - ETA: 22s - loss: 0.5117 - acc: 0.74 - ETA: 22s - loss: 0.5117 - acc: 0.74 - ETA: 22s - loss: 0.5117 - acc: 0.74 - ETA: 22s - loss: 0.5116 - acc: 0.74 - ETA: 22s - loss: 0.5116 - acc: 0.74 - ETA: 21s - loss: 0.5116 - acc: 0.74 - ETA: 21s - loss: 0.5115 - acc: 0.74 - ETA: 21s - loss: 0.5115 - acc: 0.74 - ETA: 21s - loss: 0.5115 - acc: 0.74 - ETA: 21s - loss: 0.5114 - acc: 0.74 - ETA: 21s - loss: 0.5115 - acc: 0.74 - ETA: 21s - loss: 0.5115 - acc: 0.74 - ETA: 21s - loss: 0.5115 - acc: 0.74 - ETA: 21s - loss: 0.5115 - acc: 0.74 - ETA: 21s - loss: 0.5115 - acc: 0.74 - ETA: 21s - loss: 0.5115 - acc: 0.74 - ETA: 21s - loss: 0.5115 - acc: 0.74 - ETA: 21s - loss: 0.5115 - acc: 0.74 - ETA: 20s - loss: 0.5114 - acc: 0.74 - ETA: 20s - loss: 0.5114 - acc: 0.74 - ETA: 20s - loss: 0.5113 - acc: 0.74 - ETA: 20s - loss: 0.5114 - acc: 0.74 - ETA: 20s - loss: 0.5113 - acc: 0.74 - ETA: 20s - loss: 0.5113 - acc: 0.74 - ETA: 20s - loss: 0.5113 - acc: 0.74 - ETA: 20s - loss: 0.5112 - acc: 0.74 - ETA: 20s - loss: 0.5111 - acc: 0.74 - ETA: 20s - loss: 0.5111 - acc: 0.74 - ETA: 20s - loss: 0.5111 - acc: 0.74 - ETA: 19s - loss: 0.5111 - acc: 0.74 - ETA: 19s - loss: 0.5110 - acc: 0.74 - ETA: 19s - loss: 0.5109 - acc: 0.74 - ETA: 19s - loss: 0.5110 - acc: 0.74 - ETA: 19s - loss: 0.5110 - acc: 0.74 - ETA: 19s - loss: 0.5109 - acc: 0.74 - ETA: 19s - loss: 0.5110 - acc: 0.74 - ETA: 19s - loss: 0.5110 - acc: 0.74 - ETA: 19s - loss: 0.5111 - acc: 0.74 - ETA: 19s - loss: 0.5111 - acc: 0.74 - ETA: 19s - loss: 0.5110 - acc: 0.74 - ETA: 19s - loss: 0.5110 - acc: 0.74 - ETA: 19s - loss: 0.5110 - acc: 0.74 - ETA: 18s - loss: 0.5110 - acc: 0.74 - ETA: 18s - loss: 0.5109 - acc: 0.74 - ETA: 18s - loss: 0.5109 - acc: 0.74 - ETA: 18s - loss: 0.5110 - acc: 0.74 - ETA: 18s - loss: 0.5109 - acc: 0.74 - ETA: 18s - loss: 0.5109 - acc: 0.74 - ETA: 18s - loss: 0.5109 - acc: 0.74 - ETA: 18s - loss: 0.5109 - acc: 0.74 - ETA: 18s - loss: 0.5108 - acc: 0.74 - ETA: 18s - loss: 0.5108 - acc: 0.74 - ETA: 18s - loss: 0.5108 - acc: 0.74 - ETA: 18s - loss: 0.5108 - acc: 0.74 - ETA: 17s - loss: 0.5108 - acc: 0.74 - ETA: 17s - loss: 0.5107 - acc: 0.74 - ETA: 17s - loss: 0.5107 - acc: 0.74 - ETA: 17s - loss: 0.5106 - acc: 0.74 - ETA: 17s - loss: 0.5106 - acc: 0.74 - ETA: 17s - loss: 0.5106 - acc: 0.74 - ETA: 17s - loss: 0.5106 - acc: 0.74 - ETA: 17s - loss: 0.5106 - acc: 0.74 - ETA: 17s - loss: 0.5106 - acc: 0.74 - ETA: 17s - loss: 0.5106 - acc: 0.74 - ETA: 17s - loss: 0.5106 - acc: 0.74 - ETA: 17s - loss: 0.5107 - acc: 0.74 - ETA: 16s - loss: 0.5107 - acc: 0.74 - ETA: 16s - loss: 0.5107 - acc: 0.74 - ETA: 16s - loss: 0.5106 - acc: 0.74 - ETA: 16s - loss: 0.5105 - acc: 0.74 - ETA: 16s - loss: 0.5105 - acc: 0.74 - ETA: 16s - loss: 0.5105 - acc: 0.74 - ETA: 16s - loss: 0.5105 - acc: 0.74 - ETA: 16s - loss: 0.5105 - acc: 0.74 - ETA: 16s - loss: 0.5104 - acc: 0.74 - ETA: 16s - loss: 0.5105 - acc: 0.74 - ETA: 16s - loss: 0.5105 - acc: 0.74 - ETA: 16s - loss: 0.5106 - acc: 0.74 - ETA: 15s - loss: 0.5106 - acc: 0.74 - ETA: 15s - loss: 0.5105 - acc: 0.74 - ETA: 15s - loss: 0.5105 - acc: 0.74 - ETA: 15s - loss: 0.5105 - acc: 0.74 - ETA: 15s - loss: 0.5104 - acc: 0.74 - ETA: 15s - loss: 0.5104 - acc: 0.74 - ETA: 15s - loss: 0.5104 - acc: 0.74 - ETA: 15s - loss: 0.5104 - acc: 0.74 - ETA: 15s - loss: 0.5105 - acc: 0.74 - ETA: 15s - loss: 0.5104 - acc: 0.74 - ETA: 15s - loss: 0.5104 - acc: 0.74 - ETA: 14s - loss: 0.5104 - acc: 0.74 - ETA: 14s - loss: 0.5104 - acc: 0.74 - ETA: 14s - loss: 0.5103 - acc: 0.74 - ETA: 14s - loss: 0.5103 - acc: 0.74 - ETA: 14s - loss: 0.5103 - acc: 0.74 - ETA: 14s - loss: 0.5103 - acc: 0.74 - ETA: 14s - loss: 0.5103 - acc: 0.74 - ETA: 14s - loss: 0.5103 - acc: 0.74 - ETA: 14s - loss: 0.5102 - acc: 0.74 - ETA: 14s - loss: 0.5102 - acc: 0.74 - ETA: 14s - loss: 0.5102 - acc: 0.74 - ETA: 14s - loss: 0.5102 - acc: 0.74 - ETA: 14s - loss: 0.5102 - acc: 0.74 - ETA: 13s - loss: 0.5101 - acc: 0.74 - ETA: 13s - loss: 0.5101 - acc: 0.74 - ETA: 13s - loss: 0.5101 - acc: 0.74 - ETA: 13s - loss: 0.5102 - acc: 0.74 - ETA: 13s - loss: 0.5102 - acc: 0.74 - ETA: 13s - loss: 0.5102 - acc: 0.74 - ETA: 13s - loss: 0.5102 - acc: 0.74 - ETA: 13s - loss: 0.5101 - acc: 0.74 - ETA: 13s - loss: 0.5101 - acc: 0.74 - ETA: 13s - loss: 0.5101 - acc: 0.74 - ETA: 13s - loss: 0.5101 - acc: 0.74 - ETA: 13s - loss: 0.5100 - acc: 0.74 - ETA: 12s - loss: 0.5100 - acc: 0.74 - ETA: 12s - loss: 0.5099 - acc: 0.74 - ETA: 12s - loss: 0.5099 - acc: 0.74 - ETA: 12s - loss: 0.5098 - acc: 0.74 - ETA: 12s - loss: 0.5098 - acc: 0.74 - ETA: 12s - loss: 0.5099 - acc: 0.74 - ETA: 12s - loss: 0.5098 - acc: 0.74 - ETA: 12s - loss: 0.5098 - acc: 0.74 - ETA: 12s - loss: 0.5097 - acc: 0.74 - ETA: 12s - loss: 0.5097 - acc: 0.74 - ETA: 12s - loss: 0.5097 - acc: 0.74 - ETA: 12s - loss: 0.5097 - acc: 0.74 - ETA: 11s - loss: 0.5098 - acc: 0.74 - ETA: 11s - loss: 0.5097 - acc: 0.74 - ETA: 11s - loss: 0.5098 - acc: 0.74 - ETA: 11s - loss: 0.5098 - acc: 0.74 - ETA: 11s - loss: 0.5098 - acc: 0.74 - ETA: 11s - loss: 0.5098 - acc: 0.74 - ETA: 11s - loss: 0.5097 - acc: 0.74 - ETA: 11s - loss: 0.5097 - acc: 0.74 - ETA: 11s - loss: 0.5098 - acc: 0.74 - ETA: 11s - loss: 0.5098 - acc: 0.74 - ETA: 11s - loss: 0.5098 - acc: 0.74 - ETA: 11s - loss: 0.5099 - acc: 0.74 - ETA: 10s - loss: 0.5099 - acc: 0.74 - ETA: 10s - loss: 0.5099 - acc: 0.74 - ETA: 10s - loss: 0.5100 - acc: 0.74 - ETA: 10s - loss: 0.5099 - acc: 0.74 - ETA: 10s - loss: 0.5099 - acc: 0.74 - ETA: 10s - loss: 0.5098 - acc: 0.7451"
     ]
    },
    {
     "name": "stdout",
     "output_type": "stream",
     "text": [
      "3393/3392 [==============================] - ETA: 10s - loss: 0.5098 - acc: 0.74 - ETA: 10s - loss: 0.5098 - acc: 0.74 - ETA: 10s - loss: 0.5098 - acc: 0.74 - ETA: 10s - loss: 0.5097 - acc: 0.74 - ETA: 10s - loss: 0.5097 - acc: 0.74 - ETA: 10s - loss: 0.5096 - acc: 0.74 - ETA: 9s - loss: 0.5097 - acc: 0.7453 - ETA: 9s - loss: 0.5097 - acc: 0.745 - ETA: 9s - loss: 0.5097 - acc: 0.745 - ETA: 9s - loss: 0.5097 - acc: 0.745 - ETA: 9s - loss: 0.5097 - acc: 0.745 - ETA: 9s - loss: 0.5096 - acc: 0.745 - ETA: 9s - loss: 0.5096 - acc: 0.745 - ETA: 9s - loss: 0.5097 - acc: 0.745 - ETA: 9s - loss: 0.5096 - acc: 0.745 - ETA: 9s - loss: 0.5096 - acc: 0.745 - ETA: 9s - loss: 0.5096 - acc: 0.745 - ETA: 9s - loss: 0.5096 - acc: 0.745 - ETA: 8s - loss: 0.5096 - acc: 0.745 - ETA: 8s - loss: 0.5096 - acc: 0.745 - ETA: 8s - loss: 0.5096 - acc: 0.745 - ETA: 8s - loss: 0.5096 - acc: 0.745 - ETA: 8s - loss: 0.5096 - acc: 0.745 - ETA: 8s - loss: 0.5096 - acc: 0.745 - ETA: 8s - loss: 0.5095 - acc: 0.745 - ETA: 8s - loss: 0.5095 - acc: 0.745 - ETA: 8s - loss: 0.5096 - acc: 0.745 - ETA: 8s - loss: 0.5095 - acc: 0.745 - ETA: 8s - loss: 0.5096 - acc: 0.745 - ETA: 8s - loss: 0.5096 - acc: 0.745 - ETA: 7s - loss: 0.5095 - acc: 0.745 - ETA: 7s - loss: 0.5095 - acc: 0.745 - ETA: 7s - loss: 0.5095 - acc: 0.745 - ETA: 7s - loss: 0.5094 - acc: 0.745 - ETA: 7s - loss: 0.5094 - acc: 0.745 - ETA: 7s - loss: 0.5094 - acc: 0.745 - ETA: 7s - loss: 0.5095 - acc: 0.745 - ETA: 7s - loss: 0.5095 - acc: 0.745 - ETA: 7s - loss: 0.5095 - acc: 0.745 - ETA: 7s - loss: 0.5095 - acc: 0.745 - ETA: 7s - loss: 0.5095 - acc: 0.745 - ETA: 7s - loss: 0.5094 - acc: 0.745 - ETA: 7s - loss: 0.5094 - acc: 0.745 - ETA: 6s - loss: 0.5094 - acc: 0.745 - ETA: 6s - loss: 0.5094 - acc: 0.745 - ETA: 6s - loss: 0.5094 - acc: 0.745 - ETA: 6s - loss: 0.5094 - acc: 0.745 - ETA: 6s - loss: 0.5094 - acc: 0.745 - ETA: 6s - loss: 0.5094 - acc: 0.745 - ETA: 6s - loss: 0.5093 - acc: 0.745 - ETA: 6s - loss: 0.5093 - acc: 0.745 - ETA: 6s - loss: 0.5094 - acc: 0.745 - ETA: 6s - loss: 0.5094 - acc: 0.745 - ETA: 6s - loss: 0.5094 - acc: 0.745 - ETA: 6s - loss: 0.5093 - acc: 0.745 - ETA: 5s - loss: 0.5093 - acc: 0.745 - ETA: 5s - loss: 0.5093 - acc: 0.745 - ETA: 5s - loss: 0.5093 - acc: 0.745 - ETA: 5s - loss: 0.5093 - acc: 0.745 - ETA: 5s - loss: 0.5093 - acc: 0.745 - ETA: 5s - loss: 0.5093 - acc: 0.745 - ETA: 5s - loss: 0.5093 - acc: 0.745 - ETA: 5s - loss: 0.5092 - acc: 0.745 - ETA: 5s - loss: 0.5092 - acc: 0.745 - ETA: 5s - loss: 0.5092 - acc: 0.745 - ETA: 5s - loss: 0.5091 - acc: 0.745 - ETA: 5s - loss: 0.5091 - acc: 0.745 - ETA: 4s - loss: 0.5091 - acc: 0.745 - ETA: 4s - loss: 0.5091 - acc: 0.745 - ETA: 4s - loss: 0.5091 - acc: 0.745 - ETA: 4s - loss: 0.5091 - acc: 0.745 - ETA: 4s - loss: 0.5091 - acc: 0.745 - ETA: 4s - loss: 0.5091 - acc: 0.745 - ETA: 4s - loss: 0.5091 - acc: 0.745 - ETA: 4s - loss: 0.5091 - acc: 0.745 - ETA: 4s - loss: 0.5090 - acc: 0.745 - ETA: 4s - loss: 0.5090 - acc: 0.745 - ETA: 4s - loss: 0.5090 - acc: 0.745 - ETA: 4s - loss: 0.5090 - acc: 0.745 - ETA: 3s - loss: 0.5090 - acc: 0.745 - ETA: 3s - loss: 0.5090 - acc: 0.745 - ETA: 3s - loss: 0.5090 - acc: 0.745 - ETA: 3s - loss: 0.5090 - acc: 0.745 - ETA: 3s - loss: 0.5090 - acc: 0.745 - ETA: 3s - loss: 0.5090 - acc: 0.745 - ETA: 3s - loss: 0.5089 - acc: 0.745 - ETA: 3s - loss: 0.5090 - acc: 0.745 - ETA: 3s - loss: 0.5090 - acc: 0.745 - ETA: 3s - loss: 0.5089 - acc: 0.745 - ETA: 3s - loss: 0.5090 - acc: 0.745 - ETA: 3s - loss: 0.5089 - acc: 0.745 - ETA: 2s - loss: 0.5089 - acc: 0.745 - ETA: 2s - loss: 0.5090 - acc: 0.745 - ETA: 2s - loss: 0.5090 - acc: 0.745 - ETA: 2s - loss: 0.5089 - acc: 0.745 - ETA: 2s - loss: 0.5089 - acc: 0.745 - ETA: 2s - loss: 0.5089 - acc: 0.745 - ETA: 2s - loss: 0.5089 - acc: 0.745 - ETA: 2s - loss: 0.5088 - acc: 0.745 - ETA: 2s - loss: 0.5087 - acc: 0.745 - ETA: 2s - loss: 0.5087 - acc: 0.745 - ETA: 2s - loss: 0.5087 - acc: 0.745 - ETA: 2s - loss: 0.5087 - acc: 0.745 - ETA: 1s - loss: 0.5087 - acc: 0.745 - ETA: 1s - loss: 0.5087 - acc: 0.745 - ETA: 1s - loss: 0.5087 - acc: 0.745 - ETA: 1s - loss: 0.5086 - acc: 0.745 - ETA: 1s - loss: 0.5087 - acc: 0.745 - ETA: 1s - loss: 0.5087 - acc: 0.745 - ETA: 1s - loss: 0.5087 - acc: 0.745 - ETA: 1s - loss: 0.5087 - acc: 0.745 - ETA: 1s - loss: 0.5088 - acc: 0.745 - ETA: 1s - loss: 0.5088 - acc: 0.745 - ETA: 1s - loss: 0.5088 - acc: 0.745 - ETA: 1s - loss: 0.5088 - acc: 0.745 - ETA: 0s - loss: 0.5088 - acc: 0.745 - ETA: 0s - loss: 0.5087 - acc: 0.745 - ETA: 0s - loss: 0.5087 - acc: 0.745 - ETA: 0s - loss: 0.5087 - acc: 0.745 - ETA: 0s - loss: 0.5087 - acc: 0.745 - ETA: 0s - loss: 0.5087 - acc: 0.745 - ETA: 0s - loss: 0.5088 - acc: 0.745 - ETA: 0s - loss: 0.5087 - acc: 0.745 - ETA: 0s - loss: 0.5087 - acc: 0.745 - ETA: 0s - loss: 0.5087 - acc: 0.745 - ETA: 0s - loss: 0.5087 - acc: 0.745 - ETA: 0s - loss: 0.5087 - acc: 0.745 - ETA: 0s - loss: 0.5087 - acc: 0.745 - 142s 42ms/step - loss: 0.5088 - acc: 0.7458 - val_loss: 0.4799 - val_acc: 0.7892\n",
      "Epoch 2/2\n"
     ]
    },
    {
     "name": "stdout",
     "output_type": "stream",
     "text": [
      " 393/3392 [==>...........................] - ETA: 2:11 - loss: 0.3492 - acc: 0.875 - ETA: 2:10 - loss: 0.3836 - acc: 0.843 - ETA: 2:10 - loss: 0.3799 - acc: 0.875 - ETA: 2:07 - loss: 0.4099 - acc: 0.848 - ETA: 2:08 - loss: 0.4061 - acc: 0.836 - ETA: 2:07 - loss: 0.3949 - acc: 0.835 - ETA: 2:07 - loss: 0.3995 - acc: 0.831 - ETA: 2:07 - loss: 0.3970 - acc: 0.837 - ETA: 2:08 - loss: 0.3898 - acc: 0.841 - ETA: 2:09 - loss: 0.4004 - acc: 0.838 - ETA: 2:10 - loss: 0.4011 - acc: 0.836 - ETA: 2:11 - loss: 0.3969 - acc: 0.834 - ETA: 2:10 - loss: 0.3996 - acc: 0.831 - ETA: 2:10 - loss: 0.4025 - acc: 0.831 - ETA: 2:10 - loss: 0.3911 - acc: 0.836 - ETA: 2:09 - loss: 0.3896 - acc: 0.834 - ETA: 2:10 - loss: 0.4013 - acc: 0.830 - ETA: 2:10 - loss: 0.3959 - acc: 0.831 - ETA: 2:10 - loss: 0.4004 - acc: 0.829 - ETA: 2:10 - loss: 0.4096 - acc: 0.820 - ETA: 2:10 - loss: 0.4051 - acc: 0.825 - ETA: 2:10 - loss: 0.4047 - acc: 0.825 - ETA: 2:10 - loss: 0.4053 - acc: 0.825 - ETA: 2:10 - loss: 0.4088 - acc: 0.822 - ETA: 2:10 - loss: 0.4149 - acc: 0.819 - ETA: 2:11 - loss: 0.4105 - acc: 0.822 - ETA: 2:11 - loss: 0.4117 - acc: 0.822 - ETA: 2:11 - loss: 0.4122 - acc: 0.821 - ETA: 2:10 - loss: 0.4136 - acc: 0.819 - ETA: 2:10 - loss: 0.4157 - acc: 0.817 - ETA: 2:10 - loss: 0.4173 - acc: 0.815 - ETA: 2:10 - loss: 0.4186 - acc: 0.813 - ETA: 2:10 - loss: 0.4165 - acc: 0.814 - ETA: 2:09 - loss: 0.4159 - acc: 0.814 - ETA: 2:09 - loss: 0.4147 - acc: 0.814 - ETA: 2:09 - loss: 0.4143 - acc: 0.814 - ETA: 2:09 - loss: 0.4145 - acc: 0.814 - ETA: 2:08 - loss: 0.4139 - acc: 0.815 - ETA: 2:09 - loss: 0.4138 - acc: 0.814 - ETA: 2:09 - loss: 0.4124 - acc: 0.815 - ETA: 2:08 - loss: 0.4110 - acc: 0.816 - ETA: 2:08 - loss: 0.4100 - acc: 0.816 - ETA: 2:08 - loss: 0.4110 - acc: 0.815 - ETA: 2:08 - loss: 0.4121 - acc: 0.814 - ETA: 2:08 - loss: 0.4131 - acc: 0.813 - ETA: 2:08 - loss: 0.4153 - acc: 0.811 - ETA: 2:07 - loss: 0.4179 - acc: 0.808 - ETA: 2:07 - loss: 0.4176 - acc: 0.808 - ETA: 2:08 - loss: 0.4182 - acc: 0.808 - ETA: 2:08 - loss: 0.4202 - acc: 0.807 - ETA: 2:08 - loss: 0.4184 - acc: 0.808 - ETA: 2:08 - loss: 0.4167 - acc: 0.809 - ETA: 2:08 - loss: 0.4193 - acc: 0.808 - ETA: 2:08 - loss: 0.4187 - acc: 0.808 - ETA: 2:08 - loss: 0.4163 - acc: 0.809 - ETA: 2:08 - loss: 0.4142 - acc: 0.810 - ETA: 2:08 - loss: 0.4127 - acc: 0.811 - ETA: 2:07 - loss: 0.4161 - acc: 0.810 - ETA: 2:07 - loss: 0.4168 - acc: 0.809 - ETA: 2:07 - loss: 0.4179 - acc: 0.809 - ETA: 2:07 - loss: 0.4183 - acc: 0.809 - ETA: 2:07 - loss: 0.4197 - acc: 0.808 - ETA: 2:07 - loss: 0.4177 - acc: 0.809 - ETA: 2:07 - loss: 0.4181 - acc: 0.808 - ETA: 2:07 - loss: 0.4174 - acc: 0.808 - ETA: 2:07 - loss: 0.4183 - acc: 0.806 - ETA: 2:07 - loss: 0.4216 - acc: 0.805 - ETA: 2:07 - loss: 0.4215 - acc: 0.805 - ETA: 2:07 - loss: 0.4216 - acc: 0.805 - ETA: 2:07 - loss: 0.4226 - acc: 0.804 - ETA: 2:07 - loss: 0.4223 - acc: 0.804 - ETA: 2:07 - loss: 0.4223 - acc: 0.804 - ETA: 2:07 - loss: 0.4219 - acc: 0.805 - ETA: 2:07 - loss: 0.4219 - acc: 0.805 - ETA: 2:07 - loss: 0.4204 - acc: 0.806 - ETA: 2:07 - loss: 0.4207 - acc: 0.805 - ETA: 2:07 - loss: 0.4212 - acc: 0.806 - ETA: 2:06 - loss: 0.4209 - acc: 0.805 - ETA: 2:06 - loss: 0.4206 - acc: 0.806 - ETA: 2:06 - loss: 0.4195 - acc: 0.806 - ETA: 2:06 - loss: 0.4196 - acc: 0.806 - ETA: 2:06 - loss: 0.4189 - acc: 0.806 - ETA: 2:06 - loss: 0.4186 - acc: 0.806 - ETA: 2:06 - loss: 0.4190 - acc: 0.807 - ETA: 2:06 - loss: 0.4191 - acc: 0.806 - ETA: 2:06 - loss: 0.4187 - acc: 0.806 - ETA: 2:06 - loss: 0.4190 - acc: 0.807 - ETA: 2:07 - loss: 0.4197 - acc: 0.807 - ETA: 2:07 - loss: 0.4202 - acc: 0.806 - ETA: 2:08 - loss: 0.4201 - acc: 0.806 - ETA: 2:08 - loss: 0.4196 - acc: 0.807 - ETA: 2:08 - loss: 0.4199 - acc: 0.806 - ETA: 2:08 - loss: 0.4201 - acc: 0.806 - ETA: 2:08 - loss: 0.4194 - acc: 0.806 - ETA: 2:09 - loss: 0.4192 - acc: 0.806 - ETA: 2:10 - loss: 0.4186 - acc: 0.807 - ETA: 2:10 - loss: 0.4190 - acc: 0.807 - ETA: 2:10 - loss: 0.4196 - acc: 0.806 - ETA: 2:10 - loss: 0.4199 - acc: 0.806 - ETA: 2:10 - loss: 0.4195 - acc: 0.806 - ETA: 2:10 - loss: 0.4185 - acc: 0.806 - ETA: 2:10 - loss: 0.4182 - acc: 0.806 - ETA: 2:10 - loss: 0.4194 - acc: 0.805 - ETA: 2:10 - loss: 0.4182 - acc: 0.806 - ETA: 2:09 - loss: 0.4175 - acc: 0.807 - ETA: 2:09 - loss: 0.4177 - acc: 0.807 - ETA: 2:09 - loss: 0.4179 - acc: 0.807 - ETA: 2:09 - loss: 0.4177 - acc: 0.807 - ETA: 2:09 - loss: 0.4178 - acc: 0.807 - ETA: 2:09 - loss: 0.4178 - acc: 0.806 - ETA: 2:09 - loss: 0.4172 - acc: 0.807 - ETA: 2:09 - loss: 0.4170 - acc: 0.806 - ETA: 2:09 - loss: 0.4172 - acc: 0.807 - ETA: 2:09 - loss: 0.4170 - acc: 0.806 - ETA: 2:08 - loss: 0.4159 - acc: 0.807 - ETA: 2:08 - loss: 0.4162 - acc: 0.807 - ETA: 2:08 - loss: 0.4157 - acc: 0.806 - ETA: 2:08 - loss: 0.4151 - acc: 0.807 - ETA: 2:08 - loss: 0.4146 - acc: 0.808 - ETA: 2:08 - loss: 0.4140 - acc: 0.808 - ETA: 2:08 - loss: 0.4135 - acc: 0.808 - ETA: 2:08 - loss: 0.4129 - acc: 0.809 - ETA: 2:08 - loss: 0.4128 - acc: 0.809 - ETA: 2:07 - loss: 0.4123 - acc: 0.809 - ETA: 2:07 - loss: 0.4125 - acc: 0.808 - ETA: 2:07 - loss: 0.4123 - acc: 0.808 - ETA: 2:07 - loss: 0.4117 - acc: 0.809 - ETA: 2:08 - loss: 0.4113 - acc: 0.809 - ETA: 2:07 - loss: 0.4114 - acc: 0.809 - ETA: 2:07 - loss: 0.4110 - acc: 0.809 - ETA: 2:07 - loss: 0.4105 - acc: 0.809 - ETA: 2:07 - loss: 0.4102 - acc: 0.809 - ETA: 2:07 - loss: 0.4102 - acc: 0.810 - ETA: 2:07 - loss: 0.4106 - acc: 0.809 - ETA: 2:07 - loss: 0.4106 - acc: 0.809 - ETA: 2:07 - loss: 0.4112 - acc: 0.808 - ETA: 2:06 - loss: 0.4108 - acc: 0.809 - ETA: 2:06 - loss: 0.4104 - acc: 0.809 - ETA: 2:06 - loss: 0.4112 - acc: 0.808 - ETA: 2:06 - loss: 0.4114 - acc: 0.808 - ETA: 2:06 - loss: 0.4124 - acc: 0.807 - ETA: 2:06 - loss: 0.4124 - acc: 0.807 - ETA: 2:06 - loss: 0.4119 - acc: 0.807 - ETA: 2:06 - loss: 0.4120 - acc: 0.807 - ETA: 2:06 - loss: 0.4120 - acc: 0.807 - ETA: 2:06 - loss: 0.4119 - acc: 0.807 - ETA: 2:06 - loss: 0.4122 - acc: 0.806 - ETA: 2:06 - loss: 0.4128 - acc: 0.806 - ETA: 2:06 - loss: 0.4131 - acc: 0.806 - ETA: 2:05 - loss: 0.4128 - acc: 0.805 - ETA: 2:05 - loss: 0.4137 - acc: 0.805 - ETA: 2:05 - loss: 0.4141 - acc: 0.805 - ETA: 2:05 - loss: 0.4142 - acc: 0.805 - ETA: 2:05 - loss: 0.4142 - acc: 0.805 - ETA: 2:05 - loss: 0.4136 - acc: 0.805 - ETA: 2:05 - loss: 0.4144 - acc: 0.805 - ETA: 2:05 - loss: 0.4146 - acc: 0.804 - ETA: 2:05 - loss: 0.4152 - acc: 0.804 - ETA: 2:05 - loss: 0.4153 - acc: 0.804 - ETA: 2:04 - loss: 0.4157 - acc: 0.804 - ETA: 2:04 - loss: 0.4153 - acc: 0.804 - ETA: 2:04 - loss: 0.4161 - acc: 0.804 - ETA: 2:04 - loss: 0.4160 - acc: 0.804 - ETA: 2:04 - loss: 0.4166 - acc: 0.803 - ETA: 2:04 - loss: 0.4164 - acc: 0.803 - ETA: 2:04 - loss: 0.4161 - acc: 0.804 - ETA: 2:04 - loss: 0.4160 - acc: 0.803 - ETA: 2:03 - loss: 0.4161 - acc: 0.803 - ETA: 2:03 - loss: 0.4162 - acc: 0.803 - ETA: 2:03 - loss: 0.4163 - acc: 0.803 - ETA: 2:03 - loss: 0.4160 - acc: 0.803 - ETA: 2:03 - loss: 0.4170 - acc: 0.802 - ETA: 2:03 - loss: 0.4171 - acc: 0.802 - ETA: 2:03 - loss: 0.4171 - acc: 0.802 - ETA: 2:03 - loss: 0.4170 - acc: 0.802 - ETA: 2:03 - loss: 0.4170 - acc: 0.802 - ETA: 2:03 - loss: 0.4169 - acc: 0.802 - ETA: 2:02 - loss: 0.4176 - acc: 0.802 - ETA: 2:02 - loss: 0.4176 - acc: 0.802 - ETA: 2:02 - loss: 0.4172 - acc: 0.802 - ETA: 2:02 - loss: 0.4175 - acc: 0.802 - ETA: 2:02 - loss: 0.4174 - acc: 0.803 - ETA: 2:02 - loss: 0.4171 - acc: 0.803 - ETA: 2:02 - loss: 0.4165 - acc: 0.803 - ETA: 2:02 - loss: 0.4164 - acc: 0.803 - ETA: 2:02 - loss: 0.4159 - acc: 0.803 - ETA: 2:02 - loss: 0.4162 - acc: 0.803 - ETA: 2:01 - loss: 0.4161 - acc: 0.803 - ETA: 2:01 - loss: 0.4158 - acc: 0.803 - ETA: 2:01 - loss: 0.4157 - acc: 0.803 - ETA: 2:01 - loss: 0.4156 - acc: 0.803 - ETA: 2:01 - loss: 0.4160 - acc: 0.803 - ETA: 2:01 - loss: 0.4159 - acc: 0.804 - ETA: 2:01 - loss: 0.4158 - acc: 0.803 - ETA: 2:01 - loss: 0.4159 - acc: 0.803 - ETA: 2:01 - loss: 0.4167 - acc: 0.803 - ETA: 2:01 - loss: 0.4166 - acc: 0.803 - ETA: 2:01 - loss: 0.4165 - acc: 0.803 - ETA: 2:00 - loss: 0.4164 - acc: 0.803 - ETA: 2:00 - loss: 0.4163 - acc: 0.803 - ETA: 2:00 - loss: 0.4164 - acc: 0.803 - ETA: 2:00 - loss: 0.4164 - acc: 0.803 - ETA: 2:00 - loss: 0.4162 - acc: 0.803 - ETA: 2:00 - loss: 0.4162 - acc: 0.8030 791/3392 [=====>........................] - ETA: 2:00 - loss: 0.4163 - acc: 0.803 - ETA: 2:00 - loss: 0.4159 - acc: 0.803 - ETA: 2:00 - loss: 0.4157 - acc: 0.803 - ETA: 1:59 - loss: 0.4154 - acc: 0.803 - ETA: 1:59 - loss: 0.4157 - acc: 0.803 - ETA: 1:59 - loss: 0.4157 - acc: 0.803 - ETA: 1:59 - loss: 0.4154 - acc: 0.803 - ETA: 1:59 - loss: 0.4155 - acc: 0.803 - ETA: 1:59 - loss: 0.4157 - acc: 0.803 - ETA: 1:59 - loss: 0.4152 - acc: 0.803 - ETA: 1:59 - loss: 0.4148 - acc: 0.803 - ETA: 1:59 - loss: 0.4146 - acc: 0.803 - ETA: 1:59 - loss: 0.4141 - acc: 0.803 - ETA: 1:58 - loss: 0.4138 - acc: 0.804 - ETA: 1:58 - loss: 0.4141 - acc: 0.804 - ETA: 1:58 - loss: 0.4140 - acc: 0.804 - ETA: 1:58 - loss: 0.4132 - acc: 0.804 - ETA: 1:58 - loss: 0.4133 - acc: 0.804 - ETA: 1:58 - loss: 0.4136 - acc: 0.804 - ETA: 1:58 - loss: 0.4133 - acc: 0.804 - ETA: 1:58 - loss: 0.4131 - acc: 0.804 - ETA: 1:58 - loss: 0.4130 - acc: 0.804 - ETA: 1:58 - loss: 0.4130 - acc: 0.804 - ETA: 1:58 - loss: 0.4132 - acc: 0.804 - ETA: 1:57 - loss: 0.4137 - acc: 0.804 - ETA: 1:57 - loss: 0.4134 - acc: 0.804 - ETA: 1:57 - loss: 0.4133 - acc: 0.805 - ETA: 1:57 - loss: 0.4131 - acc: 0.805 - ETA: 1:57 - loss: 0.4126 - acc: 0.805 - ETA: 1:57 - loss: 0.4126 - acc: 0.805 - ETA: 1:57 - loss: 0.4133 - acc: 0.804 - ETA: 1:57 - loss: 0.4137 - acc: 0.804 - ETA: 1:57 - loss: 0.4142 - acc: 0.804 - ETA: 1:57 - loss: 0.4140 - acc: 0.804 - ETA: 1:57 - loss: 0.4141 - acc: 0.804 - ETA: 1:57 - loss: 0.4140 - acc: 0.804 - ETA: 1:57 - loss: 0.4148 - acc: 0.804 - ETA: 1:57 - loss: 0.4147 - acc: 0.804 - ETA: 1:56 - loss: 0.4146 - acc: 0.804 - ETA: 1:56 - loss: 0.4145 - acc: 0.804 - ETA: 1:56 - loss: 0.4149 - acc: 0.804 - ETA: 1:56 - loss: 0.4147 - acc: 0.804 - ETA: 1:56 - loss: 0.4146 - acc: 0.804 - ETA: 1:56 - loss: 0.4145 - acc: 0.804 - ETA: 1:56 - loss: 0.4147 - acc: 0.804 - ETA: 1:56 - loss: 0.4154 - acc: 0.804 - ETA: 1:56 - loss: 0.4152 - acc: 0.804 - ETA: 1:56 - loss: 0.4155 - acc: 0.803 - ETA: 1:56 - loss: 0.4156 - acc: 0.803 - ETA: 1:55 - loss: 0.4157 - acc: 0.803 - ETA: 1:55 - loss: 0.4157 - acc: 0.803 - ETA: 1:55 - loss: 0.4156 - acc: 0.803 - ETA: 1:55 - loss: 0.4154 - acc: 0.803 - ETA: 1:55 - loss: 0.4152 - acc: 0.803 - ETA: 1:55 - loss: 0.4149 - acc: 0.804 - ETA: 1:55 - loss: 0.4150 - acc: 0.804 - ETA: 1:55 - loss: 0.4151 - acc: 0.804 - ETA: 1:55 - loss: 0.4148 - acc: 0.804 - ETA: 1:55 - loss: 0.4145 - acc: 0.804 - ETA: 1:55 - loss: 0.4144 - acc: 0.804 - ETA: 1:54 - loss: 0.4147 - acc: 0.804 - ETA: 1:54 - loss: 0.4148 - acc: 0.804 - ETA: 1:54 - loss: 0.4149 - acc: 0.804 - ETA: 1:54 - loss: 0.4152 - acc: 0.804 - ETA: 1:54 - loss: 0.4153 - acc: 0.804 - ETA: 1:54 - loss: 0.4148 - acc: 0.804 - ETA: 1:54 - loss: 0.4147 - acc: 0.804 - ETA: 1:54 - loss: 0.4145 - acc: 0.804 - ETA: 1:54 - loss: 0.4142 - acc: 0.804 - ETA: 1:54 - loss: 0.4140 - acc: 0.805 - ETA: 1:54 - loss: 0.4142 - acc: 0.805 - ETA: 1:54 - loss: 0.4143 - acc: 0.804 - ETA: 1:53 - loss: 0.4142 - acc: 0.804 - ETA: 1:53 - loss: 0.4144 - acc: 0.804 - ETA: 1:53 - loss: 0.4143 - acc: 0.804 - ETA: 1:53 - loss: 0.4141 - acc: 0.805 - ETA: 1:53 - loss: 0.4140 - acc: 0.805 - ETA: 1:53 - loss: 0.4139 - acc: 0.805 - ETA: 1:53 - loss: 0.4145 - acc: 0.804 - ETA: 1:53 - loss: 0.4145 - acc: 0.804 - ETA: 1:53 - loss: 0.4143 - acc: 0.805 - ETA: 1:53 - loss: 0.4142 - acc: 0.805 - ETA: 1:53 - loss: 0.4140 - acc: 0.805 - ETA: 1:53 - loss: 0.4139 - acc: 0.805 - ETA: 1:53 - loss: 0.4143 - acc: 0.804 - ETA: 1:52 - loss: 0.4141 - acc: 0.805 - ETA: 1:52 - loss: 0.4143 - acc: 0.804 - ETA: 1:52 - loss: 0.4141 - acc: 0.805 - ETA: 1:52 - loss: 0.4141 - acc: 0.805 - ETA: 1:52 - loss: 0.4141 - acc: 0.805 - ETA: 1:52 - loss: 0.4143 - acc: 0.805 - ETA: 1:52 - loss: 0.4144 - acc: 0.805 - ETA: 1:52 - loss: 0.4143 - acc: 0.805 - ETA: 1:52 - loss: 0.4144 - acc: 0.805 - ETA: 1:52 - loss: 0.4141 - acc: 0.805 - ETA: 1:52 - loss: 0.4139 - acc: 0.805 - ETA: 1:52 - loss: 0.4140 - acc: 0.805 - ETA: 1:51 - loss: 0.4139 - acc: 0.805 - ETA: 1:51 - loss: 0.4140 - acc: 0.804 - ETA: 1:51 - loss: 0.4140 - acc: 0.805 - ETA: 1:51 - loss: 0.4142 - acc: 0.804 - ETA: 1:51 - loss: 0.4143 - acc: 0.804 - ETA: 1:51 - loss: 0.4144 - acc: 0.804 - ETA: 1:51 - loss: 0.4145 - acc: 0.804 - ETA: 1:51 - loss: 0.4143 - acc: 0.804 - ETA: 1:51 - loss: 0.4142 - acc: 0.804 - ETA: 1:51 - loss: 0.4141 - acc: 0.804 - ETA: 1:51 - loss: 0.4139 - acc: 0.804 - ETA: 1:51 - loss: 0.4139 - acc: 0.804 - ETA: 1:51 - loss: 0.4140 - acc: 0.804 - ETA: 1:51 - loss: 0.4136 - acc: 0.804 - ETA: 1:50 - loss: 0.4137 - acc: 0.804 - ETA: 1:50 - loss: 0.4135 - acc: 0.804 - ETA: 1:50 - loss: 0.4134 - acc: 0.804 - ETA: 1:50 - loss: 0.4135 - acc: 0.804 - ETA: 1:50 - loss: 0.4132 - acc: 0.804 - ETA: 1:50 - loss: 0.4134 - acc: 0.804 - ETA: 1:50 - loss: 0.4133 - acc: 0.804 - ETA: 1:50 - loss: 0.4132 - acc: 0.804 - ETA: 1:50 - loss: 0.4129 - acc: 0.804 - ETA: 1:50 - loss: 0.4129 - acc: 0.804 - ETA: 1:50 - loss: 0.4136 - acc: 0.804 - ETA: 1:49 - loss: 0.4137 - acc: 0.804 - ETA: 1:49 - loss: 0.4134 - acc: 0.804 - ETA: 1:49 - loss: 0.4138 - acc: 0.804 - ETA: 1:49 - loss: 0.4137 - acc: 0.804 - ETA: 1:49 - loss: 0.4134 - acc: 0.804 - ETA: 1:49 - loss: 0.4140 - acc: 0.803 - ETA: 1:49 - loss: 0.4143 - acc: 0.803 - ETA: 1:49 - loss: 0.4144 - acc: 0.803 - ETA: 1:49 - loss: 0.4144 - acc: 0.803 - ETA: 1:49 - loss: 0.4147 - acc: 0.803 - ETA: 1:49 - loss: 0.4146 - acc: 0.803 - ETA: 1:48 - loss: 0.4147 - acc: 0.803 - ETA: 1:48 - loss: 0.4148 - acc: 0.803 - ETA: 1:48 - loss: 0.4150 - acc: 0.803 - ETA: 1:48 - loss: 0.4151 - acc: 0.803 - ETA: 1:48 - loss: 0.4153 - acc: 0.803 - ETA: 1:48 - loss: 0.4151 - acc: 0.803 - ETA: 1:48 - loss: 0.4151 - acc: 0.803 - ETA: 1:48 - loss: 0.4152 - acc: 0.803 - ETA: 1:48 - loss: 0.4153 - acc: 0.803 - ETA: 1:48 - loss: 0.4149 - acc: 0.803 - ETA: 1:48 - loss: 0.4153 - acc: 0.803 - ETA: 1:48 - loss: 0.4153 - acc: 0.803 - ETA: 1:48 - loss: 0.4157 - acc: 0.803 - ETA: 1:47 - loss: 0.4157 - acc: 0.803 - ETA: 1:47 - loss: 0.4155 - acc: 0.803 - ETA: 1:47 - loss: 0.4154 - acc: 0.803 - ETA: 1:47 - loss: 0.4155 - acc: 0.803 - ETA: 1:47 - loss: 0.4155 - acc: 0.803 - ETA: 1:47 - loss: 0.4156 - acc: 0.803 - ETA: 1:47 - loss: 0.4155 - acc: 0.803 - ETA: 1:47 - loss: 0.4153 - acc: 0.804 - ETA: 1:47 - loss: 0.4151 - acc: 0.804 - ETA: 1:47 - loss: 0.4148 - acc: 0.804 - ETA: 1:47 - loss: 0.4148 - acc: 0.804 - ETA: 1:46 - loss: 0.4148 - acc: 0.804 - ETA: 1:46 - loss: 0.4150 - acc: 0.804 - ETA: 1:46 - loss: 0.4147 - acc: 0.804 - ETA: 1:46 - loss: 0.4148 - acc: 0.804 - ETA: 1:46 - loss: 0.4146 - acc: 0.804 - ETA: 1:46 - loss: 0.4144 - acc: 0.804 - ETA: 1:46 - loss: 0.4145 - acc: 0.804 - ETA: 1:46 - loss: 0.4150 - acc: 0.804 - ETA: 1:46 - loss: 0.4151 - acc: 0.804 - ETA: 1:46 - loss: 0.4152 - acc: 0.803 - ETA: 1:46 - loss: 0.4156 - acc: 0.803 - ETA: 1:46 - loss: 0.4156 - acc: 0.803 - ETA: 1:46 - loss: 0.4153 - acc: 0.803 - ETA: 1:46 - loss: 0.4152 - acc: 0.803 - ETA: 1:45 - loss: 0.4156 - acc: 0.803 - ETA: 1:45 - loss: 0.4156 - acc: 0.803 - ETA: 1:45 - loss: 0.4156 - acc: 0.803 - ETA: 1:45 - loss: 0.4157 - acc: 0.803 - ETA: 1:45 - loss: 0.4161 - acc: 0.803 - ETA: 1:45 - loss: 0.4166 - acc: 0.803 - ETA: 1:45 - loss: 0.4164 - acc: 0.803 - ETA: 1:45 - loss: 0.4164 - acc: 0.803 - ETA: 1:45 - loss: 0.4168 - acc: 0.802 - ETA: 1:45 - loss: 0.4167 - acc: 0.802 - ETA: 1:45 - loss: 0.4167 - acc: 0.802 - ETA: 1:45 - loss: 0.4167 - acc: 0.802 - ETA: 1:45 - loss: 0.4166 - acc: 0.803 - ETA: 1:44 - loss: 0.4167 - acc: 0.802 - ETA: 1:44 - loss: 0.4165 - acc: 0.803 - ETA: 1:44 - loss: 0.4164 - acc: 0.803 - ETA: 1:44 - loss: 0.4164 - acc: 0.803 - ETA: 1:44 - loss: 0.4168 - acc: 0.802 - ETA: 1:44 - loss: 0.4169 - acc: 0.802 - ETA: 1:44 - loss: 0.4167 - acc: 0.803 - ETA: 1:44 - loss: 0.4164 - acc: 0.803 - ETA: 1:44 - loss: 0.4164 - acc: 0.803 - ETA: 1:44 - loss: 0.4165 - acc: 0.803 - ETA: 1:44 - loss: 0.4165 - acc: 0.803 - ETA: 1:44 - loss: 0.4163 - acc: 0.803 - ETA: 1:44 - loss: 0.4163 - acc: 0.803 - ETA: 1:43 - loss: 0.4164 - acc: 0.803 - ETA: 1:43 - loss: 0.4163 - acc: 0.803 - ETA: 1:43 - loss: 0.4162 - acc: 0.803 - ETA: 1:43 - loss: 0.4163 - acc: 0.803 - ETA: 1:43 - loss: 0.4166 - acc: 0.803 - ETA: 1:43 - loss: 0.4168 - acc: 0.803 - ETA: 1:43 - loss: 0.4167 - acc: 0.80311194/3392 [=========>....................] - ETA: 1:43 - loss: 0.4165 - acc: 0.803 - ETA: 1:43 - loss: 0.4166 - acc: 0.803 - ETA: 1:43 - loss: 0.4168 - acc: 0.803 - ETA: 1:43 - loss: 0.4167 - acc: 0.803 - ETA: 1:43 - loss: 0.4167 - acc: 0.803 - ETA: 1:42 - loss: 0.4167 - acc: 0.803 - ETA: 1:42 - loss: 0.4167 - acc: 0.803 - ETA: 1:42 - loss: 0.4168 - acc: 0.802 - ETA: 1:42 - loss: 0.4168 - acc: 0.803 - ETA: 1:42 - loss: 0.4170 - acc: 0.802 - ETA: 1:42 - loss: 0.4168 - acc: 0.802 - ETA: 1:42 - loss: 0.4169 - acc: 0.802 - ETA: 1:42 - loss: 0.4168 - acc: 0.802 - ETA: 1:42 - loss: 0.4170 - acc: 0.802 - ETA: 1:42 - loss: 0.4170 - acc: 0.802 - ETA: 1:41 - loss: 0.4170 - acc: 0.802 - ETA: 1:41 - loss: 0.4170 - acc: 0.802 - ETA: 1:41 - loss: 0.4170 - acc: 0.802 - ETA: 1:41 - loss: 0.4171 - acc: 0.802 - ETA: 1:41 - loss: 0.4175 - acc: 0.802 - ETA: 1:41 - loss: 0.4177 - acc: 0.801 - ETA: 1:41 - loss: 0.4178 - acc: 0.801 - ETA: 1:41 - loss: 0.4177 - acc: 0.801 - ETA: 1:41 - loss: 0.4177 - acc: 0.801 - ETA: 1:41 - loss: 0.4177 - acc: 0.801 - ETA: 1:41 - loss: 0.4176 - acc: 0.801 - ETA: 1:41 - loss: 0.4176 - acc: 0.801 - ETA: 1:40 - loss: 0.4178 - acc: 0.801 - ETA: 1:40 - loss: 0.4177 - acc: 0.801 - ETA: 1:40 - loss: 0.4177 - acc: 0.801 - ETA: 1:40 - loss: 0.4177 - acc: 0.801 - ETA: 1:40 - loss: 0.4179 - acc: 0.801 - ETA: 1:40 - loss: 0.4178 - acc: 0.801 - ETA: 1:40 - loss: 0.4177 - acc: 0.801 - ETA: 1:40 - loss: 0.4177 - acc: 0.801 - ETA: 1:40 - loss: 0.4176 - acc: 0.801 - ETA: 1:40 - loss: 0.4175 - acc: 0.801 - ETA: 1:40 - loss: 0.4174 - acc: 0.801 - ETA: 1:39 - loss: 0.4174 - acc: 0.801 - ETA: 1:39 - loss: 0.4173 - acc: 0.802 - ETA: 1:39 - loss: 0.4174 - acc: 0.802 - ETA: 1:39 - loss: 0.4174 - acc: 0.802 - ETA: 1:39 - loss: 0.4181 - acc: 0.801 - ETA: 1:39 - loss: 0.4182 - acc: 0.801 - ETA: 1:39 - loss: 0.4180 - acc: 0.801 - ETA: 1:39 - loss: 0.4179 - acc: 0.801 - ETA: 1:39 - loss: 0.4180 - acc: 0.801 - ETA: 1:39 - loss: 0.4182 - acc: 0.801 - ETA: 1:39 - loss: 0.4180 - acc: 0.801 - ETA: 1:39 - loss: 0.4182 - acc: 0.801 - ETA: 1:39 - loss: 0.4183 - acc: 0.801 - ETA: 1:38 - loss: 0.4183 - acc: 0.801 - ETA: 1:38 - loss: 0.4183 - acc: 0.801 - ETA: 1:38 - loss: 0.4182 - acc: 0.801 - ETA: 1:38 - loss: 0.4183 - acc: 0.801 - ETA: 1:38 - loss: 0.4183 - acc: 0.801 - ETA: 1:38 - loss: 0.4183 - acc: 0.801 - ETA: 1:38 - loss: 0.4184 - acc: 0.801 - ETA: 1:38 - loss: 0.4183 - acc: 0.801 - ETA: 1:38 - loss: 0.4183 - acc: 0.801 - ETA: 1:38 - loss: 0.4182 - acc: 0.801 - ETA: 1:38 - loss: 0.4181 - acc: 0.801 - ETA: 1:38 - loss: 0.4181 - acc: 0.801 - ETA: 1:37 - loss: 0.4181 - acc: 0.801 - ETA: 1:37 - loss: 0.4182 - acc: 0.801 - ETA: 1:37 - loss: 0.4183 - acc: 0.801 - ETA: 1:37 - loss: 0.4186 - acc: 0.801 - ETA: 1:37 - loss: 0.4187 - acc: 0.801 - ETA: 1:37 - loss: 0.4186 - acc: 0.801 - ETA: 1:37 - loss: 0.4185 - acc: 0.801 - ETA: 1:37 - loss: 0.4185 - acc: 0.801 - ETA: 1:37 - loss: 0.4186 - acc: 0.801 - ETA: 1:37 - loss: 0.4187 - acc: 0.801 - ETA: 1:37 - loss: 0.4186 - acc: 0.801 - ETA: 1:36 - loss: 0.4187 - acc: 0.801 - ETA: 1:36 - loss: 0.4189 - acc: 0.801 - ETA: 1:36 - loss: 0.4190 - acc: 0.801 - ETA: 1:36 - loss: 0.4191 - acc: 0.801 - ETA: 1:36 - loss: 0.4192 - acc: 0.801 - ETA: 1:36 - loss: 0.4193 - acc: 0.800 - ETA: 1:36 - loss: 0.4192 - acc: 0.800 - ETA: 1:36 - loss: 0.4194 - acc: 0.800 - ETA: 1:36 - loss: 0.4194 - acc: 0.800 - ETA: 1:36 - loss: 0.4192 - acc: 0.800 - ETA: 1:36 - loss: 0.4190 - acc: 0.801 - ETA: 1:36 - loss: 0.4191 - acc: 0.800 - ETA: 1:35 - loss: 0.4191 - acc: 0.800 - ETA: 1:35 - loss: 0.4190 - acc: 0.800 - ETA: 1:35 - loss: 0.4188 - acc: 0.800 - ETA: 1:35 - loss: 0.4188 - acc: 0.800 - ETA: 1:35 - loss: 0.4187 - acc: 0.800 - ETA: 1:35 - loss: 0.4187 - acc: 0.801 - ETA: 1:35 - loss: 0.4187 - acc: 0.801 - ETA: 1:35 - loss: 0.4188 - acc: 0.801 - ETA: 1:35 - loss: 0.4188 - acc: 0.800 - ETA: 1:35 - loss: 0.4188 - acc: 0.800 - ETA: 1:35 - loss: 0.4187 - acc: 0.801 - ETA: 1:35 - loss: 0.4189 - acc: 0.800 - ETA: 1:34 - loss: 0.4187 - acc: 0.800 - ETA: 1:34 - loss: 0.4189 - acc: 0.800 - ETA: 1:34 - loss: 0.4189 - acc: 0.800 - ETA: 1:34 - loss: 0.4188 - acc: 0.801 - ETA: 1:34 - loss: 0.4189 - acc: 0.800 - ETA: 1:34 - loss: 0.4187 - acc: 0.801 - ETA: 1:34 - loss: 0.4188 - acc: 0.801 - ETA: 1:34 - loss: 0.4190 - acc: 0.801 - ETA: 1:34 - loss: 0.4189 - acc: 0.801 - ETA: 1:34 - loss: 0.4189 - acc: 0.801 - ETA: 1:34 - loss: 0.4187 - acc: 0.801 - ETA: 1:34 - loss: 0.4190 - acc: 0.801 - ETA: 1:34 - loss: 0.4191 - acc: 0.801 - ETA: 1:33 - loss: 0.4190 - acc: 0.801 - ETA: 1:33 - loss: 0.4190 - acc: 0.801 - ETA: 1:33 - loss: 0.4189 - acc: 0.801 - ETA: 1:33 - loss: 0.4188 - acc: 0.801 - ETA: 1:33 - loss: 0.4189 - acc: 0.801 - ETA: 1:33 - loss: 0.4189 - acc: 0.801 - ETA: 1:33 - loss: 0.4187 - acc: 0.801 - ETA: 1:33 - loss: 0.4186 - acc: 0.801 - ETA: 1:33 - loss: 0.4187 - acc: 0.801 - ETA: 1:33 - loss: 0.4186 - acc: 0.801 - ETA: 1:33 - loss: 0.4186 - acc: 0.801 - ETA: 1:33 - loss: 0.4184 - acc: 0.801 - ETA: 1:33 - loss: 0.4184 - acc: 0.801 - ETA: 1:32 - loss: 0.4183 - acc: 0.801 - ETA: 1:32 - loss: 0.4184 - acc: 0.801 - ETA: 1:32 - loss: 0.4183 - acc: 0.801 - ETA: 1:32 - loss: 0.4181 - acc: 0.801 - ETA: 1:32 - loss: 0.4181 - acc: 0.801 - ETA: 1:32 - loss: 0.4181 - acc: 0.801 - ETA: 1:32 - loss: 0.4182 - acc: 0.801 - ETA: 1:32 - loss: 0.4182 - acc: 0.801 - ETA: 1:32 - loss: 0.4181 - acc: 0.801 - ETA: 1:32 - loss: 0.4182 - acc: 0.801 - ETA: 1:32 - loss: 0.4182 - acc: 0.801 - ETA: 1:32 - loss: 0.4182 - acc: 0.801 - ETA: 1:32 - loss: 0.4183 - acc: 0.801 - ETA: 1:32 - loss: 0.4184 - acc: 0.801 - ETA: 1:31 - loss: 0.4184 - acc: 0.801 - ETA: 1:31 - loss: 0.4184 - acc: 0.801 - ETA: 1:31 - loss: 0.4185 - acc: 0.801 - ETA: 1:31 - loss: 0.4185 - acc: 0.801 - ETA: 1:31 - loss: 0.4186 - acc: 0.801 - ETA: 1:31 - loss: 0.4183 - acc: 0.801 - ETA: 1:31 - loss: 0.4181 - acc: 0.801 - ETA: 1:31 - loss: 0.4184 - acc: 0.801 - ETA: 1:31 - loss: 0.4183 - acc: 0.801 - ETA: 1:31 - loss: 0.4180 - acc: 0.802 - ETA: 1:31 - loss: 0.4179 - acc: 0.802 - ETA: 1:31 - loss: 0.4180 - acc: 0.802 - ETA: 1:30 - loss: 0.4180 - acc: 0.802 - ETA: 1:30 - loss: 0.4182 - acc: 0.802 - ETA: 1:30 - loss: 0.4181 - acc: 0.801 - ETA: 1:30 - loss: 0.4180 - acc: 0.802 - ETA: 1:30 - loss: 0.4178 - acc: 0.802 - ETA: 1:30 - loss: 0.4180 - acc: 0.802 - ETA: 1:30 - loss: 0.4180 - acc: 0.802 - ETA: 1:30 - loss: 0.4182 - acc: 0.801 - ETA: 1:30 - loss: 0.4183 - acc: 0.801 - ETA: 1:30 - loss: 0.4185 - acc: 0.801 - ETA: 1:30 - loss: 0.4184 - acc: 0.801 - ETA: 1:30 - loss: 0.4184 - acc: 0.801 - ETA: 1:30 - loss: 0.4184 - acc: 0.801 - ETA: 1:29 - loss: 0.4185 - acc: 0.801 - ETA: 1:29 - loss: 0.4184 - acc: 0.801 - ETA: 1:29 - loss: 0.4183 - acc: 0.801 - ETA: 1:29 - loss: 0.4181 - acc: 0.802 - ETA: 1:29 - loss: 0.4183 - acc: 0.801 - ETA: 1:29 - loss: 0.4183 - acc: 0.802 - ETA: 1:29 - loss: 0.4187 - acc: 0.801 - ETA: 1:29 - loss: 0.4186 - acc: 0.801 - ETA: 1:29 - loss: 0.4188 - acc: 0.801 - ETA: 1:29 - loss: 0.4188 - acc: 0.802 - ETA: 1:29 - loss: 0.4187 - acc: 0.802 - ETA: 1:29 - loss: 0.4188 - acc: 0.802 - ETA: 1:28 - loss: 0.4191 - acc: 0.801 - ETA: 1:28 - loss: 0.4193 - acc: 0.801 - ETA: 1:28 - loss: 0.4193 - acc: 0.801 - ETA: 1:28 - loss: 0.4193 - acc: 0.801 - ETA: 1:28 - loss: 0.4192 - acc: 0.801 - ETA: 1:28 - loss: 0.4192 - acc: 0.801 - ETA: 1:28 - loss: 0.4193 - acc: 0.801 - ETA: 1:28 - loss: 0.4193 - acc: 0.801 - ETA: 1:28 - loss: 0.4192 - acc: 0.801 - ETA: 1:28 - loss: 0.4192 - acc: 0.801 - ETA: 1:28 - loss: 0.4192 - acc: 0.802 - ETA: 1:28 - loss: 0.4191 - acc: 0.802 - ETA: 1:27 - loss: 0.4192 - acc: 0.802 - ETA: 1:27 - loss: 0.4191 - acc: 0.802 - ETA: 1:27 - loss: 0.4191 - acc: 0.802 - ETA: 1:27 - loss: 0.4193 - acc: 0.802 - ETA: 1:27 - loss: 0.4193 - acc: 0.802 - ETA: 1:27 - loss: 0.4192 - acc: 0.802 - ETA: 1:27 - loss: 0.4192 - acc: 0.802 - ETA: 1:27 - loss: 0.4193 - acc: 0.802 - ETA: 1:27 - loss: 0.4192 - acc: 0.802 - ETA: 1:27 - loss: 0.4191 - acc: 0.802 - ETA: 1:27 - loss: 0.4191 - acc: 0.802 - ETA: 1:27 - loss: 0.4189 - acc: 0.802 - ETA: 1:27 - loss: 0.4188 - acc: 0.802 - ETA: 1:26 - loss: 0.4188 - acc: 0.802 - ETA: 1:26 - loss: 0.4190 - acc: 0.802 - ETA: 1:26 - loss: 0.4189 - acc: 0.802 - ETA: 1:26 - loss: 0.4188 - acc: 0.8023"
     ]
    },
    {
     "name": "stdout",
     "output_type": "stream",
     "text": [
      "1597/3392 [=============>................] - ETA: 1:26 - loss: 0.4186 - acc: 0.802 - ETA: 1:26 - loss: 0.4186 - acc: 0.802 - ETA: 1:26 - loss: 0.4186 - acc: 0.802 - ETA: 1:26 - loss: 0.4187 - acc: 0.802 - ETA: 1:26 - loss: 0.4186 - acc: 0.802 - ETA: 1:26 - loss: 0.4184 - acc: 0.802 - ETA: 1:26 - loss: 0.4185 - acc: 0.802 - ETA: 1:26 - loss: 0.4183 - acc: 0.802 - ETA: 1:25 - loss: 0.4182 - acc: 0.802 - ETA: 1:25 - loss: 0.4184 - acc: 0.802 - ETA: 1:25 - loss: 0.4184 - acc: 0.802 - ETA: 1:25 - loss: 0.4182 - acc: 0.802 - ETA: 1:25 - loss: 0.4185 - acc: 0.802 - ETA: 1:25 - loss: 0.4184 - acc: 0.802 - ETA: 1:25 - loss: 0.4184 - acc: 0.802 - ETA: 1:25 - loss: 0.4183 - acc: 0.802 - ETA: 1:25 - loss: 0.4185 - acc: 0.802 - ETA: 1:25 - loss: 0.4186 - acc: 0.802 - ETA: 1:25 - loss: 0.4187 - acc: 0.802 - ETA: 1:25 - loss: 0.4185 - acc: 0.802 - ETA: 1:24 - loss: 0.4185 - acc: 0.802 - ETA: 1:24 - loss: 0.4185 - acc: 0.802 - ETA: 1:24 - loss: 0.4186 - acc: 0.802 - ETA: 1:24 - loss: 0.4186 - acc: 0.802 - ETA: 1:24 - loss: 0.4186 - acc: 0.802 - ETA: 1:24 - loss: 0.4185 - acc: 0.802 - ETA: 1:24 - loss: 0.4184 - acc: 0.802 - ETA: 1:24 - loss: 0.4184 - acc: 0.802 - ETA: 1:24 - loss: 0.4184 - acc: 0.802 - ETA: 1:24 - loss: 0.4184 - acc: 0.802 - ETA: 1:24 - loss: 0.4183 - acc: 0.802 - ETA: 1:24 - loss: 0.4185 - acc: 0.802 - ETA: 1:24 - loss: 0.4185 - acc: 0.802 - ETA: 1:24 - loss: 0.4184 - acc: 0.802 - ETA: 1:23 - loss: 0.4184 - acc: 0.802 - ETA: 1:23 - loss: 0.4186 - acc: 0.802 - ETA: 1:23 - loss: 0.4187 - acc: 0.802 - ETA: 1:23 - loss: 0.4187 - acc: 0.802 - ETA: 1:23 - loss: 0.4187 - acc: 0.802 - ETA: 1:23 - loss: 0.4187 - acc: 0.802 - ETA: 1:23 - loss: 0.4187 - acc: 0.802 - ETA: 1:23 - loss: 0.4189 - acc: 0.802 - ETA: 1:23 - loss: 0.4189 - acc: 0.802 - ETA: 1:23 - loss: 0.4188 - acc: 0.802 - ETA: 1:23 - loss: 0.4188 - acc: 0.802 - ETA: 1:23 - loss: 0.4189 - acc: 0.802 - ETA: 1:22 - loss: 0.4188 - acc: 0.802 - ETA: 1:22 - loss: 0.4188 - acc: 0.802 - ETA: 1:22 - loss: 0.4188 - acc: 0.802 - ETA: 1:22 - loss: 0.4187 - acc: 0.802 - ETA: 1:22 - loss: 0.4188 - acc: 0.802 - ETA: 1:22 - loss: 0.4190 - acc: 0.802 - ETA: 1:22 - loss: 0.4190 - acc: 0.802 - ETA: 1:22 - loss: 0.4189 - acc: 0.802 - ETA: 1:22 - loss: 0.4190 - acc: 0.802 - ETA: 1:22 - loss: 0.4190 - acc: 0.802 - ETA: 1:22 - loss: 0.4190 - acc: 0.802 - ETA: 1:22 - loss: 0.4190 - acc: 0.802 - ETA: 1:22 - loss: 0.4190 - acc: 0.802 - ETA: 1:22 - loss: 0.4190 - acc: 0.802 - ETA: 1:21 - loss: 0.4193 - acc: 0.802 - ETA: 1:21 - loss: 0.4192 - acc: 0.802 - ETA: 1:21 - loss: 0.4193 - acc: 0.802 - ETA: 1:21 - loss: 0.4193 - acc: 0.802 - ETA: 1:21 - loss: 0.4194 - acc: 0.801 - ETA: 1:21 - loss: 0.4195 - acc: 0.801 - ETA: 1:21 - loss: 0.4196 - acc: 0.801 - ETA: 1:21 - loss: 0.4199 - acc: 0.801 - ETA: 1:21 - loss: 0.4199 - acc: 0.801 - ETA: 1:21 - loss: 0.4201 - acc: 0.801 - ETA: 1:21 - loss: 0.4201 - acc: 0.801 - ETA: 1:21 - loss: 0.4200 - acc: 0.801 - ETA: 1:20 - loss: 0.4201 - acc: 0.801 - ETA: 1:20 - loss: 0.4201 - acc: 0.801 - ETA: 1:20 - loss: 0.4202 - acc: 0.801 - ETA: 1:20 - loss: 0.4204 - acc: 0.801 - ETA: 1:20 - loss: 0.4207 - acc: 0.801 - ETA: 1:20 - loss: 0.4206 - acc: 0.801 - ETA: 1:20 - loss: 0.4207 - acc: 0.801 - ETA: 1:20 - loss: 0.4207 - acc: 0.801 - ETA: 1:20 - loss: 0.4206 - acc: 0.801 - ETA: 1:20 - loss: 0.4206 - acc: 0.801 - ETA: 1:20 - loss: 0.4208 - acc: 0.801 - ETA: 1:20 - loss: 0.4209 - acc: 0.801 - ETA: 1:20 - loss: 0.4208 - acc: 0.801 - ETA: 1:20 - loss: 0.4207 - acc: 0.801 - ETA: 1:19 - loss: 0.4207 - acc: 0.801 - ETA: 1:19 - loss: 0.4206 - acc: 0.801 - ETA: 1:19 - loss: 0.4206 - acc: 0.801 - ETA: 1:19 - loss: 0.4206 - acc: 0.801 - ETA: 1:19 - loss: 0.4207 - acc: 0.801 - ETA: 1:19 - loss: 0.4207 - acc: 0.801 - ETA: 1:19 - loss: 0.4206 - acc: 0.801 - ETA: 1:19 - loss: 0.4204 - acc: 0.801 - ETA: 1:19 - loss: 0.4205 - acc: 0.801 - ETA: 1:19 - loss: 0.4204 - acc: 0.801 - ETA: 1:19 - loss: 0.4206 - acc: 0.801 - ETA: 1:19 - loss: 0.4207 - acc: 0.801 - ETA: 1:18 - loss: 0.4207 - acc: 0.801 - ETA: 1:18 - loss: 0.4207 - acc: 0.801 - ETA: 1:18 - loss: 0.4206 - acc: 0.801 - ETA: 1:18 - loss: 0.4207 - acc: 0.801 - ETA: 1:18 - loss: 0.4207 - acc: 0.801 - ETA: 1:18 - loss: 0.4209 - acc: 0.801 - ETA: 1:18 - loss: 0.4209 - acc: 0.801 - ETA: 1:18 - loss: 0.4210 - acc: 0.801 - ETA: 1:18 - loss: 0.4210 - acc: 0.801 - ETA: 1:18 - loss: 0.4210 - acc: 0.801 - ETA: 1:18 - loss: 0.4209 - acc: 0.801 - ETA: 1:18 - loss: 0.4209 - acc: 0.801 - ETA: 1:18 - loss: 0.4208 - acc: 0.801 - ETA: 1:17 - loss: 0.4208 - acc: 0.801 - ETA: 1:17 - loss: 0.4207 - acc: 0.801 - ETA: 1:17 - loss: 0.4206 - acc: 0.801 - ETA: 1:17 - loss: 0.4206 - acc: 0.801 - ETA: 1:17 - loss: 0.4205 - acc: 0.801 - ETA: 1:17 - loss: 0.4206 - acc: 0.801 - ETA: 1:17 - loss: 0.4205 - acc: 0.801 - ETA: 1:17 - loss: 0.4209 - acc: 0.801 - ETA: 1:17 - loss: 0.4209 - acc: 0.801 - ETA: 1:17 - loss: 0.4211 - acc: 0.801 - ETA: 1:17 - loss: 0.4210 - acc: 0.801 - ETA: 1:17 - loss: 0.4210 - acc: 0.801 - ETA: 1:17 - loss: 0.4211 - acc: 0.801 - ETA: 1:16 - loss: 0.4212 - acc: 0.801 - ETA: 1:16 - loss: 0.4213 - acc: 0.801 - ETA: 1:16 - loss: 0.4214 - acc: 0.801 - ETA: 1:16 - loss: 0.4214 - acc: 0.801 - ETA: 1:16 - loss: 0.4215 - acc: 0.801 - ETA: 1:16 - loss: 0.4216 - acc: 0.801 - ETA: 1:16 - loss: 0.4214 - acc: 0.801 - ETA: 1:16 - loss: 0.4215 - acc: 0.801 - ETA: 1:16 - loss: 0.4217 - acc: 0.801 - ETA: 1:16 - loss: 0.4217 - acc: 0.801 - ETA: 1:16 - loss: 0.4219 - acc: 0.800 - ETA: 1:16 - loss: 0.4220 - acc: 0.800 - ETA: 1:15 - loss: 0.4221 - acc: 0.800 - ETA: 1:15 - loss: 0.4221 - acc: 0.800 - ETA: 1:15 - loss: 0.4222 - acc: 0.800 - ETA: 1:15 - loss: 0.4221 - acc: 0.800 - ETA: 1:15 - loss: 0.4221 - acc: 0.800 - ETA: 1:15 - loss: 0.4222 - acc: 0.800 - ETA: 1:15 - loss: 0.4221 - acc: 0.800 - ETA: 1:15 - loss: 0.4223 - acc: 0.800 - ETA: 1:15 - loss: 0.4221 - acc: 0.800 - ETA: 1:15 - loss: 0.4221 - acc: 0.800 - ETA: 1:15 - loss: 0.4220 - acc: 0.800 - ETA: 1:15 - loss: 0.4221 - acc: 0.800 - ETA: 1:15 - loss: 0.4221 - acc: 0.800 - ETA: 1:15 - loss: 0.4221 - acc: 0.800 - ETA: 1:14 - loss: 0.4220 - acc: 0.800 - ETA: 1:14 - loss: 0.4219 - acc: 0.800 - ETA: 1:14 - loss: 0.4220 - acc: 0.800 - ETA: 1:14 - loss: 0.4219 - acc: 0.801 - ETA: 1:14 - loss: 0.4218 - acc: 0.801 - ETA: 1:14 - loss: 0.4218 - acc: 0.801 - ETA: 1:14 - loss: 0.4217 - acc: 0.801 - ETA: 1:14 - loss: 0.4216 - acc: 0.801 - ETA: 1:14 - loss: 0.4216 - acc: 0.801 - ETA: 1:14 - loss: 0.4216 - acc: 0.801 - ETA: 1:14 - loss: 0.4214 - acc: 0.801 - ETA: 1:14 - loss: 0.4213 - acc: 0.801 - ETA: 1:13 - loss: 0.4214 - acc: 0.801 - ETA: 1:13 - loss: 0.4214 - acc: 0.801 - ETA: 1:13 - loss: 0.4214 - acc: 0.801 - ETA: 1:13 - loss: 0.4214 - acc: 0.801 - ETA: 1:13 - loss: 0.4213 - acc: 0.801 - ETA: 1:13 - loss: 0.4214 - acc: 0.801 - ETA: 1:13 - loss: 0.4214 - acc: 0.801 - ETA: 1:13 - loss: 0.4214 - acc: 0.801 - ETA: 1:13 - loss: 0.4215 - acc: 0.801 - ETA: 1:13 - loss: 0.4214 - acc: 0.801 - ETA: 1:13 - loss: 0.4213 - acc: 0.801 - ETA: 1:13 - loss: 0.4214 - acc: 0.801 - ETA: 1:12 - loss: 0.4214 - acc: 0.801 - ETA: 1:12 - loss: 0.4213 - acc: 0.801 - ETA: 1:12 - loss: 0.4212 - acc: 0.801 - ETA: 1:12 - loss: 0.4212 - acc: 0.801 - ETA: 1:12 - loss: 0.4212 - acc: 0.801 - ETA: 1:12 - loss: 0.4212 - acc: 0.801 - ETA: 1:12 - loss: 0.4212 - acc: 0.801 - ETA: 1:12 - loss: 0.4212 - acc: 0.801 - ETA: 1:12 - loss: 0.4212 - acc: 0.801 - ETA: 1:12 - loss: 0.4213 - acc: 0.801 - ETA: 1:12 - loss: 0.4213 - acc: 0.801 - ETA: 1:12 - loss: 0.4212 - acc: 0.801 - ETA: 1:12 - loss: 0.4211 - acc: 0.801 - ETA: 1:11 - loss: 0.4210 - acc: 0.801 - ETA: 1:11 - loss: 0.4212 - acc: 0.801 - ETA: 1:11 - loss: 0.4211 - acc: 0.801 - ETA: 1:11 - loss: 0.4213 - acc: 0.801 - ETA: 1:11 - loss: 0.4212 - acc: 0.801 - ETA: 1:11 - loss: 0.4214 - acc: 0.801 - ETA: 1:11 - loss: 0.4213 - acc: 0.801 - ETA: 1:11 - loss: 0.4213 - acc: 0.801 - ETA: 1:11 - loss: 0.4213 - acc: 0.801 - ETA: 1:11 - loss: 0.4214 - acc: 0.801 - ETA: 1:11 - loss: 0.4215 - acc: 0.801 - ETA: 1:11 - loss: 0.4215 - acc: 0.801 - ETA: 1:10 - loss: 0.4215 - acc: 0.801 - ETA: 1:10 - loss: 0.4216 - acc: 0.801 - ETA: 1:10 - loss: 0.4216 - acc: 0.801 - ETA: 1:10 - loss: 0.4216 - acc: 0.801 - ETA: 1:10 - loss: 0.4216 - acc: 0.8014"
     ]
    },
    {
     "name": "stdout",
     "output_type": "stream",
     "text": [
      "2003/3392 [================>.............] - ETA: 1:10 - loss: 0.4215 - acc: 0.801 - ETA: 1:10 - loss: 0.4214 - acc: 0.801 - ETA: 1:10 - loss: 0.4214 - acc: 0.801 - ETA: 1:10 - loss: 0.4214 - acc: 0.801 - ETA: 1:10 - loss: 0.4214 - acc: 0.801 - ETA: 1:10 - loss: 0.4217 - acc: 0.801 - ETA: 1:10 - loss: 0.4217 - acc: 0.801 - ETA: 1:10 - loss: 0.4217 - acc: 0.801 - ETA: 1:09 - loss: 0.4215 - acc: 0.801 - ETA: 1:09 - loss: 0.4214 - acc: 0.801 - ETA: 1:09 - loss: 0.4215 - acc: 0.801 - ETA: 1:09 - loss: 0.4215 - acc: 0.801 - ETA: 1:09 - loss: 0.4216 - acc: 0.801 - ETA: 1:09 - loss: 0.4215 - acc: 0.801 - ETA: 1:09 - loss: 0.4215 - acc: 0.801 - ETA: 1:09 - loss: 0.4215 - acc: 0.801 - ETA: 1:09 - loss: 0.4215 - acc: 0.801 - ETA: 1:09 - loss: 0.4217 - acc: 0.801 - ETA: 1:09 - loss: 0.4218 - acc: 0.801 - ETA: 1:09 - loss: 0.4218 - acc: 0.801 - ETA: 1:09 - loss: 0.4219 - acc: 0.801 - ETA: 1:08 - loss: 0.4220 - acc: 0.801 - ETA: 1:08 - loss: 0.4222 - acc: 0.801 - ETA: 1:08 - loss: 0.4221 - acc: 0.801 - ETA: 1:08 - loss: 0.4223 - acc: 0.801 - ETA: 1:08 - loss: 0.4223 - acc: 0.801 - ETA: 1:08 - loss: 0.4223 - acc: 0.801 - ETA: 1:08 - loss: 0.4223 - acc: 0.801 - ETA: 1:08 - loss: 0.4223 - acc: 0.801 - ETA: 1:08 - loss: 0.4223 - acc: 0.801 - ETA: 1:08 - loss: 0.4222 - acc: 0.801 - ETA: 1:08 - loss: 0.4222 - acc: 0.801 - ETA: 1:08 - loss: 0.4222 - acc: 0.801 - ETA: 1:07 - loss: 0.4222 - acc: 0.801 - ETA: 1:07 - loss: 0.4221 - acc: 0.801 - ETA: 1:07 - loss: 0.4221 - acc: 0.801 - ETA: 1:07 - loss: 0.4219 - acc: 0.801 - ETA: 1:07 - loss: 0.4219 - acc: 0.801 - ETA: 1:07 - loss: 0.4219 - acc: 0.801 - ETA: 1:07 - loss: 0.4218 - acc: 0.801 - ETA: 1:07 - loss: 0.4218 - acc: 0.801 - ETA: 1:07 - loss: 0.4218 - acc: 0.801 - ETA: 1:07 - loss: 0.4219 - acc: 0.801 - ETA: 1:07 - loss: 0.4220 - acc: 0.801 - ETA: 1:07 - loss: 0.4220 - acc: 0.801 - ETA: 1:07 - loss: 0.4220 - acc: 0.801 - ETA: 1:06 - loss: 0.4220 - acc: 0.801 - ETA: 1:06 - loss: 0.4220 - acc: 0.801 - ETA: 1:06 - loss: 0.4220 - acc: 0.801 - ETA: 1:06 - loss: 0.4220 - acc: 0.801 - ETA: 1:06 - loss: 0.4220 - acc: 0.801 - ETA: 1:06 - loss: 0.4220 - acc: 0.801 - ETA: 1:06 - loss: 0.4219 - acc: 0.801 - ETA: 1:06 - loss: 0.4218 - acc: 0.801 - ETA: 1:06 - loss: 0.4221 - acc: 0.801 - ETA: 1:06 - loss: 0.4222 - acc: 0.801 - ETA: 1:06 - loss: 0.4222 - acc: 0.801 - ETA: 1:06 - loss: 0.4222 - acc: 0.801 - ETA: 1:05 - loss: 0.4222 - acc: 0.801 - ETA: 1:05 - loss: 0.4223 - acc: 0.801 - ETA: 1:05 - loss: 0.4222 - acc: 0.801 - ETA: 1:05 - loss: 0.4222 - acc: 0.801 - ETA: 1:05 - loss: 0.4223 - acc: 0.801 - ETA: 1:05 - loss: 0.4222 - acc: 0.801 - ETA: 1:05 - loss: 0.4222 - acc: 0.801 - ETA: 1:05 - loss: 0.4221 - acc: 0.801 - ETA: 1:05 - loss: 0.4221 - acc: 0.801 - ETA: 1:05 - loss: 0.4222 - acc: 0.801 - ETA: 1:05 - loss: 0.4221 - acc: 0.801 - ETA: 1:05 - loss: 0.4221 - acc: 0.801 - ETA: 1:05 - loss: 0.4221 - acc: 0.801 - ETA: 1:04 - loss: 0.4221 - acc: 0.801 - ETA: 1:04 - loss: 0.4221 - acc: 0.801 - ETA: 1:04 - loss: 0.4222 - acc: 0.801 - ETA: 1:04 - loss: 0.4222 - acc: 0.801 - ETA: 1:04 - loss: 0.4224 - acc: 0.801 - ETA: 1:04 - loss: 0.4223 - acc: 0.801 - ETA: 1:04 - loss: 0.4223 - acc: 0.801 - ETA: 1:04 - loss: 0.4224 - acc: 0.801 - ETA: 1:04 - loss: 0.4224 - acc: 0.801 - ETA: 1:04 - loss: 0.4223 - acc: 0.801 - ETA: 1:04 - loss: 0.4222 - acc: 0.801 - ETA: 1:04 - loss: 0.4222 - acc: 0.801 - ETA: 1:04 - loss: 0.4222 - acc: 0.801 - ETA: 1:03 - loss: 0.4222 - acc: 0.801 - ETA: 1:03 - loss: 0.4221 - acc: 0.801 - ETA: 1:03 - loss: 0.4220 - acc: 0.801 - ETA: 1:03 - loss: 0.4221 - acc: 0.801 - ETA: 1:03 - loss: 0.4221 - acc: 0.801 - ETA: 1:03 - loss: 0.4222 - acc: 0.801 - ETA: 1:03 - loss: 0.4221 - acc: 0.801 - ETA: 1:03 - loss: 0.4220 - acc: 0.801 - ETA: 1:03 - loss: 0.4221 - acc: 0.801 - ETA: 1:03 - loss: 0.4220 - acc: 0.801 - ETA: 1:03 - loss: 0.4219 - acc: 0.801 - ETA: 1:03 - loss: 0.4220 - acc: 0.801 - ETA: 1:03 - loss: 0.4222 - acc: 0.801 - ETA: 1:02 - loss: 0.4221 - acc: 0.801 - ETA: 1:02 - loss: 0.4221 - acc: 0.801 - ETA: 1:02 - loss: 0.4221 - acc: 0.801 - ETA: 1:02 - loss: 0.4221 - acc: 0.801 - ETA: 1:02 - loss: 0.4221 - acc: 0.801 - ETA: 1:02 - loss: 0.4222 - acc: 0.801 - ETA: 1:02 - loss: 0.4221 - acc: 0.801 - ETA: 1:02 - loss: 0.4221 - acc: 0.801 - ETA: 1:02 - loss: 0.4222 - acc: 0.801 - ETA: 1:02 - loss: 0.4221 - acc: 0.801 - ETA: 1:02 - loss: 0.4222 - acc: 0.801 - ETA: 1:02 - loss: 0.4223 - acc: 0.800 - ETA: 1:01 - loss: 0.4223 - acc: 0.800 - ETA: 1:01 - loss: 0.4221 - acc: 0.800 - ETA: 1:01 - loss: 0.4220 - acc: 0.801 - ETA: 1:01 - loss: 0.4220 - acc: 0.801 - ETA: 1:01 - loss: 0.4219 - acc: 0.801 - ETA: 1:01 - loss: 0.4219 - acc: 0.801 - ETA: 1:01 - loss: 0.4219 - acc: 0.801 - ETA: 1:01 - loss: 0.4220 - acc: 0.801 - ETA: 1:01 - loss: 0.4221 - acc: 0.800 - ETA: 1:01 - loss: 0.4222 - acc: 0.800 - ETA: 1:01 - loss: 0.4223 - acc: 0.800 - ETA: 1:01 - loss: 0.4222 - acc: 0.800 - ETA: 1:01 - loss: 0.4222 - acc: 0.800 - ETA: 1:00 - loss: 0.4222 - acc: 0.800 - ETA: 1:00 - loss: 0.4222 - acc: 0.800 - ETA: 1:00 - loss: 0.4223 - acc: 0.800 - ETA: 1:00 - loss: 0.4223 - acc: 0.800 - ETA: 1:00 - loss: 0.4223 - acc: 0.800 - ETA: 1:00 - loss: 0.4223 - acc: 0.800 - ETA: 1:00 - loss: 0.4223 - acc: 0.800 - ETA: 1:00 - loss: 0.4223 - acc: 0.800 - ETA: 1:00 - loss: 0.4224 - acc: 0.800 - ETA: 1:00 - loss: 0.4224 - acc: 0.800 - ETA: 1:00 - loss: 0.4225 - acc: 0.800 - ETA: 1:00 - loss: 0.4227 - acc: 0.800 - ETA: 1:00 - loss: 0.4227 - acc: 0.800 - ETA: 1:00 - loss: 0.4227 - acc: 0.800 - ETA: 59s - loss: 0.4228 - acc: 0.800 - ETA: 59s - loss: 0.4228 - acc: 0.80 - ETA: 59s - loss: 0.4227 - acc: 0.80 - ETA: 59s - loss: 0.4228 - acc: 0.80 - ETA: 59s - loss: 0.4228 - acc: 0.80 - ETA: 59s - loss: 0.4228 - acc: 0.80 - ETA: 59s - loss: 0.4228 - acc: 0.80 - ETA: 59s - loss: 0.4228 - acc: 0.80 - ETA: 59s - loss: 0.4228 - acc: 0.80 - ETA: 59s - loss: 0.4228 - acc: 0.80 - ETA: 59s - loss: 0.4230 - acc: 0.80 - ETA: 59s - loss: 0.4230 - acc: 0.80 - ETA: 58s - loss: 0.4229 - acc: 0.80 - ETA: 58s - loss: 0.4229 - acc: 0.80 - ETA: 58s - loss: 0.4229 - acc: 0.80 - ETA: 58s - loss: 0.4229 - acc: 0.80 - ETA: 58s - loss: 0.4229 - acc: 0.80 - ETA: 58s - loss: 0.4229 - acc: 0.80 - ETA: 58s - loss: 0.4229 - acc: 0.80 - ETA: 58s - loss: 0.4229 - acc: 0.80 - ETA: 58s - loss: 0.4229 - acc: 0.80 - ETA: 58s - loss: 0.4229 - acc: 0.80 - ETA: 58s - loss: 0.4230 - acc: 0.80 - ETA: 58s - loss: 0.4230 - acc: 0.80 - ETA: 58s - loss: 0.4230 - acc: 0.80 - ETA: 58s - loss: 0.4230 - acc: 0.80 - ETA: 57s - loss: 0.4230 - acc: 0.80 - ETA: 57s - loss: 0.4231 - acc: 0.80 - ETA: 57s - loss: 0.4232 - acc: 0.80 - ETA: 57s - loss: 0.4232 - acc: 0.80 - ETA: 57s - loss: 0.4232 - acc: 0.80 - ETA: 57s - loss: 0.4232 - acc: 0.80 - ETA: 57s - loss: 0.4232 - acc: 0.80 - ETA: 57s - loss: 0.4233 - acc: 0.80 - ETA: 57s - loss: 0.4233 - acc: 0.80 - ETA: 57s - loss: 0.4233 - acc: 0.80 - ETA: 57s - loss: 0.4233 - acc: 0.80 - ETA: 57s - loss: 0.4233 - acc: 0.80 - ETA: 56s - loss: 0.4234 - acc: 0.80 - ETA: 56s - loss: 0.4234 - acc: 0.80 - ETA: 56s - loss: 0.4235 - acc: 0.80 - ETA: 56s - loss: 0.4235 - acc: 0.80 - ETA: 56s - loss: 0.4234 - acc: 0.80 - ETA: 56s - loss: 0.4235 - acc: 0.80 - ETA: 56s - loss: 0.4236 - acc: 0.80 - ETA: 56s - loss: 0.4237 - acc: 0.80 - ETA: 56s - loss: 0.4237 - acc: 0.80 - ETA: 56s - loss: 0.4237 - acc: 0.80 - ETA: 56s - loss: 0.4237 - acc: 0.80 - ETA: 56s - loss: 0.4238 - acc: 0.79 - ETA: 56s - loss: 0.4239 - acc: 0.79 - ETA: 55s - loss: 0.4239 - acc: 0.79 - ETA: 55s - loss: 0.4239 - acc: 0.79 - ETA: 55s - loss: 0.4238 - acc: 0.79 - ETA: 55s - loss: 0.4238 - acc: 0.79 - ETA: 55s - loss: 0.4238 - acc: 0.79 - ETA: 55s - loss: 0.4238 - acc: 0.79 - ETA: 55s - loss: 0.4239 - acc: 0.79 - ETA: 55s - loss: 0.4239 - acc: 0.79 - ETA: 55s - loss: 0.4239 - acc: 0.79 - ETA: 55s - loss: 0.4239 - acc: 0.79 - ETA: 55s - loss: 0.4239 - acc: 0.79 - ETA: 55s - loss: 0.4239 - acc: 0.79 - ETA: 55s - loss: 0.4239 - acc: 0.79 - ETA: 54s - loss: 0.4238 - acc: 0.79 - ETA: 54s - loss: 0.4239 - acc: 0.79 - ETA: 54s - loss: 0.4238 - acc: 0.79 - ETA: 54s - loss: 0.4237 - acc: 0.79 - ETA: 54s - loss: 0.4236 - acc: 0.80 - ETA: 54s - loss: 0.4237 - acc: 0.80 - ETA: 54s - loss: 0.4238 - acc: 0.79 - ETA: 54s - loss: 0.4239 - acc: 0.7998"
     ]
    },
    {
     "name": "stdout",
     "output_type": "stream",
     "text": [
      "2415/3392 [====================>.........] - ETA: 54s - loss: 0.4240 - acc: 0.79 - ETA: 54s - loss: 0.4239 - acc: 0.79 - ETA: 54s - loss: 0.4239 - acc: 0.79 - ETA: 54s - loss: 0.4240 - acc: 0.79 - ETA: 54s - loss: 0.4240 - acc: 0.79 - ETA: 54s - loss: 0.4240 - acc: 0.79 - ETA: 53s - loss: 0.4240 - acc: 0.79 - ETA: 53s - loss: 0.4240 - acc: 0.79 - ETA: 53s - loss: 0.4240 - acc: 0.79 - ETA: 53s - loss: 0.4240 - acc: 0.79 - ETA: 53s - loss: 0.4242 - acc: 0.79 - ETA: 53s - loss: 0.4241 - acc: 0.79 - ETA: 53s - loss: 0.4241 - acc: 0.79 - ETA: 53s - loss: 0.4241 - acc: 0.79 - ETA: 53s - loss: 0.4241 - acc: 0.79 - ETA: 53s - loss: 0.4242 - acc: 0.79 - ETA: 53s - loss: 0.4242 - acc: 0.79 - ETA: 53s - loss: 0.4242 - acc: 0.79 - ETA: 52s - loss: 0.4243 - acc: 0.79 - ETA: 52s - loss: 0.4243 - acc: 0.79 - ETA: 52s - loss: 0.4244 - acc: 0.79 - ETA: 52s - loss: 0.4245 - acc: 0.79 - ETA: 52s - loss: 0.4245 - acc: 0.79 - ETA: 52s - loss: 0.4245 - acc: 0.79 - ETA: 52s - loss: 0.4246 - acc: 0.79 - ETA: 52s - loss: 0.4246 - acc: 0.79 - ETA: 52s - loss: 0.4246 - acc: 0.79 - ETA: 52s - loss: 0.4246 - acc: 0.79 - ETA: 52s - loss: 0.4247 - acc: 0.79 - ETA: 52s - loss: 0.4247 - acc: 0.79 - ETA: 52s - loss: 0.4248 - acc: 0.79 - ETA: 51s - loss: 0.4249 - acc: 0.79 - ETA: 51s - loss: 0.4250 - acc: 0.79 - ETA: 51s - loss: 0.4250 - acc: 0.79 - ETA: 51s - loss: 0.4250 - acc: 0.79 - ETA: 51s - loss: 0.4251 - acc: 0.79 - ETA: 51s - loss: 0.4252 - acc: 0.79 - ETA: 51s - loss: 0.4252 - acc: 0.79 - ETA: 51s - loss: 0.4252 - acc: 0.79 - ETA: 51s - loss: 0.4253 - acc: 0.79 - ETA: 51s - loss: 0.4252 - acc: 0.79 - ETA: 51s - loss: 0.4253 - acc: 0.79 - ETA: 51s - loss: 0.4253 - acc: 0.79 - ETA: 51s - loss: 0.4252 - acc: 0.79 - ETA: 50s - loss: 0.4252 - acc: 0.79 - ETA: 50s - loss: 0.4253 - acc: 0.79 - ETA: 50s - loss: 0.4253 - acc: 0.79 - ETA: 50s - loss: 0.4253 - acc: 0.79 - ETA: 50s - loss: 0.4254 - acc: 0.79 - ETA: 50s - loss: 0.4255 - acc: 0.79 - ETA: 50s - loss: 0.4254 - acc: 0.79 - ETA: 50s - loss: 0.4254 - acc: 0.79 - ETA: 50s - loss: 0.4253 - acc: 0.79 - ETA: 50s - loss: 0.4254 - acc: 0.79 - ETA: 50s - loss: 0.4254 - acc: 0.79 - ETA: 50s - loss: 0.4254 - acc: 0.79 - ETA: 50s - loss: 0.4254 - acc: 0.79 - ETA: 50s - loss: 0.4253 - acc: 0.79 - ETA: 49s - loss: 0.4254 - acc: 0.79 - ETA: 49s - loss: 0.4254 - acc: 0.79 - ETA: 49s - loss: 0.4256 - acc: 0.79 - ETA: 49s - loss: 0.4255 - acc: 0.79 - ETA: 49s - loss: 0.4255 - acc: 0.79 - ETA: 49s - loss: 0.4254 - acc: 0.79 - ETA: 49s - loss: 0.4253 - acc: 0.79 - ETA: 49s - loss: 0.4253 - acc: 0.79 - ETA: 49s - loss: 0.4253 - acc: 0.79 - ETA: 49s - loss: 0.4253 - acc: 0.79 - ETA: 49s - loss: 0.4254 - acc: 0.79 - ETA: 49s - loss: 0.4254 - acc: 0.79 - ETA: 49s - loss: 0.4256 - acc: 0.79 - ETA: 48s - loss: 0.4256 - acc: 0.79 - ETA: 48s - loss: 0.4257 - acc: 0.79 - ETA: 48s - loss: 0.4258 - acc: 0.79 - ETA: 48s - loss: 0.4258 - acc: 0.79 - ETA: 48s - loss: 0.4259 - acc: 0.79 - ETA: 48s - loss: 0.4258 - acc: 0.79 - ETA: 48s - loss: 0.4257 - acc: 0.79 - ETA: 48s - loss: 0.4258 - acc: 0.79 - ETA: 48s - loss: 0.4258 - acc: 0.79 - ETA: 48s - loss: 0.4259 - acc: 0.79 - ETA: 48s - loss: 0.4260 - acc: 0.79 - ETA: 48s - loss: 0.4259 - acc: 0.79 - ETA: 47s - loss: 0.4259 - acc: 0.79 - ETA: 47s - loss: 0.4259 - acc: 0.79 - ETA: 47s - loss: 0.4259 - acc: 0.79 - ETA: 47s - loss: 0.4260 - acc: 0.79 - ETA: 47s - loss: 0.4260 - acc: 0.79 - ETA: 47s - loss: 0.4260 - acc: 0.79 - ETA: 47s - loss: 0.4261 - acc: 0.79 - ETA: 47s - loss: 0.4260 - acc: 0.79 - ETA: 47s - loss: 0.4260 - acc: 0.79 - ETA: 47s - loss: 0.4260 - acc: 0.79 - ETA: 47s - loss: 0.4259 - acc: 0.79 - ETA: 47s - loss: 0.4259 - acc: 0.79 - ETA: 47s - loss: 0.4258 - acc: 0.79 - ETA: 46s - loss: 0.4259 - acc: 0.79 - ETA: 46s - loss: 0.4259 - acc: 0.79 - ETA: 46s - loss: 0.4260 - acc: 0.79 - ETA: 46s - loss: 0.4260 - acc: 0.79 - ETA: 46s - loss: 0.4260 - acc: 0.79 - ETA: 46s - loss: 0.4261 - acc: 0.79 - ETA: 46s - loss: 0.4260 - acc: 0.79 - ETA: 46s - loss: 0.4260 - acc: 0.79 - ETA: 46s - loss: 0.4259 - acc: 0.79 - ETA: 46s - loss: 0.4259 - acc: 0.79 - ETA: 46s - loss: 0.4258 - acc: 0.79 - ETA: 46s - loss: 0.4258 - acc: 0.79 - ETA: 46s - loss: 0.4258 - acc: 0.79 - ETA: 45s - loss: 0.4260 - acc: 0.79 - ETA: 45s - loss: 0.4260 - acc: 0.79 - ETA: 45s - loss: 0.4259 - acc: 0.79 - ETA: 45s - loss: 0.4259 - acc: 0.79 - ETA: 45s - loss: 0.4260 - acc: 0.79 - ETA: 45s - loss: 0.4259 - acc: 0.79 - ETA: 45s - loss: 0.4259 - acc: 0.79 - ETA: 45s - loss: 0.4259 - acc: 0.79 - ETA: 45s - loss: 0.4259 - acc: 0.79 - ETA: 45s - loss: 0.4260 - acc: 0.79 - ETA: 45s - loss: 0.4260 - acc: 0.79 - ETA: 45s - loss: 0.4261 - acc: 0.79 - ETA: 45s - loss: 0.4261 - acc: 0.79 - ETA: 45s - loss: 0.4260 - acc: 0.79 - ETA: 45s - loss: 0.4261 - acc: 0.79 - ETA: 45s - loss: 0.4262 - acc: 0.79 - ETA: 45s - loss: 0.4261 - acc: 0.79 - ETA: 45s - loss: 0.4261 - acc: 0.79 - ETA: 45s - loss: 0.4260 - acc: 0.79 - ETA: 45s - loss: 0.4261 - acc: 0.79 - ETA: 44s - loss: 0.4261 - acc: 0.79 - ETA: 44s - loss: 0.4261 - acc: 0.79 - ETA: 44s - loss: 0.4261 - acc: 0.79 - ETA: 44s - loss: 0.4261 - acc: 0.79 - ETA: 44s - loss: 0.4261 - acc: 0.79 - ETA: 44s - loss: 0.4261 - acc: 0.79 - ETA: 44s - loss: 0.4260 - acc: 0.79 - ETA: 44s - loss: 0.4261 - acc: 0.79 - ETA: 44s - loss: 0.4261 - acc: 0.79 - ETA: 44s - loss: 0.4261 - acc: 0.79 - ETA: 44s - loss: 0.4261 - acc: 0.79 - ETA: 44s - loss: 0.4261 - acc: 0.79 - ETA: 44s - loss: 0.4263 - acc: 0.79 - ETA: 43s - loss: 0.4263 - acc: 0.79 - ETA: 43s - loss: 0.4263 - acc: 0.79 - ETA: 43s - loss: 0.4263 - acc: 0.79 - ETA: 43s - loss: 0.4263 - acc: 0.79 - ETA: 43s - loss: 0.4263 - acc: 0.79 - ETA: 43s - loss: 0.4263 - acc: 0.79 - ETA: 43s - loss: 0.4263 - acc: 0.79 - ETA: 43s - loss: 0.4264 - acc: 0.79 - ETA: 43s - loss: 0.4265 - acc: 0.79 - ETA: 43s - loss: 0.4265 - acc: 0.79 - ETA: 43s - loss: 0.4266 - acc: 0.79 - ETA: 43s - loss: 0.4265 - acc: 0.79 - ETA: 43s - loss: 0.4265 - acc: 0.79 - ETA: 43s - loss: 0.4265 - acc: 0.79 - ETA: 42s - loss: 0.4265 - acc: 0.79 - ETA: 42s - loss: 0.4265 - acc: 0.79 - ETA: 42s - loss: 0.4266 - acc: 0.79 - ETA: 42s - loss: 0.4266 - acc: 0.79 - ETA: 42s - loss: 0.4266 - acc: 0.79 - ETA: 42s - loss: 0.4267 - acc: 0.79 - ETA: 42s - loss: 0.4266 - acc: 0.79 - ETA: 42s - loss: 0.4267 - acc: 0.79 - ETA: 42s - loss: 0.4267 - acc: 0.79 - ETA: 42s - loss: 0.4267 - acc: 0.79 - ETA: 42s - loss: 0.4269 - acc: 0.79 - ETA: 42s - loss: 0.4269 - acc: 0.79 - ETA: 42s - loss: 0.4270 - acc: 0.79 - ETA: 41s - loss: 0.4270 - acc: 0.79 - ETA: 41s - loss: 0.4270 - acc: 0.79 - ETA: 41s - loss: 0.4271 - acc: 0.79 - ETA: 41s - loss: 0.4270 - acc: 0.79 - ETA: 41s - loss: 0.4271 - acc: 0.79 - ETA: 41s - loss: 0.4271 - acc: 0.79 - ETA: 41s - loss: 0.4271 - acc: 0.79 - ETA: 41s - loss: 0.4272 - acc: 0.79 - ETA: 41s - loss: 0.4273 - acc: 0.79 - ETA: 41s - loss: 0.4273 - acc: 0.79 - ETA: 41s - loss: 0.4273 - acc: 0.79 - ETA: 41s - loss: 0.4273 - acc: 0.79 - ETA: 41s - loss: 0.4273 - acc: 0.79 - ETA: 40s - loss: 0.4274 - acc: 0.79 - ETA: 40s - loss: 0.4274 - acc: 0.79 - ETA: 40s - loss: 0.4274 - acc: 0.79 - ETA: 40s - loss: 0.4274 - acc: 0.79 - ETA: 40s - loss: 0.4274 - acc: 0.79 - ETA: 40s - loss: 0.4274 - acc: 0.79 - ETA: 40s - loss: 0.4273 - acc: 0.79 - ETA: 40s - loss: 0.4273 - acc: 0.79 - ETA: 40s - loss: 0.4275 - acc: 0.79 - ETA: 40s - loss: 0.4276 - acc: 0.79 - ETA: 40s - loss: 0.4276 - acc: 0.79 - ETA: 40s - loss: 0.4276 - acc: 0.79 - ETA: 39s - loss: 0.4276 - acc: 0.79 - ETA: 39s - loss: 0.4276 - acc: 0.79 - ETA: 39s - loss: 0.4277 - acc: 0.79 - ETA: 39s - loss: 0.4277 - acc: 0.79 - ETA: 39s - loss: 0.4277 - acc: 0.79 - ETA: 39s - loss: 0.4276 - acc: 0.79 - ETA: 39s - loss: 0.4277 - acc: 0.79 - ETA: 39s - loss: 0.4277 - acc: 0.79 - ETA: 39s - loss: 0.4278 - acc: 0.79 - ETA: 39s - loss: 0.4277 - acc: 0.79 - ETA: 39s - loss: 0.4276 - acc: 0.79 - ETA: 39s - loss: 0.4276 - acc: 0.79 - ETA: 39s - loss: 0.4276 - acc: 0.79 - ETA: 39s - loss: 0.4276 - acc: 0.79 - ETA: 38s - loss: 0.4275 - acc: 0.79 - ETA: 38s - loss: 0.4276 - acc: 0.79 - ETA: 38s - loss: 0.4275 - acc: 0.79 - ETA: 38s - loss: 0.4275 - acc: 0.79 - ETA: 38s - loss: 0.4275 - acc: 0.79 - ETA: 38s - loss: 0.4275 - acc: 0.79 - ETA: 38s - loss: 0.4275 - acc: 0.7980"
     ]
    },
    {
     "name": "stdout",
     "output_type": "stream",
     "text": [
      "2832/3392 [========================>.....] - ETA: 38s - loss: 0.4275 - acc: 0.79 - ETA: 38s - loss: 0.4274 - acc: 0.79 - ETA: 38s - loss: 0.4273 - acc: 0.79 - ETA: 38s - loss: 0.4273 - acc: 0.79 - ETA: 38s - loss: 0.4273 - acc: 0.79 - ETA: 37s - loss: 0.4273 - acc: 0.79 - ETA: 37s - loss: 0.4274 - acc: 0.79 - ETA: 37s - loss: 0.4274 - acc: 0.79 - ETA: 37s - loss: 0.4275 - acc: 0.79 - ETA: 37s - loss: 0.4274 - acc: 0.79 - ETA: 37s - loss: 0.4275 - acc: 0.79 - ETA: 37s - loss: 0.4276 - acc: 0.79 - ETA: 37s - loss: 0.4276 - acc: 0.79 - ETA: 37s - loss: 0.4275 - acc: 0.79 - ETA: 37s - loss: 0.4275 - acc: 0.79 - ETA: 37s - loss: 0.4274 - acc: 0.79 - ETA: 37s - loss: 0.4274 - acc: 0.79 - ETA: 37s - loss: 0.4275 - acc: 0.79 - ETA: 36s - loss: 0.4275 - acc: 0.79 - ETA: 36s - loss: 0.4276 - acc: 0.79 - ETA: 36s - loss: 0.4276 - acc: 0.79 - ETA: 36s - loss: 0.4276 - acc: 0.79 - ETA: 36s - loss: 0.4277 - acc: 0.79 - ETA: 36s - loss: 0.4277 - acc: 0.79 - ETA: 36s - loss: 0.4277 - acc: 0.79 - ETA: 36s - loss: 0.4276 - acc: 0.79 - ETA: 36s - loss: 0.4276 - acc: 0.79 - ETA: 36s - loss: 0.4276 - acc: 0.79 - ETA: 36s - loss: 0.4276 - acc: 0.79 - ETA: 36s - loss: 0.4277 - acc: 0.79 - ETA: 36s - loss: 0.4278 - acc: 0.79 - ETA: 35s - loss: 0.4278 - acc: 0.79 - ETA: 35s - loss: 0.4277 - acc: 0.79 - ETA: 35s - loss: 0.4278 - acc: 0.79 - ETA: 35s - loss: 0.4279 - acc: 0.79 - ETA: 35s - loss: 0.4279 - acc: 0.79 - ETA: 35s - loss: 0.4279 - acc: 0.79 - ETA: 35s - loss: 0.4279 - acc: 0.79 - ETA: 35s - loss: 0.4280 - acc: 0.79 - ETA: 35s - loss: 0.4280 - acc: 0.79 - ETA: 35s - loss: 0.4280 - acc: 0.79 - ETA: 35s - loss: 0.4280 - acc: 0.79 - ETA: 35s - loss: 0.4280 - acc: 0.79 - ETA: 35s - loss: 0.4279 - acc: 0.79 - ETA: 34s - loss: 0.4280 - acc: 0.79 - ETA: 34s - loss: 0.4281 - acc: 0.79 - ETA: 34s - loss: 0.4282 - acc: 0.79 - ETA: 34s - loss: 0.4282 - acc: 0.79 - ETA: 34s - loss: 0.4281 - acc: 0.79 - ETA: 34s - loss: 0.4282 - acc: 0.79 - ETA: 34s - loss: 0.4282 - acc: 0.79 - ETA: 34s - loss: 0.4282 - acc: 0.79 - ETA: 34s - loss: 0.4282 - acc: 0.79 - ETA: 34s - loss: 0.4282 - acc: 0.79 - ETA: 34s - loss: 0.4282 - acc: 0.79 - ETA: 34s - loss: 0.4282 - acc: 0.79 - ETA: 34s - loss: 0.4282 - acc: 0.79 - ETA: 34s - loss: 0.4283 - acc: 0.79 - ETA: 33s - loss: 0.4282 - acc: 0.79 - ETA: 33s - loss: 0.4283 - acc: 0.79 - ETA: 33s - loss: 0.4283 - acc: 0.79 - ETA: 33s - loss: 0.4283 - acc: 0.79 - ETA: 33s - loss: 0.4282 - acc: 0.79 - ETA: 33s - loss: 0.4282 - acc: 0.79 - ETA: 33s - loss: 0.4283 - acc: 0.79 - ETA: 33s - loss: 0.4283 - acc: 0.79 - ETA: 33s - loss: 0.4283 - acc: 0.79 - ETA: 33s - loss: 0.4282 - acc: 0.79 - ETA: 33s - loss: 0.4282 - acc: 0.79 - ETA: 33s - loss: 0.4282 - acc: 0.79 - ETA: 33s - loss: 0.4283 - acc: 0.79 - ETA: 32s - loss: 0.4281 - acc: 0.79 - ETA: 32s - loss: 0.4282 - acc: 0.79 - ETA: 32s - loss: 0.4282 - acc: 0.79 - ETA: 32s - loss: 0.4282 - acc: 0.79 - ETA: 32s - loss: 0.4282 - acc: 0.79 - ETA: 32s - loss: 0.4282 - acc: 0.79 - ETA: 32s - loss: 0.4282 - acc: 0.79 - ETA: 32s - loss: 0.4283 - acc: 0.79 - ETA: 32s - loss: 0.4283 - acc: 0.79 - ETA: 32s - loss: 0.4283 - acc: 0.79 - ETA: 32s - loss: 0.4282 - acc: 0.79 - ETA: 32s - loss: 0.4283 - acc: 0.79 - ETA: 32s - loss: 0.4284 - acc: 0.79 - ETA: 31s - loss: 0.4284 - acc: 0.79 - ETA: 31s - loss: 0.4285 - acc: 0.79 - ETA: 31s - loss: 0.4286 - acc: 0.79 - ETA: 31s - loss: 0.4286 - acc: 0.79 - ETA: 31s - loss: 0.4287 - acc: 0.79 - ETA: 31s - loss: 0.4287 - acc: 0.79 - ETA: 31s - loss: 0.4288 - acc: 0.79 - ETA: 31s - loss: 0.4287 - acc: 0.79 - ETA: 31s - loss: 0.4287 - acc: 0.79 - ETA: 31s - loss: 0.4287 - acc: 0.79 - ETA: 31s - loss: 0.4287 - acc: 0.79 - ETA: 31s - loss: 0.4288 - acc: 0.79 - ETA: 31s - loss: 0.4287 - acc: 0.79 - ETA: 31s - loss: 0.4287 - acc: 0.79 - ETA: 30s - loss: 0.4288 - acc: 0.79 - ETA: 30s - loss: 0.4287 - acc: 0.79 - ETA: 30s - loss: 0.4287 - acc: 0.79 - ETA: 30s - loss: 0.4287 - acc: 0.79 - ETA: 30s - loss: 0.4288 - acc: 0.79 - ETA: 30s - loss: 0.4289 - acc: 0.79 - ETA: 30s - loss: 0.4289 - acc: 0.79 - ETA: 30s - loss: 0.4289 - acc: 0.79 - ETA: 30s - loss: 0.4289 - acc: 0.79 - ETA: 30s - loss: 0.4289 - acc: 0.79 - ETA: 30s - loss: 0.4290 - acc: 0.79 - ETA: 30s - loss: 0.4290 - acc: 0.79 - ETA: 30s - loss: 0.4290 - acc: 0.79 - ETA: 29s - loss: 0.4291 - acc: 0.79 - ETA: 29s - loss: 0.4290 - acc: 0.79 - ETA: 29s - loss: 0.4291 - acc: 0.79 - ETA: 29s - loss: 0.4291 - acc: 0.79 - ETA: 29s - loss: 0.4291 - acc: 0.79 - ETA: 29s - loss: 0.4291 - acc: 0.79 - ETA: 29s - loss: 0.4291 - acc: 0.79 - ETA: 29s - loss: 0.4291 - acc: 0.79 - ETA: 29s - loss: 0.4291 - acc: 0.79 - ETA: 29s - loss: 0.4292 - acc: 0.79 - ETA: 29s - loss: 0.4293 - acc: 0.79 - ETA: 29s - loss: 0.4294 - acc: 0.79 - ETA: 29s - loss: 0.4295 - acc: 0.79 - ETA: 28s - loss: 0.4294 - acc: 0.79 - ETA: 28s - loss: 0.4294 - acc: 0.79 - ETA: 28s - loss: 0.4294 - acc: 0.79 - ETA: 28s - loss: 0.4293 - acc: 0.79 - ETA: 28s - loss: 0.4294 - acc: 0.79 - ETA: 28s - loss: 0.4294 - acc: 0.79 - ETA: 28s - loss: 0.4294 - acc: 0.79 - ETA: 28s - loss: 0.4294 - acc: 0.79 - ETA: 28s - loss: 0.4294 - acc: 0.79 - ETA: 28s - loss: 0.4294 - acc: 0.79 - ETA: 28s - loss: 0.4294 - acc: 0.79 - ETA: 28s - loss: 0.4293 - acc: 0.79 - ETA: 28s - loss: 0.4293 - acc: 0.79 - ETA: 27s - loss: 0.4294 - acc: 0.79 - ETA: 27s - loss: 0.4295 - acc: 0.79 - ETA: 27s - loss: 0.4295 - acc: 0.79 - ETA: 27s - loss: 0.4295 - acc: 0.79 - ETA: 27s - loss: 0.4296 - acc: 0.79 - ETA: 27s - loss: 0.4296 - acc: 0.79 - ETA: 27s - loss: 0.4296 - acc: 0.79 - ETA: 27s - loss: 0.4297 - acc: 0.79 - ETA: 27s - loss: 0.4297 - acc: 0.79 - ETA: 27s - loss: 0.4296 - acc: 0.79 - ETA: 27s - loss: 0.4296 - acc: 0.79 - ETA: 27s - loss: 0.4296 - acc: 0.79 - ETA: 27s - loss: 0.4296 - acc: 0.79 - ETA: 27s - loss: 0.4295 - acc: 0.79 - ETA: 26s - loss: 0.4295 - acc: 0.79 - ETA: 26s - loss: 0.4295 - acc: 0.79 - ETA: 26s - loss: 0.4296 - acc: 0.79 - ETA: 26s - loss: 0.4295 - acc: 0.79 - ETA: 26s - loss: 0.4296 - acc: 0.79 - ETA: 26s - loss: 0.4296 - acc: 0.79 - ETA: 26s - loss: 0.4297 - acc: 0.79 - ETA: 26s - loss: 0.4297 - acc: 0.79 - ETA: 26s - loss: 0.4296 - acc: 0.79 - ETA: 26s - loss: 0.4297 - acc: 0.79 - ETA: 26s - loss: 0.4297 - acc: 0.79 - ETA: 26s - loss: 0.4298 - acc: 0.79 - ETA: 26s - loss: 0.4298 - acc: 0.79 - ETA: 25s - loss: 0.4299 - acc: 0.79 - ETA: 25s - loss: 0.4298 - acc: 0.79 - ETA: 25s - loss: 0.4298 - acc: 0.79 - ETA: 25s - loss: 0.4297 - acc: 0.79 - ETA: 25s - loss: 0.4297 - acc: 0.79 - ETA: 25s - loss: 0.4297 - acc: 0.79 - ETA: 25s - loss: 0.4296 - acc: 0.79 - ETA: 25s - loss: 0.4297 - acc: 0.79 - ETA: 25s - loss: 0.4298 - acc: 0.79 - ETA: 25s - loss: 0.4297 - acc: 0.79 - ETA: 25s - loss: 0.4297 - acc: 0.79 - ETA: 25s - loss: 0.4297 - acc: 0.79 - ETA: 25s - loss: 0.4297 - acc: 0.79 - ETA: 24s - loss: 0.4297 - acc: 0.79 - ETA: 24s - loss: 0.4297 - acc: 0.79 - ETA: 24s - loss: 0.4297 - acc: 0.79 - ETA: 24s - loss: 0.4298 - acc: 0.79 - ETA: 24s - loss: 0.4298 - acc: 0.79 - ETA: 24s - loss: 0.4298 - acc: 0.79 - ETA: 24s - loss: 0.4298 - acc: 0.79 - ETA: 24s - loss: 0.4298 - acc: 0.79 - ETA: 24s - loss: 0.4298 - acc: 0.79 - ETA: 24s - loss: 0.4299 - acc: 0.79 - ETA: 24s - loss: 0.4299 - acc: 0.79 - ETA: 24s - loss: 0.4300 - acc: 0.79 - ETA: 24s - loss: 0.4300 - acc: 0.79 - ETA: 23s - loss: 0.4301 - acc: 0.79 - ETA: 23s - loss: 0.4302 - acc: 0.79 - ETA: 23s - loss: 0.4302 - acc: 0.79 - ETA: 23s - loss: 0.4303 - acc: 0.79 - ETA: 23s - loss: 0.4302 - acc: 0.79 - ETA: 23s - loss: 0.4303 - acc: 0.79 - ETA: 23s - loss: 0.4303 - acc: 0.79 - ETA: 23s - loss: 0.4303 - acc: 0.79 - ETA: 23s - loss: 0.4303 - acc: 0.79 - ETA: 23s - loss: 0.4304 - acc: 0.79 - ETA: 23s - loss: 0.4304 - acc: 0.79 - ETA: 23s - loss: 0.4305 - acc: 0.79 - ETA: 23s - loss: 0.4304 - acc: 0.79 - ETA: 22s - loss: 0.4305 - acc: 0.79 - ETA: 22s - loss: 0.4305 - acc: 0.79 - ETA: 22s - loss: 0.4305 - acc: 0.79 - ETA: 22s - loss: 0.4305 - acc: 0.79 - ETA: 22s - loss: 0.4306 - acc: 0.79 - ETA: 22s - loss: 0.4306 - acc: 0.79 - ETA: 22s - loss: 0.4307 - acc: 0.79 - ETA: 22s - loss: 0.4308 - acc: 0.79 - ETA: 22s - loss: 0.4307 - acc: 0.79 - ETA: 22s - loss: 0.4307 - acc: 0.79 - ETA: 22s - loss: 0.4307 - acc: 0.79 - ETA: 22s - loss: 0.4307 - acc: 0.7958"
     ]
    },
    {
     "name": "stdout",
     "output_type": "stream",
     "text": [
      "3241/3392 [===========================>..] - ETA: 22s - loss: 0.4307 - acc: 0.79 - ETA: 21s - loss: 0.4307 - acc: 0.79 - ETA: 21s - loss: 0.4307 - acc: 0.79 - ETA: 21s - loss: 0.4307 - acc: 0.79 - ETA: 21s - loss: 0.4307 - acc: 0.79 - ETA: 21s - loss: 0.4307 - acc: 0.79 - ETA: 21s - loss: 0.4307 - acc: 0.79 - ETA: 21s - loss: 0.4307 - acc: 0.79 - ETA: 21s - loss: 0.4307 - acc: 0.79 - ETA: 21s - loss: 0.4306 - acc: 0.79 - ETA: 21s - loss: 0.4307 - acc: 0.79 - ETA: 21s - loss: 0.4308 - acc: 0.79 - ETA: 21s - loss: 0.4309 - acc: 0.79 - ETA: 21s - loss: 0.4310 - acc: 0.79 - ETA: 20s - loss: 0.4310 - acc: 0.79 - ETA: 20s - loss: 0.4311 - acc: 0.79 - ETA: 20s - loss: 0.4311 - acc: 0.79 - ETA: 20s - loss: 0.4310 - acc: 0.79 - ETA: 20s - loss: 0.4310 - acc: 0.79 - ETA: 20s - loss: 0.4311 - acc: 0.79 - ETA: 20s - loss: 0.4311 - acc: 0.79 - ETA: 20s - loss: 0.4312 - acc: 0.79 - ETA: 20s - loss: 0.4311 - acc: 0.79 - ETA: 20s - loss: 0.4311 - acc: 0.79 - ETA: 20s - loss: 0.4311 - acc: 0.79 - ETA: 20s - loss: 0.4311 - acc: 0.79 - ETA: 20s - loss: 0.4312 - acc: 0.79 - ETA: 19s - loss: 0.4313 - acc: 0.79 - ETA: 19s - loss: 0.4313 - acc: 0.79 - ETA: 19s - loss: 0.4313 - acc: 0.79 - ETA: 19s - loss: 0.4314 - acc: 0.79 - ETA: 19s - loss: 0.4313 - acc: 0.79 - ETA: 19s - loss: 0.4314 - acc: 0.79 - ETA: 19s - loss: 0.4313 - acc: 0.79 - ETA: 19s - loss: 0.4313 - acc: 0.79 - ETA: 19s - loss: 0.4314 - acc: 0.79 - ETA: 19s - loss: 0.4314 - acc: 0.79 - ETA: 19s - loss: 0.4314 - acc: 0.79 - ETA: 19s - loss: 0.4314 - acc: 0.79 - ETA: 19s - loss: 0.4314 - acc: 0.79 - ETA: 18s - loss: 0.4314 - acc: 0.79 - ETA: 18s - loss: 0.4314 - acc: 0.79 - ETA: 18s - loss: 0.4314 - acc: 0.79 - ETA: 18s - loss: 0.4313 - acc: 0.79 - ETA: 18s - loss: 0.4314 - acc: 0.79 - ETA: 18s - loss: 0.4314 - acc: 0.79 - ETA: 18s - loss: 0.4314 - acc: 0.79 - ETA: 18s - loss: 0.4314 - acc: 0.79 - ETA: 18s - loss: 0.4314 - acc: 0.79 - ETA: 18s - loss: 0.4314 - acc: 0.79 - ETA: 18s - loss: 0.4314 - acc: 0.79 - ETA: 18s - loss: 0.4315 - acc: 0.79 - ETA: 18s - loss: 0.4315 - acc: 0.79 - ETA: 18s - loss: 0.4314 - acc: 0.79 - ETA: 18s - loss: 0.4314 - acc: 0.79 - ETA: 17s - loss: 0.4313 - acc: 0.79 - ETA: 17s - loss: 0.4314 - acc: 0.79 - ETA: 17s - loss: 0.4314 - acc: 0.79 - ETA: 17s - loss: 0.4314 - acc: 0.79 - ETA: 17s - loss: 0.4315 - acc: 0.79 - ETA: 17s - loss: 0.4315 - acc: 0.79 - ETA: 17s - loss: 0.4315 - acc: 0.79 - ETA: 17s - loss: 0.4314 - acc: 0.79 - ETA: 17s - loss: 0.4315 - acc: 0.79 - ETA: 17s - loss: 0.4315 - acc: 0.79 - ETA: 17s - loss: 0.4316 - acc: 0.79 - ETA: 17s - loss: 0.4316 - acc: 0.79 - ETA: 17s - loss: 0.4316 - acc: 0.79 - ETA: 16s - loss: 0.4316 - acc: 0.79 - ETA: 16s - loss: 0.4316 - acc: 0.79 - ETA: 16s - loss: 0.4316 - acc: 0.79 - ETA: 16s - loss: 0.4316 - acc: 0.79 - ETA: 16s - loss: 0.4316 - acc: 0.79 - ETA: 16s - loss: 0.4316 - acc: 0.79 - ETA: 16s - loss: 0.4316 - acc: 0.79 - ETA: 16s - loss: 0.4316 - acc: 0.79 - ETA: 16s - loss: 0.4316 - acc: 0.79 - ETA: 16s - loss: 0.4316 - acc: 0.79 - ETA: 16s - loss: 0.4317 - acc: 0.79 - ETA: 16s - loss: 0.4317 - acc: 0.79 - ETA: 16s - loss: 0.4318 - acc: 0.79 - ETA: 16s - loss: 0.4318 - acc: 0.79 - ETA: 15s - loss: 0.4318 - acc: 0.79 - ETA: 15s - loss: 0.4319 - acc: 0.79 - ETA: 15s - loss: 0.4319 - acc: 0.79 - ETA: 15s - loss: 0.4319 - acc: 0.79 - ETA: 15s - loss: 0.4319 - acc: 0.79 - ETA: 15s - loss: 0.4319 - acc: 0.79 - ETA: 15s - loss: 0.4319 - acc: 0.79 - ETA: 15s - loss: 0.4319 - acc: 0.79 - ETA: 15s - loss: 0.4319 - acc: 0.79 - ETA: 15s - loss: 0.4319 - acc: 0.79 - ETA: 15s - loss: 0.4320 - acc: 0.79 - ETA: 15s - loss: 0.4320 - acc: 0.79 - ETA: 15s - loss: 0.4320 - acc: 0.79 - ETA: 14s - loss: 0.4321 - acc: 0.79 - ETA: 14s - loss: 0.4321 - acc: 0.79 - ETA: 14s - loss: 0.4321 - acc: 0.79 - ETA: 14s - loss: 0.4321 - acc: 0.79 - ETA: 14s - loss: 0.4321 - acc: 0.79 - ETA: 14s - loss: 0.4322 - acc: 0.79 - ETA: 14s - loss: 0.4322 - acc: 0.79 - ETA: 14s - loss: 0.4322 - acc: 0.79 - ETA: 14s - loss: 0.4321 - acc: 0.79 - ETA: 14s - loss: 0.4321 - acc: 0.79 - ETA: 14s - loss: 0.4320 - acc: 0.79 - ETA: 14s - loss: 0.4321 - acc: 0.79 - ETA: 14s - loss: 0.4321 - acc: 0.79 - ETA: 13s - loss: 0.4322 - acc: 0.79 - ETA: 13s - loss: 0.4321 - acc: 0.79 - ETA: 13s - loss: 0.4321 - acc: 0.79 - ETA: 13s - loss: 0.4321 - acc: 0.79 - ETA: 13s - loss: 0.4322 - acc: 0.79 - ETA: 13s - loss: 0.4322 - acc: 0.79 - ETA: 13s - loss: 0.4323 - acc: 0.79 - ETA: 13s - loss: 0.4323 - acc: 0.79 - ETA: 13s - loss: 0.4323 - acc: 0.79 - ETA: 13s - loss: 0.4323 - acc: 0.79 - ETA: 13s - loss: 0.4324 - acc: 0.79 - ETA: 13s - loss: 0.4324 - acc: 0.79 - ETA: 13s - loss: 0.4324 - acc: 0.79 - ETA: 12s - loss: 0.4324 - acc: 0.79 - ETA: 12s - loss: 0.4324 - acc: 0.79 - ETA: 12s - loss: 0.4325 - acc: 0.79 - ETA: 12s - loss: 0.4325 - acc: 0.79 - ETA: 12s - loss: 0.4325 - acc: 0.79 - ETA: 12s - loss: 0.4325 - acc: 0.79 - ETA: 12s - loss: 0.4325 - acc: 0.79 - ETA: 12s - loss: 0.4325 - acc: 0.79 - ETA: 12s - loss: 0.4325 - acc: 0.79 - ETA: 12s - loss: 0.4325 - acc: 0.79 - ETA: 12s - loss: 0.4326 - acc: 0.79 - ETA: 12s - loss: 0.4326 - acc: 0.79 - ETA: 12s - loss: 0.4327 - acc: 0.79 - ETA: 11s - loss: 0.4327 - acc: 0.79 - ETA: 11s - loss: 0.4328 - acc: 0.79 - ETA: 11s - loss: 0.4328 - acc: 0.79 - ETA: 11s - loss: 0.4328 - acc: 0.79 - ETA: 11s - loss: 0.4328 - acc: 0.79 - ETA: 11s - loss: 0.4328 - acc: 0.79 - ETA: 11s - loss: 0.4329 - acc: 0.79 - ETA: 11s - loss: 0.4329 - acc: 0.79 - ETA: 11s - loss: 0.4329 - acc: 0.79 - ETA: 11s - loss: 0.4329 - acc: 0.79 - ETA: 11s - loss: 0.4328 - acc: 0.79 - ETA: 11s - loss: 0.4328 - acc: 0.79 - ETA: 11s - loss: 0.4329 - acc: 0.79 - ETA: 10s - loss: 0.4328 - acc: 0.79 - ETA: 10s - loss: 0.4328 - acc: 0.79 - ETA: 10s - loss: 0.4328 - acc: 0.79 - ETA: 10s - loss: 0.4328 - acc: 0.79 - ETA: 10s - loss: 0.4328 - acc: 0.79 - ETA: 10s - loss: 0.4328 - acc: 0.79 - ETA: 10s - loss: 0.4328 - acc: 0.79 - ETA: 10s - loss: 0.4328 - acc: 0.79 - ETA: 10s - loss: 0.4327 - acc: 0.79 - ETA: 10s - loss: 0.4328 - acc: 0.79 - ETA: 10s - loss: 0.4328 - acc: 0.79 - ETA: 10s - loss: 0.4328 - acc: 0.79 - ETA: 10s - loss: 0.4328 - acc: 0.79 - ETA: 9s - loss: 0.4328 - acc: 0.7946 - ETA: 9s - loss: 0.4328 - acc: 0.794 - ETA: 9s - loss: 0.4329 - acc: 0.794 - ETA: 9s - loss: 0.4329 - acc: 0.794 - ETA: 9s - loss: 0.4329 - acc: 0.794 - ETA: 9s - loss: 0.4330 - acc: 0.794 - ETA: 9s - loss: 0.4330 - acc: 0.794 - ETA: 9s - loss: 0.4329 - acc: 0.794 - ETA: 9s - loss: 0.4330 - acc: 0.794 - ETA: 9s - loss: 0.4330 - acc: 0.794 - ETA: 9s - loss: 0.4330 - acc: 0.794 - ETA: 9s - loss: 0.4330 - acc: 0.794 - ETA: 9s - loss: 0.4330 - acc: 0.794 - ETA: 8s - loss: 0.4330 - acc: 0.794 - ETA: 8s - loss: 0.4330 - acc: 0.794 - ETA: 8s - loss: 0.4330 - acc: 0.794 - ETA: 8s - loss: 0.4330 - acc: 0.794 - ETA: 8s - loss: 0.4329 - acc: 0.794 - ETA: 8s - loss: 0.4330 - acc: 0.794 - ETA: 8s - loss: 0.4329 - acc: 0.794 - ETA: 8s - loss: 0.4329 - acc: 0.794 - ETA: 8s - loss: 0.4329 - acc: 0.794 - ETA: 8s - loss: 0.4329 - acc: 0.794 - ETA: 8s - loss: 0.4330 - acc: 0.794 - ETA: 8s - loss: 0.4330 - acc: 0.794 - ETA: 8s - loss: 0.4330 - acc: 0.794 - ETA: 7s - loss: 0.4331 - acc: 0.794 - ETA: 7s - loss: 0.4331 - acc: 0.794 - ETA: 7s - loss: 0.4332 - acc: 0.794 - ETA: 7s - loss: 0.4332 - acc: 0.794 - ETA: 7s - loss: 0.4332 - acc: 0.794 - ETA: 7s - loss: 0.4331 - acc: 0.794 - ETA: 7s - loss: 0.4331 - acc: 0.794 - ETA: 7s - loss: 0.4331 - acc: 0.794 - ETA: 7s - loss: 0.4332 - acc: 0.794 - ETA: 7s - loss: 0.4332 - acc: 0.794 - ETA: 7s - loss: 0.4333 - acc: 0.794 - ETA: 7s - loss: 0.4333 - acc: 0.794 - ETA: 7s - loss: 0.4333 - acc: 0.794 - ETA: 6s - loss: 0.4332 - acc: 0.794 - ETA: 6s - loss: 0.4333 - acc: 0.794 - ETA: 6s - loss: 0.4333 - acc: 0.794 - ETA: 6s - loss: 0.4333 - acc: 0.794 - ETA: 6s - loss: 0.4333 - acc: 0.794 - ETA: 6s - loss: 0.4333 - acc: 0.794 - ETA: 6s - loss: 0.4333 - acc: 0.794 - ETA: 6s - loss: 0.4333 - acc: 0.794 - ETA: 6s - loss: 0.4333 - acc: 0.794 - ETA: 6s - loss: 0.4333 - acc: 0.794 - ETA: 6s - loss: 0.4333 - acc: 0.794 - ETA: 6s - loss: 0.4333 - acc: 0.794 - ETA: 6s - loss: 0.4334 - acc: 0.794 - ETA: 6s - loss: 0.4334 - acc: 0.794 - ETA: 6s - loss: 0.4334 - acc: 0.794 - ETA: 5s - loss: 0.4334 - acc: 0.7944"
     ]
    },
    {
     "name": "stdout",
     "output_type": "stream",
     "text": [
      "3393/3392 [==============================] - ETA: 5s - loss: 0.4334 - acc: 0.794 - ETA: 5s - loss: 0.4334 - acc: 0.794 - ETA: 5s - loss: 0.4334 - acc: 0.794 - ETA: 5s - loss: 0.4334 - acc: 0.794 - ETA: 5s - loss: 0.4335 - acc: 0.794 - ETA: 5s - loss: 0.4335 - acc: 0.794 - ETA: 5s - loss: 0.4335 - acc: 0.794 - ETA: 5s - loss: 0.4335 - acc: 0.794 - ETA: 5s - loss: 0.4335 - acc: 0.794 - ETA: 5s - loss: 0.4335 - acc: 0.794 - ETA: 5s - loss: 0.4336 - acc: 0.794 - ETA: 5s - loss: 0.4336 - acc: 0.794 - ETA: 4s - loss: 0.4336 - acc: 0.794 - ETA: 4s - loss: 0.4337 - acc: 0.794 - ETA: 4s - loss: 0.4337 - acc: 0.794 - ETA: 4s - loss: 0.4337 - acc: 0.794 - ETA: 4s - loss: 0.4338 - acc: 0.794 - ETA: 4s - loss: 0.4337 - acc: 0.794 - ETA: 4s - loss: 0.4337 - acc: 0.794 - ETA: 4s - loss: 0.4338 - acc: 0.794 - ETA: 4s - loss: 0.4338 - acc: 0.794 - ETA: 4s - loss: 0.4337 - acc: 0.794 - ETA: 4s - loss: 0.4337 - acc: 0.794 - ETA: 4s - loss: 0.4337 - acc: 0.794 - ETA: 4s - loss: 0.4336 - acc: 0.794 - ETA: 3s - loss: 0.4337 - acc: 0.794 - ETA: 3s - loss: 0.4337 - acc: 0.794 - ETA: 3s - loss: 0.4336 - acc: 0.794 - ETA: 3s - loss: 0.4336 - acc: 0.794 - ETA: 3s - loss: 0.4337 - acc: 0.794 - ETA: 3s - loss: 0.4337 - acc: 0.794 - ETA: 3s - loss: 0.4336 - acc: 0.794 - ETA: 3s - loss: 0.4336 - acc: 0.794 - ETA: 3s - loss: 0.4336 - acc: 0.794 - ETA: 3s - loss: 0.4335 - acc: 0.794 - ETA: 3s - loss: 0.4336 - acc: 0.794 - ETA: 3s - loss: 0.4336 - acc: 0.794 - ETA: 3s - loss: 0.4336 - acc: 0.794 - ETA: 3s - loss: 0.4336 - acc: 0.794 - ETA: 3s - loss: 0.4335 - acc: 0.794 - ETA: 2s - loss: 0.4336 - acc: 0.794 - ETA: 2s - loss: 0.4336 - acc: 0.794 - ETA: 2s - loss: 0.4337 - acc: 0.794 - ETA: 2s - loss: 0.4336 - acc: 0.794 - ETA: 2s - loss: 0.4337 - acc: 0.794 - ETA: 2s - loss: 0.4337 - acc: 0.794 - ETA: 2s - loss: 0.4337 - acc: 0.794 - ETA: 2s - loss: 0.4337 - acc: 0.794 - ETA: 2s - loss: 0.4338 - acc: 0.794 - ETA: 2s - loss: 0.4337 - acc: 0.794 - ETA: 2s - loss: 0.4338 - acc: 0.794 - ETA: 2s - loss: 0.4338 - acc: 0.794 - ETA: 2s - loss: 0.4339 - acc: 0.794 - ETA: 2s - loss: 0.4340 - acc: 0.794 - ETA: 1s - loss: 0.4340 - acc: 0.794 - ETA: 1s - loss: 0.4340 - acc: 0.794 - ETA: 1s - loss: 0.4340 - acc: 0.794 - ETA: 1s - loss: 0.4340 - acc: 0.794 - ETA: 1s - loss: 0.4341 - acc: 0.794 - ETA: 1s - loss: 0.4341 - acc: 0.794 - ETA: 1s - loss: 0.4341 - acc: 0.794 - ETA: 1s - loss: 0.4340 - acc: 0.794 - ETA: 1s - loss: 0.4341 - acc: 0.794 - ETA: 1s - loss: 0.4341 - acc: 0.794 - ETA: 1s - loss: 0.4341 - acc: 0.794 - ETA: 1s - loss: 0.4341 - acc: 0.794 - ETA: 0s - loss: 0.4341 - acc: 0.794 - ETA: 0s - loss: 0.4341 - acc: 0.794 - ETA: 0s - loss: 0.4341 - acc: 0.794 - ETA: 0s - loss: 0.4341 - acc: 0.794 - ETA: 0s - loss: 0.4340 - acc: 0.794 - ETA: 0s - loss: 0.4340 - acc: 0.794 - ETA: 0s - loss: 0.4340 - acc: 0.794 - ETA: 0s - loss: 0.4339 - acc: 0.794 - ETA: 0s - loss: 0.4339 - acc: 0.794 - ETA: 0s - loss: 0.4339 - acc: 0.794 - ETA: 0s - loss: 0.4340 - acc: 0.794 - ETA: 0s - loss: 0.4340 - acc: 0.794 - ETA: 0s - loss: 0.4340 - acc: 0.794 - ETA: 0s - loss: 0.4340 - acc: 0.794 - 134s 40ms/step - loss: 0.4341 - acc: 0.7944 - val_loss: 0.4903 - val_acc: 0.7712\n"
     ]
    },
    {
     "data": {
      "text/plain": [
       "<keras.callbacks.History at 0x21633131668>"
      ]
     },
     "execution_count": 6,
     "metadata": {},
     "output_type": "execute_result"
    }
   ],
   "source": [
    "model = Sequential()\n",
    "custom_adam = keras.optimizers.Adam(lr=0.005, beta_1=0.9, beta_2=0.999, epsilon=1e-8)\n",
    "model.add(Dense(128, activation='relu', input_dim=11000))\n",
    "model.add(Dropout(0.2))\n",
    "model.add(Dense(1, activation='sigmoid'))\n",
    "model.compile(optimizer=custom_adam,\n",
    "              loss='binary_crossentropy',\n",
    "              metrics=['accuracy'])\n",
    "\n",
    "model.fit_generator(generator=batch_generator_shuffle(X_train, y_train, 32),\n",
    "                    epochs=2, validation_data=(X_test, y_test),\n",
    "                    steps_per_epoch=X_train.shape[0]/32)"
   ]
  },
  {
   "cell_type": "code",
   "execution_count": 7,
   "metadata": {},
   "outputs": [
    {
     "data": {
      "text/html": [
       "<div>\n",
       "<style scoped>\n",
       "    .dataframe tbody tr th:only-of-type {\n",
       "        vertical-align: middle;\n",
       "    }\n",
       "\n",
       "    .dataframe tbody tr th {\n",
       "        vertical-align: top;\n",
       "    }\n",
       "\n",
       "    .dataframe thead th {\n",
       "        text-align: right;\n",
       "    }\n",
       "</style>\n",
       "<table border=\"1\" class=\"dataframe\">\n",
       "  <thead>\n",
       "    <tr style=\"text-align: right;\">\n",
       "      <th></th>\n",
       "      <th>sesion id</th>\n",
       "      <th>evento</th>\n",
       "      <th>texto</th>\n",
       "      <th>actividad</th>\n",
       "      <th>respuesta</th>\n",
       "      <th>corrected_content_no</th>\n",
       "      <th>corrected_respuesta</th>\n",
       "      <th>lemma_content_no</th>\n",
       "      <th>lemma_content</th>\n",
       "      <th>stemm_content_no</th>\n",
       "      <th>stemm_content</th>\n",
       "      <th>NNLR3_lemma_proba</th>\n",
       "      <th>NNLR3_lemma_value</th>\n",
       "    </tr>\n",
       "    <tr>\n",
       "      <th>id</th>\n",
       "      <th></th>\n",
       "      <th></th>\n",
       "      <th></th>\n",
       "      <th></th>\n",
       "      <th></th>\n",
       "      <th></th>\n",
       "      <th></th>\n",
       "      <th></th>\n",
       "      <th></th>\n",
       "      <th></th>\n",
       "      <th></th>\n",
       "      <th></th>\n",
       "      <th></th>\n",
       "    </tr>\n",
       "  </thead>\n",
       "  <tbody>\n",
       "    <tr>\n",
       "      <th>1239.0</th>\n",
       "      <td>210</td>\n",
       "      <td>Conflicto_La_Vida</td>\n",
       "      <td>¿Te gustaría contarme más sobre esto?</td>\n",
       "      <td>Problematica</td>\n",
       "      <td>nada, simplemente desepcionado de como.se.dan ...</td>\n",
       "      <td>nada simplemente decepcionado de como las cosas</td>\n",
       "      <td>simplemente decepcionado</td>\n",
       "      <td>nadar simplemente decepcionar de comer los coser</td>\n",
       "      <td>simplemente decepcionar</td>\n",
       "      <td>nad simplement decepcion de com las cos</td>\n",
       "      <td>simplement decepcion</td>\n",
       "      <td>0.199542</td>\n",
       "      <td>N</td>\n",
       "    </tr>\n",
       "    <tr>\n",
       "      <th>1245.0</th>\n",
       "      <td>210</td>\n",
       "      <td>Debate_Creencia_3_Bien</td>\n",
       "      <td>¿Qué otra explicación le darías?</td>\n",
       "      <td>Explicacion</td>\n",
       "      <td>pues ver lo positivo de ello</td>\n",
       "      <td>pues ver lo positivo de ello</td>\n",
       "      <td>positivo</td>\n",
       "      <td>pues ver el positivo de él</td>\n",
       "      <td>positivo</td>\n",
       "      <td>pues ver lo posit de ello</td>\n",
       "      <td>posit</td>\n",
       "      <td>0.783236</td>\n",
       "      <td>P</td>\n",
       "    </tr>\n",
       "    <tr>\n",
       "      <th>1248.0</th>\n",
       "      <td>210</td>\n",
       "      <td>Compartir_Aprendido</td>\n",
       "      <td>¿Qué aprendiste de lo qué abordamos hoy?</td>\n",
       "      <td>Aprendizaje</td>\n",
       "      <td>darme un tiempo para refelxionar y no nada mas...</td>\n",
       "      <td>darme un tiempo para reflexionar y no nada mas...</td>\n",
       "      <td>darme reflexionar y irme a i precio o pensamiento</td>\n",
       "      <td>darme uno tiempo parir reflexionar y no nadar ...</td>\n",
       "      <td>darme reflexionar y irme a i preciar o pensami...</td>\n",
       "      <td>darm un tiemp par reflexion y no nad mas irme ...</td>\n",
       "      <td>darm reflexion y irme a i preci o pensamient</td>\n",
       "      <td>0.656549</td>\n",
       "      <td>NEU</td>\n",
       "    </tr>\n",
       "    <tr>\n",
       "      <th>1329.0</th>\n",
       "      <td>226</td>\n",
       "      <td>No_Obstaculo_Detectado_2</td>\n",
       "      <td>¿Deseas compartirme cual fue tu obstáculo?</td>\n",
       "      <td>Obstaculo_Actividad</td>\n",
       "      <td>planeo realizarla por la tarde del día</td>\n",
       "      <td>planeo realizara por la tarde del día</td>\n",
       "      <td>planeo realizara</td>\n",
       "      <td>planear realizar por lo tardar del día</td>\n",
       "      <td>planear realizar</td>\n",
       "      <td>plane realiz por la tard del dia</td>\n",
       "      <td>plane realiz</td>\n",
       "      <td>0.939632</td>\n",
       "      <td>P</td>\n",
       "    </tr>\n",
       "    <tr>\n",
       "      <th>1345.0</th>\n",
       "      <td>255</td>\n",
       "      <td>Conflicto_Los_Demas</td>\n",
       "      <td>¿Te gustaría contarme más sobre esto?</td>\n",
       "      <td>Problematica</td>\n",
       "      <td>las personas a quienes atiendo me hacen enojar...</td>\n",
       "      <td>las personas a quienes atiendo me hacen enojar...</td>\n",
       "      <td>personas a atiendo enojar entienden instruccio...</td>\n",
       "      <td>los personar a quien atender me hacer enojar p...</td>\n",
       "      <td>personar a atender enojar entender instrucción...</td>\n",
       "      <td>las person a quien atiend me hac enoj porqu no...</td>\n",
       "      <td>person a atiend enoj entiend instruccion y quier</td>\n",
       "      <td>0.220946</td>\n",
       "      <td>N</td>\n",
       "    </tr>\n",
       "  </tbody>\n",
       "</table>\n",
       "</div>"
      ],
      "text/plain": [
       "        sesion id                    evento  \\\n",
       "id                                            \n",
       "1239.0        210         Conflicto_La_Vida   \n",
       "1245.0        210    Debate_Creencia_3_Bien   \n",
       "1248.0        210       Compartir_Aprendido   \n",
       "1329.0        226  No_Obstaculo_Detectado_2   \n",
       "1345.0        255       Conflicto_Los_Demas   \n",
       "\n",
       "                                             texto            actividad  \\\n",
       "id                                                                        \n",
       "1239.0       ¿Te gustaría contarme más sobre esto?         Problematica   \n",
       "1245.0            ¿Qué otra explicación le darías?          Explicacion   \n",
       "1248.0    ¿Qué aprendiste de lo qué abordamos hoy?          Aprendizaje   \n",
       "1329.0  ¿Deseas compartirme cual fue tu obstáculo?  Obstaculo_Actividad   \n",
       "1345.0       ¿Te gustaría contarme más sobre esto?         Problematica   \n",
       "\n",
       "                                                respuesta  \\\n",
       "id                                                          \n",
       "1239.0  nada, simplemente desepcionado de como.se.dan ...   \n",
       "1245.0                       pues ver lo positivo de ello   \n",
       "1248.0  darme un tiempo para refelxionar y no nada mas...   \n",
       "1329.0             planeo realizarla por la tarde del día   \n",
       "1345.0  las personas a quienes atiendo me hacen enojar...   \n",
       "\n",
       "                                     corrected_content_no  \\\n",
       "id                                                          \n",
       "1239.0    nada simplemente decepcionado de como las cosas   \n",
       "1245.0                       pues ver lo positivo de ello   \n",
       "1248.0  darme un tiempo para reflexionar y no nada mas...   \n",
       "1329.0              planeo realizara por la tarde del día   \n",
       "1345.0  las personas a quienes atiendo me hacen enojar...   \n",
       "\n",
       "                                      corrected_respuesta  \\\n",
       "id                                                          \n",
       "1239.0                           simplemente decepcionado   \n",
       "1245.0                                           positivo   \n",
       "1248.0  darme reflexionar y irme a i precio o pensamiento   \n",
       "1329.0                                   planeo realizara   \n",
       "1345.0  personas a atiendo enojar entienden instruccio...   \n",
       "\n",
       "                                         lemma_content_no  \\\n",
       "id                                                          \n",
       "1239.0   nadar simplemente decepcionar de comer los coser   \n",
       "1245.0                         pues ver el positivo de él   \n",
       "1248.0  darme uno tiempo parir reflexionar y no nadar ...   \n",
       "1329.0             planear realizar por lo tardar del día   \n",
       "1345.0  los personar a quien atender me hacer enojar p...   \n",
       "\n",
       "                                            lemma_content  \\\n",
       "id                                                          \n",
       "1239.0                            simplemente decepcionar   \n",
       "1245.0                                           positivo   \n",
       "1248.0  darme reflexionar y irme a i preciar o pensami...   \n",
       "1329.0                                   planear realizar   \n",
       "1345.0  personar a atender enojar entender instrucción...   \n",
       "\n",
       "                                         stemm_content_no  \\\n",
       "id                                                          \n",
       "1239.0            nad simplement decepcion de com las cos   \n",
       "1245.0                          pues ver lo posit de ello   \n",
       "1248.0  darm un tiemp par reflexion y no nad mas irme ...   \n",
       "1329.0                   plane realiz por la tard del dia   \n",
       "1345.0  las person a quien atiend me hac enoj porqu no...   \n",
       "\n",
       "                                           stemm_content  NNLR3_lemma_proba  \\\n",
       "id                                                                            \n",
       "1239.0                              simplement decepcion           0.199542   \n",
       "1245.0                                             posit           0.783236   \n",
       "1248.0      darm reflexion y irme a i preci o pensamient           0.656549   \n",
       "1329.0                                      plane realiz           0.939632   \n",
       "1345.0  person a atiend enoj entiend instruccion y quier           0.220946   \n",
       "\n",
       "       NNLR3_lemma_value  \n",
       "id                        \n",
       "1239.0                 N  \n",
       "1245.0                 P  \n",
       "1248.0               NEU  \n",
       "1329.0                 P  \n",
       "1345.0                 N  "
      ]
     },
     "execution_count": 7,
     "metadata": {},
     "output_type": "execute_result"
    }
   ],
   "source": [
    "X_validation =  df_validation['lemma_content_no']\n",
    "X_validation = vectorizer.transform(X_validation)\n",
    "\n",
    "df_validation['NNLR3_lemma_proba'] = model.predict(X_validation)\n",
    "df_validation['NNLR3_lemma_value'] = ['P' if t > 0.66 else 'NEU' if 0.66>t>0.56 else 'N' for t in df_validation['NNLR3_lemma_proba']]\n",
    "df_validation.head()"
   ]
  },
  {
   "cell_type": "code",
   "execution_count": 8,
   "metadata": {
    "collapsed": true
   },
   "outputs": [],
   "source": [
    "# with open('models/vectorizer_TF-IDF.pkl', 'wb') as f:\n",
    "#     pickle.dump(vectorizer, f)\n",
    "\n",
    "# model_s_3.save('NN_models/TF-IDF_NNLR3_lemma.h5')"
   ]
  },
  {
   "cell_type": "markdown",
   "metadata": {},
   "source": [
    "# Web Service"
   ]
  },
  {
   "cell_type": "code",
   "execution_count": 9,
   "metadata": {
    "collapsed": true
   },
   "outputs": [],
   "source": [
    "def clean_text(text):\n",
    "\n",
    "    text = text.lower()\n",
    "\n",
    "    text = re.sub(r'\\bq\\b|\\bk\\b', 'que', text) # replace q or x with que\n",
    "    text = re.sub(r'\\bd\\b', 'de', text) # replace d with de\n",
    "    text = re.sub(r'\\bx\\b', 'por', text) # replace x with por\n",
    "    text = re.sub(r'\\btmb\\b', 'también', text) # replace tmb with tambien\n",
    "    text = re.sub(r'\\bbb\\b', 'bebé', text) # replace bb with bebe\n",
    "\n",
    "    duplicates = re.compile(r'([^(c,l,n,r)L0])\\1{1,}')\n",
    "    double_clnr = re.compile(r\"(.)\\1{2,}\")\n",
    "    while duplicates.search(text)!=None:\n",
    "        text = text.replace(duplicates.search(text).group(),duplicates.search(text).group()[0]) #remove multiple letters\n",
    "    text = double_clnr.sub(r\"\\1\\1\", text) #except double c, l, n, and r\n",
    "\n",
    "    text = re.sub(r'([ja]{5,}|[je]{5,}|[ji]{5,}|[ha]{5,}|[he]{5,})', 'jaja', text)  # remove dirty laughs\n",
    "\n",
    "    text = re.sub(r'(\\.|,|:|;|!|\\?|\\[|\\]|\\(|\\))[A-Za-z0-9]+', ' ', text)  # replace simbols between words with spaces\n",
    "    text = re.sub(r'\\d+', '', text) #remove numbers\n",
    "\n",
    "    text = re.sub(r'[%s]' % re.escape(\"\"\"¿¡!\"#$%&'()*+,-./:;<=>?@[\\]^_`{|}~…\"\"\"), '', text)  # remove punctuations\n",
    "    text = re.sub(r'\\b[^aeyou]\\b', ' ', text) # remove single char\n",
    "    text = re.sub('\\s+', ' ', text)  # remove extra whitespace\n",
    "\n",
    "\n",
    "    text = text.encode('latin', 'ignore').decode('latin')\n",
    "\n",
    "    max_edit_distance_lookup = 3\n",
    "    text = sym_spell.lookup_compound(text,max_edit_distance_lookup)[0].term\n",
    "\n",
    "\n",
    "    tokens= nlp(u\"\"+text)\n",
    "    new_text= ' '.join([t.lemma_ for t in tokens])\n",
    "\n",
    "\n",
    "    return [new_text]"
   ]
  },
  {
   "cell_type": "code",
   "execution_count": 10,
   "metadata": {
    "collapsed": true
   },
   "outputs": [],
   "source": [
    "nlp = spacy.load(\"es_core_news_md\")"
   ]
  },
  {
   "cell_type": "code",
   "execution_count": 11,
   "metadata": {},
   "outputs": [
    {
     "data": {
      "text/plain": [
       "True"
      ]
     },
     "execution_count": 11,
     "metadata": {},
     "output_type": "execute_result"
    }
   ],
   "source": [
    "sym_spell = SymSpell(\n",
    "    max_dictionary_edit_distance=3,\n",
    "    prefix_length=7,\n",
    "    count_threshold=1,\n",
    "    compact_level=5,\n",
    ")\n",
    "\n",
    "sym_spell.load_dictionary(corpus='resources/es_real_freq_full.txt',term_index=0,count_index=1,encoding='utf-8')"
   ]
  },
  {
   "cell_type": "code",
   "execution_count": 12,
   "metadata": {
    "collapsed": true
   },
   "outputs": [],
   "source": [
    "text_examples = [\"nada, simplemente desepcionado de como.se.dan las cosas\",\n",
    "\"las personas a quienes atiendo me hacen enojar porque no entienden mis instrucciones y hacen lo que quieren\",\n",
    "\"claro! mi problemática radica en que se me dificulta entablar relación con mis compañeros de trabajo. Motivo por el cual el ambiente laboral es tenso\",\n",
    "\"me molesta la falta de compromiso de un miembro de mi familia para ayudar en casa\",\n",
    "\"me quede sin trabajo hace días\",\n",
    "\"me hago ilusiones con personas muy rapido\",\n",
    "\"que ya no pude terminar mis estudios superiores y no he podido encontrar  jn mejor empleo\",\n",
    "\"voy a comezar a vivir con mi esposo, no tenemos mucha estabilidad economica, es injusto trabajar tanto y aun asi tener problemas economicos\",\n",
    "\"la pareja que tenia me mintio y engaño mucho\",\n",
    "\"ayer fue cumpleaños de mi novio y lo mande felicitar por fb y borro la felicitacion y mi foto y eso me molesto mucho\",\n",
    "\"hoy me robaron dinero de un tramite de la oficina eso me causo preocupacion y tuve mucho trabajo, me acelere mucho y con la tension del problema... me causo estres y al final de la jornada cansancio y un poco de ansiedad\",\n",
    "\"No me esfuerzo lo suficiente\",\n",
    "\"fracaso de pareja\",\n",
    "\"no puedo terminar los trabajos a  tiempo\",\n",
    "\"fallecio una persona muy querida, era como si fuera parte de mi familia ... esto me hace sentir triste\",\n",
    "\"almejo se va a otros lados en lugar de estar en el proyecto del eneit\",\n",
    "\"me siento tonta\",\n",
    "\"un posible trabajo me poner en la necesidad de cambiar de residencia\",\n",
    "\"la verdad ni yo se que es lo que pasa,.de repente esroy.bien y de rato unos 'bajones' feos\",\n",
    "\"siento que voy a reprobar\",\n",
    "\"que no me atiende\",\n",
    "\"me siento insegura al abordar una conversación me da miedo hablar algunas cosas\",\n",
    "\"me molesta mucho que mi esposo se tome las cosas con tanta calma... que sea tan decidioso... que tenga que estarlo presionando para que haga las cosas\",\n",
    "\"mi hijo se va a regresar con su padre porque quiere estudiar allá, yo me siento impotente enojada porque no logre los planes de cuando llegamos aquí y ahora el se va se que es para superarse pero creo que no di el 100 con él\",\n",
    "\"Mi novia no me ayuda con las labores del hogar\",\n",
    "\"no es justo que yo trabaje esforzandome mucho para terminar con mas rapidez... y las compañeras una sea muy lenta y la otra sea tan conchuda eso mr irrita bastante que nos le llamen la atencion me da mucho coraje\",\n",
    "\"estoy como aburrida..solo quiero irme a acostar..nada me llama la atencion\",\n",
    "\"mesiento inseguro esto mebuelbe distraido esto metrae prpblemas en mi trabajo\",\n",
    "\"planeo realizarla por la tarde del día\",\n",
    "\"nada simplemente aceptar que tengo problemas psicológicos\",\n",
    "\"No tuve tiempo de hacerla\",\n",
    "\"no me di el tiempo para hacerlo\",\n",
    "\"pienso realizarla un rato mas\",\n",
    "\"falta de tiempo\",\n",
    "\"no me organizo con mis tiempos, me gana el cansancio o la flojera\",\n",
    "\"cambie el dia porque tube hoy cosas q hacer..espero que mañana se pueda\",\n",
    "\"Aun no termina el día\",\n",
    "\"si la realice solo que algunas veces no se como darle la respuesta.la actividad es con mi hijo ayer le dije que lo quiero mucho y que es lo mas valioso que tengo, hoy le dije que termine sus materias que yo siempre lo voy apoyar\",\n",
    "\"sali a convivir con mis hijos\",\n",
    "\"No me puse de acuerdo con la amiga para salir\",\n",
    "\"estaba lloviendo y tuve que regresar mas rapido\",\n",
    "\"no necesite ayuda\",\n",
    "\"La lluvia\",\n",
    "\"Falta de tiempo\",\n",
    "\"Cambio de planes\",\n",
    "\"No hubo obstáculo\",\n",
    "\"pues ver lo positivo de ello\",\n",
    "\"considere mas opciones\",\n",
    "\"no lo sé\",\n",
    "\"que busque empleo donde se sienta mejor\",\n",
    "\"que es muy valioso que puede salir adelante solo\",\n",
    "\"que le echara ganas que nadie nace enseñado\",\n",
    "\"no te preocupes todo va a mejorar, asi es como comienzan las parejas pero es parte del matrimonio, no te desanimes echenle  ganas\",\n",
    "\"que buscara otra y se olvidara de ella\",\n",
    "\"que vale mucho,,,pero no ha llegado la persona correcta\",\n",
    "\"si tu pareja te ignora es porque no le importas\",\n",
    "\"abraza tu ansiedad no pasa nada, estas en tx todo va fluyendo poco a poco respira... piensa en detectar que situacion te pone asi... disfruta cada momento relajate\",\n",
    "\"No te excuses\",\n",
    "\"que no sea como yo\",\n",
    "\"etres, presion\",\n",
    "\"no tengo explicación\",\n",
    "\"que tuviera comunicacion\",\n",
    "\"que el no ya es seguro hay que buscar el si\",\n",
    "\"ten paciencia poco a poco... todo saldra bien\",\n",
    "\"que se vea en mi y no cometa los mismos errores pues no se beneficia en nada y se perjudica a los hijos\",\n",
    "\"Llegar a un acuerdo para repartir las labores\",\n",
    "\"nose\",\n",
    "\"no se..no tengo ganas de dar ninguna explicación\",\n",
    "\"necesito integrarme mas a las actividades en grupo y quitar las barreras que implemento para que no me conozcan\",\n",
    "\"porque no puedo desempeñarme en cualquier área de trabajo\",\n",
    "\"que dificil es comenzar una vida juntos, muchos obstaculos\",\n",
    "\"tengo miedo de tener crisis de ansiedad\",\n",
    "\"miedo a sentir ansiedad\",\n",
    "\"que no podremos salir adelante con tantos gastos... yo no puedo sola\",\n",
    "\"no he luchado lo suficiente para darles a mis hijos lo que necesitan y la atención que merecen\",\n",
    "\"Es necesario que me ayude con algunas labores\",\n",
    "\"darme un tiempo para refelxionar y no nada mas irme a la primera imprecion o pensamiento.\",\n",
    "\"no centrarme solo en una solución, sino ver mas opciones y pensar de manera diferente\",\n",
    "\"que el preocuparme por las acciones de los otros altera mi comportamiento. necesito centrarme en mí y mis actividades para que mi bienestar no se vea afectado.\",\n",
    "\"No tomar importancia de las acciones de los demás\",\n",
    "\"no pensar negativamente\",\n",
    "\"a valorarme mas y aceptar las cosas\",\n",
    "\"que debo aceptarme tal y cual soy\",\n",
    "\"mmmm no tener un pensamiento o vision tan cuadrada... aprender a observar y tomar calma ante todo\",\n",
    "\"que no debo sufrir por acciones ajenas\",\n",
    "\"que no estoy sola....y que valgo  mucho\",\n",
    "\"pues es verdad una persona no es todo el mundo hay personas q de verdad nos aprecian..no podemos cambiar la forma de ser de nadie..solo la nuestra\",\n",
    "\"No pienses,actua\",\n",
    "\"que valgo por mi pefsona\",\n",
    "\"alrender a escuchar y respetar las opiniones de los demas\",\n",
    "\"las cosas en que fallo no determinan quien soy\",\n",
    "\"que los pensamientos me hacen sentir mal\",\n",
    "\"que me debo ocupar mas de mi\",\n",
    "\"sigo molesta\",\n",
    "\"que no debo permitir que los comentarios de mis hijos me lastimen ya que para mi son mi prioridad\",\n",
    "\"Llegar a un acuerdo\",\n",
    "\"seguir adelante\",\n",
    "\"respirar pensar con mas calma y mas friamente sobre el asunto para poder decidir que hacer\",\n",
    "\"si no me gusta la vida q estoy viviendo que cambie un poco que la mejore\"]"
   ]
  },
  {
   "cell_type": "code",
   "execution_count": 13,
   "metadata": {
    "collapsed": true
   },
   "outputs": [],
   "source": [
    "my_vectorizer = pickle.load(open('models/vectorizer_TF-IDF.pkl','rb'))\n",
    "best_model = load_model('NN_models/TF-IDF_NNLR3_lemma.h5')"
   ]
  },
  {
   "cell_type": "code",
   "execution_count": 27,
   "metadata": {},
   "outputs": [
    {
     "name": "stdout",
     "output_type": "stream",
     "text": [
      "\n",
      "Input text: me molesta la falta de compromiso de un miembro de mi familia para ayudar en casa\n",
      "Probability: [0.3107471]\n",
      "Emotion: Pity\n",
      "Intensity: 55\n",
      "Decay: 6\n",
      "Process took 0.3910408020019531 seconds to finish\n",
      "\n"
     ]
    }
   ],
   "source": [
    "# my_text = 'Tengo muchas deudas en el banco. Si no pago me meteran a la carcel y tendre que alejarme de mis hisjo'\n",
    "\n",
    "my_text = \"\".join(random.sample(text_examples,1))\n",
    "\n",
    "start = time()\n",
    "print(f\"\\nInput text: {my_text}\")\n",
    "\n",
    "my_text = my_vectorizer.transform(clean_text(my_text))\n",
    "\n",
    "score = best_model.predict(my_text)[0]\n",
    "\n",
    "print(f\"Probability: {score}\")\n",
    "emotion,intensity,decay = ((\"Happy_For\",120,3) if score>=0.8 \n",
    "                           else (\"Joy\",100,6) if 0.66<=score<0.8\n",
    "                           else (\"Neutral\",0,6) if 0.56<=score<0.66\n",
    "                           else (\"Pity\",55,6) if 0.26<=score<0.56\n",
    "                           else (\"Pity\",80,3))\n",
    "print(f\"Emotion: {emotion}\\nIntensity: {intensity}\\nDecay: {decay}\")\n",
    "\n",
    "print(f\"Process took {time()-start} seconds to finish\\n\")"
   ]
  },
  {
   "cell_type": "code",
   "execution_count": null,
   "metadata": {
    "collapsed": true
   },
   "outputs": [],
   "source": []
  }
 ],
 "metadata": {
  "kernelspec": {
   "display_name": "Python 3",
   "language": "python",
   "name": "python3"
  },
  "language_info": {
   "codemirror_mode": {
    "name": "ipython",
    "version": 3
   },
   "file_extension": ".py",
   "mimetype": "text/x-python",
   "name": "python",
   "nbconvert_exporter": "python",
   "pygments_lexer": "ipython3",
   "version": "3.7.3"
  },
  "varInspector": {
   "cols": {
    "lenName": 16,
    "lenType": 16,
    "lenVar": 40
   },
   "kernels_config": {
    "python": {
     "delete_cmd_postfix": "",
     "delete_cmd_prefix": "del ",
     "library": "var_list.py",
     "varRefreshCmd": "print(var_dic_list())"
    },
    "r": {
     "delete_cmd_postfix": ") ",
     "delete_cmd_prefix": "rm(",
     "library": "var_list.r",
     "varRefreshCmd": "cat(var_dic_list()) "
    }
   },
   "types_to_exclude": [
    "module",
    "function",
    "builtin_function_or_method",
    "instance",
    "_Feature"
   ],
   "window_display": false
  }
 },
 "nbformat": 4,
 "nbformat_minor": 2
}
