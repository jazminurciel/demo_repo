{
 "cells": [
  {
   "cell_type": "code",
   "execution_count": 1,
   "metadata": {},
   "outputs": [
    {
     "name": "stderr",
     "output_type": "stream",
     "text": [
      "Using TensorFlow backend.\n"
     ]
    }
   ],
   "source": [
    "from symspellpy.symspellpy import SymSpell, Verbosity\n",
    "from time import time\n",
    "import pandas as pd\n",
    "import numpy as np\n",
    "import pickle\n",
    "import random\n",
    "import spacy\n",
    "import json\n",
    "import os\n",
    "import re\n",
    "\n",
    "from sklearn.feature_extraction.text import TfidfVectorizer\n",
    "\n",
    "import keras\n",
    "from keras.models import Sequential\n",
    "from keras.models import load_model\n",
    "from keras.layers import Dense, Dropout\n",
    "from keras.layers import Flatten\n",
    "from keras.layers.embeddings import Embedding\n",
    "from keras.preprocessing import sequence"
   ]
  },
  {
   "cell_type": "markdown",
   "metadata": {},
   "source": [
    "# ML Model Building"
   ]
  },
  {
   "cell_type": "code",
   "execution_count": 2,
   "metadata": {},
   "outputs": [],
   "source": [
    "def batch_generator_shuffle(X_data, y_data, batch_size):\n",
    "    samples_per_epoch = X_data.shape[0]\n",
    "    number_of_batches = samples_per_epoch/batch_size\n",
    "    counter=0\n",
    "    index = np.arange(np.shape(y_data)[0])\n",
    "    np.random.shuffle(index)\n",
    "    while 1:\n",
    "        index_batch = index[batch_size*counter:batch_size*(counter+1)]\n",
    "        X_batch = X_data[index_batch,:].toarray()\n",
    "        y_batch = y_data[y_data.index[index_batch]]\n",
    "        counter += 1\n",
    "        yield X_batch,y_batch\n",
    "        if (counter > number_of_batches):\n",
    "            np.random.shuffle(index)\n",
    "            counter=0"
   ]
  },
  {
   "cell_type": "code",
   "execution_count": 3,
   "metadata": {},
   "outputs": [],
   "source": [
    "df_train = pd.read_csv('train_sets/TF-IDF_NNLR3_train.csv',encoding='utf-8-sig',index_col='tweetid')\n",
    "df_test = pd.read_csv('test_sets/TF-IDF_MultinomialNB_test.csv',encoding='utf-8-sig',index_col='tweetid')\n",
    "df_validation = pd.read_csv('validation_sets/validation_corrected.csv',encoding='utf-8-sig',index_col='id')"
   ]
  },
  {
   "cell_type": "code",
   "execution_count": 4,
   "metadata": {},
   "outputs": [
    {
     "data": {
      "text/html": [
       "<div>\n",
       "<style scoped>\n",
       "    .dataframe tbody tr th:only-of-type {\n",
       "        vertical-align: middle;\n",
       "    }\n",
       "\n",
       "    .dataframe tbody tr th {\n",
       "        vertical-align: top;\n",
       "    }\n",
       "\n",
       "    .dataframe thead th {\n",
       "        text-align: right;\n",
       "    }\n",
       "</style>\n",
       "<table border=\"1\" class=\"dataframe\">\n",
       "  <thead>\n",
       "    <tr style=\"text-align: right;\">\n",
       "      <th></th>\n",
       "      <th>clean_content_no</th>\n",
       "      <th>lemma_content_no</th>\n",
       "      <th>stemm_content_no</th>\n",
       "      <th>sentiments</th>\n",
       "    </tr>\n",
       "    <tr>\n",
       "      <th>tweetid</th>\n",
       "      <th></th>\n",
       "      <th></th>\n",
       "      <th></th>\n",
       "      <th></th>\n",
       "    </tr>\n",
       "  </thead>\n",
       "  <tbody>\n",
       "    <tr>\n",
       "      <th>1134808220537630722</th>\n",
       "      <td>hace una semana estaba lista para mi prefiesta...</td>\n",
       "      <td>hacer uno semana estar listo parir mi prefiest...</td>\n",
       "      <td>hac una seman estab list par mi prefiest ahori...</td>\n",
       "      <td>N</td>\n",
       "    </tr>\n",
       "    <tr>\n",
       "      <th>1131548672246730752</th>\n",
       "      <td>un chalao en canta como colo de ese chalao soy yo</td>\n",
       "      <td>uno chalao en cantar comer colo de ese chalao ...</td>\n",
       "      <td>un chala en cant com col de ese chala soy yo</td>\n",
       "      <td>N</td>\n",
       "    </tr>\n",
       "    <tr>\n",
       "      <th>1131940623769055232</th>\n",
       "      <td>mira mami sin cruda</td>\n",
       "      <td>mirar mami sin crudo</td>\n",
       "      <td>mir mami sin crud</td>\n",
       "      <td>P</td>\n",
       "    </tr>\n",
       "    <tr>\n",
       "      <th>171566521334771712</th>\n",
       "      <td>en la protesta vecinal contra el cierre del am...</td>\n",
       "      <td>en lo protestar vecinal contra el cerrar del a...</td>\n",
       "      <td>en la protest vecinal contr el cierr del ambul...</td>\n",
       "      <td>N</td>\n",
       "    </tr>\n",
       "    <tr>\n",
       "      <th>1137017243428982784</th>\n",
       "      <td>delidesayunos time con la cálidas y sabor que ...</td>\n",
       "      <td>delidesayunos timar con lo cálido y sabor que ...</td>\n",
       "      <td>delidesayun tim con la cal y sabor que te mere...</td>\n",
       "      <td>N</td>\n",
       "    </tr>\n",
       "  </tbody>\n",
       "</table>\n",
       "</div>"
      ],
      "text/plain": [
       "                                                      clean_content_no  \\\n",
       "tweetid                                                                  \n",
       "1134808220537630722  hace una semana estaba lista para mi prefiesta...   \n",
       "1131548672246730752  un chalao en canta como colo de ese chalao soy yo   \n",
       "1131940623769055232                                mira mami sin cruda   \n",
       "171566521334771712   en la protesta vecinal contra el cierre del am...   \n",
       "1137017243428982784  delidesayunos time con la cálidas y sabor que ...   \n",
       "\n",
       "                                                      lemma_content_no  \\\n",
       "tweetid                                                                  \n",
       "1134808220537630722  hacer uno semana estar listo parir mi prefiest...   \n",
       "1131548672246730752  uno chalao en cantar comer colo de ese chalao ...   \n",
       "1131940623769055232                               mirar mami sin crudo   \n",
       "171566521334771712   en lo protestar vecinal contra el cerrar del a...   \n",
       "1137017243428982784  delidesayunos timar con lo cálido y sabor que ...   \n",
       "\n",
       "                                                      stemm_content_no  \\\n",
       "tweetid                                                                  \n",
       "1134808220537630722  hac una seman estab list par mi prefiest ahori...   \n",
       "1131548672246730752       un chala en cant com col de ese chala soy yo   \n",
       "1131940623769055232                                  mir mami sin crud   \n",
       "171566521334771712   en la protest vecinal contr el cierr del ambul...   \n",
       "1137017243428982784  delidesayun tim con la cal y sabor que te mere...   \n",
       "\n",
       "                    sentiments  \n",
       "tweetid                         \n",
       "1134808220537630722          N  \n",
       "1131548672246730752          N  \n",
       "1131940623769055232          P  \n",
       "171566521334771712           N  \n",
       "1137017243428982784          N  "
      ]
     },
     "execution_count": 4,
     "metadata": {},
     "output_type": "execute_result"
    }
   ],
   "source": [
    "df_train = df_train.sample(frac=1,random_state=24)\n",
    "df_train.head()"
   ]
  },
  {
   "cell_type": "code",
   "execution_count": 5,
   "metadata": {},
   "outputs": [],
   "source": [
    "vectorizer = TfidfVectorizer(max_df=0.5,min_df=7,use_idf=False,norm='l2',max_features=11000,ngram_range=(1, 2),stop_words=None)\n",
    "\n",
    "seed = 7\n",
    "np.random.seed(seed)\n",
    "\n",
    "df_train.reset_index(inplace=True)\n",
    "df_test.reset_index(inplace=True)\n",
    "\n",
    "X_train,y_train = df_train['lemma_content_no'],pd.Series([1 if i=='P' else 0 for i in df_train['sentiments']],index = df_train.index)\n",
    "X_test,y_test = df_test['lemma_content_no'],pd.Series([1 if i=='P' else 0 for i in df_test['value']],index = df_test.index)\n",
    "\n",
    "X_train = vectorizer.fit_transform(X_train)\n",
    "X_test = vectorizer.transform(X_test)"
   ]
  },
  {
   "cell_type": "code",
   "execution_count": 6,
   "metadata": {},
   "outputs": [
    {
     "name": "stderr",
     "output_type": "stream",
     "text": [
      "WARNING: Logging before flag parsing goes to stderr.\n",
      "W0829 11:38:43.705867 11732 deprecation_wrapper.py:119] From C:\\anaconda3\\envs\\benja\\lib\\site-packages\\keras\\backend\\tensorflow_backend.py:74: The name tf.get_default_graph is deprecated. Please use tf.compat.v1.get_default_graph instead.\n",
      "\n",
      "W0829 11:38:44.156119 11732 deprecation_wrapper.py:119] From C:\\anaconda3\\envs\\benja\\lib\\site-packages\\keras\\backend\\tensorflow_backend.py:517: The name tf.placeholder is deprecated. Please use tf.compat.v1.placeholder instead.\n",
      "\n",
      "W0829 11:38:44.177107 11732 deprecation_wrapper.py:119] From C:\\anaconda3\\envs\\benja\\lib\\site-packages\\keras\\backend\\tensorflow_backend.py:4138: The name tf.random_uniform is deprecated. Please use tf.random.uniform instead.\n",
      "\n",
      "W0829 11:38:44.209089 11732 deprecation_wrapper.py:119] From C:\\anaconda3\\envs\\benja\\lib\\site-packages\\keras\\backend\\tensorflow_backend.py:133: The name tf.placeholder_with_default is deprecated. Please use tf.compat.v1.placeholder_with_default instead.\n",
      "\n",
      "W0829 11:38:44.219083 11732 deprecation.py:506] From C:\\anaconda3\\envs\\benja\\lib\\site-packages\\keras\\backend\\tensorflow_backend.py:3445: calling dropout (from tensorflow.python.ops.nn_ops) with keep_prob is deprecated and will be removed in a future version.\n",
      "Instructions for updating:\n",
      "Please use `rate` instead of `keep_prob`. Rate should be set to `rate = 1 - keep_prob`.\n",
      "W0829 11:38:44.269054 11732 deprecation_wrapper.py:119] From C:\\anaconda3\\envs\\benja\\lib\\site-packages\\keras\\optimizers.py:790: The name tf.train.Optimizer is deprecated. Please use tf.compat.v1.train.Optimizer instead.\n",
      "\n",
      "W0829 11:38:44.275052 11732 deprecation_wrapper.py:119] From C:\\anaconda3\\envs\\benja\\lib\\site-packages\\keras\\backend\\tensorflow_backend.py:3376: The name tf.log is deprecated. Please use tf.math.log instead.\n",
      "\n",
      "W0829 11:38:44.281047 11732 deprecation.py:323] From C:\\anaconda3\\envs\\benja\\lib\\site-packages\\tensorflow\\python\\ops\\nn_impl.py:180: add_dispatch_support.<locals>.wrapper (from tensorflow.python.ops.array_ops) is deprecated and will be removed in a future version.\n",
      "Instructions for updating:\n",
      "Use tf.where in 2.0, which has the same broadcast rule as np.where\n"
     ]
    },
    {
     "name": "stdout",
     "output_type": "stream",
     "text": [
      "Epoch 1/2\n"
     ]
    },
    {
     "name": "stdout",
     "output_type": "stream",
     "text": [
      " 549/3392 [===>..........................] - ETA: 1:06:04 - loss: 0.6927 - acc: 0.62 - ETA: 23:06 - loss: 0.6881 - acc: 0.5938 - ETA: 14:30 - loss: 0.6847 - acc: 0.61 - ETA: 9:32 - loss: 0.6902 - acc: 0.5508 - ETA: 7:17 - loss: 0.6902 - acc: 0.545 - ETA: 6:00 - loss: 0.6851 - acc: 0.553 - ETA: 5:11 - loss: 0.6857 - acc: 0.553 - ETA: 4:36 - loss: 0.6829 - acc: 0.554 - ETA: 4:10 - loss: 0.6801 - acc: 0.565 - ETA: 3:50 - loss: 0.6778 - acc: 0.572 - ETA: 3:34 - loss: 0.6751 - acc: 0.578 - ETA: 3:21 - loss: 0.6734 - acc: 0.578 - ETA: 3:10 - loss: 0.6688 - acc: 0.591 - ETA: 3:01 - loss: 0.6647 - acc: 0.602 - ETA: 2:54 - loss: 0.6612 - acc: 0.609 - ETA: 2:47 - loss: 0.6567 - acc: 0.610 - ETA: 2:41 - loss: 0.6539 - acc: 0.614 - ETA: 2:36 - loss: 0.6522 - acc: 0.619 - ETA: 2:31 - loss: 0.6487 - acc: 0.623 - ETA: 2:27 - loss: 0.6474 - acc: 0.626 - ETA: 2:24 - loss: 0.6487 - acc: 0.625 - ETA: 2:21 - loss: 0.6456 - acc: 0.630 - ETA: 2:19 - loss: 0.6446 - acc: 0.631 - ETA: 2:16 - loss: 0.6435 - acc: 0.632 - ETA: 2:13 - loss: 0.6442 - acc: 0.632 - ETA: 2:11 - loss: 0.6427 - acc: 0.635 - ETA: 2:09 - loss: 0.6446 - acc: 0.634 - ETA: 2:07 - loss: 0.6428 - acc: 0.635 - ETA: 2:05 - loss: 0.6427 - acc: 0.634 - ETA: 2:04 - loss: 0.6405 - acc: 0.637 - ETA: 2:03 - loss: 0.6379 - acc: 0.639 - ETA: 2:01 - loss: 0.6359 - acc: 0.642 - ETA: 2:00 - loss: 0.6327 - acc: 0.644 - ETA: 1:58 - loss: 0.6306 - acc: 0.646 - ETA: 1:57 - loss: 0.6276 - acc: 0.648 - ETA: 1:56 - loss: 0.6252 - acc: 0.651 - ETA: 1:55 - loss: 0.6249 - acc: 0.650 - ETA: 1:54 - loss: 0.6217 - acc: 0.653 - ETA: 1:53 - loss: 0.6207 - acc: 0.654 - ETA: 1:52 - loss: 0.6193 - acc: 0.655 - ETA: 1:51 - loss: 0.6208 - acc: 0.653 - ETA: 1:50 - loss: 0.6187 - acc: 0.654 - ETA: 1:49 - loss: 0.6209 - acc: 0.654 - ETA: 1:48 - loss: 0.6212 - acc: 0.653 - ETA: 1:47 - loss: 0.6189 - acc: 0.655 - ETA: 1:46 - loss: 0.6156 - acc: 0.657 - ETA: 1:45 - loss: 0.6154 - acc: 0.657 - ETA: 1:45 - loss: 0.6148 - acc: 0.658 - ETA: 1:44 - loss: 0.6126 - acc: 0.659 - ETA: 1:44 - loss: 0.6110 - acc: 0.661 - ETA: 1:43 - loss: 0.6099 - acc: 0.663 - ETA: 1:42 - loss: 0.6077 - acc: 0.665 - ETA: 1:42 - loss: 0.6069 - acc: 0.665 - ETA: 1:41 - loss: 0.6065 - acc: 0.665 - ETA: 1:41 - loss: 0.6057 - acc: 0.665 - ETA: 1:41 - loss: 0.6061 - acc: 0.666 - ETA: 1:41 - loss: 0.6060 - acc: 0.666 - ETA: 1:40 - loss: 0.6060 - acc: 0.666 - ETA: 1:40 - loss: 0.6036 - acc: 0.669 - ETA: 1:40 - loss: 0.6041 - acc: 0.669 - ETA: 1:40 - loss: 0.6046 - acc: 0.668 - ETA: 1:40 - loss: 0.6043 - acc: 0.669 - ETA: 1:40 - loss: 0.6035 - acc: 0.671 - ETA: 1:39 - loss: 0.6030 - acc: 0.671 - ETA: 1:39 - loss: 0.6033 - acc: 0.671 - ETA: 1:38 - loss: 0.6021 - acc: 0.672 - ETA: 1:38 - loss: 0.6015 - acc: 0.673 - ETA: 1:38 - loss: 0.6013 - acc: 0.673 - ETA: 1:37 - loss: 0.6001 - acc: 0.674 - ETA: 1:37 - loss: 0.5998 - acc: 0.674 - ETA: 1:36 - loss: 0.5993 - acc: 0.674 - ETA: 1:36 - loss: 0.5985 - acc: 0.675 - ETA: 1:35 - loss: 0.5975 - acc: 0.676 - ETA: 1:35 - loss: 0.5966 - acc: 0.677 - ETA: 1:35 - loss: 0.5962 - acc: 0.677 - ETA: 1:34 - loss: 0.5948 - acc: 0.679 - ETA: 1:34 - loss: 0.5948 - acc: 0.679 - ETA: 1:34 - loss: 0.5949 - acc: 0.679 - ETA: 1:33 - loss: 0.5934 - acc: 0.681 - ETA: 1:33 - loss: 0.5922 - acc: 0.682 - ETA: 1:33 - loss: 0.5914 - acc: 0.682 - ETA: 1:32 - loss: 0.5911 - acc: 0.683 - ETA: 1:32 - loss: 0.5901 - acc: 0.684 - ETA: 1:32 - loss: 0.5909 - acc: 0.684 - ETA: 1:31 - loss: 0.5897 - acc: 0.685 - ETA: 1:31 - loss: 0.5888 - acc: 0.686 - ETA: 1:31 - loss: 0.5889 - acc: 0.686 - ETA: 1:30 - loss: 0.5878 - acc: 0.687 - ETA: 1:30 - loss: 0.5884 - acc: 0.686 - ETA: 1:30 - loss: 0.5890 - acc: 0.686 - ETA: 1:30 - loss: 0.5887 - acc: 0.686 - ETA: 1:29 - loss: 0.5881 - acc: 0.687 - ETA: 1:29 - loss: 0.5876 - acc: 0.687 - ETA: 1:29 - loss: 0.5878 - acc: 0.688 - ETA: 1:29 - loss: 0.5872 - acc: 0.688 - ETA: 1:28 - loss: 0.5873 - acc: 0.688 - ETA: 1:28 - loss: 0.5866 - acc: 0.688 - ETA: 1:28 - loss: 0.5859 - acc: 0.689 - ETA: 1:28 - loss: 0.5853 - acc: 0.689 - ETA: 1:27 - loss: 0.5840 - acc: 0.690 - ETA: 1:27 - loss: 0.5839 - acc: 0.691 - ETA: 1:27 - loss: 0.5832 - acc: 0.691 - ETA: 1:27 - loss: 0.5831 - acc: 0.691 - ETA: 1:26 - loss: 0.5823 - acc: 0.692 - ETA: 1:26 - loss: 0.5819 - acc: 0.692 - ETA: 1:26 - loss: 0.5820 - acc: 0.692 - ETA: 1:26 - loss: 0.5814 - acc: 0.693 - ETA: 1:26 - loss: 0.5811 - acc: 0.692 - ETA: 1:25 - loss: 0.5808 - acc: 0.693 - ETA: 1:25 - loss: 0.5807 - acc: 0.694 - ETA: 1:25 - loss: 0.5807 - acc: 0.694 - ETA: 1:25 - loss: 0.5804 - acc: 0.694 - ETA: 1:25 - loss: 0.5798 - acc: 0.694 - ETA: 1:25 - loss: 0.5788 - acc: 0.695 - ETA: 1:24 - loss: 0.5790 - acc: 0.695 - ETA: 1:24 - loss: 0.5787 - acc: 0.695 - ETA: 1:24 - loss: 0.5778 - acc: 0.696 - ETA: 1:24 - loss: 0.5779 - acc: 0.696 - ETA: 1:24 - loss: 0.5777 - acc: 0.696 - ETA: 1:23 - loss: 0.5774 - acc: 0.696 - ETA: 1:23 - loss: 0.5772 - acc: 0.696 - ETA: 1:23 - loss: 0.5765 - acc: 0.697 - ETA: 1:23 - loss: 0.5759 - acc: 0.697 - ETA: 1:23 - loss: 0.5751 - acc: 0.698 - ETA: 1:23 - loss: 0.5753 - acc: 0.698 - ETA: 1:22 - loss: 0.5751 - acc: 0.698 - ETA: 1:22 - loss: 0.5751 - acc: 0.698 - ETA: 1:22 - loss: 0.5745 - acc: 0.698 - ETA: 1:22 - loss: 0.5742 - acc: 0.698 - ETA: 1:22 - loss: 0.5743 - acc: 0.698 - ETA: 1:22 - loss: 0.5737 - acc: 0.698 - ETA: 1:21 - loss: 0.5732 - acc: 0.698 - ETA: 1:21 - loss: 0.5729 - acc: 0.699 - ETA: 1:21 - loss: 0.5726 - acc: 0.699 - ETA: 1:21 - loss: 0.5720 - acc: 0.700 - ETA: 1:21 - loss: 0.5723 - acc: 0.699 - ETA: 1:21 - loss: 0.5723 - acc: 0.700 - ETA: 1:21 - loss: 0.5721 - acc: 0.700 - ETA: 1:21 - loss: 0.5720 - acc: 0.700 - ETA: 1:21 - loss: 0.5717 - acc: 0.700 - ETA: 1:21 - loss: 0.5714 - acc: 0.700 - ETA: 1:21 - loss: 0.5711 - acc: 0.700 - ETA: 1:20 - loss: 0.5716 - acc: 0.700 - ETA: 1:20 - loss: 0.5716 - acc: 0.700 - ETA: 1:20 - loss: 0.5714 - acc: 0.700 - ETA: 1:20 - loss: 0.5711 - acc: 0.700 - ETA: 1:20 - loss: 0.5707 - acc: 0.700 - ETA: 1:20 - loss: 0.5702 - acc: 0.701 - ETA: 1:20 - loss: 0.5695 - acc: 0.701 - ETA: 1:20 - loss: 0.5688 - acc: 0.702 - ETA: 1:20 - loss: 0.5685 - acc: 0.702 - ETA: 1:19 - loss: 0.5675 - acc: 0.703 - ETA: 1:19 - loss: 0.5675 - acc: 0.703 - ETA: 1:19 - loss: 0.5672 - acc: 0.703 - ETA: 1:19 - loss: 0.5669 - acc: 0.703 - ETA: 1:19 - loss: 0.5669 - acc: 0.703 - ETA: 1:19 - loss: 0.5668 - acc: 0.703 - ETA: 1:19 - loss: 0.5665 - acc: 0.704 - ETA: 1:18 - loss: 0.5662 - acc: 0.704 - ETA: 1:18 - loss: 0.5662 - acc: 0.704 - ETA: 1:18 - loss: 0.5660 - acc: 0.703 - ETA: 1:18 - loss: 0.5663 - acc: 0.703 - ETA: 1:18 - loss: 0.5656 - acc: 0.704 - ETA: 1:18 - loss: 0.5660 - acc: 0.704 - ETA: 1:17 - loss: 0.5658 - acc: 0.704 - ETA: 1:17 - loss: 0.5664 - acc: 0.703 - ETA: 1:17 - loss: 0.5658 - acc: 0.704 - ETA: 1:17 - loss: 0.5657 - acc: 0.704 - ETA: 1:17 - loss: 0.5651 - acc: 0.705 - ETA: 1:17 - loss: 0.5644 - acc: 0.706 - ETA: 1:17 - loss: 0.5640 - acc: 0.706 - ETA: 1:17 - loss: 0.5643 - acc: 0.706 - ETA: 1:16 - loss: 0.5638 - acc: 0.706 - ETA: 1:16 - loss: 0.5639 - acc: 0.706 - ETA: 1:16 - loss: 0.5635 - acc: 0.706 - ETA: 1:16 - loss: 0.5631 - acc: 0.707 - ETA: 1:16 - loss: 0.5633 - acc: 0.707 - ETA: 1:16 - loss: 0.5631 - acc: 0.707 - ETA: 1:16 - loss: 0.5633 - acc: 0.706 - ETA: 1:16 - loss: 0.5631 - acc: 0.707 - ETA: 1:16 - loss: 0.5632 - acc: 0.706 - ETA: 1:16 - loss: 0.5632 - acc: 0.706 - ETA: 1:16 - loss: 0.5630 - acc: 0.706 - ETA: 1:16 - loss: 0.5627 - acc: 0.706 - ETA: 1:16 - loss: 0.5627 - acc: 0.706 - ETA: 1:15 - loss: 0.5624 - acc: 0.707 - ETA: 1:15 - loss: 0.5617 - acc: 0.707 - ETA: 1:15 - loss: 0.5620 - acc: 0.707 - ETA: 1:15 - loss: 0.5619 - acc: 0.707 - ETA: 1:15 - loss: 0.5618 - acc: 0.707 - ETA: 1:15 - loss: 0.5615 - acc: 0.707 - ETA: 1:15 - loss: 0.5612 - acc: 0.708 - ETA: 1:15 - loss: 0.5607 - acc: 0.708 - ETA: 1:15 - loss: 0.5608 - acc: 0.708 - ETA: 1:15 - loss: 0.5609 - acc: 0.708 - ETA: 1:15 - loss: 0.5608 - acc: 0.708 - ETA: 1:15 - loss: 0.5606 - acc: 0.708 - ETA: 1:15 - loss: 0.5608 - acc: 0.708 - ETA: 1:15 - loss: 0.5607 - acc: 0.708 - ETA: 1:15 - loss: 0.5607 - acc: 0.708 - ETA: 1:15 - loss: 0.5608 - acc: 0.708 - ETA: 1:14 - loss: 0.5606 - acc: 0.708 - ETA: 1:14 - loss: 0.5606 - acc: 0.708 - ETA: 1:14 - loss: 0.5610 - acc: 0.7086\b\b\b\b\b\b\b\b\b\b\b\b\b\b\b\b\b\b\b\b\b\b\b\b\b\b\b\b\b\b\b\b\b\b\b\b\b\b\b\b\b\b\b\b\b\b\b\b\b\b\b\b\b\b\b\b\b\b\b\b\b\b\b\b\b\b\b\b\b\b\b\b\b\b\b\b\b\b\b\b\b\b\b"
     ]
    },
    {
     "name": "stdout",
     "output_type": "stream",
     "text": [
      "1120/3392 [========>.....................] - ETA: 1:14 - loss: 0.5607 - acc: 0.708 - ETA: 1:14 - loss: 0.5604 - acc: 0.709 - ETA: 1:14 - loss: 0.5607 - acc: 0.709 - ETA: 1:14 - loss: 0.5605 - acc: 0.709 - ETA: 1:14 - loss: 0.5603 - acc: 0.709 - ETA: 1:14 - loss: 0.5597 - acc: 0.709 - ETA: 1:14 - loss: 0.5592 - acc: 0.710 - ETA: 1:14 - loss: 0.5594 - acc: 0.710 - ETA: 1:14 - loss: 0.5590 - acc: 0.710 - ETA: 1:14 - loss: 0.5586 - acc: 0.710 - ETA: 1:13 - loss: 0.5578 - acc: 0.711 - ETA: 1:13 - loss: 0.5578 - acc: 0.711 - ETA: 1:13 - loss: 0.5576 - acc: 0.711 - ETA: 1:13 - loss: 0.5575 - acc: 0.711 - ETA: 1:13 - loss: 0.5577 - acc: 0.711 - ETA: 1:13 - loss: 0.5572 - acc: 0.711 - ETA: 1:13 - loss: 0.5569 - acc: 0.711 - ETA: 1:13 - loss: 0.5567 - acc: 0.711 - ETA: 1:13 - loss: 0.5567 - acc: 0.711 - ETA: 1:12 - loss: 0.5565 - acc: 0.712 - ETA: 1:12 - loss: 0.5562 - acc: 0.712 - ETA: 1:12 - loss: 0.5561 - acc: 0.712 - ETA: 1:12 - loss: 0.5558 - acc: 0.712 - ETA: 1:12 - loss: 0.5556 - acc: 0.712 - ETA: 1:12 - loss: 0.5552 - acc: 0.712 - ETA: 1:12 - loss: 0.5553 - acc: 0.712 - ETA: 1:12 - loss: 0.5548 - acc: 0.713 - ETA: 1:12 - loss: 0.5547 - acc: 0.713 - ETA: 1:12 - loss: 0.5547 - acc: 0.713 - ETA: 1:12 - loss: 0.5547 - acc: 0.713 - ETA: 1:12 - loss: 0.5546 - acc: 0.712 - ETA: 1:12 - loss: 0.5544 - acc: 0.713 - ETA: 1:12 - loss: 0.5543 - acc: 0.713 - ETA: 1:12 - loss: 0.5540 - acc: 0.713 - ETA: 1:12 - loss: 0.5537 - acc: 0.713 - ETA: 1:11 - loss: 0.5537 - acc: 0.713 - ETA: 1:11 - loss: 0.5535 - acc: 0.713 - ETA: 1:11 - loss: 0.5533 - acc: 0.713 - ETA: 1:11 - loss: 0.5531 - acc: 0.713 - ETA: 1:11 - loss: 0.5530 - acc: 0.713 - ETA: 1:11 - loss: 0.5523 - acc: 0.714 - ETA: 1:11 - loss: 0.5522 - acc: 0.714 - ETA: 1:11 - loss: 0.5518 - acc: 0.714 - ETA: 1:10 - loss: 0.5520 - acc: 0.714 - ETA: 1:10 - loss: 0.5516 - acc: 0.714 - ETA: 1:10 - loss: 0.5518 - acc: 0.714 - ETA: 1:10 - loss: 0.5513 - acc: 0.714 - ETA: 1:10 - loss: 0.5513 - acc: 0.714 - ETA: 1:10 - loss: 0.5509 - acc: 0.715 - ETA: 1:10 - loss: 0.5507 - acc: 0.715 - ETA: 1:10 - loss: 0.5505 - acc: 0.715 - ETA: 1:10 - loss: 0.5504 - acc: 0.715 - ETA: 1:10 - loss: 0.5502 - acc: 0.715 - ETA: 1:09 - loss: 0.5501 - acc: 0.715 - ETA: 1:09 - loss: 0.5498 - acc: 0.715 - ETA: 1:09 - loss: 0.5496 - acc: 0.715 - ETA: 1:09 - loss: 0.5495 - acc: 0.716 - ETA: 1:09 - loss: 0.5495 - acc: 0.716 - ETA: 1:09 - loss: 0.5497 - acc: 0.716 - ETA: 1:09 - loss: 0.5493 - acc: 0.716 - ETA: 1:09 - loss: 0.5494 - acc: 0.716 - ETA: 1:09 - loss: 0.5493 - acc: 0.716 - ETA: 1:08 - loss: 0.5494 - acc: 0.716 - ETA: 1:08 - loss: 0.5493 - acc: 0.716 - ETA: 1:08 - loss: 0.5493 - acc: 0.716 - ETA: 1:08 - loss: 0.5489 - acc: 0.716 - ETA: 1:08 - loss: 0.5486 - acc: 0.716 - ETA: 1:08 - loss: 0.5483 - acc: 0.717 - ETA: 1:08 - loss: 0.5484 - acc: 0.716 - ETA: 1:08 - loss: 0.5489 - acc: 0.716 - ETA: 1:08 - loss: 0.5487 - acc: 0.716 - ETA: 1:08 - loss: 0.5484 - acc: 0.716 - ETA: 1:08 - loss: 0.5483 - acc: 0.716 - ETA: 1:07 - loss: 0.5483 - acc: 0.716 - ETA: 1:07 - loss: 0.5486 - acc: 0.716 - ETA: 1:07 - loss: 0.5486 - acc: 0.716 - ETA: 1:07 - loss: 0.5486 - acc: 0.716 - ETA: 1:07 - loss: 0.5483 - acc: 0.716 - ETA: 1:07 - loss: 0.5480 - acc: 0.716 - ETA: 1:07 - loss: 0.5475 - acc: 0.716 - ETA: 1:07 - loss: 0.5474 - acc: 0.717 - ETA: 1:07 - loss: 0.5470 - acc: 0.717 - ETA: 1:07 - loss: 0.5467 - acc: 0.717 - ETA: 1:06 - loss: 0.5469 - acc: 0.717 - ETA: 1:06 - loss: 0.5466 - acc: 0.717 - ETA: 1:06 - loss: 0.5464 - acc: 0.717 - ETA: 1:06 - loss: 0.5462 - acc: 0.717 - ETA: 1:06 - loss: 0.5458 - acc: 0.718 - ETA: 1:06 - loss: 0.5458 - acc: 0.718 - ETA: 1:06 - loss: 0.5458 - acc: 0.718 - ETA: 1:06 - loss: 0.5454 - acc: 0.718 - ETA: 1:06 - loss: 0.5452 - acc: 0.718 - ETA: 1:06 - loss: 0.5450 - acc: 0.718 - ETA: 1:05 - loss: 0.5450 - acc: 0.718 - ETA: 1:05 - loss: 0.5451 - acc: 0.718 - ETA: 1:05 - loss: 0.5453 - acc: 0.718 - ETA: 1:05 - loss: 0.5455 - acc: 0.718 - ETA: 1:05 - loss: 0.5451 - acc: 0.718 - ETA: 1:05 - loss: 0.5453 - acc: 0.718 - ETA: 1:05 - loss: 0.5451 - acc: 0.719 - ETA: 1:05 - loss: 0.5450 - acc: 0.719 - ETA: 1:05 - loss: 0.5450 - acc: 0.719 - ETA: 1:05 - loss: 0.5449 - acc: 0.719 - ETA: 1:05 - loss: 0.5448 - acc: 0.719 - ETA: 1:05 - loss: 0.5449 - acc: 0.718 - ETA: 1:04 - loss: 0.5450 - acc: 0.718 - ETA: 1:04 - loss: 0.5447 - acc: 0.718 - ETA: 1:04 - loss: 0.5445 - acc: 0.718 - ETA: 1:04 - loss: 0.5447 - acc: 0.718 - ETA: 1:04 - loss: 0.5446 - acc: 0.718 - ETA: 1:04 - loss: 0.5447 - acc: 0.718 - ETA: 1:04 - loss: 0.5446 - acc: 0.719 - ETA: 1:04 - loss: 0.5446 - acc: 0.719 - ETA: 1:04 - loss: 0.5445 - acc: 0.719 - ETA: 1:04 - loss: 0.5444 - acc: 0.719 - ETA: 1:04 - loss: 0.5441 - acc: 0.719 - ETA: 1:04 - loss: 0.5441 - acc: 0.719 - ETA: 1:04 - loss: 0.5440 - acc: 0.719 - ETA: 1:04 - loss: 0.5437 - acc: 0.719 - ETA: 1:03 - loss: 0.5435 - acc: 0.719 - ETA: 1:03 - loss: 0.5431 - acc: 0.720 - ETA: 1:03 - loss: 0.5429 - acc: 0.720 - ETA: 1:03 - loss: 0.5428 - acc: 0.720 - ETA: 1:03 - loss: 0.5425 - acc: 0.720 - ETA: 1:03 - loss: 0.5423 - acc: 0.720 - ETA: 1:03 - loss: 0.5421 - acc: 0.721 - ETA: 1:03 - loss: 0.5423 - acc: 0.721 - ETA: 1:03 - loss: 0.5423 - acc: 0.721 - ETA: 1:03 - loss: 0.5421 - acc: 0.721 - ETA: 1:03 - loss: 0.5420 - acc: 0.721 - ETA: 1:02 - loss: 0.5417 - acc: 0.721 - ETA: 1:02 - loss: 0.5418 - acc: 0.721 - ETA: 1:02 - loss: 0.5416 - acc: 0.721 - ETA: 1:02 - loss: 0.5416 - acc: 0.721 - ETA: 1:02 - loss: 0.5415 - acc: 0.722 - ETA: 1:02 - loss: 0.5415 - acc: 0.721 - ETA: 1:02 - loss: 0.5416 - acc: 0.721 - ETA: 1:02 - loss: 0.5417 - acc: 0.721 - ETA: 1:02 - loss: 0.5415 - acc: 0.721 - ETA: 1:02 - loss: 0.5412 - acc: 0.721 - ETA: 1:02 - loss: 0.5412 - acc: 0.721 - ETA: 1:01 - loss: 0.5412 - acc: 0.721 - ETA: 1:01 - loss: 0.5408 - acc: 0.722 - ETA: 1:01 - loss: 0.5404 - acc: 0.722 - ETA: 1:01 - loss: 0.5405 - acc: 0.722 - ETA: 1:01 - loss: 0.5402 - acc: 0.722 - ETA: 1:01 - loss: 0.5404 - acc: 0.722 - ETA: 1:01 - loss: 0.5401 - acc: 0.722 - ETA: 1:01 - loss: 0.5401 - acc: 0.722 - ETA: 1:01 - loss: 0.5398 - acc: 0.723 - ETA: 1:01 - loss: 0.5395 - acc: 0.723 - ETA: 1:01 - loss: 0.5398 - acc: 0.723 - ETA: 1:00 - loss: 0.5395 - acc: 0.723 - ETA: 1:00 - loss: 0.5393 - acc: 0.723 - ETA: 1:00 - loss: 0.5394 - acc: 0.723 - ETA: 1:00 - loss: 0.5395 - acc: 0.723 - ETA: 1:00 - loss: 0.5395 - acc: 0.723 - ETA: 1:00 - loss: 0.5394 - acc: 0.723 - ETA: 1:00 - loss: 0.5393 - acc: 0.723 - ETA: 1:00 - loss: 0.5391 - acc: 0.723 - ETA: 1:00 - loss: 0.5392 - acc: 0.723 - ETA: 1:00 - loss: 0.5389 - acc: 0.723 - ETA: 1:00 - loss: 0.5387 - acc: 0.723 - ETA: 1:00 - loss: 0.5386 - acc: 0.724 - ETA: 1:00 - loss: 0.5385 - acc: 0.724 - ETA: 1:00 - loss: 0.5383 - acc: 0.724 - ETA: 59s - loss: 0.5380 - acc: 0.724 - ETA: 59s - loss: 0.5381 - acc: 0.72 - ETA: 59s - loss: 0.5380 - acc: 0.72 - ETA: 59s - loss: 0.5381 - acc: 0.72 - ETA: 59s - loss: 0.5379 - acc: 0.72 - ETA: 59s - loss: 0.5379 - acc: 0.72 - ETA: 59s - loss: 0.5382 - acc: 0.72 - ETA: 59s - loss: 0.5381 - acc: 0.72 - ETA: 59s - loss: 0.5382 - acc: 0.72 - ETA: 59s - loss: 0.5380 - acc: 0.72 - ETA: 59s - loss: 0.5380 - acc: 0.72 - ETA: 59s - loss: 0.5379 - acc: 0.72 - ETA: 58s - loss: 0.5378 - acc: 0.72 - ETA: 58s - loss: 0.5378 - acc: 0.72 - ETA: 58s - loss: 0.5379 - acc: 0.72 - ETA: 58s - loss: 0.5378 - acc: 0.72 - ETA: 58s - loss: 0.5377 - acc: 0.72 - ETA: 58s - loss: 0.5377 - acc: 0.72 - ETA: 58s - loss: 0.5375 - acc: 0.72 - ETA: 58s - loss: 0.5375 - acc: 0.72 - ETA: 58s - loss: 0.5373 - acc: 0.72 - ETA: 58s - loss: 0.5372 - acc: 0.72 - ETA: 58s - loss: 0.5370 - acc: 0.72 - ETA: 58s - loss: 0.5369 - acc: 0.72 - ETA: 58s - loss: 0.5370 - acc: 0.72 - ETA: 58s - loss: 0.5372 - acc: 0.72 - ETA: 58s - loss: 0.5373 - acc: 0.72 - ETA: 58s - loss: 0.5373 - acc: 0.72 - ETA: 58s - loss: 0.5374 - acc: 0.72 - ETA: 57s - loss: 0.5374 - acc: 0.72 - ETA: 57s - loss: 0.5374 - acc: 0.72 - ETA: 57s - loss: 0.5372 - acc: 0.72 - ETA: 57s - loss: 0.5370 - acc: 0.72 - ETA: 57s - loss: 0.5369 - acc: 0.72 - ETA: 57s - loss: 0.5370 - acc: 0.72 - ETA: 57s - loss: 0.5370 - acc: 0.72 - ETA: 57s - loss: 0.5369 - acc: 0.72 - ETA: 57s - loss: 0.5369 - acc: 0.72 - ETA: 57s - loss: 0.5367 - acc: 0.72 - ETA: 57s - loss: 0.5368 - acc: 0.7249"
     ]
    },
    {
     "name": "stdout",
     "output_type": "stream",
     "text": [
      "1676/3392 [=============>................] - ETA: 57s - loss: 0.5367 - acc: 0.72 - ETA: 56s - loss: 0.5365 - acc: 0.72 - ETA: 56s - loss: 0.5366 - acc: 0.72 - ETA: 56s - loss: 0.5366 - acc: 0.72 - ETA: 56s - loss: 0.5365 - acc: 0.72 - ETA: 56s - loss: 0.5364 - acc: 0.72 - ETA: 56s - loss: 0.5364 - acc: 0.72 - ETA: 56s - loss: 0.5364 - acc: 0.72 - ETA: 56s - loss: 0.5364 - acc: 0.72 - ETA: 56s - loss: 0.5363 - acc: 0.72 - ETA: 56s - loss: 0.5363 - acc: 0.72 - ETA: 56s - loss: 0.5361 - acc: 0.72 - ETA: 56s - loss: 0.5361 - acc: 0.72 - ETA: 56s - loss: 0.5360 - acc: 0.72 - ETA: 56s - loss: 0.5359 - acc: 0.72 - ETA: 55s - loss: 0.5358 - acc: 0.72 - ETA: 55s - loss: 0.5359 - acc: 0.72 - ETA: 55s - loss: 0.5357 - acc: 0.72 - ETA: 55s - loss: 0.5357 - acc: 0.72 - ETA: 55s - loss: 0.5357 - acc: 0.72 - ETA: 55s - loss: 0.5356 - acc: 0.72 - ETA: 55s - loss: 0.5356 - acc: 0.72 - ETA: 55s - loss: 0.5355 - acc: 0.72 - ETA: 55s - loss: 0.5354 - acc: 0.72 - ETA: 55s - loss: 0.5354 - acc: 0.72 - ETA: 55s - loss: 0.5354 - acc: 0.72 - ETA: 55s - loss: 0.5352 - acc: 0.72 - ETA: 55s - loss: 0.5352 - acc: 0.72 - ETA: 55s - loss: 0.5352 - acc: 0.72 - ETA: 55s - loss: 0.5351 - acc: 0.72 - ETA: 55s - loss: 0.5348 - acc: 0.72 - ETA: 55s - loss: 0.5347 - acc: 0.72 - ETA: 55s - loss: 0.5346 - acc: 0.72 - ETA: 54s - loss: 0.5344 - acc: 0.72 - ETA: 54s - loss: 0.5342 - acc: 0.72 - ETA: 54s - loss: 0.5341 - acc: 0.72 - ETA: 54s - loss: 0.5339 - acc: 0.72 - ETA: 54s - loss: 0.5340 - acc: 0.72 - ETA: 54s - loss: 0.5338 - acc: 0.72 - ETA: 54s - loss: 0.5339 - acc: 0.72 - ETA: 54s - loss: 0.5336 - acc: 0.72 - ETA: 54s - loss: 0.5337 - acc: 0.72 - ETA: 54s - loss: 0.5335 - acc: 0.72 - ETA: 54s - loss: 0.5335 - acc: 0.72 - ETA: 54s - loss: 0.5334 - acc: 0.72 - ETA: 54s - loss: 0.5335 - acc: 0.72 - ETA: 54s - loss: 0.5333 - acc: 0.72 - ETA: 54s - loss: 0.5331 - acc: 0.72 - ETA: 53s - loss: 0.5328 - acc: 0.72 - ETA: 53s - loss: 0.5331 - acc: 0.72 - ETA: 53s - loss: 0.5327 - acc: 0.72 - ETA: 53s - loss: 0.5325 - acc: 0.72 - ETA: 53s - loss: 0.5324 - acc: 0.72 - ETA: 53s - loss: 0.5328 - acc: 0.72 - ETA: 53s - loss: 0.5328 - acc: 0.72 - ETA: 53s - loss: 0.5327 - acc: 0.72 - ETA: 53s - loss: 0.5328 - acc: 0.72 - ETA: 53s - loss: 0.5328 - acc: 0.72 - ETA: 53s - loss: 0.5329 - acc: 0.72 - ETA: 53s - loss: 0.5329 - acc: 0.72 - ETA: 52s - loss: 0.5326 - acc: 0.72 - ETA: 52s - loss: 0.5325 - acc: 0.72 - ETA: 52s - loss: 0.5328 - acc: 0.72 - ETA: 52s - loss: 0.5326 - acc: 0.72 - ETA: 52s - loss: 0.5325 - acc: 0.72 - ETA: 52s - loss: 0.5325 - acc: 0.72 - ETA: 52s - loss: 0.5325 - acc: 0.72 - ETA: 52s - loss: 0.5326 - acc: 0.72 - ETA: 52s - loss: 0.5326 - acc: 0.72 - ETA: 52s - loss: 0.5326 - acc: 0.72 - ETA: 52s - loss: 0.5328 - acc: 0.72 - ETA: 52s - loss: 0.5328 - acc: 0.72 - ETA: 52s - loss: 0.5327 - acc: 0.72 - ETA: 52s - loss: 0.5328 - acc: 0.72 - ETA: 52s - loss: 0.5328 - acc: 0.72 - ETA: 52s - loss: 0.5327 - acc: 0.72 - ETA: 52s - loss: 0.5328 - acc: 0.72 - ETA: 51s - loss: 0.5327 - acc: 0.72 - ETA: 51s - loss: 0.5325 - acc: 0.72 - ETA: 51s - loss: 0.5323 - acc: 0.72 - ETA: 51s - loss: 0.5321 - acc: 0.72 - ETA: 51s - loss: 0.5322 - acc: 0.72 - ETA: 51s - loss: 0.5322 - acc: 0.72 - ETA: 51s - loss: 0.5322 - acc: 0.72 - ETA: 51s - loss: 0.5323 - acc: 0.72 - ETA: 51s - loss: 0.5323 - acc: 0.72 - ETA: 51s - loss: 0.5323 - acc: 0.72 - ETA: 51s - loss: 0.5324 - acc: 0.72 - ETA: 51s - loss: 0.5322 - acc: 0.72 - ETA: 50s - loss: 0.5322 - acc: 0.72 - ETA: 50s - loss: 0.5319 - acc: 0.72 - ETA: 50s - loss: 0.5319 - acc: 0.72 - ETA: 50s - loss: 0.5317 - acc: 0.72 - ETA: 50s - loss: 0.5316 - acc: 0.72 - ETA: 50s - loss: 0.5315 - acc: 0.72 - ETA: 50s - loss: 0.5315 - acc: 0.72 - ETA: 50s - loss: 0.5313 - acc: 0.72 - ETA: 50s - loss: 0.5311 - acc: 0.72 - ETA: 50s - loss: 0.5313 - acc: 0.72 - ETA: 50s - loss: 0.5312 - acc: 0.72 - ETA: 50s - loss: 0.5312 - acc: 0.72 - ETA: 50s - loss: 0.5310 - acc: 0.72 - ETA: 50s - loss: 0.5308 - acc: 0.72 - ETA: 49s - loss: 0.5308 - acc: 0.72 - ETA: 49s - loss: 0.5308 - acc: 0.72 - ETA: 49s - loss: 0.5308 - acc: 0.72 - ETA: 49s - loss: 0.5307 - acc: 0.72 - ETA: 49s - loss: 0.5306 - acc: 0.72 - ETA: 49s - loss: 0.5304 - acc: 0.73 - ETA: 49s - loss: 0.5303 - acc: 0.73 - ETA: 49s - loss: 0.5302 - acc: 0.73 - ETA: 49s - loss: 0.5300 - acc: 0.73 - ETA: 49s - loss: 0.5300 - acc: 0.73 - ETA: 49s - loss: 0.5300 - acc: 0.73 - ETA: 49s - loss: 0.5298 - acc: 0.73 - ETA: 48s - loss: 0.5295 - acc: 0.73 - ETA: 48s - loss: 0.5295 - acc: 0.73 - ETA: 48s - loss: 0.5295 - acc: 0.73 - ETA: 48s - loss: 0.5295 - acc: 0.73 - ETA: 48s - loss: 0.5293 - acc: 0.73 - ETA: 48s - loss: 0.5293 - acc: 0.73 - ETA: 48s - loss: 0.5291 - acc: 0.73 - ETA: 48s - loss: 0.5288 - acc: 0.73 - ETA: 48s - loss: 0.5288 - acc: 0.73 - ETA: 48s - loss: 0.5287 - acc: 0.73 - ETA: 48s - loss: 0.5288 - acc: 0.73 - ETA: 48s - loss: 0.5287 - acc: 0.73 - ETA: 48s - loss: 0.5288 - acc: 0.73 - ETA: 47s - loss: 0.5286 - acc: 0.73 - ETA: 47s - loss: 0.5287 - acc: 0.73 - ETA: 47s - loss: 0.5286 - acc: 0.73 - ETA: 47s - loss: 0.5286 - acc: 0.73 - ETA: 47s - loss: 0.5284 - acc: 0.73 - ETA: 47s - loss: 0.5283 - acc: 0.73 - ETA: 47s - loss: 0.5282 - acc: 0.73 - ETA: 47s - loss: 0.5281 - acc: 0.73 - ETA: 47s - loss: 0.5282 - acc: 0.73 - ETA: 47s - loss: 0.5279 - acc: 0.73 - ETA: 47s - loss: 0.5278 - acc: 0.73 - ETA: 47s - loss: 0.5278 - acc: 0.73 - ETA: 46s - loss: 0.5279 - acc: 0.73 - ETA: 46s - loss: 0.5278 - acc: 0.73 - ETA: 46s - loss: 0.5277 - acc: 0.73 - ETA: 46s - loss: 0.5277 - acc: 0.73 - ETA: 46s - loss: 0.5277 - acc: 0.73 - ETA: 46s - loss: 0.5276 - acc: 0.73 - ETA: 46s - loss: 0.5277 - acc: 0.73 - ETA: 46s - loss: 0.5277 - acc: 0.73 - ETA: 46s - loss: 0.5276 - acc: 0.73 - ETA: 46s - loss: 0.5276 - acc: 0.73 - ETA: 46s - loss: 0.5274 - acc: 0.73 - ETA: 46s - loss: 0.5274 - acc: 0.73 - ETA: 46s - loss: 0.5273 - acc: 0.73 - ETA: 46s - loss: 0.5272 - acc: 0.73 - ETA: 46s - loss: 0.5273 - acc: 0.73 - ETA: 46s - loss: 0.5272 - acc: 0.73 - ETA: 46s - loss: 0.5272 - acc: 0.73 - ETA: 45s - loss: 0.5272 - acc: 0.73 - ETA: 45s - loss: 0.5274 - acc: 0.73 - ETA: 45s - loss: 0.5275 - acc: 0.73 - ETA: 45s - loss: 0.5274 - acc: 0.73 - ETA: 45s - loss: 0.5273 - acc: 0.73 - ETA: 45s - loss: 0.5271 - acc: 0.73 - ETA: 45s - loss: 0.5270 - acc: 0.73 - ETA: 45s - loss: 0.5270 - acc: 0.73 - ETA: 45s - loss: 0.5269 - acc: 0.73 - ETA: 45s - loss: 0.5269 - acc: 0.73 - ETA: 45s - loss: 0.5267 - acc: 0.73 - ETA: 45s - loss: 0.5267 - acc: 0.73 - ETA: 45s - loss: 0.5267 - acc: 0.73 - ETA: 45s - loss: 0.5266 - acc: 0.73 - ETA: 45s - loss: 0.5266 - acc: 0.73 - ETA: 45s - loss: 0.5264 - acc: 0.73 - ETA: 45s - loss: 0.5264 - acc: 0.73 - ETA: 44s - loss: 0.5263 - acc: 0.73 - ETA: 44s - loss: 0.5262 - acc: 0.73 - ETA: 44s - loss: 0.5263 - acc: 0.73 - ETA: 44s - loss: 0.5263 - acc: 0.73 - ETA: 44s - loss: 0.5262 - acc: 0.73 - ETA: 44s - loss: 0.5263 - acc: 0.73 - ETA: 44s - loss: 0.5263 - acc: 0.73 - ETA: 44s - loss: 0.5263 - acc: 0.73 - ETA: 44s - loss: 0.5261 - acc: 0.73 - ETA: 44s - loss: 0.5260 - acc: 0.73 - ETA: 44s - loss: 0.5259 - acc: 0.73 - ETA: 44s - loss: 0.5259 - acc: 0.73 - ETA: 44s - loss: 0.5259 - acc: 0.73 - ETA: 44s - loss: 0.5259 - acc: 0.73 - ETA: 44s - loss: 0.5258 - acc: 0.73 - ETA: 44s - loss: 0.5259 - acc: 0.73 - ETA: 44s - loss: 0.5258 - acc: 0.73 - ETA: 44s - loss: 0.5257 - acc: 0.73 - ETA: 43s - loss: 0.5259 - acc: 0.73 - ETA: 43s - loss: 0.5258 - acc: 0.73 - ETA: 43s - loss: 0.5259 - acc: 0.73 - ETA: 43s - loss: 0.5260 - acc: 0.73 - ETA: 43s - loss: 0.5259 - acc: 0.73 - ETA: 43s - loss: 0.5257 - acc: 0.73 - ETA: 43s - loss: 0.5258 - acc: 0.73 - ETA: 43s - loss: 0.5258 - acc: 0.73 - ETA: 43s - loss: 0.5258 - acc: 0.73 - ETA: 43s - loss: 0.5258 - acc: 0.73 - ETA: 43s - loss: 0.5257 - acc: 0.73 - ETA: 43s - loss: 0.5258 - acc: 0.73 - ETA: 43s - loss: 0.5257 - acc: 0.73 - ETA: 43s - loss: 0.5257 - acc: 0.73 - ETA: 43s - loss: 0.5257 - acc: 0.73 - ETA: 43s - loss: 0.5256 - acc: 0.73 - ETA: 43s - loss: 0.5255 - acc: 0.73 - ETA: 43s - loss: 0.5254 - acc: 0.73 - ETA: 43s - loss: 0.5252 - acc: 0.73 - ETA: 42s - loss: 0.5250 - acc: 0.73 - ETA: 42s - loss: 0.5250 - acc: 0.73 - ETA: 42s - loss: 0.5251 - acc: 0.73 - ETA: 42s - loss: 0.5252 - acc: 0.7340"
     ]
    },
    {
     "name": "stdout",
     "output_type": "stream",
     "text": [
      "2191/3392 [==================>...........] - ETA: 42s - loss: 0.5251 - acc: 0.73 - ETA: 42s - loss: 0.5249 - acc: 0.73 - ETA: 42s - loss: 0.5248 - acc: 0.73 - ETA: 42s - loss: 0.5247 - acc: 0.73 - ETA: 42s - loss: 0.5246 - acc: 0.73 - ETA: 42s - loss: 0.5246 - acc: 0.73 - ETA: 42s - loss: 0.5246 - acc: 0.73 - ETA: 42s - loss: 0.5244 - acc: 0.73 - ETA: 42s - loss: 0.5243 - acc: 0.73 - ETA: 42s - loss: 0.5244 - acc: 0.73 - ETA: 42s - loss: 0.5244 - acc: 0.73 - ETA: 42s - loss: 0.5243 - acc: 0.73 - ETA: 41s - loss: 0.5243 - acc: 0.73 - ETA: 41s - loss: 0.5242 - acc: 0.73 - ETA: 41s - loss: 0.5241 - acc: 0.73 - ETA: 41s - loss: 0.5241 - acc: 0.73 - ETA: 41s - loss: 0.5242 - acc: 0.73 - ETA: 41s - loss: 0.5241 - acc: 0.73 - ETA: 41s - loss: 0.5241 - acc: 0.73 - ETA: 41s - loss: 0.5241 - acc: 0.73 - ETA: 41s - loss: 0.5241 - acc: 0.73 - ETA: 41s - loss: 0.5240 - acc: 0.73 - ETA: 41s - loss: 0.5240 - acc: 0.73 - ETA: 41s - loss: 0.5239 - acc: 0.73 - ETA: 41s - loss: 0.5238 - acc: 0.73 - ETA: 41s - loss: 0.5237 - acc: 0.73 - ETA: 41s - loss: 0.5237 - acc: 0.73 - ETA: 41s - loss: 0.5237 - acc: 0.73 - ETA: 41s - loss: 0.5235 - acc: 0.73 - ETA: 40s - loss: 0.5234 - acc: 0.73 - ETA: 40s - loss: 0.5234 - acc: 0.73 - ETA: 40s - loss: 0.5233 - acc: 0.73 - ETA: 40s - loss: 0.5232 - acc: 0.73 - ETA: 40s - loss: 0.5233 - acc: 0.73 - ETA: 40s - loss: 0.5231 - acc: 0.73 - ETA: 40s - loss: 0.5230 - acc: 0.73 - ETA: 40s - loss: 0.5230 - acc: 0.73 - ETA: 40s - loss: 0.5231 - acc: 0.73 - ETA: 40s - loss: 0.5229 - acc: 0.73 - ETA: 40s - loss: 0.5228 - acc: 0.73 - ETA: 40s - loss: 0.5228 - acc: 0.73 - ETA: 40s - loss: 0.5227 - acc: 0.73 - ETA: 40s - loss: 0.5225 - acc: 0.73 - ETA: 40s - loss: 0.5226 - acc: 0.73 - ETA: 40s - loss: 0.5229 - acc: 0.73 - ETA: 40s - loss: 0.5228 - acc: 0.73 - ETA: 40s - loss: 0.5228 - acc: 0.73 - ETA: 39s - loss: 0.5228 - acc: 0.73 - ETA: 39s - loss: 0.5228 - acc: 0.73 - ETA: 39s - loss: 0.5228 - acc: 0.73 - ETA: 39s - loss: 0.5227 - acc: 0.73 - ETA: 39s - loss: 0.5227 - acc: 0.73 - ETA: 39s - loss: 0.5226 - acc: 0.73 - ETA: 39s - loss: 0.5226 - acc: 0.73 - ETA: 39s - loss: 0.5226 - acc: 0.73 - ETA: 39s - loss: 0.5225 - acc: 0.73 - ETA: 39s - loss: 0.5225 - acc: 0.73 - ETA: 39s - loss: 0.5224 - acc: 0.73 - ETA: 39s - loss: 0.5225 - acc: 0.73 - ETA: 39s - loss: 0.5224 - acc: 0.73 - ETA: 39s - loss: 0.5223 - acc: 0.73 - ETA: 39s - loss: 0.5223 - acc: 0.73 - ETA: 39s - loss: 0.5224 - acc: 0.73 - ETA: 39s - loss: 0.5224 - acc: 0.73 - ETA: 39s - loss: 0.5224 - acc: 0.73 - ETA: 39s - loss: 0.5223 - acc: 0.73 - ETA: 39s - loss: 0.5222 - acc: 0.73 - ETA: 39s - loss: 0.5222 - acc: 0.73 - ETA: 39s - loss: 0.5222 - acc: 0.73 - ETA: 39s - loss: 0.5221 - acc: 0.73 - ETA: 38s - loss: 0.5219 - acc: 0.73 - ETA: 38s - loss: 0.5219 - acc: 0.73 - ETA: 38s - loss: 0.5219 - acc: 0.73 - ETA: 38s - loss: 0.5219 - acc: 0.73 - ETA: 38s - loss: 0.5219 - acc: 0.73 - ETA: 38s - loss: 0.5219 - acc: 0.73 - ETA: 38s - loss: 0.5220 - acc: 0.73 - ETA: 38s - loss: 0.5220 - acc: 0.73 - ETA: 38s - loss: 0.5219 - acc: 0.73 - ETA: 38s - loss: 0.5220 - acc: 0.73 - ETA: 38s - loss: 0.5220 - acc: 0.73 - ETA: 38s - loss: 0.5220 - acc: 0.73 - ETA: 38s - loss: 0.5221 - acc: 0.73 - ETA: 38s - loss: 0.5221 - acc: 0.73 - ETA: 38s - loss: 0.5221 - acc: 0.73 - ETA: 38s - loss: 0.5222 - acc: 0.73 - ETA: 38s - loss: 0.5221 - acc: 0.73 - ETA: 38s - loss: 0.5221 - acc: 0.73 - ETA: 38s - loss: 0.5221 - acc: 0.73 - ETA: 38s - loss: 0.5220 - acc: 0.73 - ETA: 37s - loss: 0.5220 - acc: 0.73 - ETA: 37s - loss: 0.5221 - acc: 0.73 - ETA: 37s - loss: 0.5221 - acc: 0.73 - ETA: 37s - loss: 0.5220 - acc: 0.73 - ETA: 37s - loss: 0.5219 - acc: 0.73 - ETA: 37s - loss: 0.5219 - acc: 0.73 - ETA: 37s - loss: 0.5218 - acc: 0.73 - ETA: 37s - loss: 0.5217 - acc: 0.73 - ETA: 37s - loss: 0.5217 - acc: 0.73 - ETA: 37s - loss: 0.5217 - acc: 0.73 - ETA: 37s - loss: 0.5216 - acc: 0.73 - ETA: 37s - loss: 0.5214 - acc: 0.73 - ETA: 37s - loss: 0.5214 - acc: 0.73 - ETA: 37s - loss: 0.5214 - acc: 0.73 - ETA: 37s - loss: 0.5213 - acc: 0.73 - ETA: 37s - loss: 0.5214 - acc: 0.73 - ETA: 37s - loss: 0.5214 - acc: 0.73 - ETA: 37s - loss: 0.5214 - acc: 0.73 - ETA: 37s - loss: 0.5213 - acc: 0.73 - ETA: 36s - loss: 0.5212 - acc: 0.73 - ETA: 36s - loss: 0.5211 - acc: 0.73 - ETA: 36s - loss: 0.5211 - acc: 0.73 - ETA: 36s - loss: 0.5211 - acc: 0.73 - ETA: 36s - loss: 0.5209 - acc: 0.73 - ETA: 36s - loss: 0.5208 - acc: 0.73 - ETA: 36s - loss: 0.5207 - acc: 0.73 - ETA: 36s - loss: 0.5209 - acc: 0.73 - ETA: 36s - loss: 0.5208 - acc: 0.73 - ETA: 36s - loss: 0.5207 - acc: 0.73 - ETA: 36s - loss: 0.5206 - acc: 0.73 - ETA: 36s - loss: 0.5206 - acc: 0.73 - ETA: 36s - loss: 0.5205 - acc: 0.73 - ETA: 36s - loss: 0.5205 - acc: 0.73 - ETA: 36s - loss: 0.5204 - acc: 0.73 - ETA: 36s - loss: 0.5204 - acc: 0.73 - ETA: 36s - loss: 0.5204 - acc: 0.73 - ETA: 36s - loss: 0.5204 - acc: 0.73 - ETA: 36s - loss: 0.5203 - acc: 0.73 - ETA: 35s - loss: 0.5202 - acc: 0.73 - ETA: 35s - loss: 0.5201 - acc: 0.73 - ETA: 35s - loss: 0.5201 - acc: 0.73 - ETA: 35s - loss: 0.5200 - acc: 0.73 - ETA: 35s - loss: 0.5201 - acc: 0.73 - ETA: 35s - loss: 0.5200 - acc: 0.73 - ETA: 35s - loss: 0.5199 - acc: 0.73 - ETA: 35s - loss: 0.5198 - acc: 0.73 - ETA: 35s - loss: 0.5198 - acc: 0.73 - ETA: 35s - loss: 0.5196 - acc: 0.73 - ETA: 35s - loss: 0.5196 - acc: 0.73 - ETA: 35s - loss: 0.5196 - acc: 0.73 - ETA: 35s - loss: 0.5194 - acc: 0.73 - ETA: 35s - loss: 0.5192 - acc: 0.73 - ETA: 35s - loss: 0.5191 - acc: 0.73 - ETA: 35s - loss: 0.5191 - acc: 0.73 - ETA: 35s - loss: 0.5191 - acc: 0.73 - ETA: 34s - loss: 0.5192 - acc: 0.73 - ETA: 34s - loss: 0.5193 - acc: 0.73 - ETA: 34s - loss: 0.5191 - acc: 0.73 - ETA: 34s - loss: 0.5192 - acc: 0.73 - ETA: 34s - loss: 0.5191 - acc: 0.73 - ETA: 34s - loss: 0.5190 - acc: 0.73 - ETA: 34s - loss: 0.5189 - acc: 0.73 - ETA: 34s - loss: 0.5188 - acc: 0.73 - ETA: 34s - loss: 0.5188 - acc: 0.73 - ETA: 34s - loss: 0.5191 - acc: 0.73 - ETA: 34s - loss: 0.5190 - acc: 0.73 - ETA: 34s - loss: 0.5190 - acc: 0.73 - ETA: 33s - loss: 0.5189 - acc: 0.73 - ETA: 33s - loss: 0.5190 - acc: 0.73 - ETA: 33s - loss: 0.5189 - acc: 0.73 - ETA: 33s - loss: 0.5189 - acc: 0.73 - ETA: 33s - loss: 0.5189 - acc: 0.73 - ETA: 33s - loss: 0.5189 - acc: 0.73 - ETA: 33s - loss: 0.5189 - acc: 0.73 - ETA: 33s - loss: 0.5189 - acc: 0.73 - ETA: 33s - loss: 0.5189 - acc: 0.73 - ETA: 33s - loss: 0.5188 - acc: 0.73 - ETA: 33s - loss: 0.5189 - acc: 0.73 - ETA: 33s - loss: 0.5188 - acc: 0.73 - ETA: 33s - loss: 0.5187 - acc: 0.73 - ETA: 33s - loss: 0.5187 - acc: 0.73 - ETA: 33s - loss: 0.5185 - acc: 0.73 - ETA: 32s - loss: 0.5184 - acc: 0.73 - ETA: 32s - loss: 0.5183 - acc: 0.73 - ETA: 32s - loss: 0.5183 - acc: 0.73 - ETA: 32s - loss: 0.5185 - acc: 0.73 - ETA: 32s - loss: 0.5186 - acc: 0.73 - ETA: 32s - loss: 0.5184 - acc: 0.73 - ETA: 32s - loss: 0.5184 - acc: 0.73 - ETA: 32s - loss: 0.5184 - acc: 0.73 - ETA: 32s - loss: 0.5185 - acc: 0.73 - ETA: 32s - loss: 0.5184 - acc: 0.73 - ETA: 32s - loss: 0.5184 - acc: 0.73 - ETA: 32s - loss: 0.5184 - acc: 0.73 - ETA: 32s - loss: 0.5184 - acc: 0.73 - ETA: 32s - loss: 0.5183 - acc: 0.73 - ETA: 32s - loss: 0.5183 - acc: 0.73 - ETA: 32s - loss: 0.5184 - acc: 0.73 - ETA: 31s - loss: 0.5184 - acc: 0.73 - ETA: 31s - loss: 0.5183 - acc: 0.73 - ETA: 31s - loss: 0.5182 - acc: 0.73 - ETA: 31s - loss: 0.5183 - acc: 0.73 - ETA: 31s - loss: 0.5183 - acc: 0.73 - ETA: 31s - loss: 0.5182 - acc: 0.73 - ETA: 31s - loss: 0.5181 - acc: 0.73 - ETA: 31s - loss: 0.5181 - acc: 0.73 - ETA: 31s - loss: 0.5180 - acc: 0.73 - ETA: 31s - loss: 0.5180 - acc: 0.73 - ETA: 31s - loss: 0.5179 - acc: 0.73 - ETA: 31s - loss: 0.5178 - acc: 0.73 - ETA: 30s - loss: 0.5177 - acc: 0.73 - ETA: 30s - loss: 0.5178 - acc: 0.73 - ETA: 30s - loss: 0.5176 - acc: 0.73 - ETA: 30s - loss: 0.5176 - acc: 0.73 - ETA: 30s - loss: 0.5176 - acc: 0.73 - ETA: 30s - loss: 0.5177 - acc: 0.73 - ETA: 30s - loss: 0.5178 - acc: 0.73 - ETA: 30s - loss: 0.5177 - acc: 0.73 - ETA: 30s - loss: 0.5176 - acc: 0.73 - ETA: 30s - loss: 0.5175 - acc: 0.73 - ETA: 30s - loss: 0.5175 - acc: 0.73 - ETA: 30s - loss: 0.5175 - acc: 0.74 - ETA: 30s - loss: 0.5175 - acc: 0.74 - ETA: 30s - loss: 0.5174 - acc: 0.74 - ETA: 30s - loss: 0.5173 - acc: 0.7400"
     ]
    },
    {
     "name": "stdout",
     "output_type": "stream",
     "text": [
      "2786/3392 [=======================>......] - ETA: 30s - loss: 0.5174 - acc: 0.73 - ETA: 30s - loss: 0.5174 - acc: 0.74 - ETA: 29s - loss: 0.5174 - acc: 0.74 - ETA: 29s - loss: 0.5174 - acc: 0.74 - ETA: 29s - loss: 0.5173 - acc: 0.74 - ETA: 29s - loss: 0.5172 - acc: 0.74 - ETA: 29s - loss: 0.5171 - acc: 0.74 - ETA: 29s - loss: 0.5171 - acc: 0.74 - ETA: 29s - loss: 0.5171 - acc: 0.74 - ETA: 29s - loss: 0.5172 - acc: 0.74 - ETA: 29s - loss: 0.5172 - acc: 0.74 - ETA: 29s - loss: 0.5172 - acc: 0.74 - ETA: 29s - loss: 0.5172 - acc: 0.74 - ETA: 29s - loss: 0.5172 - acc: 0.74 - ETA: 29s - loss: 0.5173 - acc: 0.74 - ETA: 28s - loss: 0.5173 - acc: 0.74 - ETA: 28s - loss: 0.5173 - acc: 0.74 - ETA: 28s - loss: 0.5171 - acc: 0.74 - ETA: 28s - loss: 0.5172 - acc: 0.74 - ETA: 28s - loss: 0.5172 - acc: 0.74 - ETA: 28s - loss: 0.5172 - acc: 0.74 - ETA: 28s - loss: 0.5172 - acc: 0.74 - ETA: 28s - loss: 0.5171 - acc: 0.74 - ETA: 28s - loss: 0.5169 - acc: 0.74 - ETA: 28s - loss: 0.5168 - acc: 0.74 - ETA: 28s - loss: 0.5168 - acc: 0.74 - ETA: 28s - loss: 0.5168 - acc: 0.74 - ETA: 28s - loss: 0.5168 - acc: 0.74 - ETA: 27s - loss: 0.5168 - acc: 0.74 - ETA: 27s - loss: 0.5168 - acc: 0.74 - ETA: 27s - loss: 0.5168 - acc: 0.74 - ETA: 27s - loss: 0.5167 - acc: 0.74 - ETA: 27s - loss: 0.5168 - acc: 0.74 - ETA: 27s - loss: 0.5168 - acc: 0.74 - ETA: 27s - loss: 0.5167 - acc: 0.74 - ETA: 27s - loss: 0.5167 - acc: 0.74 - ETA: 27s - loss: 0.5167 - acc: 0.74 - ETA: 27s - loss: 0.5167 - acc: 0.74 - ETA: 27s - loss: 0.5166 - acc: 0.74 - ETA: 27s - loss: 0.5166 - acc: 0.74 - ETA: 27s - loss: 0.5167 - acc: 0.74 - ETA: 26s - loss: 0.5166 - acc: 0.74 - ETA: 26s - loss: 0.5165 - acc: 0.74 - ETA: 26s - loss: 0.5164 - acc: 0.74 - ETA: 26s - loss: 0.5164 - acc: 0.74 - ETA: 26s - loss: 0.5163 - acc: 0.74 - ETA: 26s - loss: 0.5162 - acc: 0.74 - ETA: 26s - loss: 0.5162 - acc: 0.74 - ETA: 26s - loss: 0.5162 - acc: 0.74 - ETA: 26s - loss: 0.5162 - acc: 0.74 - ETA: 26s - loss: 0.5161 - acc: 0.74 - ETA: 26s - loss: 0.5162 - acc: 0.74 - ETA: 26s - loss: 0.5161 - acc: 0.74 - ETA: 26s - loss: 0.5160 - acc: 0.74 - ETA: 25s - loss: 0.5160 - acc: 0.74 - ETA: 25s - loss: 0.5160 - acc: 0.74 - ETA: 25s - loss: 0.5159 - acc: 0.74 - ETA: 25s - loss: 0.5158 - acc: 0.74 - ETA: 25s - loss: 0.5159 - acc: 0.74 - ETA: 25s - loss: 0.5158 - acc: 0.74 - ETA: 25s - loss: 0.5157 - acc: 0.74 - ETA: 25s - loss: 0.5157 - acc: 0.74 - ETA: 25s - loss: 0.5156 - acc: 0.74 - ETA: 25s - loss: 0.5155 - acc: 0.74 - ETA: 25s - loss: 0.5155 - acc: 0.74 - ETA: 25s - loss: 0.5155 - acc: 0.74 - ETA: 25s - loss: 0.5155 - acc: 0.74 - ETA: 25s - loss: 0.5153 - acc: 0.74 - ETA: 24s - loss: 0.5152 - acc: 0.74 - ETA: 24s - loss: 0.5152 - acc: 0.74 - ETA: 24s - loss: 0.5151 - acc: 0.74 - ETA: 24s - loss: 0.5153 - acc: 0.74 - ETA: 24s - loss: 0.5152 - acc: 0.74 - ETA: 24s - loss: 0.5151 - acc: 0.74 - ETA: 24s - loss: 0.5151 - acc: 0.74 - ETA: 24s - loss: 0.5151 - acc: 0.74 - ETA: 24s - loss: 0.5151 - acc: 0.74 - ETA: 24s - loss: 0.5151 - acc: 0.74 - ETA: 24s - loss: 0.5150 - acc: 0.74 - ETA: 24s - loss: 0.5150 - acc: 0.74 - ETA: 24s - loss: 0.5150 - acc: 0.74 - ETA: 24s - loss: 0.5151 - acc: 0.74 - ETA: 24s - loss: 0.5151 - acc: 0.74 - ETA: 24s - loss: 0.5150 - acc: 0.74 - ETA: 23s - loss: 0.5150 - acc: 0.74 - ETA: 23s - loss: 0.5151 - acc: 0.74 - ETA: 23s - loss: 0.5151 - acc: 0.74 - ETA: 23s - loss: 0.5151 - acc: 0.74 - ETA: 23s - loss: 0.5151 - acc: 0.74 - ETA: 23s - loss: 0.5150 - acc: 0.74 - ETA: 23s - loss: 0.5151 - acc: 0.74 - ETA: 23s - loss: 0.5151 - acc: 0.74 - ETA: 23s - loss: 0.5150 - acc: 0.74 - ETA: 23s - loss: 0.5149 - acc: 0.74 - ETA: 23s - loss: 0.5148 - acc: 0.74 - ETA: 23s - loss: 0.5148 - acc: 0.74 - ETA: 23s - loss: 0.5148 - acc: 0.74 - ETA: 22s - loss: 0.5147 - acc: 0.74 - ETA: 22s - loss: 0.5147 - acc: 0.74 - ETA: 22s - loss: 0.5146 - acc: 0.74 - ETA: 22s - loss: 0.5147 - acc: 0.74 - ETA: 22s - loss: 0.5146 - acc: 0.74 - ETA: 22s - loss: 0.5146 - acc: 0.74 - ETA: 22s - loss: 0.5146 - acc: 0.74 - ETA: 22s - loss: 0.5146 - acc: 0.74 - ETA: 22s - loss: 0.5146 - acc: 0.74 - ETA: 22s - loss: 0.5146 - acc: 0.74 - ETA: 22s - loss: 0.5145 - acc: 0.74 - ETA: 22s - loss: 0.5146 - acc: 0.74 - ETA: 22s - loss: 0.5146 - acc: 0.74 - ETA: 22s - loss: 0.5145 - acc: 0.74 - ETA: 22s - loss: 0.5145 - acc: 0.74 - ETA: 22s - loss: 0.5144 - acc: 0.74 - ETA: 22s - loss: 0.5143 - acc: 0.74 - ETA: 22s - loss: 0.5142 - acc: 0.74 - ETA: 21s - loss: 0.5142 - acc: 0.74 - ETA: 21s - loss: 0.5142 - acc: 0.74 - ETA: 21s - loss: 0.5141 - acc: 0.74 - ETA: 21s - loss: 0.5141 - acc: 0.74 - ETA: 21s - loss: 0.5141 - acc: 0.74 - ETA: 21s - loss: 0.5141 - acc: 0.74 - ETA: 21s - loss: 0.5140 - acc: 0.74 - ETA: 21s - loss: 0.5140 - acc: 0.74 - ETA: 21s - loss: 0.5140 - acc: 0.74 - ETA: 21s - loss: 0.5140 - acc: 0.74 - ETA: 21s - loss: 0.5138 - acc: 0.74 - ETA: 21s - loss: 0.5139 - acc: 0.74 - ETA: 21s - loss: 0.5138 - acc: 0.74 - ETA: 21s - loss: 0.5138 - acc: 0.74 - ETA: 21s - loss: 0.5138 - acc: 0.74 - ETA: 21s - loss: 0.5138 - acc: 0.74 - ETA: 21s - loss: 0.5138 - acc: 0.74 - ETA: 20s - loss: 0.5138 - acc: 0.74 - ETA: 20s - loss: 0.5138 - acc: 0.74 - ETA: 20s - loss: 0.5138 - acc: 0.74 - ETA: 20s - loss: 0.5138 - acc: 0.74 - ETA: 20s - loss: 0.5137 - acc: 0.74 - ETA: 20s - loss: 0.5137 - acc: 0.74 - ETA: 20s - loss: 0.5136 - acc: 0.74 - ETA: 20s - loss: 0.5137 - acc: 0.74 - ETA: 20s - loss: 0.5136 - acc: 0.74 - ETA: 20s - loss: 0.5137 - acc: 0.74 - ETA: 20s - loss: 0.5137 - acc: 0.74 - ETA: 20s - loss: 0.5138 - acc: 0.74 - ETA: 20s - loss: 0.5138 - acc: 0.74 - ETA: 19s - loss: 0.5138 - acc: 0.74 - ETA: 19s - loss: 0.5138 - acc: 0.74 - ETA: 19s - loss: 0.5138 - acc: 0.74 - ETA: 19s - loss: 0.5137 - acc: 0.74 - ETA: 19s - loss: 0.5137 - acc: 0.74 - ETA: 19s - loss: 0.5137 - acc: 0.74 - ETA: 19s - loss: 0.5137 - acc: 0.74 - ETA: 19s - loss: 0.5136 - acc: 0.74 - ETA: 19s - loss: 0.5135 - acc: 0.74 - ETA: 19s - loss: 0.5136 - acc: 0.74 - ETA: 19s - loss: 0.5135 - acc: 0.74 - ETA: 19s - loss: 0.5135 - acc: 0.74 - ETA: 19s - loss: 0.5133 - acc: 0.74 - ETA: 18s - loss: 0.5132 - acc: 0.74 - ETA: 18s - loss: 0.5131 - acc: 0.74 - ETA: 18s - loss: 0.5132 - acc: 0.74 - ETA: 18s - loss: 0.5131 - acc: 0.74 - ETA: 18s - loss: 0.5131 - acc: 0.74 - ETA: 18s - loss: 0.5130 - acc: 0.74 - ETA: 18s - loss: 0.5130 - acc: 0.74 - ETA: 18s - loss: 0.5130 - acc: 0.74 - ETA: 18s - loss: 0.5130 - acc: 0.74 - ETA: 18s - loss: 0.5130 - acc: 0.74 - ETA: 18s - loss: 0.5130 - acc: 0.74 - ETA: 18s - loss: 0.5129 - acc: 0.74 - ETA: 18s - loss: 0.5129 - acc: 0.74 - ETA: 18s - loss: 0.5128 - acc: 0.74 - ETA: 18s - loss: 0.5128 - acc: 0.74 - ETA: 18s - loss: 0.5127 - acc: 0.74 - ETA: 18s - loss: 0.5127 - acc: 0.74 - ETA: 17s - loss: 0.5127 - acc: 0.74 - ETA: 17s - loss: 0.5127 - acc: 0.74 - ETA: 17s - loss: 0.5127 - acc: 0.74 - ETA: 17s - loss: 0.5125 - acc: 0.74 - ETA: 17s - loss: 0.5124 - acc: 0.74 - ETA: 17s - loss: 0.5123 - acc: 0.74 - ETA: 17s - loss: 0.5123 - acc: 0.74 - ETA: 17s - loss: 0.5123 - acc: 0.74 - ETA: 17s - loss: 0.5122 - acc: 0.74 - ETA: 17s - loss: 0.5122 - acc: 0.74 - ETA: 17s - loss: 0.5122 - acc: 0.74 - ETA: 17s - loss: 0.5122 - acc: 0.74 - ETA: 17s - loss: 0.5122 - acc: 0.74 - ETA: 16s - loss: 0.5122 - acc: 0.74 - ETA: 16s - loss: 0.5121 - acc: 0.74 - ETA: 16s - loss: 0.5120 - acc: 0.74 - ETA: 16s - loss: 0.5119 - acc: 0.74 - ETA: 16s - loss: 0.5119 - acc: 0.74 - ETA: 16s - loss: 0.5120 - acc: 0.74 - ETA: 16s - loss: 0.5121 - acc: 0.74 - ETA: 16s - loss: 0.5121 - acc: 0.74 - ETA: 16s - loss: 0.5121 - acc: 0.74 - ETA: 16s - loss: 0.5120 - acc: 0.74 - ETA: 16s - loss: 0.5119 - acc: 0.74 - ETA: 16s - loss: 0.5119 - acc: 0.74 - ETA: 16s - loss: 0.5120 - acc: 0.74 - ETA: 16s - loss: 0.5120 - acc: 0.74 - ETA: 15s - loss: 0.5120 - acc: 0.74 - ETA: 15s - loss: 0.5119 - acc: 0.74 - ETA: 15s - loss: 0.5120 - acc: 0.74 - ETA: 15s - loss: 0.5120 - acc: 0.74 - ETA: 15s - loss: 0.5120 - acc: 0.74 - ETA: 15s - loss: 0.5119 - acc: 0.74 - ETA: 15s - loss: 0.5119 - acc: 0.74 - ETA: 15s - loss: 0.5119 - acc: 0.74 - ETA: 15s - loss: 0.5119 - acc: 0.74 - ETA: 15s - loss: 0.5118 - acc: 0.74 - ETA: 15s - loss: 0.5118 - acc: 0.74 - ETA: 15s - loss: 0.5117 - acc: 0.74 - ETA: 15s - loss: 0.5118 - acc: 0.7439"
     ]
    },
    {
     "name": "stdout",
     "output_type": "stream",
     "text": [
      "3384/3392 [============================>.] - ETA: 15s - loss: 0.5117 - acc: 0.74 - ETA: 14s - loss: 0.5116 - acc: 0.74 - ETA: 14s - loss: 0.5116 - acc: 0.74 - ETA: 14s - loss: 0.5116 - acc: 0.74 - ETA: 14s - loss: 0.5117 - acc: 0.74 - ETA: 14s - loss: 0.5117 - acc: 0.74 - ETA: 14s - loss: 0.5117 - acc: 0.74 - ETA: 14s - loss: 0.5117 - acc: 0.74 - ETA: 14s - loss: 0.5117 - acc: 0.74 - ETA: 14s - loss: 0.5117 - acc: 0.74 - ETA: 14s - loss: 0.5117 - acc: 0.74 - ETA: 14s - loss: 0.5116 - acc: 0.74 - ETA: 14s - loss: 0.5116 - acc: 0.74 - ETA: 14s - loss: 0.5116 - acc: 0.74 - ETA: 13s - loss: 0.5117 - acc: 0.74 - ETA: 13s - loss: 0.5116 - acc: 0.74 - ETA: 13s - loss: 0.5115 - acc: 0.74 - ETA: 13s - loss: 0.5114 - acc: 0.74 - ETA: 13s - loss: 0.5114 - acc: 0.74 - ETA: 13s - loss: 0.5114 - acc: 0.74 - ETA: 13s - loss: 0.5114 - acc: 0.74 - ETA: 13s - loss: 0.5114 - acc: 0.74 - ETA: 13s - loss: 0.5113 - acc: 0.74 - ETA: 13s - loss: 0.5113 - acc: 0.74 - ETA: 13s - loss: 0.5114 - acc: 0.74 - ETA: 13s - loss: 0.5114 - acc: 0.74 - ETA: 13s - loss: 0.5114 - acc: 0.74 - ETA: 13s - loss: 0.5114 - acc: 0.74 - ETA: 13s - loss: 0.5114 - acc: 0.74 - ETA: 13s - loss: 0.5114 - acc: 0.74 - ETA: 13s - loss: 0.5114 - acc: 0.74 - ETA: 12s - loss: 0.5114 - acc: 0.74 - ETA: 12s - loss: 0.5113 - acc: 0.74 - ETA: 12s - loss: 0.5113 - acc: 0.74 - ETA: 12s - loss: 0.5112 - acc: 0.74 - ETA: 12s - loss: 0.5112 - acc: 0.74 - ETA: 12s - loss: 0.5112 - acc: 0.74 - ETA: 12s - loss: 0.5112 - acc: 0.74 - ETA: 12s - loss: 0.5112 - acc: 0.74 - ETA: 12s - loss: 0.5112 - acc: 0.74 - ETA: 12s - loss: 0.5112 - acc: 0.74 - ETA: 12s - loss: 0.5111 - acc: 0.74 - ETA: 12s - loss: 0.5111 - acc: 0.74 - ETA: 12s - loss: 0.5111 - acc: 0.74 - ETA: 12s - loss: 0.5110 - acc: 0.74 - ETA: 12s - loss: 0.5110 - acc: 0.74 - ETA: 12s - loss: 0.5109 - acc: 0.74 - ETA: 11s - loss: 0.5110 - acc: 0.74 - ETA: 11s - loss: 0.5108 - acc: 0.74 - ETA: 11s - loss: 0.5108 - acc: 0.74 - ETA: 11s - loss: 0.5108 - acc: 0.74 - ETA: 11s - loss: 0.5107 - acc: 0.74 - ETA: 11s - loss: 0.5106 - acc: 0.74 - ETA: 11s - loss: 0.5107 - acc: 0.74 - ETA: 11s - loss: 0.5106 - acc: 0.74 - ETA: 11s - loss: 0.5106 - acc: 0.74 - ETA: 11s - loss: 0.5107 - acc: 0.74 - ETA: 11s - loss: 0.5107 - acc: 0.74 - ETA: 11s - loss: 0.5106 - acc: 0.74 - ETA: 11s - loss: 0.5106 - acc: 0.74 - ETA: 11s - loss: 0.5106 - acc: 0.74 - ETA: 10s - loss: 0.5107 - acc: 0.74 - ETA: 10s - loss: 0.5106 - acc: 0.74 - ETA: 10s - loss: 0.5106 - acc: 0.74 - ETA: 10s - loss: 0.5106 - acc: 0.74 - ETA: 10s - loss: 0.5105 - acc: 0.74 - ETA: 10s - loss: 0.5105 - acc: 0.74 - ETA: 10s - loss: 0.5105 - acc: 0.74 - ETA: 10s - loss: 0.5104 - acc: 0.74 - ETA: 10s - loss: 0.5104 - acc: 0.74 - ETA: 10s - loss: 0.5103 - acc: 0.74 - ETA: 10s - loss: 0.5103 - acc: 0.74 - ETA: 10s - loss: 0.5103 - acc: 0.74 - ETA: 10s - loss: 0.5103 - acc: 0.74 - ETA: 10s - loss: 0.5104 - acc: 0.74 - ETA: 9s - loss: 0.5104 - acc: 0.7449 - ETA: 9s - loss: 0.5103 - acc: 0.744 - ETA: 9s - loss: 0.5102 - acc: 0.745 - ETA: 9s - loss: 0.5102 - acc: 0.745 - ETA: 9s - loss: 0.5102 - acc: 0.745 - ETA: 9s - loss: 0.5101 - acc: 0.745 - ETA: 9s - loss: 0.5102 - acc: 0.745 - ETA: 9s - loss: 0.5102 - acc: 0.745 - ETA: 9s - loss: 0.5102 - acc: 0.745 - ETA: 9s - loss: 0.5102 - acc: 0.745 - ETA: 9s - loss: 0.5102 - acc: 0.745 - ETA: 9s - loss: 0.5101 - acc: 0.745 - ETA: 9s - loss: 0.5101 - acc: 0.745 - ETA: 9s - loss: 0.5101 - acc: 0.745 - ETA: 8s - loss: 0.5101 - acc: 0.745 - ETA: 8s - loss: 0.5100 - acc: 0.745 - ETA: 8s - loss: 0.5100 - acc: 0.745 - ETA: 8s - loss: 0.5100 - acc: 0.745 - ETA: 8s - loss: 0.5100 - acc: 0.745 - ETA: 8s - loss: 0.5099 - acc: 0.745 - ETA: 8s - loss: 0.5099 - acc: 0.745 - ETA: 8s - loss: 0.5099 - acc: 0.745 - ETA: 8s - loss: 0.5098 - acc: 0.745 - ETA: 8s - loss: 0.5098 - acc: 0.745 - ETA: 8s - loss: 0.5099 - acc: 0.745 - ETA: 8s - loss: 0.5098 - acc: 0.745 - ETA: 8s - loss: 0.5097 - acc: 0.745 - ETA: 8s - loss: 0.5099 - acc: 0.745 - ETA: 7s - loss: 0.5098 - acc: 0.745 - ETA: 7s - loss: 0.5098 - acc: 0.745 - ETA: 7s - loss: 0.5097 - acc: 0.745 - ETA: 7s - loss: 0.5097 - acc: 0.745 - ETA: 7s - loss: 0.5096 - acc: 0.745 - ETA: 7s - loss: 0.5096 - acc: 0.745 - ETA: 7s - loss: 0.5096 - acc: 0.745 - ETA: 7s - loss: 0.5095 - acc: 0.745 - ETA: 7s - loss: 0.5095 - acc: 0.745 - ETA: 7s - loss: 0.5095 - acc: 0.745 - ETA: 7s - loss: 0.5095 - acc: 0.745 - ETA: 7s - loss: 0.5094 - acc: 0.745 - ETA: 7s - loss: 0.5094 - acc: 0.745 - ETA: 7s - loss: 0.5094 - acc: 0.745 - ETA: 7s - loss: 0.5094 - acc: 0.745 - ETA: 7s - loss: 0.5094 - acc: 0.745 - ETA: 7s - loss: 0.5093 - acc: 0.745 - ETA: 6s - loss: 0.5094 - acc: 0.745 - ETA: 6s - loss: 0.5095 - acc: 0.745 - ETA: 6s - loss: 0.5095 - acc: 0.745 - ETA: 6s - loss: 0.5094 - acc: 0.745 - ETA: 6s - loss: 0.5094 - acc: 0.745 - ETA: 6s - loss: 0.5095 - acc: 0.745 - ETA: 6s - loss: 0.5095 - acc: 0.745 - ETA: 6s - loss: 0.5095 - acc: 0.745 - ETA: 6s - loss: 0.5096 - acc: 0.745 - ETA: 6s - loss: 0.5097 - acc: 0.745 - ETA: 6s - loss: 0.5096 - acc: 0.745 - ETA: 6s - loss: 0.5095 - acc: 0.745 - ETA: 6s - loss: 0.5095 - acc: 0.745 - ETA: 6s - loss: 0.5094 - acc: 0.745 - ETA: 5s - loss: 0.5094 - acc: 0.745 - ETA: 5s - loss: 0.5094 - acc: 0.745 - ETA: 5s - loss: 0.5094 - acc: 0.745 - ETA: 5s - loss: 0.5094 - acc: 0.745 - ETA: 5s - loss: 0.5094 - acc: 0.745 - ETA: 5s - loss: 0.5093 - acc: 0.745 - ETA: 5s - loss: 0.5094 - acc: 0.745 - ETA: 5s - loss: 0.5093 - acc: 0.745 - ETA: 5s - loss: 0.5093 - acc: 0.745 - ETA: 5s - loss: 0.5093 - acc: 0.745 - ETA: 5s - loss: 0.5093 - acc: 0.745 - ETA: 5s - loss: 0.5093 - acc: 0.745 - ETA: 5s - loss: 0.5093 - acc: 0.745 - ETA: 4s - loss: 0.5092 - acc: 0.745 - ETA: 4s - loss: 0.5092 - acc: 0.745 - ETA: 4s - loss: 0.5092 - acc: 0.745 - ETA: 4s - loss: 0.5093 - acc: 0.745 - ETA: 4s - loss: 0.5092 - acc: 0.745 - ETA: 4s - loss: 0.5091 - acc: 0.745 - ETA: 4s - loss: 0.5091 - acc: 0.745 - ETA: 4s - loss: 0.5091 - acc: 0.745 - ETA: 4s - loss: 0.5091 - acc: 0.745 - ETA: 4s - loss: 0.5092 - acc: 0.745 - ETA: 4s - loss: 0.5091 - acc: 0.745 - ETA: 4s - loss: 0.5091 - acc: 0.745 - ETA: 4s - loss: 0.5090 - acc: 0.745 - ETA: 4s - loss: 0.5090 - acc: 0.745 - ETA: 3s - loss: 0.5091 - acc: 0.745 - ETA: 3s - loss: 0.5091 - acc: 0.745 - ETA: 3s - loss: 0.5090 - acc: 0.745 - ETA: 3s - loss: 0.5090 - acc: 0.745 - ETA: 3s - loss: 0.5091 - acc: 0.745 - ETA: 3s - loss: 0.5091 - acc: 0.745 - ETA: 3s - loss: 0.5090 - acc: 0.745 - ETA: 3s - loss: 0.5089 - acc: 0.745 - ETA: 3s - loss: 0.5090 - acc: 0.745 - ETA: 3s - loss: 0.5090 - acc: 0.745 - ETA: 3s - loss: 0.5090 - acc: 0.745 - ETA: 3s - loss: 0.5089 - acc: 0.745 - ETA: 3s - loss: 0.5089 - acc: 0.745 - ETA: 2s - loss: 0.5088 - acc: 0.746 - ETA: 2s - loss: 0.5088 - acc: 0.746 - ETA: 2s - loss: 0.5088 - acc: 0.745 - ETA: 2s - loss: 0.5088 - acc: 0.746 - ETA: 2s - loss: 0.5088 - acc: 0.746 - ETA: 2s - loss: 0.5088 - acc: 0.745 - ETA: 2s - loss: 0.5087 - acc: 0.746 - ETA: 2s - loss: 0.5087 - acc: 0.745 - ETA: 2s - loss: 0.5087 - acc: 0.745 - ETA: 2s - loss: 0.5087 - acc: 0.745 - ETA: 2s - loss: 0.5087 - acc: 0.745 - ETA: 2s - loss: 0.5087 - acc: 0.745 - ETA: 2s - loss: 0.5088 - acc: 0.745 - ETA: 2s - loss: 0.5087 - acc: 0.745 - ETA: 2s - loss: 0.5087 - acc: 0.745 - ETA: 1s - loss: 0.5087 - acc: 0.745 - ETA: 1s - loss: 0.5086 - acc: 0.746 - ETA: 1s - loss: 0.5086 - acc: 0.746 - ETA: 1s - loss: 0.5086 - acc: 0.746 - ETA: 1s - loss: 0.5086 - acc: 0.745 - ETA: 1s - loss: 0.5087 - acc: 0.745 - ETA: 1s - loss: 0.5086 - acc: 0.745 - ETA: 1s - loss: 0.5086 - acc: 0.745 - ETA: 1s - loss: 0.5086 - acc: 0.746 - ETA: 1s - loss: 0.5085 - acc: 0.746 - ETA: 1s - loss: 0.5084 - acc: 0.746 - ETA: 1s - loss: 0.5084 - acc: 0.746 - ETA: 1s - loss: 0.5084 - acc: 0.746 - ETA: 1s - loss: 0.5084 - acc: 0.746 - ETA: 1s - loss: 0.5083 - acc: 0.746 - ETA: 0s - loss: 0.5084 - acc: 0.746 - ETA: 0s - loss: 0.5084 - acc: 0.746 - ETA: 0s - loss: 0.5085 - acc: 0.746 - ETA: 0s - loss: 0.5085 - acc: 0.746 - ETA: 0s - loss: 0.5085 - acc: 0.746 - ETA: 0s - loss: 0.5085 - acc: 0.746 - ETA: 0s - loss: 0.5084 - acc: 0.746 - ETA: 0s - loss: 0.5084 - acc: 0.746 - ETA: 0s - loss: 0.5084 - acc: 0.746 - ETA: 0s - loss: 0.5085 - acc: 0.746 - ETA: 0s - loss: 0.5084 - acc: 0.7462"
     ]
    },
    {
     "name": "stdout",
     "output_type": "stream",
     "text": [
      "3393/3392 [==============================] - ETA: 0s - loss: 0.5084 - acc: 0.746 - ETA: 0s - loss: 0.5084 - acc: 0.746 - 84s 25ms/step - loss: 0.5085 - acc: 0.7461 - val_loss: 0.4789 - val_acc: 0.7828\n",
      "Epoch 2/2\n"
     ]
    },
    {
     "name": "stdout",
     "output_type": "stream",
     "text": [
      " 580/3392 [====>.........................] - ETA: 1:14 - loss: 0.3442 - acc: 0.875 - ETA: 1:17 - loss: 0.3748 - acc: 0.890 - ETA: 1:16 - loss: 0.4079 - acc: 0.870 - ETA: 1:16 - loss: 0.3993 - acc: 0.846 - ETA: 1:16 - loss: 0.3976 - acc: 0.848 - ETA: 1:16 - loss: 0.3921 - acc: 0.855 - ETA: 1:16 - loss: 0.3984 - acc: 0.852 - ETA: 1:16 - loss: 0.3950 - acc: 0.850 - ETA: 1:16 - loss: 0.3981 - acc: 0.841 - ETA: 1:16 - loss: 0.3956 - acc: 0.841 - ETA: 1:16 - loss: 0.3884 - acc: 0.842 - ETA: 1:16 - loss: 0.3943 - acc: 0.838 - ETA: 1:17 - loss: 0.3990 - acc: 0.835 - ETA: 1:17 - loss: 0.4078 - acc: 0.830 - ETA: 1:17 - loss: 0.4040 - acc: 0.832 - ETA: 1:17 - loss: 0.4048 - acc: 0.833 - ETA: 1:16 - loss: 0.4091 - acc: 0.828 - ETA: 1:16 - loss: 0.4126 - acc: 0.828 - ETA: 1:16 - loss: 0.4123 - acc: 0.829 - ETA: 1:16 - loss: 0.4134 - acc: 0.825 - ETA: 1:16 - loss: 0.4167 - acc: 0.821 - ETA: 1:16 - loss: 0.4164 - acc: 0.819 - ETA: 1:15 - loss: 0.4147 - acc: 0.819 - ETA: 1:15 - loss: 0.4133 - acc: 0.820 - ETA: 1:15 - loss: 0.4135 - acc: 0.819 - ETA: 1:15 - loss: 0.4135 - acc: 0.820 - ETA: 1:15 - loss: 0.4110 - acc: 0.819 - ETA: 1:15 - loss: 0.4096 - acc: 0.819 - ETA: 1:15 - loss: 0.4104 - acc: 0.817 - ETA: 1:15 - loss: 0.4113 - acc: 0.816 - ETA: 1:15 - loss: 0.4150 - acc: 0.812 - ETA: 1:15 - loss: 0.4171 - acc: 0.810 - ETA: 1:14 - loss: 0.4181 - acc: 0.809 - ETA: 1:14 - loss: 0.4186 - acc: 0.809 - ETA: 1:14 - loss: 0.4180 - acc: 0.809 - ETA: 1:14 - loss: 0.4186 - acc: 0.809 - ETA: 1:14 - loss: 0.4150 - acc: 0.810 - ETA: 1:14 - loss: 0.4121 - acc: 0.812 - ETA: 1:14 - loss: 0.4166 - acc: 0.810 - ETA: 1:14 - loss: 0.4170 - acc: 0.810 - ETA: 1:14 - loss: 0.4167 - acc: 0.810 - ETA: 1:14 - loss: 0.4165 - acc: 0.811 - ETA: 1:14 - loss: 0.4163 - acc: 0.809 - ETA: 1:14 - loss: 0.4163 - acc: 0.808 - ETA: 1:13 - loss: 0.4191 - acc: 0.806 - ETA: 1:13 - loss: 0.4197 - acc: 0.806 - ETA: 1:13 - loss: 0.4205 - acc: 0.805 - ETA: 1:13 - loss: 0.4207 - acc: 0.806 - ETA: 1:13 - loss: 0.4202 - acc: 0.807 - ETA: 1:13 - loss: 0.4188 - acc: 0.807 - ETA: 1:13 - loss: 0.4191 - acc: 0.807 - ETA: 1:13 - loss: 0.4185 - acc: 0.807 - ETA: 1:13 - loss: 0.4174 - acc: 0.807 - ETA: 1:13 - loss: 0.4163 - acc: 0.807 - ETA: 1:13 - loss: 0.4168 - acc: 0.807 - ETA: 1:14 - loss: 0.4157 - acc: 0.807 - ETA: 1:14 - loss: 0.4161 - acc: 0.808 - ETA: 1:14 - loss: 0.4159 - acc: 0.807 - ETA: 1:14 - loss: 0.4156 - acc: 0.808 - ETA: 1:14 - loss: 0.4159 - acc: 0.808 - ETA: 1:14 - loss: 0.4169 - acc: 0.808 - ETA: 1:14 - loss: 0.4172 - acc: 0.808 - ETA: 1:14 - loss: 0.4169 - acc: 0.808 - ETA: 1:14 - loss: 0.4163 - acc: 0.809 - ETA: 1:14 - loss: 0.4156 - acc: 0.809 - ETA: 1:14 - loss: 0.4168 - acc: 0.808 - ETA: 1:14 - loss: 0.4176 - acc: 0.807 - ETA: 1:14 - loss: 0.4159 - acc: 0.808 - ETA: 1:14 - loss: 0.4160 - acc: 0.807 - ETA: 1:14 - loss: 0.4157 - acc: 0.807 - ETA: 1:14 - loss: 0.4151 - acc: 0.807 - ETA: 1:14 - loss: 0.4155 - acc: 0.807 - ETA: 1:14 - loss: 0.4152 - acc: 0.807 - ETA: 1:14 - loss: 0.4156 - acc: 0.806 - ETA: 1:14 - loss: 0.4151 - acc: 0.806 - ETA: 1:14 - loss: 0.4153 - acc: 0.806 - ETA: 1:14 - loss: 0.4147 - acc: 0.806 - ETA: 1:13 - loss: 0.4141 - acc: 0.806 - ETA: 1:13 - loss: 0.4131 - acc: 0.807 - ETA: 1:13 - loss: 0.4125 - acc: 0.807 - ETA: 1:13 - loss: 0.4119 - acc: 0.808 - ETA: 1:13 - loss: 0.4112 - acc: 0.808 - ETA: 1:13 - loss: 0.4108 - acc: 0.809 - ETA: 1:13 - loss: 0.4104 - acc: 0.809 - ETA: 1:13 - loss: 0.4104 - acc: 0.809 - ETA: 1:13 - loss: 0.4097 - acc: 0.809 - ETA: 1:13 - loss: 0.4095 - acc: 0.809 - ETA: 1:13 - loss: 0.4090 - acc: 0.809 - ETA: 1:13 - loss: 0.4083 - acc: 0.810 - ETA: 1:13 - loss: 0.4083 - acc: 0.810 - ETA: 1:13 - loss: 0.4086 - acc: 0.809 - ETA: 1:13 - loss: 0.4092 - acc: 0.809 - ETA: 1:13 - loss: 0.4084 - acc: 0.810 - ETA: 1:13 - loss: 0.4088 - acc: 0.809 - ETA: 1:13 - loss: 0.4094 - acc: 0.809 - ETA: 1:13 - loss: 0.4106 - acc: 0.808 - ETA: 1:13 - loss: 0.4102 - acc: 0.808 - ETA: 1:13 - loss: 0.4101 - acc: 0.808 - ETA: 1:13 - loss: 0.4101 - acc: 0.808 - ETA: 1:13 - loss: 0.4110 - acc: 0.807 - ETA: 1:12 - loss: 0.4112 - acc: 0.807 - ETA: 1:12 - loss: 0.4119 - acc: 0.806 - ETA: 1:12 - loss: 0.4128 - acc: 0.805 - ETA: 1:12 - loss: 0.4124 - acc: 0.806 - ETA: 1:12 - loss: 0.4127 - acc: 0.806 - ETA: 1:12 - loss: 0.4129 - acc: 0.806 - ETA: 1:12 - loss: 0.4137 - acc: 0.805 - ETA: 1:12 - loss: 0.4141 - acc: 0.805 - ETA: 1:12 - loss: 0.4140 - acc: 0.805 - ETA: 1:12 - loss: 0.4142 - acc: 0.805 - ETA: 1:11 - loss: 0.4144 - acc: 0.805 - ETA: 1:11 - loss: 0.4144 - acc: 0.805 - ETA: 1:11 - loss: 0.4142 - acc: 0.805 - ETA: 1:11 - loss: 0.4145 - acc: 0.804 - ETA: 1:11 - loss: 0.4146 - acc: 0.804 - ETA: 1:11 - loss: 0.4153 - acc: 0.804 - ETA: 1:11 - loss: 0.4155 - acc: 0.803 - ETA: 1:11 - loss: 0.4153 - acc: 0.803 - ETA: 1:11 - loss: 0.4153 - acc: 0.803 - ETA: 1:11 - loss: 0.4159 - acc: 0.803 - ETA: 1:11 - loss: 0.4157 - acc: 0.804 - ETA: 1:10 - loss: 0.4159 - acc: 0.804 - ETA: 1:10 - loss: 0.4155 - acc: 0.805 - ETA: 1:10 - loss: 0.4149 - acc: 0.805 - ETA: 1:10 - loss: 0.4143 - acc: 0.805 - ETA: 1:10 - loss: 0.4142 - acc: 0.805 - ETA: 1:10 - loss: 0.4140 - acc: 0.805 - ETA: 1:10 - loss: 0.4138 - acc: 0.805 - ETA: 1:10 - loss: 0.4141 - acc: 0.805 - ETA: 1:10 - loss: 0.4141 - acc: 0.806 - ETA: 1:10 - loss: 0.4138 - acc: 0.805 - ETA: 1:10 - loss: 0.4148 - acc: 0.805 - ETA: 1:09 - loss: 0.4144 - acc: 0.805 - ETA: 1:09 - loss: 0.4145 - acc: 0.804 - ETA: 1:09 - loss: 0.4143 - acc: 0.804 - ETA: 1:09 - loss: 0.4146 - acc: 0.804 - ETA: 1:09 - loss: 0.4145 - acc: 0.804 - ETA: 1:09 - loss: 0.4142 - acc: 0.804 - ETA: 1:09 - loss: 0.4143 - acc: 0.804 - ETA: 1:09 - loss: 0.4143 - acc: 0.804 - ETA: 1:09 - loss: 0.4141 - acc: 0.804 - ETA: 1:09 - loss: 0.4136 - acc: 0.804 - ETA: 1:09 - loss: 0.4136 - acc: 0.805 - ETA: 1:09 - loss: 0.4136 - acc: 0.805 - ETA: 1:09 - loss: 0.4135 - acc: 0.805 - ETA: 1:09 - loss: 0.4135 - acc: 0.805 - ETA: 1:09 - loss: 0.4132 - acc: 0.805 - ETA: 1:09 - loss: 0.4131 - acc: 0.805 - ETA: 1:09 - loss: 0.4124 - acc: 0.805 - ETA: 1:09 - loss: 0.4118 - acc: 0.806 - ETA: 1:09 - loss: 0.4119 - acc: 0.806 - ETA: 1:09 - loss: 0.4116 - acc: 0.806 - ETA: 1:09 - loss: 0.4111 - acc: 0.806 - ETA: 1:09 - loss: 0.4112 - acc: 0.806 - ETA: 1:09 - loss: 0.4109 - acc: 0.806 - ETA: 1:09 - loss: 0.4108 - acc: 0.807 - ETA: 1:09 - loss: 0.4112 - acc: 0.807 - ETA: 1:09 - loss: 0.4116 - acc: 0.806 - ETA: 1:09 - loss: 0.4116 - acc: 0.806 - ETA: 1:08 - loss: 0.4111 - acc: 0.807 - ETA: 1:08 - loss: 0.4106 - acc: 0.807 - ETA: 1:08 - loss: 0.4108 - acc: 0.807 - ETA: 1:08 - loss: 0.4118 - acc: 0.806 - ETA: 1:08 - loss: 0.4123 - acc: 0.806 - ETA: 1:08 - loss: 0.4121 - acc: 0.806 - ETA: 1:08 - loss: 0.4133 - acc: 0.806 - ETA: 1:08 - loss: 0.4129 - acc: 0.806 - ETA: 1:08 - loss: 0.4130 - acc: 0.806 - ETA: 1:08 - loss: 0.4130 - acc: 0.806 - ETA: 1:08 - loss: 0.4128 - acc: 0.806 - ETA: 1:08 - loss: 0.4130 - acc: 0.806 - ETA: 1:08 - loss: 0.4136 - acc: 0.806 - ETA: 1:07 - loss: 0.4137 - acc: 0.805 - ETA: 1:07 - loss: 0.4138 - acc: 0.805 - ETA: 1:07 - loss: 0.4139 - acc: 0.805 - ETA: 1:07 - loss: 0.4138 - acc: 0.805 - ETA: 1:07 - loss: 0.4135 - acc: 0.805 - ETA: 1:07 - loss: 0.4132 - acc: 0.805 - ETA: 1:07 - loss: 0.4133 - acc: 0.805 - ETA: 1:07 - loss: 0.4128 - acc: 0.805 - ETA: 1:07 - loss: 0.4126 - acc: 0.805 - ETA: 1:07 - loss: 0.4129 - acc: 0.805 - ETA: 1:07 - loss: 0.4132 - acc: 0.805 - ETA: 1:07 - loss: 0.4134 - acc: 0.805 - ETA: 1:06 - loss: 0.4131 - acc: 0.805 - ETA: 1:06 - loss: 0.4129 - acc: 0.805 - ETA: 1:06 - loss: 0.4125 - acc: 0.806 - ETA: 1:06 - loss: 0.4125 - acc: 0.806 - ETA: 1:06 - loss: 0.4127 - acc: 0.806 - ETA: 1:06 - loss: 0.4126 - acc: 0.805 - ETA: 1:06 - loss: 0.4127 - acc: 0.805 - ETA: 1:06 - loss: 0.4124 - acc: 0.806 - ETA: 1:06 - loss: 0.4125 - acc: 0.805 - ETA: 1:06 - loss: 0.4128 - acc: 0.805 - ETA: 1:06 - loss: 0.4123 - acc: 0.805 - ETA: 1:06 - loss: 0.4123 - acc: 0.805 - ETA: 1:05 - loss: 0.4122 - acc: 0.806 - ETA: 1:05 - loss: 0.4124 - acc: 0.805 - ETA: 1:05 - loss: 0.4125 - acc: 0.805 - ETA: 1:05 - loss: 0.4123 - acc: 0.806 - ETA: 1:05 - loss: 0.4123 - acc: 0.806 - ETA: 1:05 - loss: 0.4124 - acc: 0.806 - ETA: 1:05 - loss: 0.4123 - acc: 0.806 - ETA: 1:05 - loss: 0.4119 - acc: 0.8065"
     ]
    },
    {
     "name": "stdout",
     "output_type": "stream",
     "text": [
      "1195/3392 [=========>....................] - ETA: 1:05 - loss: 0.4121 - acc: 0.806 - ETA: 1:05 - loss: 0.4121 - acc: 0.806 - ETA: 1:05 - loss: 0.4122 - acc: 0.806 - ETA: 1:05 - loss: 0.4123 - acc: 0.806 - ETA: 1:05 - loss: 0.4125 - acc: 0.805 - ETA: 1:04 - loss: 0.4124 - acc: 0.805 - ETA: 1:04 - loss: 0.4123 - acc: 0.805 - ETA: 1:04 - loss: 0.4122 - acc: 0.806 - ETA: 1:04 - loss: 0.4123 - acc: 0.805 - ETA: 1:04 - loss: 0.4118 - acc: 0.806 - ETA: 1:04 - loss: 0.4118 - acc: 0.806 - ETA: 1:04 - loss: 0.4117 - acc: 0.805 - ETA: 1:04 - loss: 0.4116 - acc: 0.805 - ETA: 1:04 - loss: 0.4117 - acc: 0.805 - ETA: 1:04 - loss: 0.4114 - acc: 0.805 - ETA: 1:04 - loss: 0.4114 - acc: 0.805 - ETA: 1:04 - loss: 0.4113 - acc: 0.806 - ETA: 1:04 - loss: 0.4119 - acc: 0.805 - ETA: 1:04 - loss: 0.4118 - acc: 0.805 - ETA: 1:04 - loss: 0.4118 - acc: 0.805 - ETA: 1:04 - loss: 0.4120 - acc: 0.805 - ETA: 1:04 - loss: 0.4119 - acc: 0.805 - ETA: 1:03 - loss: 0.4123 - acc: 0.804 - ETA: 1:03 - loss: 0.4127 - acc: 0.804 - ETA: 1:03 - loss: 0.4131 - acc: 0.804 - ETA: 1:03 - loss: 0.4130 - acc: 0.804 - ETA: 1:03 - loss: 0.4128 - acc: 0.804 - ETA: 1:03 - loss: 0.4133 - acc: 0.804 - ETA: 1:03 - loss: 0.4136 - acc: 0.804 - ETA: 1:03 - loss: 0.4133 - acc: 0.804 - ETA: 1:03 - loss: 0.4134 - acc: 0.804 - ETA: 1:03 - loss: 0.4134 - acc: 0.804 - ETA: 1:03 - loss: 0.4136 - acc: 0.804 - ETA: 1:03 - loss: 0.4140 - acc: 0.804 - ETA: 1:03 - loss: 0.4140 - acc: 0.804 - ETA: 1:02 - loss: 0.4136 - acc: 0.804 - ETA: 1:02 - loss: 0.4137 - acc: 0.804 - ETA: 1:02 - loss: 0.4138 - acc: 0.804 - ETA: 1:02 - loss: 0.4136 - acc: 0.804 - ETA: 1:02 - loss: 0.4133 - acc: 0.804 - ETA: 1:02 - loss: 0.4130 - acc: 0.805 - ETA: 1:02 - loss: 0.4129 - acc: 0.805 - ETA: 1:02 - loss: 0.4131 - acc: 0.805 - ETA: 1:02 - loss: 0.4128 - acc: 0.805 - ETA: 1:02 - loss: 0.4126 - acc: 0.805 - ETA: 1:02 - loss: 0.4128 - acc: 0.804 - ETA: 1:02 - loss: 0.4133 - acc: 0.804 - ETA: 1:01 - loss: 0.4138 - acc: 0.804 - ETA: 1:01 - loss: 0.4138 - acc: 0.804 - ETA: 1:01 - loss: 0.4135 - acc: 0.804 - ETA: 1:01 - loss: 0.4138 - acc: 0.804 - ETA: 1:01 - loss: 0.4139 - acc: 0.804 - ETA: 1:01 - loss: 0.4139 - acc: 0.804 - ETA: 1:01 - loss: 0.4145 - acc: 0.804 - ETA: 1:01 - loss: 0.4147 - acc: 0.804 - ETA: 1:01 - loss: 0.4147 - acc: 0.804 - ETA: 1:01 - loss: 0.4147 - acc: 0.804 - ETA: 1:01 - loss: 0.4148 - acc: 0.804 - ETA: 1:01 - loss: 0.4148 - acc: 0.803 - ETA: 1:01 - loss: 0.4145 - acc: 0.804 - ETA: 1:00 - loss: 0.4145 - acc: 0.803 - ETA: 1:00 - loss: 0.4150 - acc: 0.803 - ETA: 1:00 - loss: 0.4147 - acc: 0.803 - ETA: 1:00 - loss: 0.4143 - acc: 0.804 - ETA: 1:00 - loss: 0.4145 - acc: 0.804 - ETA: 1:00 - loss: 0.4143 - acc: 0.804 - ETA: 1:00 - loss: 0.4143 - acc: 0.804 - ETA: 1:00 - loss: 0.4142 - acc: 0.804 - ETA: 1:00 - loss: 0.4141 - acc: 0.804 - ETA: 1:00 - loss: 0.4143 - acc: 0.804 - ETA: 1:00 - loss: 0.4147 - acc: 0.804 - ETA: 1:00 - loss: 0.4146 - acc: 0.803 - ETA: 1:00 - loss: 0.4147 - acc: 0.804 - ETA: 1:00 - loss: 0.4147 - acc: 0.803 - ETA: 59s - loss: 0.4146 - acc: 0.804 - ETA: 59s - loss: 0.4147 - acc: 0.80 - ETA: 59s - loss: 0.4146 - acc: 0.80 - ETA: 59s - loss: 0.4148 - acc: 0.80 - ETA: 59s - loss: 0.4147 - acc: 0.80 - ETA: 59s - loss: 0.4148 - acc: 0.80 - ETA: 59s - loss: 0.4149 - acc: 0.80 - ETA: 59s - loss: 0.4150 - acc: 0.80 - ETA: 59s - loss: 0.4150 - acc: 0.80 - ETA: 59s - loss: 0.4150 - acc: 0.80 - ETA: 59s - loss: 0.4156 - acc: 0.80 - ETA: 59s - loss: 0.4158 - acc: 0.80 - ETA: 59s - loss: 0.4158 - acc: 0.80 - ETA: 58s - loss: 0.4157 - acc: 0.80 - ETA: 58s - loss: 0.4158 - acc: 0.80 - ETA: 58s - loss: 0.4159 - acc: 0.80 - ETA: 58s - loss: 0.4158 - acc: 0.80 - ETA: 58s - loss: 0.4158 - acc: 0.80 - ETA: 58s - loss: 0.4160 - acc: 0.80 - ETA: 58s - loss: 0.4160 - acc: 0.80 - ETA: 58s - loss: 0.4158 - acc: 0.80 - ETA: 58s - loss: 0.4158 - acc: 0.80 - ETA: 58s - loss: 0.4156 - acc: 0.80 - ETA: 58s - loss: 0.4157 - acc: 0.80 - ETA: 58s - loss: 0.4157 - acc: 0.80 - ETA: 58s - loss: 0.4158 - acc: 0.80 - ETA: 58s - loss: 0.4164 - acc: 0.80 - ETA: 58s - loss: 0.4164 - acc: 0.80 - ETA: 58s - loss: 0.4161 - acc: 0.80 - ETA: 58s - loss: 0.4165 - acc: 0.80 - ETA: 57s - loss: 0.4163 - acc: 0.80 - ETA: 57s - loss: 0.4168 - acc: 0.80 - ETA: 57s - loss: 0.4168 - acc: 0.80 - ETA: 57s - loss: 0.4166 - acc: 0.80 - ETA: 57s - loss: 0.4167 - acc: 0.80 - ETA: 57s - loss: 0.4166 - acc: 0.80 - ETA: 57s - loss: 0.4169 - acc: 0.80 - ETA: 57s - loss: 0.4167 - acc: 0.80 - ETA: 57s - loss: 0.4167 - acc: 0.80 - ETA: 57s - loss: 0.4166 - acc: 0.80 - ETA: 57s - loss: 0.4168 - acc: 0.80 - ETA: 57s - loss: 0.4168 - acc: 0.80 - ETA: 57s - loss: 0.4171 - acc: 0.80 - ETA: 56s - loss: 0.4170 - acc: 0.80 - ETA: 56s - loss: 0.4169 - acc: 0.80 - ETA: 56s - loss: 0.4170 - acc: 0.80 - ETA: 56s - loss: 0.4171 - acc: 0.80 - ETA: 56s - loss: 0.4171 - acc: 0.80 - ETA: 56s - loss: 0.4173 - acc: 0.80 - ETA: 56s - loss: 0.4177 - acc: 0.80 - ETA: 56s - loss: 0.4178 - acc: 0.80 - ETA: 56s - loss: 0.4177 - acc: 0.80 - ETA: 56s - loss: 0.4179 - acc: 0.80 - ETA: 56s - loss: 0.4177 - acc: 0.80 - ETA: 56s - loss: 0.4176 - acc: 0.80 - ETA: 56s - loss: 0.4176 - acc: 0.80 - ETA: 56s - loss: 0.4174 - acc: 0.80 - ETA: 55s - loss: 0.4172 - acc: 0.80 - ETA: 55s - loss: 0.4173 - acc: 0.80 - ETA: 55s - loss: 0.4171 - acc: 0.80 - ETA: 55s - loss: 0.4173 - acc: 0.80 - ETA: 55s - loss: 0.4172 - acc: 0.80 - ETA: 55s - loss: 0.4171 - acc: 0.80 - ETA: 55s - loss: 0.4172 - acc: 0.80 - ETA: 55s - loss: 0.4175 - acc: 0.80 - ETA: 55s - loss: 0.4172 - acc: 0.80 - ETA: 55s - loss: 0.4174 - acc: 0.80 - ETA: 55s - loss: 0.4172 - acc: 0.80 - ETA: 55s - loss: 0.4175 - acc: 0.80 - ETA: 55s - loss: 0.4174 - acc: 0.80 - ETA: 55s - loss: 0.4175 - acc: 0.80 - ETA: 54s - loss: 0.4175 - acc: 0.80 - ETA: 54s - loss: 0.4174 - acc: 0.80 - ETA: 54s - loss: 0.4173 - acc: 0.80 - ETA: 54s - loss: 0.4173 - acc: 0.80 - ETA: 54s - loss: 0.4171 - acc: 0.80 - ETA: 54s - loss: 0.4170 - acc: 0.80 - ETA: 54s - loss: 0.4170 - acc: 0.80 - ETA: 54s - loss: 0.4168 - acc: 0.80 - ETA: 54s - loss: 0.4166 - acc: 0.80 - ETA: 54s - loss: 0.4166 - acc: 0.80 - ETA: 54s - loss: 0.4166 - acc: 0.80 - ETA: 54s - loss: 0.4163 - acc: 0.80 - ETA: 54s - loss: 0.4163 - acc: 0.80 - ETA: 53s - loss: 0.4163 - acc: 0.80 - ETA: 53s - loss: 0.4163 - acc: 0.80 - ETA: 53s - loss: 0.4164 - acc: 0.80 - ETA: 53s - loss: 0.4166 - acc: 0.80 - ETA: 53s - loss: 0.4167 - acc: 0.80 - ETA: 53s - loss: 0.4167 - acc: 0.80 - ETA: 53s - loss: 0.4168 - acc: 0.80 - ETA: 53s - loss: 0.4169 - acc: 0.80 - ETA: 53s - loss: 0.4166 - acc: 0.80 - ETA: 53s - loss: 0.4167 - acc: 0.80 - ETA: 53s - loss: 0.4167 - acc: 0.80 - ETA: 53s - loss: 0.4165 - acc: 0.80 - ETA: 53s - loss: 0.4164 - acc: 0.80 - ETA: 53s - loss: 0.4164 - acc: 0.80 - ETA: 52s - loss: 0.4164 - acc: 0.80 - ETA: 52s - loss: 0.4162 - acc: 0.80 - ETA: 52s - loss: 0.4163 - acc: 0.80 - ETA: 52s - loss: 0.4164 - acc: 0.80 - ETA: 52s - loss: 0.4168 - acc: 0.80 - ETA: 52s - loss: 0.4169 - acc: 0.80 - ETA: 52s - loss: 0.4169 - acc: 0.80 - ETA: 52s - loss: 0.4168 - acc: 0.80 - ETA: 52s - loss: 0.4168 - acc: 0.80 - ETA: 52s - loss: 0.4168 - acc: 0.80 - ETA: 52s - loss: 0.4168 - acc: 0.80 - ETA: 52s - loss: 0.4166 - acc: 0.80 - ETA: 52s - loss: 0.4165 - acc: 0.80 - ETA: 52s - loss: 0.4166 - acc: 0.80 - ETA: 52s - loss: 0.4166 - acc: 0.80 - ETA: 52s - loss: 0.4170 - acc: 0.80 - ETA: 52s - loss: 0.4172 - acc: 0.80 - ETA: 52s - loss: 0.4171 - acc: 0.80 - ETA: 52s - loss: 0.4172 - acc: 0.80 - ETA: 52s - loss: 0.4177 - acc: 0.80 - ETA: 52s - loss: 0.4178 - acc: 0.80 - ETA: 51s - loss: 0.4177 - acc: 0.80 - ETA: 51s - loss: 0.4177 - acc: 0.80 - ETA: 51s - loss: 0.4178 - acc: 0.80 - ETA: 51s - loss: 0.4177 - acc: 0.80 - ETA: 51s - loss: 0.4177 - acc: 0.80 - ETA: 51s - loss: 0.4176 - acc: 0.80 - ETA: 51s - loss: 0.4176 - acc: 0.80 - ETA: 51s - loss: 0.4175 - acc: 0.80 - ETA: 51s - loss: 0.4177 - acc: 0.80 - ETA: 51s - loss: 0.4178 - acc: 0.80 - ETA: 51s - loss: 0.4178 - acc: 0.80 - ETA: 51s - loss: 0.4177 - acc: 0.80 - ETA: 51s - loss: 0.4176 - acc: 0.80 - ETA: 51s - loss: 0.4176 - acc: 0.80 - ETA: 50s - loss: 0.4173 - acc: 0.80 - ETA: 50s - loss: 0.4174 - acc: 0.80 - ETA: 50s - loss: 0.4174 - acc: 0.80 - ETA: 50s - loss: 0.4172 - acc: 0.8034"
     ]
    },
    {
     "name": "stdout",
     "output_type": "stream",
     "text": [
      "1827/3392 [===============>..............] - ETA: 50s - loss: 0.4172 - acc: 0.80 - ETA: 50s - loss: 0.4172 - acc: 0.80 - ETA: 50s - loss: 0.4170 - acc: 0.80 - ETA: 50s - loss: 0.4170 - acc: 0.80 - ETA: 50s - loss: 0.4168 - acc: 0.80 - ETA: 50s - loss: 0.4167 - acc: 0.80 - ETA: 50s - loss: 0.4169 - acc: 0.80 - ETA: 50s - loss: 0.4169 - acc: 0.80 - ETA: 50s - loss: 0.4169 - acc: 0.80 - ETA: 50s - loss: 0.4171 - acc: 0.80 - ETA: 49s - loss: 0.4171 - acc: 0.80 - ETA: 49s - loss: 0.4173 - acc: 0.80 - ETA: 49s - loss: 0.4171 - acc: 0.80 - ETA: 49s - loss: 0.4170 - acc: 0.80 - ETA: 49s - loss: 0.4172 - acc: 0.80 - ETA: 49s - loss: 0.4171 - acc: 0.80 - ETA: 49s - loss: 0.4171 - acc: 0.80 - ETA: 49s - loss: 0.4169 - acc: 0.80 - ETA: 49s - loss: 0.4170 - acc: 0.80 - ETA: 49s - loss: 0.4169 - acc: 0.80 - ETA: 49s - loss: 0.4170 - acc: 0.80 - ETA: 49s - loss: 0.4170 - acc: 0.80 - ETA: 49s - loss: 0.4170 - acc: 0.80 - ETA: 49s - loss: 0.4172 - acc: 0.80 - ETA: 48s - loss: 0.4172 - acc: 0.80 - ETA: 48s - loss: 0.4172 - acc: 0.80 - ETA: 48s - loss: 0.4172 - acc: 0.80 - ETA: 48s - loss: 0.4174 - acc: 0.80 - ETA: 48s - loss: 0.4172 - acc: 0.80 - ETA: 48s - loss: 0.4173 - acc: 0.80 - ETA: 48s - loss: 0.4172 - acc: 0.80 - ETA: 48s - loss: 0.4171 - acc: 0.80 - ETA: 48s - loss: 0.4171 - acc: 0.80 - ETA: 48s - loss: 0.4174 - acc: 0.80 - ETA: 48s - loss: 0.4173 - acc: 0.80 - ETA: 48s - loss: 0.4173 - acc: 0.80 - ETA: 48s - loss: 0.4173 - acc: 0.80 - ETA: 48s - loss: 0.4173 - acc: 0.80 - ETA: 47s - loss: 0.4173 - acc: 0.80 - ETA: 47s - loss: 0.4176 - acc: 0.80 - ETA: 47s - loss: 0.4176 - acc: 0.80 - ETA: 47s - loss: 0.4177 - acc: 0.80 - ETA: 47s - loss: 0.4179 - acc: 0.80 - ETA: 47s - loss: 0.4182 - acc: 0.80 - ETA: 47s - loss: 0.4183 - acc: 0.80 - ETA: 47s - loss: 0.4183 - acc: 0.80 - ETA: 47s - loss: 0.4182 - acc: 0.80 - ETA: 47s - loss: 0.4183 - acc: 0.80 - ETA: 47s - loss: 0.4184 - acc: 0.80 - ETA: 47s - loss: 0.4185 - acc: 0.80 - ETA: 47s - loss: 0.4189 - acc: 0.80 - ETA: 47s - loss: 0.4189 - acc: 0.80 - ETA: 47s - loss: 0.4190 - acc: 0.80 - ETA: 47s - loss: 0.4189 - acc: 0.80 - ETA: 46s - loss: 0.4191 - acc: 0.80 - ETA: 46s - loss: 0.4192 - acc: 0.80 - ETA: 46s - loss: 0.4192 - acc: 0.80 - ETA: 46s - loss: 0.4190 - acc: 0.80 - ETA: 46s - loss: 0.4189 - acc: 0.80 - ETA: 46s - loss: 0.4189 - acc: 0.80 - ETA: 46s - loss: 0.4190 - acc: 0.80 - ETA: 46s - loss: 0.4189 - acc: 0.80 - ETA: 46s - loss: 0.4188 - acc: 0.80 - ETA: 46s - loss: 0.4187 - acc: 0.80 - ETA: 46s - loss: 0.4188 - acc: 0.80 - ETA: 46s - loss: 0.4189 - acc: 0.80 - ETA: 46s - loss: 0.4189 - acc: 0.80 - ETA: 46s - loss: 0.4190 - acc: 0.80 - ETA: 46s - loss: 0.4191 - acc: 0.80 - ETA: 45s - loss: 0.4192 - acc: 0.80 - ETA: 45s - loss: 0.4193 - acc: 0.80 - ETA: 45s - loss: 0.4193 - acc: 0.80 - ETA: 45s - loss: 0.4192 - acc: 0.80 - ETA: 45s - loss: 0.4191 - acc: 0.80 - ETA: 45s - loss: 0.4191 - acc: 0.80 - ETA: 45s - loss: 0.4189 - acc: 0.80 - ETA: 45s - loss: 0.4188 - acc: 0.80 - ETA: 45s - loss: 0.4189 - acc: 0.80 - ETA: 45s - loss: 0.4190 - acc: 0.80 - ETA: 45s - loss: 0.4192 - acc: 0.80 - ETA: 45s - loss: 0.4194 - acc: 0.80 - ETA: 45s - loss: 0.4192 - acc: 0.80 - ETA: 45s - loss: 0.4195 - acc: 0.80 - ETA: 44s - loss: 0.4196 - acc: 0.80 - ETA: 44s - loss: 0.4197 - acc: 0.80 - ETA: 44s - loss: 0.4197 - acc: 0.80 - ETA: 44s - loss: 0.4197 - acc: 0.80 - ETA: 44s - loss: 0.4198 - acc: 0.80 - ETA: 44s - loss: 0.4199 - acc: 0.80 - ETA: 44s - loss: 0.4201 - acc: 0.80 - ETA: 44s - loss: 0.4203 - acc: 0.80 - ETA: 44s - loss: 0.4204 - acc: 0.80 - ETA: 44s - loss: 0.4204 - acc: 0.80 - ETA: 44s - loss: 0.4204 - acc: 0.80 - ETA: 44s - loss: 0.4205 - acc: 0.80 - ETA: 44s - loss: 0.4206 - acc: 0.80 - ETA: 44s - loss: 0.4204 - acc: 0.80 - ETA: 43s - loss: 0.4204 - acc: 0.80 - ETA: 43s - loss: 0.4205 - acc: 0.80 - ETA: 43s - loss: 0.4205 - acc: 0.80 - ETA: 43s - loss: 0.4204 - acc: 0.80 - ETA: 43s - loss: 0.4204 - acc: 0.80 - ETA: 43s - loss: 0.4203 - acc: 0.80 - ETA: 43s - loss: 0.4202 - acc: 0.80 - ETA: 43s - loss: 0.4201 - acc: 0.80 - ETA: 43s - loss: 0.4202 - acc: 0.80 - ETA: 43s - loss: 0.4199 - acc: 0.80 - ETA: 43s - loss: 0.4198 - acc: 0.80 - ETA: 43s - loss: 0.4199 - acc: 0.80 - ETA: 43s - loss: 0.4198 - acc: 0.80 - ETA: 43s - loss: 0.4197 - acc: 0.80 - ETA: 42s - loss: 0.4197 - acc: 0.80 - ETA: 42s - loss: 0.4198 - acc: 0.80 - ETA: 42s - loss: 0.4199 - acc: 0.80 - ETA: 42s - loss: 0.4197 - acc: 0.80 - ETA: 42s - loss: 0.4199 - acc: 0.80 - ETA: 42s - loss: 0.4197 - acc: 0.80 - ETA: 42s - loss: 0.4197 - acc: 0.80 - ETA: 42s - loss: 0.4197 - acc: 0.80 - ETA: 42s - loss: 0.4196 - acc: 0.80 - ETA: 42s - loss: 0.4197 - acc: 0.80 - ETA: 42s - loss: 0.4198 - acc: 0.80 - ETA: 42s - loss: 0.4197 - acc: 0.80 - ETA: 42s - loss: 0.4195 - acc: 0.80 - ETA: 42s - loss: 0.4195 - acc: 0.80 - ETA: 41s - loss: 0.4196 - acc: 0.80 - ETA: 41s - loss: 0.4196 - acc: 0.80 - ETA: 41s - loss: 0.4196 - acc: 0.80 - ETA: 41s - loss: 0.4198 - acc: 0.80 - ETA: 41s - loss: 0.4199 - acc: 0.80 - ETA: 41s - loss: 0.4199 - acc: 0.80 - ETA: 41s - loss: 0.4200 - acc: 0.80 - ETA: 41s - loss: 0.4200 - acc: 0.80 - ETA: 41s - loss: 0.4199 - acc: 0.80 - ETA: 41s - loss: 0.4200 - acc: 0.80 - ETA: 41s - loss: 0.4201 - acc: 0.80 - ETA: 41s - loss: 0.4201 - acc: 0.80 - ETA: 41s - loss: 0.4199 - acc: 0.80 - ETA: 41s - loss: 0.4198 - acc: 0.80 - ETA: 41s - loss: 0.4198 - acc: 0.80 - ETA: 41s - loss: 0.4200 - acc: 0.80 - ETA: 41s - loss: 0.4201 - acc: 0.80 - ETA: 40s - loss: 0.4200 - acc: 0.80 - ETA: 40s - loss: 0.4198 - acc: 0.80 - ETA: 40s - loss: 0.4200 - acc: 0.80 - ETA: 40s - loss: 0.4200 - acc: 0.80 - ETA: 40s - loss: 0.4200 - acc: 0.80 - ETA: 40s - loss: 0.4200 - acc: 0.80 - ETA: 40s - loss: 0.4202 - acc: 0.80 - ETA: 40s - loss: 0.4203 - acc: 0.80 - ETA: 40s - loss: 0.4205 - acc: 0.80 - ETA: 40s - loss: 0.4206 - acc: 0.80 - ETA: 40s - loss: 0.4207 - acc: 0.80 - ETA: 40s - loss: 0.4208 - acc: 0.80 - ETA: 40s - loss: 0.4208 - acc: 0.80 - ETA: 40s - loss: 0.4208 - acc: 0.80 - ETA: 39s - loss: 0.4208 - acc: 0.80 - ETA: 39s - loss: 0.4207 - acc: 0.80 - ETA: 39s - loss: 0.4207 - acc: 0.80 - ETA: 39s - loss: 0.4207 - acc: 0.80 - ETA: 39s - loss: 0.4205 - acc: 0.80 - ETA: 39s - loss: 0.4204 - acc: 0.80 - ETA: 39s - loss: 0.4203 - acc: 0.80 - ETA: 39s - loss: 0.4204 - acc: 0.80 - ETA: 39s - loss: 0.4204 - acc: 0.80 - ETA: 39s - loss: 0.4206 - acc: 0.80 - ETA: 39s - loss: 0.4205 - acc: 0.80 - ETA: 39s - loss: 0.4206 - acc: 0.80 - ETA: 39s - loss: 0.4206 - acc: 0.80 - ETA: 39s - loss: 0.4206 - acc: 0.80 - ETA: 38s - loss: 0.4206 - acc: 0.80 - ETA: 38s - loss: 0.4205 - acc: 0.80 - ETA: 38s - loss: 0.4205 - acc: 0.80 - ETA: 38s - loss: 0.4207 - acc: 0.80 - ETA: 38s - loss: 0.4207 - acc: 0.80 - ETA: 38s - loss: 0.4207 - acc: 0.80 - ETA: 38s - loss: 0.4208 - acc: 0.80 - ETA: 38s - loss: 0.4208 - acc: 0.80 - ETA: 38s - loss: 0.4208 - acc: 0.80 - ETA: 38s - loss: 0.4208 - acc: 0.80 - ETA: 38s - loss: 0.4207 - acc: 0.80 - ETA: 38s - loss: 0.4207 - acc: 0.80 - ETA: 38s - loss: 0.4206 - acc: 0.80 - ETA: 38s - loss: 0.4207 - acc: 0.80 - ETA: 37s - loss: 0.4206 - acc: 0.80 - ETA: 37s - loss: 0.4208 - acc: 0.80 - ETA: 37s - loss: 0.4209 - acc: 0.80 - ETA: 37s - loss: 0.4208 - acc: 0.80 - ETA: 37s - loss: 0.4209 - acc: 0.80 - ETA: 37s - loss: 0.4208 - acc: 0.80 - ETA: 37s - loss: 0.4208 - acc: 0.80 - ETA: 37s - loss: 0.4208 - acc: 0.80 - ETA: 37s - loss: 0.4207 - acc: 0.80 - ETA: 37s - loss: 0.4205 - acc: 0.80 - ETA: 37s - loss: 0.4206 - acc: 0.80 - ETA: 37s - loss: 0.4207 - acc: 0.80 - ETA: 37s - loss: 0.4207 - acc: 0.80 - ETA: 37s - loss: 0.4207 - acc: 0.80 - ETA: 37s - loss: 0.4207 - acc: 0.80 - ETA: 36s - loss: 0.4207 - acc: 0.80 - ETA: 36s - loss: 0.4207 - acc: 0.80 - ETA: 36s - loss: 0.4208 - acc: 0.80 - ETA: 36s - loss: 0.4208 - acc: 0.80 - ETA: 36s - loss: 0.4207 - acc: 0.80 - ETA: 36s - loss: 0.4208 - acc: 0.80 - ETA: 36s - loss: 0.4207 - acc: 0.80 - ETA: 36s - loss: 0.4208 - acc: 0.80 - ETA: 36s - loss: 0.4208 - acc: 0.80 - ETA: 36s - loss: 0.4209 - acc: 0.80 - ETA: 36s - loss: 0.4208 - acc: 0.80 - ETA: 36s - loss: 0.4207 - acc: 0.80 - ETA: 36s - loss: 0.4207 - acc: 0.80 - ETA: 36s - loss: 0.4206 - acc: 0.80 - ETA: 36s - loss: 0.4206 - acc: 0.80 - ETA: 36s - loss: 0.4208 - acc: 0.8021"
     ]
    },
    {
     "name": "stdout",
     "output_type": "stream",
     "text": [
      "2459/3392 [====================>.........] - ETA: 35s - loss: 0.4208 - acc: 0.80 - ETA: 35s - loss: 0.4209 - acc: 0.80 - ETA: 35s - loss: 0.4210 - acc: 0.80 - ETA: 35s - loss: 0.4209 - acc: 0.80 - ETA: 35s - loss: 0.4210 - acc: 0.80 - ETA: 35s - loss: 0.4209 - acc: 0.80 - ETA: 35s - loss: 0.4209 - acc: 0.80 - ETA: 35s - loss: 0.4210 - acc: 0.80 - ETA: 35s - loss: 0.4211 - acc: 0.80 - ETA: 35s - loss: 0.4210 - acc: 0.80 - ETA: 35s - loss: 0.4212 - acc: 0.80 - ETA: 35s - loss: 0.4212 - acc: 0.80 - ETA: 35s - loss: 0.4213 - acc: 0.80 - ETA: 35s - loss: 0.4215 - acc: 0.80 - ETA: 35s - loss: 0.4216 - acc: 0.80 - ETA: 35s - loss: 0.4215 - acc: 0.80 - ETA: 35s - loss: 0.4216 - acc: 0.80 - ETA: 34s - loss: 0.4215 - acc: 0.80 - ETA: 34s - loss: 0.4215 - acc: 0.80 - ETA: 34s - loss: 0.4216 - acc: 0.80 - ETA: 34s - loss: 0.4217 - acc: 0.80 - ETA: 34s - loss: 0.4218 - acc: 0.80 - ETA: 34s - loss: 0.4218 - acc: 0.80 - ETA: 34s - loss: 0.4217 - acc: 0.80 - ETA: 34s - loss: 0.4217 - acc: 0.80 - ETA: 34s - loss: 0.4217 - acc: 0.80 - ETA: 34s - loss: 0.4217 - acc: 0.80 - ETA: 34s - loss: 0.4217 - acc: 0.80 - ETA: 34s - loss: 0.4217 - acc: 0.80 - ETA: 34s - loss: 0.4217 - acc: 0.80 - ETA: 34s - loss: 0.4218 - acc: 0.80 - ETA: 33s - loss: 0.4218 - acc: 0.80 - ETA: 33s - loss: 0.4219 - acc: 0.80 - ETA: 33s - loss: 0.4218 - acc: 0.80 - ETA: 33s - loss: 0.4219 - acc: 0.80 - ETA: 33s - loss: 0.4219 - acc: 0.80 - ETA: 33s - loss: 0.4219 - acc: 0.80 - ETA: 33s - loss: 0.4220 - acc: 0.80 - ETA: 33s - loss: 0.4220 - acc: 0.80 - ETA: 33s - loss: 0.4222 - acc: 0.80 - ETA: 33s - loss: 0.4222 - acc: 0.80 - ETA: 33s - loss: 0.4222 - acc: 0.80 - ETA: 33s - loss: 0.4222 - acc: 0.80 - ETA: 33s - loss: 0.4224 - acc: 0.80 - ETA: 33s - loss: 0.4224 - acc: 0.80 - ETA: 32s - loss: 0.4224 - acc: 0.80 - ETA: 32s - loss: 0.4225 - acc: 0.80 - ETA: 32s - loss: 0.4226 - acc: 0.80 - ETA: 32s - loss: 0.4225 - acc: 0.80 - ETA: 32s - loss: 0.4225 - acc: 0.80 - ETA: 32s - loss: 0.4225 - acc: 0.80 - ETA: 32s - loss: 0.4225 - acc: 0.80 - ETA: 32s - loss: 0.4226 - acc: 0.80 - ETA: 32s - loss: 0.4226 - acc: 0.80 - ETA: 32s - loss: 0.4225 - acc: 0.80 - ETA: 32s - loss: 0.4226 - acc: 0.80 - ETA: 32s - loss: 0.4225 - acc: 0.80 - ETA: 32s - loss: 0.4224 - acc: 0.80 - ETA: 32s - loss: 0.4223 - acc: 0.80 - ETA: 31s - loss: 0.4225 - acc: 0.80 - ETA: 31s - loss: 0.4226 - acc: 0.80 - ETA: 31s - loss: 0.4225 - acc: 0.80 - ETA: 31s - loss: 0.4225 - acc: 0.80 - ETA: 31s - loss: 0.4226 - acc: 0.80 - ETA: 31s - loss: 0.4227 - acc: 0.80 - ETA: 31s - loss: 0.4227 - acc: 0.80 - ETA: 31s - loss: 0.4226 - acc: 0.80 - ETA: 31s - loss: 0.4228 - acc: 0.80 - ETA: 31s - loss: 0.4227 - acc: 0.80 - ETA: 31s - loss: 0.4227 - acc: 0.80 - ETA: 31s - loss: 0.4227 - acc: 0.80 - ETA: 31s - loss: 0.4227 - acc: 0.80 - ETA: 31s - loss: 0.4228 - acc: 0.80 - ETA: 31s - loss: 0.4228 - acc: 0.80 - ETA: 30s - loss: 0.4229 - acc: 0.80 - ETA: 30s - loss: 0.4230 - acc: 0.80 - ETA: 30s - loss: 0.4230 - acc: 0.80 - ETA: 30s - loss: 0.4230 - acc: 0.80 - ETA: 30s - loss: 0.4231 - acc: 0.80 - ETA: 30s - loss: 0.4231 - acc: 0.80 - ETA: 30s - loss: 0.4232 - acc: 0.80 - ETA: 30s - loss: 0.4233 - acc: 0.80 - ETA: 30s - loss: 0.4233 - acc: 0.80 - ETA: 30s - loss: 0.4234 - acc: 0.80 - ETA: 30s - loss: 0.4234 - acc: 0.80 - ETA: 30s - loss: 0.4235 - acc: 0.80 - ETA: 30s - loss: 0.4236 - acc: 0.80 - ETA: 30s - loss: 0.4236 - acc: 0.80 - ETA: 30s - loss: 0.4236 - acc: 0.80 - ETA: 30s - loss: 0.4237 - acc: 0.80 - ETA: 29s - loss: 0.4236 - acc: 0.80 - ETA: 29s - loss: 0.4237 - acc: 0.80 - ETA: 29s - loss: 0.4237 - acc: 0.80 - ETA: 29s - loss: 0.4238 - acc: 0.80 - ETA: 29s - loss: 0.4239 - acc: 0.80 - ETA: 29s - loss: 0.4238 - acc: 0.80 - ETA: 29s - loss: 0.4237 - acc: 0.80 - ETA: 29s - loss: 0.4237 - acc: 0.80 - ETA: 29s - loss: 0.4238 - acc: 0.80 - ETA: 29s - loss: 0.4237 - acc: 0.80 - ETA: 29s - loss: 0.4238 - acc: 0.80 - ETA: 29s - loss: 0.4239 - acc: 0.80 - ETA: 29s - loss: 0.4239 - acc: 0.80 - ETA: 29s - loss: 0.4238 - acc: 0.80 - ETA: 28s - loss: 0.4237 - acc: 0.80 - ETA: 28s - loss: 0.4237 - acc: 0.80 - ETA: 28s - loss: 0.4238 - acc: 0.80 - ETA: 28s - loss: 0.4238 - acc: 0.80 - ETA: 28s - loss: 0.4240 - acc: 0.80 - ETA: 28s - loss: 0.4241 - acc: 0.80 - ETA: 28s - loss: 0.4242 - acc: 0.80 - ETA: 28s - loss: 0.4241 - acc: 0.80 - ETA: 28s - loss: 0.4241 - acc: 0.80 - ETA: 28s - loss: 0.4241 - acc: 0.80 - ETA: 28s - loss: 0.4243 - acc: 0.80 - ETA: 28s - loss: 0.4242 - acc: 0.80 - ETA: 28s - loss: 0.4242 - acc: 0.80 - ETA: 28s - loss: 0.4242 - acc: 0.80 - ETA: 27s - loss: 0.4244 - acc: 0.80 - ETA: 27s - loss: 0.4244 - acc: 0.80 - ETA: 27s - loss: 0.4244 - acc: 0.80 - ETA: 27s - loss: 0.4243 - acc: 0.80 - ETA: 27s - loss: 0.4244 - acc: 0.80 - ETA: 27s - loss: 0.4242 - acc: 0.80 - ETA: 27s - loss: 0.4241 - acc: 0.80 - ETA: 27s - loss: 0.4242 - acc: 0.80 - ETA: 27s - loss: 0.4243 - acc: 0.80 - ETA: 27s - loss: 0.4244 - acc: 0.80 - ETA: 27s - loss: 0.4244 - acc: 0.80 - ETA: 27s - loss: 0.4243 - acc: 0.80 - ETA: 27s - loss: 0.4242 - acc: 0.80 - ETA: 27s - loss: 0.4242 - acc: 0.80 - ETA: 27s - loss: 0.4242 - acc: 0.80 - ETA: 26s - loss: 0.4243 - acc: 0.80 - ETA: 26s - loss: 0.4244 - acc: 0.80 - ETA: 26s - loss: 0.4243 - acc: 0.80 - ETA: 26s - loss: 0.4243 - acc: 0.80 - ETA: 26s - loss: 0.4244 - acc: 0.80 - ETA: 26s - loss: 0.4245 - acc: 0.80 - ETA: 26s - loss: 0.4245 - acc: 0.80 - ETA: 26s - loss: 0.4246 - acc: 0.80 - ETA: 26s - loss: 0.4245 - acc: 0.80 - ETA: 26s - loss: 0.4245 - acc: 0.80 - ETA: 26s - loss: 0.4246 - acc: 0.80 - ETA: 26s - loss: 0.4245 - acc: 0.80 - ETA: 26s - loss: 0.4245 - acc: 0.80 - ETA: 26s - loss: 0.4246 - acc: 0.80 - ETA: 25s - loss: 0.4244 - acc: 0.80 - ETA: 25s - loss: 0.4245 - acc: 0.80 - ETA: 25s - loss: 0.4245 - acc: 0.80 - ETA: 25s - loss: 0.4246 - acc: 0.80 - ETA: 25s - loss: 0.4247 - acc: 0.80 - ETA: 25s - loss: 0.4248 - acc: 0.80 - ETA: 25s - loss: 0.4248 - acc: 0.80 - ETA: 25s - loss: 0.4248 - acc: 0.80 - ETA: 25s - loss: 0.4248 - acc: 0.80 - ETA: 25s - loss: 0.4248 - acc: 0.80 - ETA: 25s - loss: 0.4250 - acc: 0.80 - ETA: 25s - loss: 0.4250 - acc: 0.80 - ETA: 25s - loss: 0.4249 - acc: 0.80 - ETA: 25s - loss: 0.4250 - acc: 0.80 - ETA: 25s - loss: 0.4251 - acc: 0.80 - ETA: 24s - loss: 0.4251 - acc: 0.80 - ETA: 24s - loss: 0.4251 - acc: 0.80 - ETA: 24s - loss: 0.4251 - acc: 0.80 - ETA: 24s - loss: 0.4251 - acc: 0.80 - ETA: 24s - loss: 0.4251 - acc: 0.80 - ETA: 24s - loss: 0.4252 - acc: 0.80 - ETA: 24s - loss: 0.4254 - acc: 0.79 - ETA: 24s - loss: 0.4254 - acc: 0.79 - ETA: 24s - loss: 0.4255 - acc: 0.79 - ETA: 24s - loss: 0.4255 - acc: 0.79 - ETA: 24s - loss: 0.4255 - acc: 0.79 - ETA: 24s - loss: 0.4255 - acc: 0.79 - ETA: 24s - loss: 0.4256 - acc: 0.79 - ETA: 24s - loss: 0.4257 - acc: 0.79 - ETA: 24s - loss: 0.4258 - acc: 0.79 - ETA: 23s - loss: 0.4257 - acc: 0.79 - ETA: 23s - loss: 0.4258 - acc: 0.79 - ETA: 23s - loss: 0.4259 - acc: 0.79 - ETA: 23s - loss: 0.4258 - acc: 0.79 - ETA: 23s - loss: 0.4258 - acc: 0.79 - ETA: 23s - loss: 0.4258 - acc: 0.79 - ETA: 23s - loss: 0.4258 - acc: 0.79 - ETA: 23s - loss: 0.4259 - acc: 0.79 - ETA: 23s - loss: 0.4260 - acc: 0.79 - ETA: 23s - loss: 0.4260 - acc: 0.79 - ETA: 23s - loss: 0.4260 - acc: 0.79 - ETA: 23s - loss: 0.4260 - acc: 0.79 - ETA: 23s - loss: 0.4260 - acc: 0.79 - ETA: 23s - loss: 0.4261 - acc: 0.79 - ETA: 23s - loss: 0.4261 - acc: 0.79 - ETA: 22s - loss: 0.4261 - acc: 0.79 - ETA: 22s - loss: 0.4260 - acc: 0.79 - ETA: 22s - loss: 0.4260 - acc: 0.79 - ETA: 22s - loss: 0.4260 - acc: 0.79 - ETA: 22s - loss: 0.4260 - acc: 0.79 - ETA: 22s - loss: 0.4260 - acc: 0.79 - ETA: 22s - loss: 0.4259 - acc: 0.79 - ETA: 22s - loss: 0.4259 - acc: 0.79 - ETA: 22s - loss: 0.4259 - acc: 0.79 - ETA: 22s - loss: 0.4258 - acc: 0.79 - ETA: 22s - loss: 0.4257 - acc: 0.79 - ETA: 22s - loss: 0.4258 - acc: 0.79 - ETA: 22s - loss: 0.4259 - acc: 0.79 - ETA: 22s - loss: 0.4260 - acc: 0.79 - ETA: 21s - loss: 0.4260 - acc: 0.79 - ETA: 21s - loss: 0.4261 - acc: 0.79 - ETA: 21s - loss: 0.4261 - acc: 0.79 - ETA: 21s - loss: 0.4260 - acc: 0.79 - ETA: 21s - loss: 0.4259 - acc: 0.79 - ETA: 21s - loss: 0.4260 - acc: 0.79 - ETA: 21s - loss: 0.4260 - acc: 0.79 - ETA: 21s - loss: 0.4261 - acc: 0.79 - ETA: 21s - loss: 0.4261 - acc: 0.7991"
     ]
    },
    {
     "name": "stdout",
     "output_type": "stream",
     "text": [
      "3075/3392 [==========================>...] - ETA: 21s - loss: 0.4262 - acc: 0.79 - ETA: 21s - loss: 0.4262 - acc: 0.79 - ETA: 21s - loss: 0.4262 - acc: 0.79 - ETA: 21s - loss: 0.4262 - acc: 0.79 - ETA: 21s - loss: 0.4263 - acc: 0.79 - ETA: 21s - loss: 0.4264 - acc: 0.79 - ETA: 20s - loss: 0.4264 - acc: 0.79 - ETA: 20s - loss: 0.4265 - acc: 0.79 - ETA: 20s - loss: 0.4265 - acc: 0.79 - ETA: 20s - loss: 0.4265 - acc: 0.79 - ETA: 20s - loss: 0.4265 - acc: 0.79 - ETA: 20s - loss: 0.4266 - acc: 0.79 - ETA: 20s - loss: 0.4266 - acc: 0.79 - ETA: 20s - loss: 0.4266 - acc: 0.79 - ETA: 20s - loss: 0.4265 - acc: 0.79 - ETA: 20s - loss: 0.4266 - acc: 0.79 - ETA: 20s - loss: 0.4267 - acc: 0.79 - ETA: 20s - loss: 0.4267 - acc: 0.79 - ETA: 20s - loss: 0.4267 - acc: 0.79 - ETA: 20s - loss: 0.4267 - acc: 0.79 - ETA: 20s - loss: 0.4267 - acc: 0.79 - ETA: 20s - loss: 0.4268 - acc: 0.79 - ETA: 19s - loss: 0.4267 - acc: 0.79 - ETA: 19s - loss: 0.4268 - acc: 0.79 - ETA: 19s - loss: 0.4268 - acc: 0.79 - ETA: 19s - loss: 0.4269 - acc: 0.79 - ETA: 19s - loss: 0.4269 - acc: 0.79 - ETA: 19s - loss: 0.4268 - acc: 0.79 - ETA: 19s - loss: 0.4267 - acc: 0.79 - ETA: 19s - loss: 0.4269 - acc: 0.79 - ETA: 19s - loss: 0.4268 - acc: 0.79 - ETA: 19s - loss: 0.4268 - acc: 0.79 - ETA: 19s - loss: 0.4268 - acc: 0.79 - ETA: 19s - loss: 0.4267 - acc: 0.79 - ETA: 19s - loss: 0.4267 - acc: 0.79 - ETA: 19s - loss: 0.4267 - acc: 0.79 - ETA: 19s - loss: 0.4266 - acc: 0.79 - ETA: 19s - loss: 0.4266 - acc: 0.79 - ETA: 19s - loss: 0.4267 - acc: 0.79 - ETA: 19s - loss: 0.4266 - acc: 0.79 - ETA: 19s - loss: 0.4267 - acc: 0.79 - ETA: 18s - loss: 0.4268 - acc: 0.79 - ETA: 18s - loss: 0.4268 - acc: 0.79 - ETA: 18s - loss: 0.4266 - acc: 0.79 - ETA: 18s - loss: 0.4268 - acc: 0.79 - ETA: 18s - loss: 0.4269 - acc: 0.79 - ETA: 18s - loss: 0.4271 - acc: 0.79 - ETA: 18s - loss: 0.4271 - acc: 0.79 - ETA: 18s - loss: 0.4271 - acc: 0.79 - ETA: 18s - loss: 0.4272 - acc: 0.79 - ETA: 18s - loss: 0.4271 - acc: 0.79 - ETA: 18s - loss: 0.4271 - acc: 0.79 - ETA: 18s - loss: 0.4272 - acc: 0.79 - ETA: 18s - loss: 0.4271 - acc: 0.79 - ETA: 18s - loss: 0.4272 - acc: 0.79 - ETA: 18s - loss: 0.4271 - acc: 0.79 - ETA: 17s - loss: 0.4272 - acc: 0.79 - ETA: 17s - loss: 0.4273 - acc: 0.79 - ETA: 17s - loss: 0.4273 - acc: 0.79 - ETA: 17s - loss: 0.4273 - acc: 0.79 - ETA: 17s - loss: 0.4274 - acc: 0.79 - ETA: 17s - loss: 0.4274 - acc: 0.79 - ETA: 17s - loss: 0.4275 - acc: 0.79 - ETA: 17s - loss: 0.4275 - acc: 0.79 - ETA: 17s - loss: 0.4275 - acc: 0.79 - ETA: 17s - loss: 0.4275 - acc: 0.79 - ETA: 17s - loss: 0.4275 - acc: 0.79 - ETA: 17s - loss: 0.4274 - acc: 0.79 - ETA: 17s - loss: 0.4275 - acc: 0.79 - ETA: 17s - loss: 0.4277 - acc: 0.79 - ETA: 17s - loss: 0.4278 - acc: 0.79 - ETA: 16s - loss: 0.4278 - acc: 0.79 - ETA: 16s - loss: 0.4278 - acc: 0.79 - ETA: 16s - loss: 0.4277 - acc: 0.79 - ETA: 16s - loss: 0.4278 - acc: 0.79 - ETA: 16s - loss: 0.4278 - acc: 0.79 - ETA: 16s - loss: 0.4279 - acc: 0.79 - ETA: 16s - loss: 0.4278 - acc: 0.79 - ETA: 16s - loss: 0.4278 - acc: 0.79 - ETA: 16s - loss: 0.4278 - acc: 0.79 - ETA: 16s - loss: 0.4279 - acc: 0.79 - ETA: 16s - loss: 0.4280 - acc: 0.79 - ETA: 16s - loss: 0.4280 - acc: 0.79 - ETA: 16s - loss: 0.4281 - acc: 0.79 - ETA: 16s - loss: 0.4282 - acc: 0.79 - ETA: 15s - loss: 0.4281 - acc: 0.79 - ETA: 15s - loss: 0.4281 - acc: 0.79 - ETA: 15s - loss: 0.4281 - acc: 0.79 - ETA: 15s - loss: 0.4280 - acc: 0.79 - ETA: 15s - loss: 0.4280 - acc: 0.79 - ETA: 15s - loss: 0.4281 - acc: 0.79 - ETA: 15s - loss: 0.4280 - acc: 0.79 - ETA: 15s - loss: 0.4282 - acc: 0.79 - ETA: 15s - loss: 0.4282 - acc: 0.79 - ETA: 15s - loss: 0.4282 - acc: 0.79 - ETA: 15s - loss: 0.4283 - acc: 0.79 - ETA: 15s - loss: 0.4283 - acc: 0.79 - ETA: 15s - loss: 0.4283 - acc: 0.79 - ETA: 15s - loss: 0.4283 - acc: 0.79 - ETA: 15s - loss: 0.4283 - acc: 0.79 - ETA: 14s - loss: 0.4282 - acc: 0.79 - ETA: 14s - loss: 0.4281 - acc: 0.79 - ETA: 14s - loss: 0.4282 - acc: 0.79 - ETA: 14s - loss: 0.4283 - acc: 0.79 - ETA: 14s - loss: 0.4282 - acc: 0.79 - ETA: 14s - loss: 0.4282 - acc: 0.79 - ETA: 14s - loss: 0.4282 - acc: 0.79 - ETA: 14s - loss: 0.4283 - acc: 0.79 - ETA: 14s - loss: 0.4283 - acc: 0.79 - ETA: 14s - loss: 0.4283 - acc: 0.79 - ETA: 14s - loss: 0.4283 - acc: 0.79 - ETA: 14s - loss: 0.4283 - acc: 0.79 - ETA: 14s - loss: 0.4284 - acc: 0.79 - ETA: 14s - loss: 0.4285 - acc: 0.79 - ETA: 14s - loss: 0.4285 - acc: 0.79 - ETA: 14s - loss: 0.4285 - acc: 0.79 - ETA: 13s - loss: 0.4286 - acc: 0.79 - ETA: 13s - loss: 0.4287 - acc: 0.79 - ETA: 13s - loss: 0.4287 - acc: 0.79 - ETA: 13s - loss: 0.4288 - acc: 0.79 - ETA: 13s - loss: 0.4287 - acc: 0.79 - ETA: 13s - loss: 0.4288 - acc: 0.79 - ETA: 13s - loss: 0.4288 - acc: 0.79 - ETA: 13s - loss: 0.4290 - acc: 0.79 - ETA: 13s - loss: 0.4289 - acc: 0.79 - ETA: 13s - loss: 0.4289 - acc: 0.79 - ETA: 13s - loss: 0.4290 - acc: 0.79 - ETA: 13s - loss: 0.4290 - acc: 0.79 - ETA: 13s - loss: 0.4291 - acc: 0.79 - ETA: 13s - loss: 0.4292 - acc: 0.79 - ETA: 13s - loss: 0.4291 - acc: 0.79 - ETA: 12s - loss: 0.4291 - acc: 0.79 - ETA: 12s - loss: 0.4291 - acc: 0.79 - ETA: 12s - loss: 0.4291 - acc: 0.79 - ETA: 12s - loss: 0.4291 - acc: 0.79 - ETA: 12s - loss: 0.4291 - acc: 0.79 - ETA: 12s - loss: 0.4291 - acc: 0.79 - ETA: 12s - loss: 0.4290 - acc: 0.79 - ETA: 12s - loss: 0.4291 - acc: 0.79 - ETA: 12s - loss: 0.4293 - acc: 0.79 - ETA: 12s - loss: 0.4293 - acc: 0.79 - ETA: 12s - loss: 0.4293 - acc: 0.79 - ETA: 12s - loss: 0.4294 - acc: 0.79 - ETA: 12s - loss: 0.4294 - acc: 0.79 - ETA: 12s - loss: 0.4294 - acc: 0.79 - ETA: 11s - loss: 0.4295 - acc: 0.79 - ETA: 11s - loss: 0.4294 - acc: 0.79 - ETA: 11s - loss: 0.4294 - acc: 0.79 - ETA: 11s - loss: 0.4294 - acc: 0.79 - ETA: 11s - loss: 0.4295 - acc: 0.79 - ETA: 11s - loss: 0.4296 - acc: 0.79 - ETA: 11s - loss: 0.4296 - acc: 0.79 - ETA: 11s - loss: 0.4296 - acc: 0.79 - ETA: 11s - loss: 0.4296 - acc: 0.79 - ETA: 11s - loss: 0.4296 - acc: 0.79 - ETA: 11s - loss: 0.4296 - acc: 0.79 - ETA: 11s - loss: 0.4296 - acc: 0.79 - ETA: 11s - loss: 0.4296 - acc: 0.79 - ETA: 11s - loss: 0.4296 - acc: 0.79 - ETA: 10s - loss: 0.4296 - acc: 0.79 - ETA: 10s - loss: 0.4296 - acc: 0.79 - ETA: 10s - loss: 0.4296 - acc: 0.79 - ETA: 10s - loss: 0.4295 - acc: 0.79 - ETA: 10s - loss: 0.4296 - acc: 0.79 - ETA: 10s - loss: 0.4297 - acc: 0.79 - ETA: 10s - loss: 0.4296 - acc: 0.79 - ETA: 10s - loss: 0.4296 - acc: 0.79 - ETA: 10s - loss: 0.4296 - acc: 0.79 - ETA: 10s - loss: 0.4296 - acc: 0.79 - ETA: 10s - loss: 0.4297 - acc: 0.79 - ETA: 10s - loss: 0.4297 - acc: 0.79 - ETA: 10s - loss: 0.4296 - acc: 0.79 - ETA: 10s - loss: 0.4297 - acc: 0.79 - ETA: 10s - loss: 0.4298 - acc: 0.79 - ETA: 9s - loss: 0.4298 - acc: 0.7963 - ETA: 9s - loss: 0.4298 - acc: 0.796 - ETA: 9s - loss: 0.4298 - acc: 0.796 - ETA: 9s - loss: 0.4298 - acc: 0.796 - ETA: 9s - loss: 0.4298 - acc: 0.796 - ETA: 9s - loss: 0.4298 - acc: 0.796 - ETA: 9s - loss: 0.4299 - acc: 0.796 - ETA: 9s - loss: 0.4299 - acc: 0.796 - ETA: 9s - loss: 0.4300 - acc: 0.796 - ETA: 9s - loss: 0.4301 - acc: 0.796 - ETA: 9s - loss: 0.4301 - acc: 0.796 - ETA: 9s - loss: 0.4301 - acc: 0.796 - ETA: 9s - loss: 0.4302 - acc: 0.796 - ETA: 9s - loss: 0.4301 - acc: 0.796 - ETA: 8s - loss: 0.4301 - acc: 0.796 - ETA: 8s - loss: 0.4301 - acc: 0.796 - ETA: 8s - loss: 0.4302 - acc: 0.796 - ETA: 8s - loss: 0.4302 - acc: 0.796 - ETA: 8s - loss: 0.4303 - acc: 0.796 - ETA: 8s - loss: 0.4303 - acc: 0.796 - ETA: 8s - loss: 0.4303 - acc: 0.796 - ETA: 8s - loss: 0.4304 - acc: 0.796 - ETA: 8s - loss: 0.4303 - acc: 0.796 - ETA: 8s - loss: 0.4303 - acc: 0.796 - ETA: 8s - loss: 0.4304 - acc: 0.796 - ETA: 8s - loss: 0.4303 - acc: 0.796 - ETA: 8s - loss: 0.4303 - acc: 0.796 - ETA: 8s - loss: 0.4303 - acc: 0.796 - ETA: 8s - loss: 0.4304 - acc: 0.796 - ETA: 8s - loss: 0.4303 - acc: 0.796 - ETA: 7s - loss: 0.4303 - acc: 0.796 - ETA: 7s - loss: 0.4304 - acc: 0.796 - ETA: 7s - loss: 0.4305 - acc: 0.796 - ETA: 7s - loss: 0.4305 - acc: 0.796 - ETA: 7s - loss: 0.4306 - acc: 0.795 - ETA: 7s - loss: 0.4306 - acc: 0.795 - ETA: 7s - loss: 0.4306 - acc: 0.795 - ETA: 7s - loss: 0.4306 - acc: 0.795 - ETA: 7s - loss: 0.4308 - acc: 0.795 - ETA: 7s - loss: 0.4308 - acc: 0.795 - ETA: 7s - loss: 0.4308 - acc: 0.7958"
     ]
    },
    {
     "name": "stdout",
     "output_type": "stream",
     "text": [
      "3393/3392 [==============================] - ETA: 7s - loss: 0.4308 - acc: 0.795 - ETA: 7s - loss: 0.4308 - acc: 0.795 - ETA: 7s - loss: 0.4309 - acc: 0.795 - ETA: 7s - loss: 0.4309 - acc: 0.795 - ETA: 6s - loss: 0.4309 - acc: 0.795 - ETA: 6s - loss: 0.4310 - acc: 0.795 - ETA: 6s - loss: 0.4310 - acc: 0.795 - ETA: 6s - loss: 0.4310 - acc: 0.795 - ETA: 6s - loss: 0.4310 - acc: 0.795 - ETA: 6s - loss: 0.4310 - acc: 0.795 - ETA: 6s - loss: 0.4310 - acc: 0.795 - ETA: 6s - loss: 0.4310 - acc: 0.795 - ETA: 6s - loss: 0.4310 - acc: 0.795 - ETA: 6s - loss: 0.4310 - acc: 0.795 - ETA: 6s - loss: 0.4310 - acc: 0.795 - ETA: 6s - loss: 0.4310 - acc: 0.795 - ETA: 6s - loss: 0.4310 - acc: 0.795 - ETA: 6s - loss: 0.4309 - acc: 0.795 - ETA: 5s - loss: 0.4310 - acc: 0.795 - ETA: 5s - loss: 0.4310 - acc: 0.795 - ETA: 5s - loss: 0.4310 - acc: 0.795 - ETA: 5s - loss: 0.4310 - acc: 0.795 - ETA: 5s - loss: 0.4310 - acc: 0.795 - ETA: 5s - loss: 0.4311 - acc: 0.795 - ETA: 5s - loss: 0.4311 - acc: 0.795 - ETA: 5s - loss: 0.4311 - acc: 0.795 - ETA: 5s - loss: 0.4311 - acc: 0.795 - ETA: 5s - loss: 0.4311 - acc: 0.795 - ETA: 5s - loss: 0.4311 - acc: 0.795 - ETA: 5s - loss: 0.4312 - acc: 0.795 - ETA: 5s - loss: 0.4311 - acc: 0.795 - ETA: 5s - loss: 0.4311 - acc: 0.795 - ETA: 5s - loss: 0.4311 - acc: 0.795 - ETA: 4s - loss: 0.4310 - acc: 0.795 - ETA: 4s - loss: 0.4310 - acc: 0.795 - ETA: 4s - loss: 0.4311 - acc: 0.795 - ETA: 4s - loss: 0.4312 - acc: 0.795 - ETA: 4s - loss: 0.4312 - acc: 0.795 - ETA: 4s - loss: 0.4313 - acc: 0.795 - ETA: 4s - loss: 0.4313 - acc: 0.795 - ETA: 4s - loss: 0.4313 - acc: 0.795 - ETA: 4s - loss: 0.4313 - acc: 0.795 - ETA: 4s - loss: 0.4313 - acc: 0.795 - ETA: 4s - loss: 0.4313 - acc: 0.795 - ETA: 4s - loss: 0.4314 - acc: 0.795 - ETA: 4s - loss: 0.4314 - acc: 0.795 - ETA: 4s - loss: 0.4314 - acc: 0.795 - ETA: 4s - loss: 0.4314 - acc: 0.795 - ETA: 3s - loss: 0.4315 - acc: 0.795 - ETA: 3s - loss: 0.4314 - acc: 0.795 - ETA: 3s - loss: 0.4314 - acc: 0.795 - ETA: 3s - loss: 0.4314 - acc: 0.795 - ETA: 3s - loss: 0.4314 - acc: 0.795 - ETA: 3s - loss: 0.4316 - acc: 0.795 - ETA: 3s - loss: 0.4315 - acc: 0.795 - ETA: 3s - loss: 0.4316 - acc: 0.795 - ETA: 3s - loss: 0.4315 - acc: 0.795 - ETA: 3s - loss: 0.4316 - acc: 0.795 - ETA: 3s - loss: 0.4315 - acc: 0.795 - ETA: 3s - loss: 0.4316 - acc: 0.795 - ETA: 3s - loss: 0.4317 - acc: 0.795 - ETA: 3s - loss: 0.4317 - acc: 0.795 - ETA: 3s - loss: 0.4317 - acc: 0.795 - ETA: 3s - loss: 0.4317 - acc: 0.795 - ETA: 3s - loss: 0.4317 - acc: 0.795 - ETA: 2s - loss: 0.4317 - acc: 0.795 - ETA: 2s - loss: 0.4319 - acc: 0.795 - ETA: 2s - loss: 0.4319 - acc: 0.795 - ETA: 2s - loss: 0.4319 - acc: 0.795 - ETA: 2s - loss: 0.4319 - acc: 0.795 - ETA: 2s - loss: 0.4320 - acc: 0.795 - ETA: 2s - loss: 0.4319 - acc: 0.795 - ETA: 2s - loss: 0.4318 - acc: 0.795 - ETA: 2s - loss: 0.4319 - acc: 0.795 - ETA: 2s - loss: 0.4318 - acc: 0.795 - ETA: 2s - loss: 0.4319 - acc: 0.795 - ETA: 2s - loss: 0.4319 - acc: 0.795 - ETA: 2s - loss: 0.4319 - acc: 0.795 - ETA: 2s - loss: 0.4319 - acc: 0.795 - ETA: 1s - loss: 0.4318 - acc: 0.795 - ETA: 1s - loss: 0.4317 - acc: 0.795 - ETA: 1s - loss: 0.4318 - acc: 0.795 - ETA: 1s - loss: 0.4317 - acc: 0.795 - ETA: 1s - loss: 0.4318 - acc: 0.795 - ETA: 1s - loss: 0.4318 - acc: 0.795 - ETA: 1s - loss: 0.4318 - acc: 0.795 - ETA: 1s - loss: 0.4319 - acc: 0.795 - ETA: 1s - loss: 0.4319 - acc: 0.795 - ETA: 1s - loss: 0.4319 - acc: 0.795 - ETA: 1s - loss: 0.4319 - acc: 0.795 - ETA: 1s - loss: 0.4320 - acc: 0.795 - ETA: 1s - loss: 0.4321 - acc: 0.795 - ETA: 1s - loss: 0.4321 - acc: 0.795 - ETA: 1s - loss: 0.4321 - acc: 0.795 - ETA: 0s - loss: 0.4322 - acc: 0.795 - ETA: 0s - loss: 0.4322 - acc: 0.795 - ETA: 0s - loss: 0.4321 - acc: 0.795 - ETA: 0s - loss: 0.4322 - acc: 0.795 - ETA: 0s - loss: 0.4322 - acc: 0.795 - ETA: 0s - loss: 0.4322 - acc: 0.795 - ETA: 0s - loss: 0.4322 - acc: 0.795 - ETA: 0s - loss: 0.4322 - acc: 0.795 - ETA: 0s - loss: 0.4321 - acc: 0.795 - ETA: 0s - loss: 0.4321 - acc: 0.795 - ETA: 0s - loss: 0.4320 - acc: 0.795 - ETA: 0s - loss: 0.4321 - acc: 0.795 - ETA: 0s - loss: 0.4321 - acc: 0.795 - ETA: 0s - loss: 0.4321 - acc: 0.795 - 78s 23ms/step - loss: 0.4322 - acc: 0.7954 - val_loss: 0.4909 - val_acc: 0.7789\n"
     ]
    },
    {
     "data": {
      "text/plain": [
       "<keras.callbacks.History at 0x2ecd369a2e8>"
      ]
     },
     "execution_count": 6,
     "metadata": {},
     "output_type": "execute_result"
    }
   ],
   "source": [
    "model = Sequential()\n",
    "custom_adam = keras.optimizers.Adam(lr=0.005, beta_1=0.9, beta_2=0.999, epsilon=1e-8)\n",
    "model.add(Dense(128, activation='relu', input_dim=11000))\n",
    "model.add(Dropout(0.2))\n",
    "model.add(Dense(1, activation='sigmoid'))\n",
    "model.compile(optimizer=custom_adam,\n",
    "              loss='binary_crossentropy',\n",
    "              metrics=['accuracy'])\n",
    "\n",
    "model.fit_generator(generator=batch_generator_shuffle(X_train, y_train, 32),\n",
    "                    epochs=2, validation_data=(X_test, y_test),\n",
    "                    steps_per_epoch=X_train.shape[0]/32)"
   ]
  },
  {
   "cell_type": "code",
   "execution_count": 7,
   "metadata": {},
   "outputs": [
    {
     "data": {
      "text/html": [
       "<div>\n",
       "<style scoped>\n",
       "    .dataframe tbody tr th:only-of-type {\n",
       "        vertical-align: middle;\n",
       "    }\n",
       "\n",
       "    .dataframe tbody tr th {\n",
       "        vertical-align: top;\n",
       "    }\n",
       "\n",
       "    .dataframe thead th {\n",
       "        text-align: right;\n",
       "    }\n",
       "</style>\n",
       "<table border=\"1\" class=\"dataframe\">\n",
       "  <thead>\n",
       "    <tr style=\"text-align: right;\">\n",
       "      <th></th>\n",
       "      <th>sesion id</th>\n",
       "      <th>evento</th>\n",
       "      <th>texto</th>\n",
       "      <th>actividad</th>\n",
       "      <th>respuesta</th>\n",
       "      <th>corrected_content_no</th>\n",
       "      <th>corrected_respuesta</th>\n",
       "      <th>lemma_content_no</th>\n",
       "      <th>lemma_content</th>\n",
       "      <th>stemm_content_no</th>\n",
       "      <th>stemm_content</th>\n",
       "      <th>NNLR3_lemma_proba</th>\n",
       "      <th>NNLR3_lemma_value</th>\n",
       "    </tr>\n",
       "    <tr>\n",
       "      <th>id</th>\n",
       "      <th></th>\n",
       "      <th></th>\n",
       "      <th></th>\n",
       "      <th></th>\n",
       "      <th></th>\n",
       "      <th></th>\n",
       "      <th></th>\n",
       "      <th></th>\n",
       "      <th></th>\n",
       "      <th></th>\n",
       "      <th></th>\n",
       "      <th></th>\n",
       "      <th></th>\n",
       "    </tr>\n",
       "  </thead>\n",
       "  <tbody>\n",
       "    <tr>\n",
       "      <th>1239.0</th>\n",
       "      <td>210</td>\n",
       "      <td>Conflicto_La_Vida</td>\n",
       "      <td>¿Te gustaría contarme más sobre esto?</td>\n",
       "      <td>Problematica</td>\n",
       "      <td>nada, simplemente desepcionado de como.se.dan ...</td>\n",
       "      <td>nada simplemente decepcionado de como las cosas</td>\n",
       "      <td>simplemente decepcionado</td>\n",
       "      <td>nadar simplemente decepcionar de comer los coser</td>\n",
       "      <td>simplemente decepcionar</td>\n",
       "      <td>nad simplement decepcion de com las cos</td>\n",
       "      <td>simplement decepcion</td>\n",
       "      <td>0.206171</td>\n",
       "      <td>N</td>\n",
       "    </tr>\n",
       "    <tr>\n",
       "      <th>1245.0</th>\n",
       "      <td>210</td>\n",
       "      <td>Debate_Creencia_3_Bien</td>\n",
       "      <td>¿Qué otra explicación le darías?</td>\n",
       "      <td>Explicacion</td>\n",
       "      <td>pues ver lo positivo de ello</td>\n",
       "      <td>pues ver lo positivo de ello</td>\n",
       "      <td>positivo</td>\n",
       "      <td>pues ver el positivo de él</td>\n",
       "      <td>positivo</td>\n",
       "      <td>pues ver lo posit de ello</td>\n",
       "      <td>posit</td>\n",
       "      <td>0.738438</td>\n",
       "      <td>P</td>\n",
       "    </tr>\n",
       "    <tr>\n",
       "      <th>1248.0</th>\n",
       "      <td>210</td>\n",
       "      <td>Compartir_Aprendido</td>\n",
       "      <td>¿Qué aprendiste de lo qué abordamos hoy?</td>\n",
       "      <td>Aprendizaje</td>\n",
       "      <td>darme un tiempo para refelxionar y no nada mas...</td>\n",
       "      <td>darme un tiempo para reflexionar y no nada mas...</td>\n",
       "      <td>darme reflexionar y irme a i precio o pensamiento</td>\n",
       "      <td>darme uno tiempo parir reflexionar y no nadar ...</td>\n",
       "      <td>darme reflexionar y irme a i preciar o pensami...</td>\n",
       "      <td>darm un tiemp par reflexion y no nad mas irme ...</td>\n",
       "      <td>darm reflexion y irme a i preci o pensamient</td>\n",
       "      <td>0.770850</td>\n",
       "      <td>P</td>\n",
       "    </tr>\n",
       "    <tr>\n",
       "      <th>1329.0</th>\n",
       "      <td>226</td>\n",
       "      <td>No_Obstaculo_Detectado_2</td>\n",
       "      <td>¿Deseas compartirme cual fue tu obstáculo?</td>\n",
       "      <td>Obstaculo_Actividad</td>\n",
       "      <td>planeo realizarla por la tarde del día</td>\n",
       "      <td>planeo realizara por la tarde del día</td>\n",
       "      <td>planeo realizara</td>\n",
       "      <td>planear realizar por lo tardar del día</td>\n",
       "      <td>planear realizar</td>\n",
       "      <td>plane realiz por la tard del dia</td>\n",
       "      <td>plane realiz</td>\n",
       "      <td>0.956102</td>\n",
       "      <td>P</td>\n",
       "    </tr>\n",
       "    <tr>\n",
       "      <th>1345.0</th>\n",
       "      <td>255</td>\n",
       "      <td>Conflicto_Los_Demas</td>\n",
       "      <td>¿Te gustaría contarme más sobre esto?</td>\n",
       "      <td>Problematica</td>\n",
       "      <td>las personas a quienes atiendo me hacen enojar...</td>\n",
       "      <td>las personas a quienes atiendo me hacen enojar...</td>\n",
       "      <td>personas a atiendo enojar entienden instruccio...</td>\n",
       "      <td>los personar a quien atender me hacer enojar p...</td>\n",
       "      <td>personar a atender enojar entender instrucción...</td>\n",
       "      <td>las person a quien atiend me hac enoj porqu no...</td>\n",
       "      <td>person a atiend enoj entiend instruccion y quier</td>\n",
       "      <td>0.198364</td>\n",
       "      <td>N</td>\n",
       "    </tr>\n",
       "  </tbody>\n",
       "</table>\n",
       "</div>"
      ],
      "text/plain": [
       "        sesion id                    evento  \\\n",
       "id                                            \n",
       "1239.0        210         Conflicto_La_Vida   \n",
       "1245.0        210    Debate_Creencia_3_Bien   \n",
       "1248.0        210       Compartir_Aprendido   \n",
       "1329.0        226  No_Obstaculo_Detectado_2   \n",
       "1345.0        255       Conflicto_Los_Demas   \n",
       "\n",
       "                                             texto            actividad  \\\n",
       "id                                                                        \n",
       "1239.0       ¿Te gustaría contarme más sobre esto?         Problematica   \n",
       "1245.0            ¿Qué otra explicación le darías?          Explicacion   \n",
       "1248.0    ¿Qué aprendiste de lo qué abordamos hoy?          Aprendizaje   \n",
       "1329.0  ¿Deseas compartirme cual fue tu obstáculo?  Obstaculo_Actividad   \n",
       "1345.0       ¿Te gustaría contarme más sobre esto?         Problematica   \n",
       "\n",
       "                                                respuesta  \\\n",
       "id                                                          \n",
       "1239.0  nada, simplemente desepcionado de como.se.dan ...   \n",
       "1245.0                       pues ver lo positivo de ello   \n",
       "1248.0  darme un tiempo para refelxionar y no nada mas...   \n",
       "1329.0             planeo realizarla por la tarde del día   \n",
       "1345.0  las personas a quienes atiendo me hacen enojar...   \n",
       "\n",
       "                                     corrected_content_no  \\\n",
       "id                                                          \n",
       "1239.0    nada simplemente decepcionado de como las cosas   \n",
       "1245.0                       pues ver lo positivo de ello   \n",
       "1248.0  darme un tiempo para reflexionar y no nada mas...   \n",
       "1329.0              planeo realizara por la tarde del día   \n",
       "1345.0  las personas a quienes atiendo me hacen enojar...   \n",
       "\n",
       "                                      corrected_respuesta  \\\n",
       "id                                                          \n",
       "1239.0                           simplemente decepcionado   \n",
       "1245.0                                           positivo   \n",
       "1248.0  darme reflexionar y irme a i precio o pensamiento   \n",
       "1329.0                                   planeo realizara   \n",
       "1345.0  personas a atiendo enojar entienden instruccio...   \n",
       "\n",
       "                                         lemma_content_no  \\\n",
       "id                                                          \n",
       "1239.0   nadar simplemente decepcionar de comer los coser   \n",
       "1245.0                         pues ver el positivo de él   \n",
       "1248.0  darme uno tiempo parir reflexionar y no nadar ...   \n",
       "1329.0             planear realizar por lo tardar del día   \n",
       "1345.0  los personar a quien atender me hacer enojar p...   \n",
       "\n",
       "                                            lemma_content  \\\n",
       "id                                                          \n",
       "1239.0                            simplemente decepcionar   \n",
       "1245.0                                           positivo   \n",
       "1248.0  darme reflexionar y irme a i preciar o pensami...   \n",
       "1329.0                                   planear realizar   \n",
       "1345.0  personar a atender enojar entender instrucción...   \n",
       "\n",
       "                                         stemm_content_no  \\\n",
       "id                                                          \n",
       "1239.0            nad simplement decepcion de com las cos   \n",
       "1245.0                          pues ver lo posit de ello   \n",
       "1248.0  darm un tiemp par reflexion y no nad mas irme ...   \n",
       "1329.0                   plane realiz por la tard del dia   \n",
       "1345.0  las person a quien atiend me hac enoj porqu no...   \n",
       "\n",
       "                                           stemm_content  NNLR3_lemma_proba  \\\n",
       "id                                                                            \n",
       "1239.0                              simplement decepcion           0.206171   \n",
       "1245.0                                             posit           0.738438   \n",
       "1248.0      darm reflexion y irme a i preci o pensamient           0.770850   \n",
       "1329.0                                      plane realiz           0.956102   \n",
       "1345.0  person a atiend enoj entiend instruccion y quier           0.198364   \n",
       "\n",
       "       NNLR3_lemma_value  \n",
       "id                        \n",
       "1239.0                 N  \n",
       "1245.0                 P  \n",
       "1248.0                 P  \n",
       "1329.0                 P  \n",
       "1345.0                 N  "
      ]
     },
     "execution_count": 7,
     "metadata": {},
     "output_type": "execute_result"
    }
   ],
   "source": [
    "X_validation =  df_validation['lemma_content_no']\n",
    "X_validation = vectorizer.transform(X_validation)\n",
    "\n",
    "df_validation['NNLR3_lemma_proba'] = model.predict(X_validation)\n",
    "df_validation['NNLR3_lemma_value'] = ['P' if t > 0.66 else 'NEU' if 0.66>t>0.56 else 'N' for t in df_validation['NNLR3_lemma_proba']]\n",
    "df_validation.head()"
   ]
  },
  {
   "cell_type": "code",
   "execution_count": 8,
   "metadata": {},
   "outputs": [],
   "source": [
    "# with open('models/vectorizer_TF-IDF.pkl', 'wb') as f:\n",
    "#     pickle.dump(vectorizer, f)\n",
    "\n",
    "# model_s_3.save('NN_models/TF-IDF_NNLR3_lemma.h5')"
   ]
  },
  {
   "cell_type": "markdown",
   "metadata": {},
   "source": [
    "# Web Service"
   ]
  },
  {
   "cell_type": "code",
   "execution_count": 9,
   "metadata": {},
   "outputs": [],
   "source": [
    "def clean_text(text):\n",
    "\n",
    "    text = text.lower()\n",
    "\n",
    "    text = re.sub(r'\\bq\\b|\\bk\\b', 'que', text) # replace q or x with que\n",
    "    text = re.sub(r'\\bd\\b', 'de', text) # replace d with de\n",
    "    text = re.sub(r'\\bx\\b', 'por', text) # replace x with por\n",
    "    text = re.sub(r'\\btmb\\b', 'también', text) # replace tmb with tambien\n",
    "    text = re.sub(r'\\bbb\\b', 'bebé', text) # replace bb with bebe\n",
    "\n",
    "    duplicates = re.compile(r'([^(c,l,n,r)L0])\\1{1,}')\n",
    "    double_clnr = re.compile(r\"(.)\\1{2,}\")\n",
    "    while duplicates.search(text)!=None:\n",
    "        text = text.replace(duplicates.search(text).group(),duplicates.search(text).group()[0]) #remove multiple letters\n",
    "    text = double_clnr.sub(r\"\\1\\1\", text) #except double c, l, n, and r\n",
    "\n",
    "    text = re.sub(r'([ja]{5,}|[je]{5,}|[ji]{5,}|[ha]{5,}|[he]{5,})', 'jaja', text)  # remove dirty laughs\n",
    "\n",
    "    text = re.sub(r'(\\.|,|:|;|!|\\?|\\[|\\]|\\(|\\))[A-Za-z0-9]+', ' ', text)  # replace simbols between words with spaces\n",
    "    text = re.sub(r'\\d+', '', text) #remove numbers\n",
    "\n",
    "    text = re.sub(r'[%s]' % re.escape(\"\"\"¿¡!\"#$%&'()*+,-./:;<=>?@[\\]^_`{|}~…\"\"\"), '', text)  # remove punctuations\n",
    "    text = re.sub(r'\\b[^aeyou]\\b', ' ', text) # remove single char\n",
    "    text = re.sub('\\s+', ' ', text)  # remove extra whitespace\n",
    "\n",
    "\n",
    "    text = text.encode('latin', 'ignore').decode('latin')\n",
    "\n",
    "    max_edit_distance_lookup = 3\n",
    "    text = sym_spell.lookup_compound(text,max_edit_distance_lookup)[0].term\n",
    "\n",
    "\n",
    "    tokens= nlp(u\"\"+text)\n",
    "    new_text= ' '.join([t.lemma_ for t in tokens])\n",
    "\n",
    "\n",
    "    return [new_text]"
   ]
  },
  {
   "cell_type": "code",
   "execution_count": 10,
   "metadata": {},
   "outputs": [],
   "source": [
    "nlp = spacy.load(\"es_core_news_md\")"
   ]
  },
  {
   "cell_type": "code",
   "execution_count": 11,
   "metadata": {},
   "outputs": [
    {
     "data": {
      "text/plain": [
       "True"
      ]
     },
     "execution_count": 11,
     "metadata": {},
     "output_type": "execute_result"
    }
   ],
   "source": [
    "sym_spell = SymSpell(\n",
    "    max_dictionary_edit_distance=3,\n",
    "    prefix_length=7,\n",
    "    count_threshold=1,\n",
    "    compact_level=5,\n",
    ")\n",
    "\n",
    "sym_spell.load_dictionary(corpus='resources/es_real_freq_full.txt',term_index=0,count_index=1,encoding='utf-8')"
   ]
  },
  {
   "cell_type": "code",
   "execution_count": 12,
   "metadata": {},
   "outputs": [],
   "source": [
    "text_examples = [\"nada, simplemente desepcionado de como.se.dan las cosas\",\n",
    "\"las personas a quienes atiendo me hacen enojar porque no entienden mis instrucciones y hacen lo que quieren\",\n",
    "\"claro! mi problemática radica en que se me dificulta entablar relación con mis compañeros de trabajo. Motivo por el cual el ambiente laboral es tenso\",\n",
    "\"me molesta la falta de compromiso de un miembro de mi familia para ayudar en casa\",\n",
    "\"me quede sin trabajo hace días\",\n",
    "\"me hago ilusiones con personas muy rapido\",\n",
    "\"que ya no pude terminar mis estudios superiores y no he podido encontrar  jn mejor empleo\",\n",
    "\"voy a comezar a vivir con mi esposo, no tenemos mucha estabilidad economica, es injusto trabajar tanto y aun asi tener problemas economicos\",\n",
    "\"la pareja que tenia me mintio y engaño mucho\",\n",
    "\"ayer fue cumpleaños de mi novio y lo mande felicitar por fb y borro la felicitacion y mi foto y eso me molesto mucho\",\n",
    "\"hoy me robaron dinero de un tramite de la oficina eso me causo preocupacion y tuve mucho trabajo, me acelere mucho y con la tension del problema... me causo estres y al final de la jornada cansancio y un poco de ansiedad\",\n",
    "\"No me esfuerzo lo suficiente\",\n",
    "\"fracaso de pareja\",\n",
    "\"no puedo terminar los trabajos a  tiempo\",\n",
    "\"fallecio una persona muy querida, era como si fuera parte de mi familia ... esto me hace sentir triste\",\n",
    "\"almejo se va a otros lados en lugar de estar en el proyecto del eneit\",\n",
    "\"me siento tonta\",\n",
    "\"un posible trabajo me poner en la necesidad de cambiar de residencia\",\n",
    "\"la verdad ni yo se que es lo que pasa,.de repente esroy.bien y de rato unos 'bajones' feos\",\n",
    "\"siento que voy a reprobar\",\n",
    "\"que no me atiende\",\n",
    "\"me siento insegura al abordar una conversación me da miedo hablar algunas cosas\",\n",
    "\"me molesta mucho que mi esposo se tome las cosas con tanta calma... que sea tan decidioso... que tenga que estarlo presionando para que haga las cosas\",\n",
    "\"mi hijo se va a regresar con su padre porque quiere estudiar allá, yo me siento impotente enojada porque no logre los planes de cuando llegamos aquí y ahora el se va se que es para superarse pero creo que no di el 100 con él\",\n",
    "\"Mi novia no me ayuda con las labores del hogar\",\n",
    "\"no es justo que yo trabaje esforzandome mucho para terminar con mas rapidez... y las compañeras una sea muy lenta y la otra sea tan conchuda eso mr irrita bastante que nos le llamen la atencion me da mucho coraje\",\n",
    "\"estoy como aburrida..solo quiero irme a acostar..nada me llama la atencion\",\n",
    "\"mesiento inseguro esto mebuelbe distraido esto metrae prpblemas en mi trabajo\",\n",
    "\"planeo realizarla por la tarde del día\",\n",
    "\"nada simplemente aceptar que tengo problemas psicológicos\",\n",
    "\"No tuve tiempo de hacerla\",\n",
    "\"no me di el tiempo para hacerlo\",\n",
    "\"pienso realizarla un rato mas\",\n",
    "\"falta de tiempo\",\n",
    "\"no me organizo con mis tiempos, me gana el cansancio o la flojera\",\n",
    "\"cambie el dia porque tube hoy cosas q hacer..espero que mañana se pueda\",\n",
    "\"Aun no termina el día\",\n",
    "\"si la realice solo que algunas veces no se como darle la respuesta.la actividad es con mi hijo ayer le dije que lo quiero mucho y que es lo mas valioso que tengo, hoy le dije que termine sus materias que yo siempre lo voy apoyar\",\n",
    "\"sali a convivir con mis hijos\",\n",
    "\"No me puse de acuerdo con la amiga para salir\",\n",
    "\"estaba lloviendo y tuve que regresar mas rapido\",\n",
    "\"no necesite ayuda\",\n",
    "\"La lluvia\",\n",
    "\"Falta de tiempo\",\n",
    "\"Cambio de planes\",\n",
    "\"No hubo obstáculo\",\n",
    "\"pues ver lo positivo de ello\",\n",
    "\"considere mas opciones\",\n",
    "\"no lo sé\",\n",
    "\"que busque empleo donde se sienta mejor\",\n",
    "\"que es muy valioso que puede salir adelante solo\",\n",
    "\"que le echara ganas que nadie nace enseñado\",\n",
    "\"no te preocupes todo va a mejorar, asi es como comienzan las parejas pero es parte del matrimonio, no te desanimes echenle  ganas\",\n",
    "\"que buscara otra y se olvidara de ella\",\n",
    "\"que vale mucho,,,pero no ha llegado la persona correcta\",\n",
    "\"si tu pareja te ignora es porque no le importas\",\n",
    "\"abraza tu ansiedad no pasa nada, estas en tx todo va fluyendo poco a poco respira... piensa en detectar que situacion te pone asi... disfruta cada momento relajate\",\n",
    "\"No te excuses\",\n",
    "\"que no sea como yo\",\n",
    "\"etres, presion\",\n",
    "\"no tengo explicación\",\n",
    "\"que tuviera comunicacion\",\n",
    "\"que el no ya es seguro hay que buscar el si\",\n",
    "\"ten paciencia poco a poco... todo saldra bien\",\n",
    "\"que se vea en mi y no cometa los mismos errores pues no se beneficia en nada y se perjudica a los hijos\",\n",
    "\"Llegar a un acuerdo para repartir las labores\",\n",
    "\"nose\",\n",
    "\"no se..no tengo ganas de dar ninguna explicación\",\n",
    "\"necesito integrarme mas a las actividades en grupo y quitar las barreras que implemento para que no me conozcan\",\n",
    "\"porque no puedo desempeñarme en cualquier área de trabajo\",\n",
    "\"que dificil es comenzar una vida juntos, muchos obstaculos\",\n",
    "\"tengo miedo de tener crisis de ansiedad\",\n",
    "\"miedo a sentir ansiedad\",\n",
    "\"que no podremos salir adelante con tantos gastos... yo no puedo sola\",\n",
    "\"no he luchado lo suficiente para darles a mis hijos lo que necesitan y la atención que merecen\",\n",
    "\"Es necesario que me ayude con algunas labores\",\n",
    "\"darme un tiempo para refelxionar y no nada mas irme a la primera imprecion o pensamiento.\",\n",
    "\"no centrarme solo en una solución, sino ver mas opciones y pensar de manera diferente\",\n",
    "\"que el preocuparme por las acciones de los otros altera mi comportamiento. necesito centrarme en mí y mis actividades para que mi bienestar no se vea afectado.\",\n",
    "\"No tomar importancia de las acciones de los demás\",\n",
    "\"no pensar negativamente\",\n",
    "\"a valorarme mas y aceptar las cosas\",\n",
    "\"que debo aceptarme tal y cual soy\",\n",
    "\"mmmm no tener un pensamiento o vision tan cuadrada... aprender a observar y tomar calma ante todo\",\n",
    "\"que no debo sufrir por acciones ajenas\",\n",
    "\"que no estoy sola....y que valgo  mucho\",\n",
    "\"pues es verdad una persona no es todo el mundo hay personas q de verdad nos aprecian..no podemos cambiar la forma de ser de nadie..solo la nuestra\",\n",
    "\"No pienses,actua\",\n",
    "\"que valgo por mi pefsona\",\n",
    "\"alrender a escuchar y respetar las opiniones de los demas\",\n",
    "\"las cosas en que fallo no determinan quien soy\",\n",
    "\"que los pensamientos me hacen sentir mal\",\n",
    "\"que me debo ocupar mas de mi\",\n",
    "\"sigo molesta\",\n",
    "\"que no debo permitir que los comentarios de mis hijos me lastimen ya que para mi son mi prioridad\",\n",
    "\"Llegar a un acuerdo\",\n",
    "\"seguir adelante\",\n",
    "\"respirar pensar con mas calma y mas friamente sobre el asunto para poder decidir que hacer\",\n",
    "\"si no me gusta la vida q estoy viviendo que cambie un poco que la mejore\"]"
   ]
  },
  {
   "cell_type": "code",
   "execution_count": 13,
   "metadata": {},
   "outputs": [],
   "source": [
    "my_vectorizer = pickle.load(open('models/vectorizer_TF-IDF.pkl','rb'))\n",
    "best_model = load_model('NN_models/TF-IDF_NNLR3_lemma.h5')"
   ]
  },
  {
   "cell_type": "code",
   "execution_count": 14,
   "metadata": {},
   "outputs": [
    {
     "name": "stdout",
     "output_type": "stream",
     "text": [
      "\n",
      "Input text: no me di el tiempo para hacerlo\n",
      "Probability: [0.28821504]\n",
      "Emotion: Pity\n",
      "Intensity: 55\n",
      "Decay: 6\n",
      "Process took 0.3831632137298584 seconds to finish\n",
      "\n"
     ]
    }
   ],
   "source": [
    "# my_text = 'Tengo muchas deudas en el banco. Si no pago me meteran a la carcel y tendre que alejarme de mis hisjo'\n",
    "\n",
    "my_text = \"\".join(random.sample(text_examples,1))\n",
    "\n",
    "start = time()\n",
    "print(f\"\\nInput text: {my_text}\")\n",
    "\n",
    "my_text = my_vectorizer.transform(clean_text(my_text))\n",
    "\n",
    "score = best_model.predict(my_text)[0]\n",
    "\n",
    "print(f\"Probability: {score}\")\n",
    "emotion,intensity,decay = ((\"Happy_For\",120,3) if score>=0.8 \n",
    "                           else (\"Joy\",100,6) if 0.66<=score<0.8\n",
    "                           else (\"Neutral\",0,6) if 0.56<=score<0.66\n",
    "                           else (\"Pity\",55,6) if 0.26<=score<0.56\n",
    "                           else (\"Pity\",80,3))\n",
    "print(f\"Emotion: {emotion}\\nIntensity: {intensity}\\nDecay: {decay}\")\n",
    "\n",
    "print(f\"Process took {time()-start} seconds to finish\\n\")"
   ]
  },
  {
   "cell_type": "code",
   "execution_count": null,
   "metadata": {},
   "outputs": [],
   "source": []
  }
 ],
 "metadata": {
  "kernelspec": {
   "display_name": "Python [conda env:benja]",
   "language": "python",
   "name": "conda-env-benja-py"
  },
  "language_info": {
   "codemirror_mode": {
    "name": "ipython",
    "version": 3
   },
   "file_extension": ".py",
   "mimetype": "text/x-python",
   "name": "python",
   "nbconvert_exporter": "python",
   "pygments_lexer": "ipython3",
   "version": "3.6.9"
  },
  "varInspector": {
   "cols": {
    "lenName": 16,
    "lenType": 16,
    "lenVar": 40
   },
   "kernels_config": {
    "python": {
     "delete_cmd_postfix": "",
     "delete_cmd_prefix": "del ",
     "library": "var_list.py",
     "varRefreshCmd": "print(var_dic_list())"
    },
    "r": {
     "delete_cmd_postfix": ") ",
     "delete_cmd_prefix": "rm(",
     "library": "var_list.r",
     "varRefreshCmd": "cat(var_dic_list()) "
    }
   },
   "types_to_exclude": [
    "module",
    "function",
    "builtin_function_or_method",
    "instance",
    "_Feature"
   ],
   "window_display": false
  }
 },
 "nbformat": 4,
 "nbformat_minor": 2
}
