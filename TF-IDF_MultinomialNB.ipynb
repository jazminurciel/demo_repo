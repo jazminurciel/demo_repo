{
 "cells": [
  {
   "cell_type": "code",
   "execution_count": 1,
   "metadata": {},
   "outputs": [],
   "source": [
    "from symspellpy.symspellpy import SymSpell, Verbosity\n",
    "import multiprocessing as mp\n",
    "from time import time\n",
    "import pandas as pd\n",
    "import numpy as np\n",
    "import random\n",
    "import pickle\n",
    "import spacy\n",
    "import os\n",
    "import re\n",
    "\n",
    "from sklearn.pipeline import Pipeline\n",
    "from sklearn.base import TransformerMixin, BaseEstimator\n",
    "from sklearn.feature_extraction.text import CountVectorizer\n",
    "from sklearn.feature_extraction.text import TfidfVectorizer\n",
    "from sklearn.feature_extraction.text import TfidfTransformer\n",
    "from sklearn.feature_selection import SelectKBest, chi2\n",
    "from sklearn.metrics import classification_report, confusion_matrix, accuracy_score\n",
    "\n",
    "from sklearn.naive_bayes import MultinomialNB"
   ]
  },
  {
   "cell_type": "markdown",
   "metadata": {},
   "source": [
    "# ML Model Building"
   ]
  },
  {
   "cell_type": "code",
   "execution_count": 2,
   "metadata": {},
   "outputs": [],
   "source": [
    "df_train = pd.read_csv('train_sets/TF-IDF_MultinomialNB_train.csv',index_col='tweetid',encoding='utf-8-sig')\n",
    "df_test = pd.read_csv('test_sets/TF-IDF_MultinomialNB_test.csv',index_col='tweetid',encoding='utf-8-sig')"
   ]
  },
  {
   "cell_type": "code",
   "execution_count": 3,
   "metadata": {},
   "outputs": [
    {
     "name": "stdout",
     "output_type": "stream",
     "text": [
      "[[369  66]\n",
      " [ 90 253]]\n",
      "              precision    recall  f1-score   support\n",
      "\n",
      "           N      0.804     0.848     0.826       435\n",
      "           P      0.793     0.738     0.764       343\n",
      "\n",
      "   micro avg      0.799     0.799     0.799       778\n",
      "   macro avg      0.799     0.793     0.795       778\n",
      "weighted avg      0.799     0.799     0.799       778\n",
      "\n",
      "MultinomialNB Accuracy: 0.7994858611825193\n",
      "\n"
     ]
    }
   ],
   "source": [
    "#MultinomialNB\n",
    "\n",
    "X_train,y_train = df_train['lemma_content_no'],df_train['sentiments']\n",
    "X_test,y_test = df_test['lemma_content_no'],df_test['value']\n",
    "\n",
    "my_pipe = Pipeline([\n",
    "    ('vect', CountVectorizer(max_df=0.5,min_df=7,max_features=12000,ngram_range=(1,2))),\n",
    "    ('tfidf', TfidfTransformer(norm='l2',use_idf=False)),\n",
    "#     ('reduce',SelectKBest(chi2,k=4000)),\n",
    "    ('clf', MultinomialNB(),),\n",
    "])\n",
    "\n",
    "#ajustamos el modelo at corpus de TASS\n",
    "my_pipe.fit(X_train, y_train)\n",
    "\n",
    "predictions = my_pipe.predict(X_test) \n",
    "\n",
    "print(confusion_matrix(y_test,predictions))  \n",
    "print(classification_report(y_test,predictions, digits = 3))  \n",
    "print(f\"MultinomialNB Accuracy: {accuracy_score(y_test, predictions)}\\n\") "
   ]
  },
  {
   "cell_type": "code",
   "execution_count": 4,
   "metadata": {},
   "outputs": [],
   "source": [
    "# Saving model to disk\n",
    "# pickle.dump(my_pipe, open('models/TF-IDF_MNB.pkl','wb'))"
   ]
  },
  {
   "cell_type": "markdown",
   "metadata": {},
   "source": [
    "# Web Service"
   ]
  },
  {
   "cell_type": "code",
   "execution_count": 5,
   "metadata": {},
   "outputs": [],
   "source": [
    "def clean_text(text):\n",
    "    \n",
    "    text = text.lower()\n",
    "    \n",
    "    text = re.sub(r'\\bq\\b|\\bk\\b', 'que', text) # replace q or x with que\n",
    "    text = re.sub(r'\\bd\\b', 'de', text) # replace d with de\n",
    "    text = re.sub(r'\\bx\\b', 'por', text) # replace x with por\n",
    "    text = re.sub(r'\\btmb\\b', 'también', text) # replace tmb with tambien\n",
    "    text = re.sub(r'\\bbb\\b', 'bebé', text) # replace bb with bebe\n",
    "    \n",
    "    duplicates = re.compile(r'([^(c,l,n,r)L0])\\1{1,}')\n",
    "    double_clnr = re.compile(r\"(.)\\1{2,}\")\n",
    "    while duplicates.search(text)!=None:\n",
    "        text = text.replace(duplicates.search(text).group(),duplicates.search(text).group()[0]) #remove multiple letters\n",
    "    text = double_clnr.sub(r\"\\1\\1\", text) #except double c, l, n, and r\n",
    "       \n",
    "    text = re.sub(r'([ja]{5,}|[je]{5,}|[ji]{5,}|[ha]{5,}|[he]{5,})', 'jaja', text)  # remove dirty laughs\n",
    "\n",
    "    text = re.sub(r'(\\.|,|:|;|!|\\?|\\[|\\]|\\(|\\))[A-Za-z0-9]+', ' ', text)  # replace simbols between words with spaces\n",
    "    text = re.sub(r'\\d+', '', text) #remove numbers\n",
    "    \n",
    "    text = re.sub(r'[%s]' % re.escape(\"\"\"¿¡!\"#$%&'()*+,-./:;<=>?@[\\]^_`{|}~…\"\"\"), '', text)  # remove punctuations\n",
    "    text = re.sub(r'\\b[^aeyou]\\b', ' ', text) # remove single char\n",
    "    text = re.sub('\\s+', ' ', text)  # remove extra whitespace\n",
    "    \n",
    "    \n",
    "    text = text.encode('latin', 'ignore').decode('latin')\n",
    "    \n",
    "    max_edit_distance_lookup = 3\n",
    "    text = sym_spell.lookup_compound(text,max_edit_distance_lookup)[0].term\n",
    "    \n",
    "    \n",
    "    tokens= nlp(u\"\"+text)\n",
    "    new_text= ' '.join([t.lemma_ for t in tokens])\n",
    "    \n",
    "    \n",
    "    return [new_text]"
   ]
  },
  {
   "cell_type": "code",
   "execution_count": 6,
   "metadata": {},
   "outputs": [
    {
     "name": "stdout",
     "output_type": "stream",
     "text": [
      "739\n",
      "139\n",
      "602\n"
     ]
    }
   ],
   "source": [
    "nlp = spacy.load(\"es_core_news_md\")\n",
    "\n",
    "with open('resources/stopwords-es.txt','r',encoding='utf-8-sig') as f:\n",
    "    my_stop_words = f.read().splitlines()\n",
    "    \n",
    "with open('resources/spanish_words.txt','r',encoding='utf-8-sig') as f:\n",
    "    spanish_words = f.read().splitlines()\n",
    "    \n",
    "print(len(my_stop_words))\n",
    "    \n",
    "no_remove= \"bastante,bien,buen,buena,buenas,bueno,buenos,casi,\\\n",
    "demasiado,debe,deben,debido,ex,hubiera,hubierais,hubieran,hubieras,\\\n",
    "hubieron,hubiese,hubieseis,hubiesen,hubieses,hubimos,hubiste,\\\n",
    "hubisteis,hubiéramos,hubiésemos,hubo,mal,más,mucha,muchas,mucho,\\\n",
    "muchos,muy,nada,nadie,ni,ninguna,ningunas,ninguno,ningunos,ningún,\\\n",
    "no,nueva,nuevas,nuevo,nuevos,nunca,peor,pero,pesar,poca,pocas,\\\n",
    "poco,pocos,podeis,podemos,poder,podria,podriais,podriamos,podrian,\\\n",
    "podrias,podrá,podrán,podría,podrían,quiza,quizas,quizá,quizás,\\\n",
    "siempre,sola,solamente,solas,solo,solos,tendremos,tendrá,tendrán,\\\n",
    "tendrás,tendré,tendréis,tendría,tendríais,tendríamos,tendrían,\\\n",
    "tendrías,tened,teneis,tenemos,tener,tenga,tengamos,tengan,tengas,\\\n",
    "tengo,tengáis,tenida,tenidas,tenido,tenidos,teniendo,tenéis,\\\n",
    "tenía,teníais,teníamos,tenían,tenías,tiempo,tiene,tienen,tienes,\\\n",
    "tuve,tuviera,tuvierais,tuvieran,tuvieras,tuvieron,tuviese,\\\n",
    "tuvieseis,tuviesen,tuvieses,tuvimos,tuviste,tuvisteis,tuviéramos,\\\n",
    "tuviésemos,tuvo,si,decir,dice,dicen,dicho,dijeron,dijo,buen,pesar\".split(',')\n",
    "\n",
    "print(len(no_remove))\n",
    "\n",
    "my_stop_words=[s for s in my_stop_words if s not in no_remove]\n",
    "my_stop_words = frozenset(my_stop_words)\n",
    "\n",
    "print(len(my_stop_words))"
   ]
  },
  {
   "cell_type": "code",
   "execution_count": 7,
   "metadata": {},
   "outputs": [
    {
     "data": {
      "text/plain": [
       "True"
      ]
     },
     "execution_count": 7,
     "metadata": {},
     "output_type": "execute_result"
    }
   ],
   "source": [
    "sym_spell = SymSpell(\n",
    "    max_dictionary_edit_distance=3,\n",
    "    prefix_length=7,\n",
    "    count_threshold=1,\n",
    "    compact_level=5,\n",
    ")\n",
    "\n",
    "sym_spell.load_dictionary(corpus='resources/es_real_freq_full.txt',term_index=0,count_index=1,encoding='utf-8')"
   ]
  },
  {
   "cell_type": "code",
   "execution_count": 8,
   "metadata": {},
   "outputs": [],
   "source": [
    "text_examples = [\"nada, simplemente desepcionado de como.se.dan las cosas\",\n",
    "\"las personas a quienes atiendo me hacen enojar porque no entienden mis instrucciones y hacen lo que quieren\",\n",
    "\"claro! mi problemática radica en que se me dificulta entablar relación con mis compañeros de trabajo. Motivo por el cual el ambiente laboral es tenso\",\n",
    "\"me molesta la falta de compromiso de un miembro de mi familia para ayudar en casa\",\n",
    "\"me quede sin trabajo hace días\",\n",
    "\"me hago ilusiones con personas muy rapido\",\n",
    "\"que ya no pude terminar mis estudios superiores y no he podido encontrar  jn mejor empleo\",\n",
    "\"voy a comezar a vivir con mi esposo, no tenemos mucha estabilidad economica, es injusto trabajar tanto y aun asi tener problemas economicos\",\n",
    "\"la pareja que tenia me mintio y engaño mucho\",\n",
    "\"ayer fue cumpleaños de mi novio y lo mande felicitar por fb y borro la felicitacion y mi foto y eso me molesto mucho\",\n",
    "\"hoy me robaron dinero de un tramite de la oficina eso me causo preocupacion y tuve mucho trabajo, me acelere mucho y con la tension del problema... me causo estres y al final de la jornada cansancio y un poco de ansiedad\",\n",
    "\"No me esfuerzo lo suficiente\",\n",
    "\"fracaso de pareja\",\n",
    "\"no puedo terminar los trabajos a  tiempo\",\n",
    "\"fallecio una persona muy querida, era como si fuera parte de mi familia ... esto me hace sentir triste\",\n",
    "\"almejo se va a otros lados en lugar de estar en el proyecto del eneit\",\n",
    "\"me siento tonta\",\n",
    "\"un posible trabajo me poner en la necesidad de cambiar de residencia\",\n",
    "\"la verdad ni yo se que es lo que pasa,.de repente esroy.bien y de rato unos 'bajones' feos\",\n",
    "\"siento que voy a reprobar\",\n",
    "\"que no me atiende\",\n",
    "\"me siento insegura al abordar una conversación me da miedo hablar algunas cosas\",\n",
    "\"me molesta mucho que mi esposo se tome las cosas con tanta calma... que sea tan decidioso... que tenga que estarlo presionando para que haga las cosas\",\n",
    "\"mi hijo se va a regresar con su padre porque quiere estudiar allá, yo me siento impotente enojada porque no logre los planes de cuando llegamos aquí y ahora el se va se que es para superarse pero creo que no di el 100 con él\",\n",
    "\"Mi novia no me ayuda con las labores del hogar\",\n",
    "\"no es justo que yo trabaje esforzandome mucho para terminar con mas rapidez... y las compañeras una sea muy lenta y la otra sea tan conchuda eso mr irrita bastante que nos le llamen la atencion me da mucho coraje\",\n",
    "\"estoy como aburrida..solo quiero irme a acostar..nada me llama la atencion\",\n",
    "\"mesiento inseguro esto mebuelbe distraido esto metrae prpblemas en mi trabajo\",\n",
    "\"planeo realizarla por la tarde del día\",\n",
    "\"nada simplemente aceptar que tengo problemas psicológicos\",\n",
    "\"No tuve tiempo de hacerla\",\n",
    "\"no me di el tiempo para hacerlo\",\n",
    "\"pienso realizarla un rato mas\",\n",
    "\"falta de tiempo\",\n",
    "\"no me organizo con mis tiempos, me gana el cansancio o la flojera\",\n",
    "\"cambie el dia porque tube hoy cosas q hacer..espero que mañana se pueda\",\n",
    "\"Aun no termina el día\",\n",
    "\"si la realice solo que algunas veces no se como darle la respuesta.la actividad es con mi hijo ayer le dije que lo quiero mucho y que es lo mas valioso que tengo, hoy le dije que termine sus materias que yo siempre lo voy apoyar\",\n",
    "\"sali a convivir con mis hijos\",\n",
    "\"No me puse de acuerdo con la amiga para salir\",\n",
    "\"estaba lloviendo y tuve que regresar mas rapido\",\n",
    "\"no necesite ayuda\",\n",
    "\"La lluvia\",\n",
    "\"Falta de tiempo\",\n",
    "\"Cambio de planes\",\n",
    "\"No hubo obstáculo\",\n",
    "\"pues ver lo positivo de ello\",\n",
    "\"considere mas opciones\",\n",
    "\"no lo sé\",\n",
    "\"que busque empleo donde se sienta mejor\",\n",
    "\"que es muy valioso que puede salir adelante solo\",\n",
    "\"que le echara ganas que nadie nace enseñado\",\n",
    "\"no te preocupes todo va a mejorar, asi es como comienzan las parejas pero es parte del matrimonio, no te desanimes echenle  ganas\",\n",
    "\"que buscara otra y se olvidara de ella\",\n",
    "\"que vale mucho,,,pero no ha llegado la persona correcta\",\n",
    "\"si tu pareja te ignora es porque no le importas\",\n",
    "\"abraza tu ansiedad no pasa nada, estas en tx todo va fluyendo poco a poco respira... piensa en detectar que situacion te pone asi... disfruta cada momento relajate\",\n",
    "\"No te excuses\",\n",
    "\"que no sea como yo\",\n",
    "\"etres, presion\",\n",
    "\"no tengo explicación\",\n",
    "\"que tuviera comunicacion\",\n",
    "\"que el no ya es seguro hay que buscar el si\",\n",
    "\"ten paciencia poco a poco... todo saldra bien\",\n",
    "\"que se vea en mi y no cometa los mismos errores pues no se beneficia en nada y se perjudica a los hijos\",\n",
    "\"Llegar a un acuerdo para repartir las labores\",\n",
    "\"nose\",\n",
    "\"no se..no tengo ganas de dar ninguna explicación\",\n",
    "\"necesito integrarme mas a las actividades en grupo y quitar las barreras que implemento para que no me conozcan\",\n",
    "\"porque no puedo desempeñarme en cualquier área de trabajo\",\n",
    "\"que dificil es comenzar una vida juntos, muchos obstaculos\",\n",
    "\"tengo miedo de tener crisis de ansiedad\",\n",
    "\"miedo a sentir ansiedad\",\n",
    "\"que no podremos salir adelante con tantos gastos... yo no puedo sola\",\n",
    "\"no he luchado lo suficiente para darles a mis hijos lo que necesitan y la atención que merecen\",\n",
    "\"Es necesario que me ayude con algunas labores\",\n",
    "\"darme un tiempo para refelxionar y no nada mas irme a la primera imprecion o pensamiento.\",\n",
    "\"no centrarme solo en una solución, sino ver mas opciones y pensar de manera diferente\",\n",
    "\"que el preocuparme por las acciones de los otros altera mi comportamiento. necesito centrarme en mí y mis actividades para que mi bienestar no se vea afectado.\",\n",
    "\"No tomar importancia de las acciones de los demás\",\n",
    "\"no pensar negativamente\",\n",
    "\"a valorarme mas y aceptar las cosas\",\n",
    "\"que debo aceptarme tal y cual soy\",\n",
    "\"mmmm no tener un pensamiento o vision tan cuadrada... aprender a observar y tomar calma ante todo\",\n",
    "\"que no debo sufrir por acciones ajenas\",\n",
    "\"que no estoy sola....y que valgo  mucho\",\n",
    "\"pues es verdad una persona no es todo el mundo hay personas q de verdad nos aprecian..no podemos cambiar la forma de ser de nadie..solo la nuestra\",\n",
    "\"No pienses,actua\",\n",
    "\"que valgo por mi pefsona\",\n",
    "\"alrender a escuchar y respetar las opiniones de los demas\",\n",
    "\"las cosas en que fallo no determinan quien soy\",\n",
    "\"que los pensamientos me hacen sentir mal\",\n",
    "\"que me debo ocupar mas de mi\",\n",
    "\"sigo molesta\",\n",
    "\"que no debo permitir que los comentarios de mis hijos me lastimen ya que para mi son mi prioridad\",\n",
    "\"Llegar a un acuerdo\",\n",
    "\"seguir adelante\",\n",
    "\"respirar pensar con mas calma y mas friamente sobre el asunto para poder decidir que hacer\",\n",
    "\"si no me gusta la vida q estoy viviendo que cambie un poco que la mejore\"]"
   ]
  },
  {
   "cell_type": "code",
   "execution_count": 9,
   "metadata": {},
   "outputs": [
    {
     "name": "stdout",
     "output_type": "stream",
     "text": [
      "Dirty_text: las cosas en que fallo no determinan quien soy\n",
      "Probability: 0.3915786158725784\n",
      "Value: N\n",
      "Process took 0.12236952781677246 seconds to finish\n",
      "\n",
      "Clean_text: los coser en que fallir no determinar quien ser\n",
      "Probability: 0.4210839251467557\n",
      "Value: N\n",
      "Process took 0.41282153129577637 seconds to finish\n"
     ]
    }
   ],
   "source": [
    "# my_text= \"No tiene sentido seguir viviendo. Nadie me quiere.\"\n",
    "\n",
    "my_text = \"\".join(random.sample(text_examples,1))\n",
    "\n",
    "start1 = time()\n",
    "print(f\"Dirty_text: {my_text}\")\n",
    "proba = my_pipe.predict_proba([my_text])[0][1]\n",
    "print(f\"Probability: {proba}\")\n",
    "value = (\"P+\" if proba>=0.8 else \"P\" if 0.66<=proba<0.8\n",
    "         else \"NEU\" if 0.56<=proba<0.66 else \"N\" if 0.26<=proba<0.56 else \"N+\")\n",
    "print(f\"Value: {value}\")\n",
    "print(f\"Process took {time()-start1} seconds to finish\\n\")\n",
    "\n",
    "start2 = time()\n",
    "print(f\"Clean_text: {clean_text(my_text)[0]}\")\n",
    "proba2 = my_pipe.predict_proba(clean_text(my_text))[0][1]\n",
    "print(f\"Probability: {proba2}\")\n",
    "value = (\"P+\" if proba2>=0.8 else \"P\" if 0.66<=proba2<0.8\n",
    "         else \"NEU\" if 0.56<=proba2<0.66 else \"N\" if 0.26<=proba2<0.56 else \"N+\")\n",
    "print(f\"Value: {value}\")\n",
    "print(f\"Process took {time()-start2} seconds to finish\")"
   ]
  },
  {
   "cell_type": "code",
   "execution_count": null,
   "metadata": {},
   "outputs": [],
   "source": []
  },
  {
   "cell_type": "code",
   "execution_count": null,
   "metadata": {},
   "outputs": [],
   "source": []
  }
 ],
 "metadata": {
  "kernelspec": {
   "display_name": "Python [conda env:benja]",
   "language": "python",
   "name": "conda-env-benja-py"
  },
  "language_info": {
   "codemirror_mode": {
    "name": "ipython",
    "version": 3
   },
   "file_extension": ".py",
   "mimetype": "text/x-python",
   "name": "python",
   "nbconvert_exporter": "python",
   "pygments_lexer": "ipython3",
   "version": "3.6.9"
  },
  "varInspector": {
   "cols": {
    "lenName": 16,
    "lenType": 16,
    "lenVar": 40
   },
   "kernels_config": {
    "python": {
     "delete_cmd_postfix": "",
     "delete_cmd_prefix": "del ",
     "library": "var_list.py",
     "varRefreshCmd": "print(var_dic_list())"
    },
    "r": {
     "delete_cmd_postfix": ") ",
     "delete_cmd_prefix": "rm(",
     "library": "var_list.r",
     "varRefreshCmd": "cat(var_dic_list()) "
    }
   },
   "types_to_exclude": [
    "module",
    "function",
    "builtin_function_or_method",
    "instance",
    "_Feature"
   ],
   "window_display": false
  }
 },
 "nbformat": 4,
 "nbformat_minor": 2
}
